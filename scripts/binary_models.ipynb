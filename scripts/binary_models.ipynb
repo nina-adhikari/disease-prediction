{
 "cells": [
  {
   "cell_type": "code",
   "execution_count": 1,
   "metadata": {},
   "outputs": [],
   "source": [
    "import sys, os, pandas as pd, numpy as np, matplotlib.pyplot as plt\n",
    "from sklearn.model_selection import train_test_split\n",
    "from sklearn.preprocessing import OneHotEncoder, StandardScaler, LabelEncoder\n",
    "from sklearn.compose import ColumnTransformer\n",
    "from sklearn.pipeline import Pipeline\n",
    "from sklearn.linear_model import LogisticRegression\n",
    "from sklearn.ensemble import RandomForestClassifier, GradientBoostingClassifier,AdaBoostClassifier\n",
    "from sklearn.tree import DecisionTreeClassifier\n",
    "from xgboost import XGBClassifier\n",
    "from sklearn.metrics import roc_auc_score, roc_curve\n",
    "from sklearn.metrics import auc,accuracy_score, confusion_matrix, classification_report"
   ]
  },
  {
   "cell_type": "markdown",
   "metadata": {},
   "source": [
    "Load the data"
   ]
  },
  {
   "cell_type": "code",
   "execution_count": 36,
   "metadata": {},
   "outputs": [],
   "source": [
    "current_path=os.getcwd()\n",
    "loader_path=os.path.abspath(\n",
    "    os.path.join(current_path, '..', 'disease_prediction','data',\n",
    "        )\n",
    "    )\n",
    "sys.path.append(loader_path)\n",
    "import datasets as ds\n",
    "df=ds.load_datasets(\n",
    "    subsets=['train', 'test', 'validate'],\n",
    "    directory='../ddx-dataset/'\n",
    ")\n",
    "dp_data=pd.concat(\n",
    "    [df['train'],df['test'],df['validate']],\n",
    "    axis=0, \n",
    "    ignore_index=True\n",
    "    )"
   ]
  },
  {
   "cell_type": "markdown",
   "metadata": {},
   "source": [
    "Features and labels"
   ]
  },
  {
   "cell_type": "code",
   "execution_count": 37,
   "metadata": {},
   "outputs": [],
   "source": [
    "X=dp_data.drop('PATHOLOGY', axis=1)\n",
    "y=dp_data['PATHOLOGY']"
   ]
  },
  {
   "cell_type": "markdown",
   "metadata": {},
   "source": [
    "Label Encoding"
   ]
  },
  {
   "cell_type": "code",
   "execution_count": 4,
   "metadata": {},
   "outputs": [],
   "source": [
    "label_encoder=LabelEncoder()\n",
    "y_encoded=label_encoder.fit_transform(y)\n",
    "pathologies=label_encoder.classes_"
   ]
  },
  {
   "cell_type": "markdown",
   "metadata": {},
   "source": [
    "Features Encoding"
   ]
  },
  {
   "cell_type": "code",
   "execution_count": 5,
   "metadata": {},
   "outputs": [],
   "source": [
    "numerical_features=X.select_dtypes(include='int64').columns.tolist()\n",
    "categorical_features=X.select_dtypes(include='object').columns.tolist()\n",
    "features_preprocessor=ColumnTransformer(\n",
    "    transformers=[\n",
    "        ('num',StandardScaler(),numerical_features),\n",
    "        ('cat',OneHotEncoder(handle_unknown='ignore'),categorical_features)\n",
    "    ]\n",
    ")"
   ]
  },
  {
   "cell_type": "markdown",
   "metadata": {},
   "source": [
    "Data Splitting"
   ]
  },
  {
   "cell_type": "code",
   "execution_count": 38,
   "metadata": {},
   "outputs": [],
   "source": [
    "X_train, X_test, y_train, y_test=train_test_split(\n",
    "    X, y_encoded, test_size=0.25, random_state=42\n",
    ")\n",
    "\n",
    "X_train_train, X_val, y_train_train, y_val=train_test_split(\n",
    "    X_train, y_train,\n",
    "    test_size=0.20,\n",
    "    random_state=42\n",
    ")"
   ]
  },
  {
   "cell_type": "markdown",
   "metadata": {},
   "source": [
    "Define the classification models"
   ]
  },
  {
   "cell_type": "code",
   "execution_count": 8,
   "metadata": {},
   "outputs": [],
   "source": [
    "models={\n",
    "    'Logistic Regression': LogisticRegression(max_iter=1000,random_state=42),\n",
    "    'Random Forest': RandomForestClassifier(random_state=42),\n",
    "    'Gradient Boosting': GradientBoostingClassifier(random_state=42),\n",
    "    'AdaBoost': AdaBoostClassifier(algorithm='SAMME',random_state=42),\n",
    "    'Decision Tree': DecisionTreeClassifier(random_state=42),\n",
    "    'XGBoost': XGBClassifier(use_label_encoder=False,eval_metric='logloss',random_state=42)\n",
    "}"
   ]
  },
  {
   "cell_type": "markdown",
   "metadata": {},
   "source": [
    "Function to train models and evaluate the AUC"
   ]
  },
  {
   "cell_type": "code",
   "execution_count": 9,
   "metadata": {},
   "outputs": [],
   "source": [
    "def model_selection(X_train_train,y_train_train,X_val,y_val):\n",
    "    auc_scores={}\n",
    "    for name,model in models.items():\n",
    "        pipeline=Pipeline(\n",
    "            steps=[\n",
    "                ('pre-processing',features_preprocessor),\n",
    "                ('classifier',model)\n",
    "            ]\n",
    "        )\n",
    "        pipeline.fit(X_train_train,y_train_train)\n",
    "        y_predicted_probability=pipeline.predict_proba(X_val)[:,1]\n",
    "        auc_score=roc_auc_score(y_val,y_predicted_probability)\n",
    "        auc_scores[name]=auc_score\n",
    "    return auc_scores"
   ]
  },
  {
   "cell_type": "markdown",
   "metadata": {},
   "source": [
    "Finding the best model for each pathology based on the AUC scores"
   ]
  },
  {
   "cell_type": "code",
   "execution_count": 10,
   "metadata": {},
   "outputs": [],
   "source": [
    "best_model={}\n",
    "for pathology in pathologies:\n",
    "    pathology_index=label_encoder.transform([pathology])[0]\n",
    "    y_train_binary = (y_train_train==pathology_index).astype(int)\n",
    "    y_val_binary = (y_val == pathology_index).astype(int)\n",
    "    auc_scores=model_selection(X_train_train, y_train_binary, X_val, y_val_binary)\n",
    "    best_model_name=max(auc_scores, key=auc_scores.get)\n",
    "    best_model[pathology]=(best_model_name,auc_scores[best_model_name])"
   ]
  },
  {
   "cell_type": "code",
   "execution_count": 11,
   "metadata": {},
   "outputs": [
    {
     "name": "stdout",
     "output_type": "stream",
     "text": [
      "\n",
      "Best models for each pathologies:\n",
      "Allergic sinusitis: Gradient Boosting (AUC: 0.99)\n",
      "Anaphylaxis: Gradient Boosting (AUC: 0.92)\n",
      "Chagas: Gradient Boosting (AUC: 0.91)\n",
      "Ebola: AdaBoost (AUC: 0.93)\n",
      "HIV (initial infection): Logistic Regression (AUC: 0.88)\n",
      "Influenza: Gradient Boosting (AUC: 0.9)\n",
      "Localized edema: Gradient Boosting (AUC: 0.96)\n",
      "SLE: Gradient Boosting (AUC: 0.93)\n",
      "Sarcoidosis: AdaBoost (AUC: 0.95)\n",
      "Tuberculosis: Gradient Boosting (AUC: 0.96)\n",
      "Whooping cough: Logistic Regression (AUC: 1.0)\n"
     ]
    }
   ],
   "source": [
    "print(\"\\nBest models for each pathologies:\")\n",
    "for pathology, (model_name, auc_score) in best_model.items():\n",
    "    print(f\"{pathology}: {model_name} (AUC: {round(auc_score,2)})\")"
   ]
  },
  {
   "cell_type": "markdown",
   "metadata": {},
   "source": [
    "Test the best models for each pathologies"
   ]
  },
  {
   "cell_type": "code",
   "execution_count": 12,
   "metadata": {},
   "outputs": [],
   "source": [
    "test_metrics={}\n",
    "def predict_with_best_model(model_name,X_train,y_train,X_test):\n",
    "    model=models[model_name]\n",
    "    pipeline=Pipeline(\n",
    "        steps=[\n",
    "            ('pre-processing',features_preprocessor),\n",
    "            ('classifier',model)\n",
    "        ]\n",
    "    )\n",
    "    pipeline.fit(X_train,y_train)\n",
    "    y_predicted=pipeline.predict(X_test)\n",
    "    return y_predicted"
   ]
  },
  {
   "cell_type": "code",
   "execution_count": 13,
   "metadata": {},
   "outputs": [
    {
     "name": "stdout",
     "output_type": "stream",
     "text": [
      "\n",
      "Evaluating best model for Allergic sinusitis on the test set\n",
      "Test Accuracy for Allergic sinusitis with Gradient Boosting: 0.9653359360241799\n",
      "Confusion Matrix: \n",
      "[[54696  1106]\n",
      " [ 1096  6626]]\n",
      "Classification Report: \n",
      "                    precision    recall  f1-score   support\n",
      "\n",
      "             Other       0.98      0.98      0.98     55802\n",
      "Allergic sinusitis       0.86      0.86      0.86      7722\n",
      "\n",
      "          accuracy                           0.97     63524\n",
      "         macro avg       0.92      0.92      0.92     63524\n",
      "      weighted avg       0.97      0.97      0.97     63524\n",
      "\n",
      "\n",
      "Evaluating best model for Anaphylaxis on the test set\n",
      "Test Accuracy for Anaphylaxis with Gradient Boosting: 0.9136546816951073\n",
      "Confusion Matrix: \n",
      "[[54457   157]\n",
      " [ 5328  3582]]\n",
      "Classification Report: \n",
      "              precision    recall  f1-score   support\n",
      "\n",
      "       Other       0.91      1.00      0.95     54614\n",
      " Anaphylaxis       0.96      0.40      0.57      8910\n",
      "\n",
      "    accuracy                           0.91     63524\n",
      "   macro avg       0.93      0.70      0.76     63524\n",
      "weighted avg       0.92      0.91      0.90     63524\n",
      "\n",
      "\n",
      "Evaluating best model for Chagas on the test set\n",
      "Test Accuracy for Chagas with Gradient Boosting: 0.965603551413639\n",
      "Confusion Matrix: \n",
      "[[60644    11]\n",
      " [ 2174   695]]\n",
      "Classification Report: \n",
      "              precision    recall  f1-score   support\n",
      "\n",
      "       Other       0.97      1.00      0.98     60655\n",
      "      Chagas       0.98      0.24      0.39      2869\n",
      "\n",
      "    accuracy                           0.97     63524\n",
      "   macro avg       0.97      0.62      0.69     63524\n",
      "weighted avg       0.97      0.97      0.96     63524\n",
      "\n",
      "\n",
      "Evaluating best model for Ebola on the test set\n"
     ]
    },
    {
     "name": "stderr",
     "output_type": "stream",
     "text": [
      "/Users/macpc/Library/CloudStorage/OneDrive-FloridaStateUniversity/OnlineLearning/ErdosInstitute/data_science_bc/disease_prediction/project_env/dp-env/lib/python3.11/site-packages/sklearn/metrics/_classification.py:1517: UndefinedMetricWarning: Precision is ill-defined and being set to 0.0 in labels with no predicted samples. Use `zero_division` parameter to control this behavior.\n",
      "  _warn_prf(average, modifier, f\"{metric.capitalize()} is\", len(result))\n",
      "/Users/macpc/Library/CloudStorage/OneDrive-FloridaStateUniversity/OnlineLearning/ErdosInstitute/data_science_bc/disease_prediction/project_env/dp-env/lib/python3.11/site-packages/sklearn/metrics/_classification.py:1517: UndefinedMetricWarning: Precision is ill-defined and being set to 0.0 in labels with no predicted samples. Use `zero_division` parameter to control this behavior.\n",
      "  _warn_prf(average, modifier, f\"{metric.capitalize()} is\", len(result))\n",
      "/Users/macpc/Library/CloudStorage/OneDrive-FloridaStateUniversity/OnlineLearning/ErdosInstitute/data_science_bc/disease_prediction/project_env/dp-env/lib/python3.11/site-packages/sklearn/metrics/_classification.py:1517: UndefinedMetricWarning: Precision is ill-defined and being set to 0.0 in labels with no predicted samples. Use `zero_division` parameter to control this behavior.\n",
      "  _warn_prf(average, modifier, f\"{metric.capitalize()} is\", len(result))\n"
     ]
    },
    {
     "name": "stdout",
     "output_type": "stream",
     "text": [
      "Test Accuracy for Ebola with AdaBoost: 0.9964895157735659\n",
      "Confusion Matrix: \n",
      "[[63301     0]\n",
      " [  223     0]]\n",
      "Classification Report: \n",
      "              precision    recall  f1-score   support\n",
      "\n",
      "       Other       1.00      1.00      1.00     63301\n",
      "       Ebola       0.00      0.00      0.00       223\n",
      "\n",
      "    accuracy                           1.00     63524\n",
      "   macro avg       0.50      0.50      0.50     63524\n",
      "weighted avg       0.99      1.00      0.99     63524\n",
      "\n",
      "\n",
      "Evaluating best model for HIV (initial infection) on the test set\n",
      "Test Accuracy for HIV (initial infection) with Logistic Regression: 0.8119923178641143\n",
      "Confusion Matrix: \n",
      "[[46887  7418]\n",
      " [ 4525  4694]]\n",
      "Classification Report: \n",
      "                         precision    recall  f1-score   support\n",
      "\n",
      "                  Other       0.91      0.86      0.89     54305\n",
      "HIV (initial infection)       0.39      0.51      0.44      9219\n",
      "\n",
      "               accuracy                           0.81     63524\n",
      "              macro avg       0.65      0.69      0.66     63524\n",
      "           weighted avg       0.84      0.81      0.82     63524\n",
      "\n",
      "\n",
      "Evaluating best model for Influenza on the test set\n",
      "Test Accuracy for Influenza with Gradient Boosting: 0.8892072287639318\n",
      "Confusion Matrix: \n",
      "[[53931  1113]\n",
      " [ 5925  2555]]\n",
      "Classification Report: \n",
      "              precision    recall  f1-score   support\n",
      "\n",
      "       Other       0.90      0.98      0.94     55044\n",
      "   Influenza       0.70      0.30      0.42      8480\n",
      "\n",
      "    accuracy                           0.89     63524\n",
      "   macro avg       0.80      0.64      0.68     63524\n",
      "weighted avg       0.87      0.89      0.87     63524\n",
      "\n",
      "\n",
      "Evaluating best model for Localized edema on the test set\n",
      "Test Accuracy for Localized edema with Gradient Boosting: 0.8733392103771803\n",
      "Confusion Matrix: \n",
      "[[46598  8036]\n",
      " [   10  8880]]\n",
      "Classification Report: \n",
      "                 precision    recall  f1-score   support\n",
      "\n",
      "          Other       1.00      0.85      0.92     54634\n",
      "Localized edema       0.52      1.00      0.69      8890\n",
      "\n",
      "       accuracy                           0.87     63524\n",
      "      macro avg       0.76      0.93      0.80     63524\n",
      "   weighted avg       0.93      0.87      0.89     63524\n",
      "\n",
      "\n",
      "Evaluating best model for SLE on the test set\n",
      "Test Accuracy for SLE with Gradient Boosting: 0.957401926830804\n",
      "Confusion Matrix: \n",
      "[[59745    91]\n",
      " [ 2615  1073]]\n",
      "Classification Report: \n",
      "              precision    recall  f1-score   support\n",
      "\n",
      "       Other       0.96      1.00      0.98     59836\n",
      "         SLE       0.92      0.29      0.44      3688\n",
      "\n",
      "    accuracy                           0.96     63524\n",
      "   macro avg       0.94      0.64      0.71     63524\n",
      "weighted avg       0.96      0.96      0.95     63524\n",
      "\n",
      "\n",
      "Evaluating best model for Sarcoidosis on the test set\n",
      "Test Accuracy for Sarcoidosis with AdaBoost: 0.8871450160569234\n",
      "Confusion Matrix: \n",
      "[[56355   399]\n",
      " [ 6770     0]]\n",
      "Classification Report: \n",
      "              precision    recall  f1-score   support\n",
      "\n",
      "       Other       0.89      0.99      0.94     56754\n",
      " Sarcoidosis       0.00      0.00      0.00      6770\n",
      "\n",
      "    accuracy                           0.89     63524\n",
      "   macro avg       0.45      0.50      0.47     63524\n",
      "weighted avg       0.80      0.89      0.84     63524\n",
      "\n",
      "\n",
      "Evaluating best model for Tuberculosis on the test set\n",
      "Test Accuracy for Tuberculosis with Gradient Boosting: 0.9295227000818588\n",
      "Confusion Matrix: \n",
      "[[55989  2530]\n",
      " [ 1947  3058]]\n",
      "Classification Report: \n",
      "              precision    recall  f1-score   support\n",
      "\n",
      "       Other       0.97      0.96      0.96     58519\n",
      "Tuberculosis       0.55      0.61      0.58      5005\n",
      "\n",
      "    accuracy                           0.93     63524\n",
      "   macro avg       0.76      0.78      0.77     63524\n",
      "weighted avg       0.93      0.93      0.93     63524\n",
      "\n",
      "\n",
      "Evaluating best model for Whooping cough on the test set\n",
      "Test Accuracy for Whooping cough with Logistic Regression: 1.0\n",
      "Confusion Matrix: \n",
      "[[61776     0]\n",
      " [    0  1748]]\n",
      "Classification Report: \n",
      "                precision    recall  f1-score   support\n",
      "\n",
      "         Other       1.00      1.00      1.00     61776\n",
      "Whooping cough       1.00      1.00      1.00      1748\n",
      "\n",
      "      accuracy                           1.00     63524\n",
      "     macro avg       1.00      1.00      1.00     63524\n",
      "  weighted avg       1.00      1.00      1.00     63524\n",
      "\n"
     ]
    }
   ],
   "source": [
    "for pathology in pathologies:\n",
    "    print(f\"\\nEvaluating best model for {pathology} on the test set\")\n",
    "    pathology_index=label_encoder.transform([pathology])[0]\n",
    "    y_test_binary = (y_test == pathology_index).astype(int)\n",
    "\n",
    "    best_model_name,_= best_model[pathology]\n",
    "    y_predicted=predict_with_best_model(best_model_name,X_train,y_train,X_test)\n",
    "    y_predicted_binary=(y_predicted==pathology_index).astype(int)\n",
    "\n",
    "    accuracy = accuracy_score(y_test_binary, y_predicted_binary)\n",
    "    conf_matrix = confusion_matrix(y_test_binary, y_predicted_binary)\n",
    "    class_report = classification_report(y_test_binary, y_predicted_binary, target_names=['Other',pathology])\n",
    "\n",
    "    test_metrics[pathology]={\n",
    "        'Accuracy': accuracy,\n",
    "        'Confusion Matrix': conf_matrix,\n",
    "        'Classification Report': classification_report\n",
    "    }\n",
    "\n",
    "    print(f\"Test Accuracy for {pathology} with {best_model_name}: {accuracy}\")\n",
    "    print(f\"Confusion Matrix: \\n{conf_matrix}\")\n",
    "    print(f\"Classification Report: \\n{class_report}\")"
   ]
  },
  {
   "cell_type": "code",
   "execution_count": 20,
   "metadata": {},
   "outputs": [],
   "source": [
    "best_models={\n",
    "    'Logistic Regression': LogisticRegression(max_iter=1000, random_state=42),\n",
    "    'Gradient Boosting': GradientBoostingClassifier(random_state=42),\n",
    "    'AdaBoost': AdaBoostClassifier(algorithm='SAMME', random_state=42)\n",
    "}"
   ]
  },
  {
   "cell_type": "code",
   "execution_count": 21,
   "metadata": {},
   "outputs": [],
   "source": [
    "def train_best_models(X_train, y_train):\n",
    "    trained_models = {}\n",
    "    for pathology, (model_name, _) in best_model.items():\n",
    "        model = best_models[model_name]\n",
    "        pipeline = Pipeline(\n",
    "            steps=[\n",
    "                ('pre-processing', features_preprocessor),\n",
    "                ('classifier', model)\n",
    "            ]\n",
    "        )\n",
    "        pathology_index = label_encoder.transform([pathology])[0]\n",
    "        y_binary = (y_train == pathology_index).astype(int)\n",
    "        pipeline.fit(X_train, y_binary)\n",
    "        trained_models[pathology] = pipeline\n",
    "    return trained_models"
   ]
  },
  {
   "cell_type": "code",
   "execution_count": 22,
   "metadata": {},
   "outputs": [],
   "source": [
    "\n",
    "trained_models = train_best_models(X_train, y_train)"
   ]
  },
  {
   "cell_type": "code",
   "execution_count": 31,
   "metadata": {},
   "outputs": [],
   "source": [
    "def predict_disease(instances, trained_models):\n",
    "    probabilities = np.zeros((instances.shape[0], len(pathologies)))\n",
    "    for i, pathology in enumerate(pathologies):\n",
    "        model = trained_models[pathology]\n",
    "        probabilities[:, i] = model.predict_proba(instances)[:, 1]\n",
    "    predictions = np.argmax(probabilities, axis=1)\n",
    "    predicted_diseases = label_encoder.inverse_transform(predictions)\n",
    "    return predicted_diseases, probabilities"
   ]
  },
  {
   "cell_type": "code",
   "execution_count": 40,
   "metadata": {},
   "outputs": [
    {
     "name": "stdout",
     "output_type": "stream",
     "text": [
      "Instance 1:\n",
      "Actual Disease: Localized edema\n",
      "Predicted Disease: Ebola\n",
      "Probabilities: [4.10746047e-03 4.10746047e-03 4.10746047e-03 4.40076107e-01\n",
      " 7.20226386e-06 4.10746047e-03 4.10746047e-03 4.10746047e-03\n",
      " 4.40076107e-01 4.10746047e-03 7.20226386e-06]\n",
      "Instance details:\n",
      "AGE                   47\n",
      "SEX                    F\n",
      "INITIAL_EVIDENCE    pain\n",
      "swollen_nodes          1\n",
      "std                    0\n",
      "                    ... \n",
      "breastfed_9            0\n",
      "confusion              0\n",
      "contact                0\n",
      "ebolacase              0\n",
      "bruising               0\n",
      "Name: 1786, Length: 93, dtype: object\n",
      "------------------------------\n",
      "Instance 2:\n",
      "Actual Disease: Tuberculosis\n",
      "Predicted Disease: Allergic sinusitis\n",
      "Probabilities: [4.03045163e-01 4.03045163e-01 4.03045163e-01 3.75428986e-01\n",
      " 7.68000680e-05 4.03045163e-01 4.03045163e-01 4.03045163e-01\n",
      " 3.75428986e-01 4.03045163e-01 7.68000680e-05]\n",
      "Instance details:\n",
      "AGE                    63\n",
      "SEX                     M\n",
      "INITIAL_EVIDENCE    cough\n",
      "swollen_nodes           0\n",
      "std                     0\n",
      "                    ...  \n",
      "breastfed_9             0\n",
      "confusion               0\n",
      "contact                 0\n",
      "ebolacase               0\n",
      "bruising                0\n",
      "Name: 29840, Length: 93, dtype: object\n",
      "------------------------------\n",
      "Instance 3:\n",
      "Actual Disease: Influenza\n",
      "Predicted Disease: Ebola\n",
      "Probabilities: [4.10746047e-03 4.10746047e-03 4.10746047e-03 3.75428986e-01\n",
      " 3.67008914e-04 4.10746047e-03 4.10746047e-03 4.10746047e-03\n",
      " 3.75428986e-01 4.10746047e-03 3.67008914e-04]\n",
      "Instance details:\n",
      "AGE                       42\n",
      "SEX                        F\n",
      "INITIAL_EVIDENCE    sweating\n",
      "swollen_nodes              1\n",
      "std                        0\n",
      "                      ...   \n",
      "breastfed_9                0\n",
      "confusion                  0\n",
      "contact                    0\n",
      "ebolacase                  0\n",
      "bruising                   0\n",
      "Name: 40922, Length: 93, dtype: object\n",
      "------------------------------\n",
      "Instance 4:\n",
      "Actual Disease: Sarcoidosis\n",
      "Predicted Disease: Ebola\n",
      "Probabilities: [4.10746047e-03 4.10746047e-03 4.10746047e-03 4.98029458e-01\n",
      " 4.46891046e-04 4.10746047e-03 4.10746047e-03 4.10746047e-03\n",
      " 4.98029458e-01 4.10746047e-03 4.46891046e-04]\n",
      "Instance details:\n",
      "AGE                      48\n",
      "SEX                       F\n",
      "INITIAL_EVIDENCE    red_eye\n",
      "swollen_nodes             0\n",
      "std                       0\n",
      "                     ...   \n",
      "breastfed_9               0\n",
      "confusion                 0\n",
      "contact                   0\n",
      "ebolacase                 0\n",
      "bruising                  0\n",
      "Name: 19469, Length: 93, dtype: object\n",
      "------------------------------\n",
      "Instance 5:\n",
      "Actual Disease: Allergic sinusitis\n",
      "Predicted Disease: Ebola\n",
      "Probabilities: [4.10746047e-03 4.10746047e-03 4.10746047e-03 3.75428986e-01\n",
      " 5.41909991e-05 4.10746047e-03 4.10746047e-03 4.10746047e-03\n",
      " 3.75428986e-01 4.10746047e-03 5.41909991e-05]\n",
      "Instance details:\n",
      "AGE                         67\n",
      "SEX                          M\n",
      "INITIAL_EVIDENCE    runny_nose\n",
      "swollen_nodes                1\n",
      "std                          0\n",
      "                       ...    \n",
      "breastfed_9                  0\n",
      "confusion                    0\n",
      "contact                      0\n",
      "ebolacase                    0\n",
      "bruising                     0\n",
      "Name: 44550, Length: 93, dtype: object\n",
      "------------------------------\n"
     ]
    }
   ],
   "source": [
    "# Example instances from the test set\n",
    "X_test = X_test.reset_index(drop=True)\n",
    "y_test = pd.Series(y_test).reset_index(drop=True)\n",
    "instances = X_test.sample(5, random_state=42)  \n",
    "# Predict diseases for the instances\n",
    "predicted_diseases, probabilities = predict_disease(instances, trained_models)\n",
    "\n",
    "# Display results\n",
    "for i, instance_index in enumerate(instances.index):\n",
    "    actual_disease_index=y_test[instance_index]\n",
    "    actual_disease = label_encoder.inverse_transform([actual_disease_index])[0]\n",
    "    print(f\"Instance {i+1}:\")\n",
    "    print(f\"Actual Disease: {actual_disease}\")\n",
    "    print(f\"Predicted Disease: {predicted_diseases[i]}\")\n",
    "    print(f\"Probabilities: {probabilities[i]}\")\n",
    "    print(\"Instance details:\")\n",
    "    print(X_test.loc[instance_index])\n",
    "    print(\"-\" * 30)"
   ]
  },
  {
   "cell_type": "code",
   "execution_count": null,
   "metadata": {},
   "outputs": [],
   "source": []
  }
 ],
 "metadata": {
  "kernelspec": {
   "display_name": "dp-env",
   "language": "python",
   "name": "python3"
  },
  "language_info": {
   "codemirror_mode": {
    "name": "ipython",
    "version": 3
   },
   "file_extension": ".py",
   "mimetype": "text/x-python",
   "name": "python",
   "nbconvert_exporter": "python",
   "pygments_lexer": "ipython3",
   "version": "3.11.7"
  }
 },
 "nbformat": 4,
 "nbformat_minor": 2
}
