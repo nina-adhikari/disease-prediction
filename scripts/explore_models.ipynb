{
 "cells": [
  {
   "cell_type": "markdown",
   "metadata": {},
   "source": [
    "Package and Library"
   ]
  },
  {
   "cell_type": "code",
   "execution_count": 1,
   "metadata": {},
   "outputs": [],
   "source": [
    "import sys, os, pandas as pd, numpy as np\n",
    "import matplotlib.pyplot as plt\n",
    "from sklearn.model_selection import train_test_split, KFold, cross_val_score\n",
    "from sklearn.preprocessing import OneHotEncoder, StandardScaler, LabelEncoder\n",
    "from sklearn.compose import ColumnTransformer\n",
    "from sklearn.pipeline import Pipeline\n",
    "from sklearn.ensemble import RandomForestClassifier, GradientBoostingClassifier\n",
    "from sklearn.linear_model import LogisticRegression\n",
    "from sklearn.metrics import accuracy_score, confusion_matrix, classification_report"
   ]
  },
  {
   "cell_type": "markdown",
   "metadata": {},
   "source": [
    "Load the data"
   ]
  },
  {
   "cell_type": "code",
   "execution_count": 2,
   "metadata": {},
   "outputs": [],
   "source": [
    "current_path=os.getcwd()\n",
    "loader_path=os.path.abspath(\n",
    "    os.path.join(current_path, '..', 'disease_prediction','data',\n",
    "        )\n",
    "    )\n",
    "sys.path.append(loader_path)\n",
    "import datasets as ds\n",
    "df=ds.load_datasets(\n",
    "    subsets=['train', 'test', 'validate'],\n",
    "    directory='../ddx-dataset/'\n",
    ")\n",
    "dp_data=pd.concat(\n",
    "    [df['train'],df['test'],df['validate']],\n",
    "    axis=0, \n",
    "    ignore_index=True\n",
    "    )"
   ]
  },
  {
   "cell_type": "code",
   "execution_count": 3,
   "metadata": {},
   "outputs": [],
   "source": [
    "# Features and labels\n",
    "X=dp_data.drop('PATHOLOGY', axis=1)\n",
    "y=dp_data['PATHOLOGY']"
   ]
  },
  {
   "cell_type": "markdown",
   "metadata": {},
   "source": [
    "Label Encoding"
   ]
  },
  {
   "cell_type": "code",
   "execution_count": 4,
   "metadata": {},
   "outputs": [],
   "source": [
    "label_encoder=LabelEncoder()\n",
    "y_encoded=label_encoder.fit_transform(y)"
   ]
  },
  {
   "cell_type": "markdown",
   "metadata": {},
   "source": [
    "Features Encoding"
   ]
  },
  {
   "cell_type": "code",
   "execution_count": 5,
   "metadata": {},
   "outputs": [],
   "source": [
    "numerical_features=X.select_dtypes(include='int64').columns.tolist()\n",
    "categorical_features=X.select_dtypes(include='object').columns.tolist()\n",
    "features_preprocessor=ColumnTransformer(\n",
    "    transformers=[\n",
    "        ('num',StandardScaler(),numerical_features),\n",
    "        ('cat',OneHotEncoder(handle_unknown='ignore'),categorical_features)\n",
    "    ]\n",
    ")"
   ]
  },
  {
   "cell_type": "markdown",
   "metadata": {},
   "source": [
    "Split the Data"
   ]
  },
  {
   "cell_type": "code",
   "execution_count": 6,
   "metadata": {},
   "outputs": [],
   "source": [
    "X_train, X_test, y_train, y_test=train_test_split(\n",
    "    X, y_encoded, test_size=0.2, random_state=42\n",
    ")"
   ]
  },
  {
   "cell_type": "markdown",
   "metadata": {},
   "source": [
    "Models"
   ]
  },
  {
   "cell_type": "code",
   "execution_count": 7,
   "metadata": {},
   "outputs": [],
   "source": [
    "models={\n",
    "    'Base: Logistic Regression': LogisticRegression(max_iter=1000,random_state=42),\n",
    "    'Random Forest': RandomForestClassifier(random_state=42),\n",
    "    'Gradient Boost': GradientBoostingClassifier(random_state=42)\n",
    "}"
   ]
  },
  {
   "cell_type": "markdown",
   "metadata": {},
   "source": [
    "Perform KFold cross-validation"
   ]
  },
  {
   "cell_type": "code",
   "execution_count": 8,
   "metadata": {},
   "outputs": [
    {
     "name": "stdout",
     "output_type": "stream",
     "text": [
      "Base: Logistic Regression Cross-Validation Accuracy Scores: {'Base: Logistic Regression': array([0.6024941 , 0.60467347, 0.59810601, 0.59928668, 0.60287787])}\n",
      "Base: Logistic Regression Mean Accuracy: 0.6014876276271218\n",
      "Base: Logistic Regression Standard Deviation: 0.002423833720280304\n",
      "Random Forest Cross-Validation Accuracy Scores: {'Base: Logistic Regression': array([0.6024941 , 0.60467347, 0.59810601, 0.59928668, 0.60287787]), 'Random Forest': array([0.59250787, 0.59616283, 0.59092363, 0.59099742, 0.59355553])}\n",
      "Random Forest Mean Accuracy: 0.592829455132845\n",
      "Random Forest Standard Deviation: 0.001935487498853834\n",
      "Gradient Boost Cross-Validation Accuracy Scores: {'Base: Logistic Regression': array([0.6024941 , 0.60467347, 0.59810601, 0.59928668, 0.60287787]), 'Random Forest': array([0.59250787, 0.59616283, 0.59092363, 0.59099742, 0.59355553]), 'Gradient Boost': array([0.60426505, 0.60506703, 0.59985242, 0.60041815, 0.60273029])}\n",
      "Gradient Boost Mean Accuracy: 0.6024665882914617\n",
      "Gradient Boost Standard Deviation: 0.0020540827751456938\n"
     ]
    }
   ],
   "source": [
    "kf=KFold(n_splits=5, shuffle=True, random_state=42)\n",
    "cv_results={}\n",
    "for name, model in models.items():\n",
    "    pipeline=Pipeline(\n",
    "        steps=[\n",
    "            ('pre-processing',features_preprocessor),\n",
    "            ('classifier',model)\n",
    "        ]\n",
    "    )\n",
    "    cv_scores=cross_val_score(\n",
    "        pipeline,X_train,y_train, cv=kf, scoring='accuracy'\n",
    "        )\n",
    "    cv_results[name]=cv_scores\n",
    "    print(f\"{name} Cross-Validation Accuracy Scores: {cv_results}\")\n",
    "    print(f\"{name} Mean Accuracy: {cv_scores.mean()}\")\n",
    "    print(f\"{name} Standard Deviation: {cv_scores.std()}\")"
   ]
  },
  {
   "cell_type": "markdown",
   "metadata": {},
   "source": [
    "Fit the models"
   ]
  },
  {
   "cell_type": "code",
   "execution_count": 13,
   "metadata": {},
   "outputs": [],
   "source": [
    "final_results = {}\n",
    "for name, model in models.items():\n",
    "    pipeline = Pipeline(\n",
    "        steps=[\n",
    "            ('pre-processing', features_preprocessor),\n",
    "            ('classifier', model)\n",
    "        ]\n",
    "    )\n",
    "    pipeline.fit(X_train, y_train)\n",
    "    y_pred = pipeline.predict(X_test)\n",
    "    accuracy = accuracy_score(y_test, y_pred)\n",
    "    conf_matrix = confusion_matrix(y_test, y_pred)\n",
    "    class_report = classification_report(y_test, y_pred, target_names=label_encoder.classes_)\n",
    "    final_results[name] = {\n",
    "        'accuracy': accuracy,  # Changed to lowercase 'a'\n",
    "        'confusion_matrix': conf_matrix,\n",
    "        'classification_report': class_report\n",
    "    }\n"
   ]
  },
  {
   "cell_type": "markdown",
   "metadata": {},
   "source": [
    "Print the evaluation results"
   ]
  },
  {
   "cell_type": "code",
   "execution_count": 14,
   "metadata": {},
   "outputs": [
    {
     "name": "stdout",
     "output_type": "stream",
     "text": [
      "\n",
      "Base: Logistic Regression Final Model Accuracy: 0.6039944903581267\n",
      "Confusion Matrix:\n",
      "[[5335    0    0    0    0    1    0    0    0  874    0]\n",
      " [   0 3178    2    0 1482   14 1888   39  503   22    0]\n",
      " [   0   53  563    0  747   13  450    2  452   34    0]\n",
      " [   3    5    0   38   71    4    0   13   26   18    0]\n",
      " [   0  415    2    0 3727 1100  928   25  678  527    0]\n",
      " [ 672  183    0    0 2211 2223  869   25    4  592    0]\n",
      " [   0    4    0    0    0    0 7086    0   22    0    0]\n",
      " [   0  193    1    0  509   11  810  884  501   23    0]\n",
      " [   0   10    0    0   23    0 1471    8 3852   40    0]\n",
      " [ 218    9    0    0  720   28    0    4  573 2436    0]\n",
      " [   0    0    0    0    0    0    0    0    0    0 1373]]\n",
      "Classification Report:\n",
      "                         precision    recall  f1-score   support\n",
      "\n",
      "     Allergic sinusitis       0.86      0.86      0.86      6210\n",
      "            Anaphylaxis       0.78      0.45      0.57      7128\n",
      "                 Chagas       0.99      0.24      0.39      2314\n",
      "                  Ebola       1.00      0.21      0.35       178\n",
      "HIV (initial infection)       0.39      0.50      0.44      7402\n",
      "              Influenza       0.65      0.33      0.44      6779\n",
      "        Localized edema       0.52      1.00      0.69      7112\n",
      "                    SLE       0.88      0.30      0.45      2932\n",
      "            Sarcoidosis       0.58      0.71      0.64      5404\n",
      "           Tuberculosis       0.53      0.61      0.57      3988\n",
      "         Whooping cough       1.00      1.00      1.00      1373\n",
      "\n",
      "               accuracy                           0.60     50820\n",
      "              macro avg       0.75      0.56      0.58     50820\n",
      "           weighted avg       0.66      0.60      0.59     50820\n",
      "\n",
      "\n",
      "Random Forest Final Model Accuracy: 0.5927981109799292\n",
      "Confusion Matrix:\n",
      "[[5450    0    0    1    0   56    0    0    0  703    0]\n",
      " [   0 3575   35    1  883  137 1826  176  391  104    0]\n",
      " [   0  219  577    1  509   83  424   25  348  128    0]\n",
      " [   3   11    0   38   55   12    0   13   23   23    0]\n",
      " [   0  823   42    1 2980 1430  875  157  562  532    0]\n",
      " [ 773  272    6    1 1680 2461  821  132   20  613    0]\n",
      " [   0   35    9    0   25   27 6922   18   76    0    0]\n",
      " [   0  306    6    1  276   78  776 1007  386   96    0]\n",
      " [   0   60   11    0  236   10 1390   79 3465  153    0]\n",
      " [ 370   37    4    2  606  236    0   36  419 2278    0]\n",
      " [   0    0    0    0    0    0    0    0    0    0 1373]]\n",
      "Classification Report:\n",
      "                         precision    recall  f1-score   support\n",
      "\n",
      "     Allergic sinusitis       0.83      0.88      0.85      6210\n",
      "            Anaphylaxis       0.67      0.50      0.57      7128\n",
      "                 Chagas       0.84      0.25      0.38      2314\n",
      "                  Ebola       0.83      0.21      0.34       178\n",
      "HIV (initial infection)       0.41      0.40      0.41      7402\n",
      "              Influenza       0.54      0.36      0.44      6779\n",
      "        Localized edema       0.53      0.97      0.69      7112\n",
      "                    SLE       0.61      0.34      0.44      2932\n",
      "            Sarcoidosis       0.61      0.64      0.62      5404\n",
      "           Tuberculosis       0.49      0.57      0.53      3988\n",
      "         Whooping cough       1.00      1.00      1.00      1373\n",
      "\n",
      "               accuracy                           0.59     50820\n",
      "              macro avg       0.67      0.56      0.57     50820\n",
      "           weighted avg       0.61      0.59      0.58     50820\n",
      "\n",
      "\n",
      "Gradient Boost Final Model Accuracy: 0.6043290043290044\n",
      "Confusion Matrix:\n",
      "[[5349    0    0    0    0    0    0    0    0  861    0]\n",
      " [   0 3693    2    1  990    0 1899   24  515    4    0]\n",
      " [   0   16  564    0  813    0  452    0  469    0    0]\n",
      " [   4    1    0   38   74    5    0   12   27   17    0]\n",
      " [   0  978    2    0 3351  886  935   12  670  568    0]\n",
      " [ 667  676    0    0 1967 2030  875   17    0  547    0]\n",
      " [   0    4    0    0    0    0 7108    0    0    0    0]\n",
      " [   0  705    0    1    8    0  817  871  527    3    0]\n",
      " [   0    0    1    0   22    0 1485    6 3881    9    0]\n",
      " [ 223    0    0    0  701    0    0    1  609 2454    0]\n",
      " [   0    0    0    0    0    0    0    0    0    0 1373]]\n",
      "Classification Report:\n",
      "                         precision    recall  f1-score   support\n",
      "\n",
      "     Allergic sinusitis       0.86      0.86      0.86      6210\n",
      "            Anaphylaxis       0.61      0.52      0.56      7128\n",
      "                 Chagas       0.99      0.24      0.39      2314\n",
      "                  Ebola       0.95      0.21      0.35       178\n",
      "HIV (initial infection)       0.42      0.45      0.44      7402\n",
      "              Influenza       0.69      0.30      0.42      6779\n",
      "        Localized edema       0.52      1.00      0.69      7112\n",
      "                    SLE       0.92      0.30      0.45      2932\n",
      "            Sarcoidosis       0.58      0.72      0.64      5404\n",
      "           Tuberculosis       0.55      0.62      0.58      3988\n",
      "         Whooping cough       1.00      1.00      1.00      1373\n",
      "\n",
      "               accuracy                           0.60     50820\n",
      "              macro avg       0.74      0.57      0.58     50820\n",
      "           weighted avg       0.65      0.60      0.58     50820\n",
      "\n"
     ]
    }
   ],
   "source": [
    "for name, results in final_results.items():\n",
    "    print(f\"\\n{name} Final Model Accuracy: {results['accuracy']}\")  # Accessing with lowercase 'a'\n",
    "    print(\"Confusion Matrix:\")\n",
    "    print(results['confusion_matrix'])\n",
    "    print(\"Classification Report:\")\n",
    "    print(results['classification_report'])"
   ]
  },
  {
   "cell_type": "markdown",
   "metadata": {},
   "source": [
    "Plot the cross validation results"
   ]
  },
  {
   "cell_type": "code",
   "execution_count": 15,
   "metadata": {},
   "outputs": [
    {
     "data": {
      "image/png": "[encoded data removed]",
      "text/plain": [
       "<Figure size 640x480 with 1 Axes>"
      ]
     },
     "metadata": {},
     "output_type": "display_data"
    }
   ],
   "source": [
    "fig, ax = plt.subplots()\n",
    "model_names = list(cv_results.keys())\n",
    "cv_means = [cv_results[name].mean() for name in model_names]\n",
    "cv_stds = [cv_results[name].std() for name in model_names]\n",
    "\n",
    "x_pos = np.arange(len(model_names))\n",
    "ax.bar(x_pos, cv_means, yerr=cv_stds, align='center', alpha=0.7, ecolor='black', capsize=10)\n",
    "ax.set_ylabel('Mean Accuracy')\n",
    "ax.set_xticks(x_pos)\n",
    "ax.set_xticklabels(model_names)\n",
    "ax.set_title('Comparison of Model Performance')\n",
    "ax.yaxis.grid(True)\n",
    "\n",
    "plt.tight_layout()\n",
    "plt.show()"
   ]
  },
  {
   "cell_type": "code",
   "execution_count": null,
   "metadata": {},
   "outputs": [],
   "source": []
  }
 ],
 "metadata": {
  "kernelspec": {
   "display_name": "dp-env",
   "language": "python",
   "name": "python3"
  },
  "language_info": {
   "codemirror_mode": {
    "name": "ipython",
    "version": 3
   },
   "file_extension": ".py",
   "mimetype": "text/x-python",
   "name": "python",
   "nbconvert_exporter": "python",
   "pygments_lexer": "ipython3",
   "version": "3.11.7"
  }
 },
 "nbformat": 4,
 "nbformat_minor": 2
}
