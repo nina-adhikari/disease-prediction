{
 "cells": [
  {
   "cell_type": "code",
   "execution_count": 1,
   "metadata": {},
   "outputs": [],
   "source": [
    "import sys, os, pandas as pd, numpy as np, matplotlib.pyplot as plt\n",
    "from sklearn.model_selection import train_test_split\n",
    "from sklearn.preprocessing import OneHotEncoder, StandardScaler, LabelEncoder\n",
    "from sklearn.compose import ColumnTransformer\n",
    "from sklearn.pipeline import Pipeline\n",
    "from sklearn.linear_model import LogisticRegression\n",
    "from sklearn.metrics import accuracy_score, classification_report\n"
   ]
  },
  {
   "cell_type": "code",
   "execution_count": 2,
   "metadata": {},
   "outputs": [],
   "source": [
    "current_path=os.getcwd()\n",
    "loader_path=os.path.abspath(\n",
    "    os.path.join(current_path, '..', 'disease_prediction','data',\n",
    "        )\n",
    "    )\n",
    "sys.path.append(loader_path)\n",
    "import datasets as ds\n",
    "df=ds.load_datasets(\n",
    "    subsets=['train', 'test', 'validate'],\n",
    "    directory='../ddx-dataset/'\n",
    ")\n",
    "dp_data=pd.concat(\n",
    "    [df['train'],df['test'],df['validate']],\n",
    "    axis=0, \n",
    "    ignore_index=True\n",
    "    )\n",
    "dp_data.reset_index(drop=True,inplace=True)"
   ]
  },
  {
   "cell_type": "markdown",
   "metadata": {},
   "source": [
    "Features and Labels"
   ]
  },
  {
   "cell_type": "code",
   "execution_count": 3,
   "metadata": {},
   "outputs": [],
   "source": [
    "X=dp_data.drop('PATHOLOGY', axis=1)\n",
    "y=dp_data['PATHOLOGY']"
   ]
  },
  {
   "cell_type": "markdown",
   "metadata": {},
   "source": [
    "Label Encoding"
   ]
  },
  {
   "cell_type": "code",
   "execution_count": 4,
   "metadata": {},
   "outputs": [],
   "source": [
    "label_encoder=LabelEncoder()\n",
    "y_encoded=label_encoder.fit_transform(y)\n",
    "pathologies=label_encoder.classes_"
   ]
  },
  {
   "cell_type": "markdown",
   "metadata": {},
   "source": [
    "Features Encoding"
   ]
  },
  {
   "cell_type": "code",
   "execution_count": 5,
   "metadata": {},
   "outputs": [],
   "source": [
    "numerical_features=X.select_dtypes(include='int64').columns.tolist()\n",
    "categorical_features=X.select_dtypes(include='object').columns.tolist()\n",
    "features_preprocessor=ColumnTransformer(\n",
    "    transformers=[\n",
    "        ('num',StandardScaler(),numerical_features),\n",
    "        ('cat',OneHotEncoder(handle_unknown='ignore'),categorical_features)\n",
    "    ]\n",
    ")"
   ]
  },
  {
   "cell_type": "markdown",
   "metadata": {},
   "source": [
    "Data Split"
   ]
  },
  {
   "cell_type": "code",
   "execution_count": 6,
   "metadata": {},
   "outputs": [],
   "source": [
    "X_train, X_test, y_train, y_test=train_test_split(\n",
    "    X, y_encoded, test_size=0.30, random_state=42\n",
    ")"
   ]
  },
  {
   "cell_type": "code",
   "execution_count": 7,
   "metadata": {},
   "outputs": [
    {
     "name": "stderr",
     "output_type": "stream",
     "text": [
      "/Users/macpc/Library/CloudStorage/OneDrive-FloridaStateUniversity/OnlineLearning/ErdosInstitute/data_science_bc/disease_prediction/project_env/dp-env/lib/python3.11/site-packages/sklearn/linear_model/_logistic.py:1247: FutureWarning: 'multi_class' was deprecated in version 1.5 and will be removed in 1.7. From then on, it will always use 'multinomial'. Leave it to its default value to avoid this warning.\n",
      "  warnings.warn(\n"
     ]
    }
   ],
   "source": [
    "pipeline = Pipeline(\n",
    "    steps=[\n",
    "            ('preprocessor', features_preprocessor),\n",
    "            ('classifier', LogisticRegression(\n",
    "                multi_class='multinomial', solver='lbfgs', max_iter=1000\n",
    "                )\n",
    "            )\n",
    "        ]\n",
    ")\n",
    "\n",
    "pipeline.fit(X_train, y_train)\n",
    "y_predicted=pipeline.predict(X_test)"
   ]
  },
  {
   "cell_type": "code",
   "execution_count": 8,
   "metadata": {},
   "outputs": [
    {
     "name": "stdout",
     "output_type": "stream",
     "text": [
      "Accuracy: 0.60\n",
      "Classification Report:\n",
      "              precision    recall  f1-score   support\n",
      "\n",
      "           0       0.87      0.85      0.86      9198\n",
      "           1       0.79      0.44      0.57     10729\n",
      "           2       0.99      0.24      0.39      3408\n",
      "           3       1.00      0.22      0.36       275\n",
      "           4       0.39      0.53      0.45     11029\n",
      "           5       0.65      0.33      0.44     10190\n",
      "           6       0.53      1.00      0.69     10697\n",
      "           7       0.87      0.30      0.44      4407\n",
      "           8       0.58      0.72      0.64      8125\n",
      "           9       0.53      0.57      0.55      6041\n",
      "          10       1.00      1.00      1.00      2130\n",
      "\n",
      "    accuracy                           0.60     76229\n",
      "   macro avg       0.75      0.56      0.58     76229\n",
      "weighted avg       0.66      0.60      0.59     76229\n",
      "\n"
     ]
    }
   ],
   "source": [
    "# Evaluate the model\n",
    "accuracy = accuracy_score(y_test, y_predicted)\n",
    "print(f'Accuracy: {accuracy:.2f}')\n",
    "\n",
    "# Display classification report\n",
    "print('Classification Report:')\n",
    "print(classification_report(y_test, y_predicted))"
   ]
  },
  {
   "cell_type": "code",
   "execution_count": null,
   "metadata": {},
   "outputs": [],
   "source": []
  }
 ],
 "metadata": {
  "kernelspec": {
   "display_name": "dp-env",
   "language": "python",
   "name": "python3"
  },
  "language_info": {
   "codemirror_mode": {
    "name": "ipython",
    "version": 3
   },
   "file_extension": ".py",
   "mimetype": "text/x-python",
   "name": "python",
   "nbconvert_exporter": "python",
   "pygments_lexer": "ipython3",
   "version": "3.11.7"
  }
 },
 "nbformat": 4,
 "nbformat_minor": 2
}
