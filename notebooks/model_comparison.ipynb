{
 "cells": [
  {
   "cell_type": "code",
   "execution_count": 42,
   "metadata": {},
   "outputs": [],
   "source": [
    "from disease_prediction.data import datasets as ds\n",
    "import pandas as pd\n",
    "import warnings\n",
    "warnings.filterwarnings('ignore')\n",
    "import seaborn as sns\n",
    "import matplotlib.pyplot as plt\n",
    "\n",
    "plt.rcParams['font.family'] = 'serif'\n",
    "plt.rcParams['figure.dpi'] = 200\n",
    "\n",
    "from sklearn.model_selection import train_test_split\n",
    "from sklearn.metrics import classification_report, confusion_matrix"
   ]
  },
  {
   "cell_type": "markdown",
   "metadata": {},
   "source": [
    "# Loading data and cleaning/preprocessing"
   ]
  },
  {
   "cell_type": "code",
   "execution_count": 2,
   "metadata": {},
   "outputs": [],
   "source": [
    "directory = '../disease_prediction/data/'\n",
    "\n",
    "df = ds.load_datasets(subsets=['train', 'validate', 'test'],\n",
    "                      directory=directory)\n",
    "\n",
    "df_train = pd.concat([df['train'], df['validate']],\n",
    "                     axis=0,\n",
    "                     ignore_index=True)\n"
   ]
  },
  {
   "cell_type": "code",
   "execution_count": 10,
   "metadata": {},
   "outputs": [
    {
     "name": "stdout",
     "output_type": "stream",
     "text": [
      "the test set contains 10.1 percent of the the data\n"
     ]
    }
   ],
   "source": [
    "total = df['test'].shape[0] + df_train.shape[0]\n",
    "test_frac = df['test'].shape[0] / total\n",
    "print('the test set contains {:.1f} percent of the the data'.format(test_frac*100))"
   ]
  },
  {
   "cell_type": "code",
   "execution_count": 11,
   "metadata": {},
   "outputs": [],
   "source": [
    "## removing lesion_peeling, pain_radiate columns\n",
    "df_train.drop(columns=['lesions_peeling', 'pain_radiate'], inplace=True)\n",
    "\n",
    "\n",
    "## one hot encoding for all categorical features\n",
    "categorical_features=df_train.select_dtypes(include='object').columns.tolist()\n",
    "\n",
    "categorical_features.remove('PATHOLOGY')\n",
    "categorical_features.remove('pain_somewhere')\n",
    "categorical_features.remove('lesion_location')\n",
    "\n",
    "df_train = pd.get_dummies(df_train,\n",
    "                          columns=categorical_features,\n",
    "                          dtype=int)\n",
    "\n",
    "\n",
    "df_train['lesion_location'] = (df_train['lesion_location'] != 'nowhere').astype(int)\n",
    "df_train['pain_somewhere'] = (df_train['pain_somewhere'] != 'nowhere').astype(int)"
   ]
  },
  {
   "cell_type": "markdown",
   "metadata": {},
   "source": [
    "# Splitting the data"
   ]
  },
  {
   "cell_type": "code",
   "execution_count": 12,
   "metadata": {},
   "outputs": [],
   "source": [
    "X = df_train.drop(columns=['PATHOLOGY', 'index'])\n",
    "y = df_train.PATHOLOGY\n",
    "\n",
    "X_train, X_val, y_train, y_val = train_test_split(X, y,\n",
    "                                                  test_size=0.2,\n",
    "                                                  shuffle=True,\n",
    "                                                  random_state=740)"
   ]
  },
  {
   "cell_type": "markdown",
   "metadata": {},
   "source": [
    "# Baseline model\n",
    "\n",
    "- this is a frequency based model --> we predict the highest frequency pathology in our training set every time.\n",
    "- in our case, this was HIV."
   ]
  },
  {
   "cell_type": "code",
   "execution_count": 15,
   "metadata": {},
   "outputs": [
    {
     "name": "stdout",
     "output_type": "stream",
     "text": [
      "Most frequent disease is HIV (initial infection)\n",
      "                         precision    recall  f1-score   support\n",
      "\n",
      "     Allergic sinusitis       0.00      0.00      0.00      5754\n",
      "            Anaphylaxis       0.00      0.00      0.00      6201\n",
      "                 Chagas       0.00      0.00      0.00      2039\n",
      "HIV (initial infection)       0.14      1.00      0.25      6536\n",
      "              Influenza       0.00      0.00      0.00      6121\n",
      "        Localized edema       0.00      0.00      0.00      6277\n",
      "                    SLE       0.00      0.00      0.00      2714\n",
      "            Sarcoidosis       0.00      0.00      0.00      4788\n",
      "           Tuberculosis       0.00      0.00      0.00      3818\n",
      "         Whooping cough       0.00      0.00      0.00      1272\n",
      "\n",
      "               accuracy                           0.14     45520\n",
      "              macro avg       0.01      0.10      0.03     45520\n",
      "           weighted avg       0.02      0.14      0.04     45520\n",
      "\n"
     ]
    }
   ],
   "source": [
    "most_frequent = y_train.value_counts().index[0]\n",
    "print('Most frequent disease is', most_frequent)\n",
    "\n",
    "y_pred = [most_frequent]*len(y_val)\n",
    "print(classification_report(y_val, y_pred))"
   ]
  },
  {
   "cell_type": "markdown",
   "metadata": {},
   "source": [
    "# Simple Decision Tree model"
   ]
  },
  {
   "cell_type": "code",
   "execution_count": 22,
   "metadata": {},
   "outputs": [
    {
     "name": "stdout",
     "output_type": "stream",
     "text": [
      "                         precision    recall  f1-score   support\n",
      "\n",
      "     Allergic sinusitis       0.81      0.88      0.85      5754\n",
      "            Anaphylaxis       0.63      0.52      0.57      6201\n",
      "                 Chagas       0.60      0.26      0.36      2039\n",
      "HIV (initial infection)       0.41      0.43      0.42      6536\n",
      "              Influenza       0.54      0.34      0.42      6121\n",
      "        Localized edema       0.54      0.92      0.68      6277\n",
      "                    SLE       0.58      0.37      0.45      2714\n",
      "            Sarcoidosis       0.60      0.63      0.62      4788\n",
      "           Tuberculosis       0.53      0.50      0.51      3818\n",
      "         Whooping cough       1.00      1.00      1.00      1272\n",
      "\n",
      "               accuracy                           0.59     45520\n",
      "              macro avg       0.62      0.59      0.59     45520\n",
      "           weighted avg       0.59      0.59      0.57     45520\n",
      "\n"
     ]
    }
   ],
   "source": [
    "from sklearn.tree import DecisionTreeClassifier\n",
    "\n",
    "dt = DecisionTreeClassifier()\n",
    "dt.fit(X_train, y_train)\n",
    "y_pred = dt.predict(X_val)\n",
    "print(classification_report(y_val, y_pred))"
   ]
  },
  {
   "cell_type": "markdown",
   "metadata": {},
   "source": [
    "# XGBoost model"
   ]
  },
  {
   "cell_type": "code",
   "execution_count": 27,
   "metadata": {},
   "outputs": [],
   "source": [
    "from xgboost import XGBClassifier\n",
    "from sklearn.utils.class_weight import compute_sample_weight\n",
    "\n",
    "y_train_int = y_train.astype('category').cat.codes\n",
    "y_val_int = y_val.astype('category').cat.codes\n",
    "\n",
    "sample_weights = compute_sample_weight(class_weight='balanced', y=y_train)"
   ]
  },
  {
   "cell_type": "code",
   "execution_count": 29,
   "metadata": {},
   "outputs": [
    {
     "name": "stdout",
     "output_type": "stream",
     "text": [
      "[0]\tvalidation_0-mlogloss:2.08183\n",
      "[1]\tvalidation_0-mlogloss:1.93518\n",
      "[2]\tvalidation_0-mlogloss:1.82340\n",
      "[3]\tvalidation_0-mlogloss:1.73309\n",
      "[4]\tvalidation_0-mlogloss:1.65796\n",
      "[5]\tvalidation_0-mlogloss:1.59308\n",
      "[6]\tvalidation_0-mlogloss:1.53730\n",
      "[7]\tvalidation_0-mlogloss:1.48866\n",
      "[8]\tvalidation_0-mlogloss:1.44508\n",
      "[9]\tvalidation_0-mlogloss:1.40614\n",
      "[10]\tvalidation_0-mlogloss:1.37134\n",
      "[11]\tvalidation_0-mlogloss:1.33939\n",
      "[12]\tvalidation_0-mlogloss:1.31044\n",
      "[13]\tvalidation_0-mlogloss:1.28399\n",
      "[14]\tvalidation_0-mlogloss:1.25965\n",
      "[15]\tvalidation_0-mlogloss:1.23756\n",
      "[16]\tvalidation_0-mlogloss:1.21706\n",
      "[17]\tvalidation_0-mlogloss:1.19828\n",
      "[18]\tvalidation_0-mlogloss:1.18064\n",
      "[19]\tvalidation_0-mlogloss:1.16435\n",
      "[20]\tvalidation_0-mlogloss:1.14915\n",
      "[21]\tvalidation_0-mlogloss:1.13496\n",
      "[22]\tvalidation_0-mlogloss:1.12169\n",
      "[23]\tvalidation_0-mlogloss:1.10939\n",
      "[24]\tvalidation_0-mlogloss:1.09765\n",
      "[25]\tvalidation_0-mlogloss:1.08664\n",
      "[26]\tvalidation_0-mlogloss:1.07650\n",
      "[27]\tvalidation_0-mlogloss:1.06669\n",
      "[28]\tvalidation_0-mlogloss:1.05758\n",
      "[29]\tvalidation_0-mlogloss:1.04916\n",
      "[30]\tvalidation_0-mlogloss:1.04104\n",
      "[31]\tvalidation_0-mlogloss:1.03364\n",
      "[32]\tvalidation_0-mlogloss:1.02634\n",
      "[33]\tvalidation_0-mlogloss:1.01971\n",
      "[34]\tvalidation_0-mlogloss:1.01321\n",
      "[35]\tvalidation_0-mlogloss:1.00699\n",
      "[36]\tvalidation_0-mlogloss:1.00138\n",
      "[37]\tvalidation_0-mlogloss:0.99565\n",
      "[38]\tvalidation_0-mlogloss:0.99043\n",
      "[39]\tvalidation_0-mlogloss:0.98542\n",
      "[40]\tvalidation_0-mlogloss:0.98078\n",
      "[41]\tvalidation_0-mlogloss:0.97610\n",
      "[42]\tvalidation_0-mlogloss:0.97218\n",
      "[43]\tvalidation_0-mlogloss:0.96796\n",
      "[44]\tvalidation_0-mlogloss:0.96415\n",
      "[45]\tvalidation_0-mlogloss:0.96053\n",
      "[46]\tvalidation_0-mlogloss:0.95692\n",
      "[47]\tvalidation_0-mlogloss:0.95378\n",
      "[48]\tvalidation_0-mlogloss:0.95055\n",
      "[49]\tvalidation_0-mlogloss:0.94733\n",
      "[50]\tvalidation_0-mlogloss:0.94451\n",
      "[51]\tvalidation_0-mlogloss:0.94177\n",
      "[52]\tvalidation_0-mlogloss:0.93918\n",
      "[53]\tvalidation_0-mlogloss:0.93670\n",
      "[54]\tvalidation_0-mlogloss:0.93426\n",
      "[55]\tvalidation_0-mlogloss:0.93210\n",
      "[56]\tvalidation_0-mlogloss:0.93007\n",
      "[57]\tvalidation_0-mlogloss:0.92818\n",
      "[58]\tvalidation_0-mlogloss:0.92616\n",
      "[59]\tvalidation_0-mlogloss:0.92445\n",
      "[60]\tvalidation_0-mlogloss:0.92264\n",
      "[61]\tvalidation_0-mlogloss:0.92096\n",
      "[62]\tvalidation_0-mlogloss:0.91944\n",
      "[63]\tvalidation_0-mlogloss:0.91785\n",
      "[64]\tvalidation_0-mlogloss:0.91632\n",
      "[65]\tvalidation_0-mlogloss:0.91496\n",
      "[66]\tvalidation_0-mlogloss:0.91356\n",
      "[67]\tvalidation_0-mlogloss:0.91217\n",
      "[68]\tvalidation_0-mlogloss:0.91061\n",
      "[69]\tvalidation_0-mlogloss:0.90938\n",
      "[70]\tvalidation_0-mlogloss:0.90818\n",
      "[71]\tvalidation_0-mlogloss:0.90696\n",
      "[72]\tvalidation_0-mlogloss:0.90581\n",
      "[73]\tvalidation_0-mlogloss:0.90473\n",
      "[74]\tvalidation_0-mlogloss:0.90359\n",
      "[75]\tvalidation_0-mlogloss:0.90258\n",
      "[76]\tvalidation_0-mlogloss:0.90162\n",
      "[77]\tvalidation_0-mlogloss:0.90069\n",
      "[78]\tvalidation_0-mlogloss:0.89978\n",
      "[79]\tvalidation_0-mlogloss:0.89896\n",
      "[80]\tvalidation_0-mlogloss:0.89810\n",
      "[81]\tvalidation_0-mlogloss:0.89733\n",
      "[82]\tvalidation_0-mlogloss:0.89650\n",
      "[83]\tvalidation_0-mlogloss:0.89579\n",
      "[84]\tvalidation_0-mlogloss:0.89506\n",
      "[85]\tvalidation_0-mlogloss:0.89431\n",
      "[86]\tvalidation_0-mlogloss:0.89364\n",
      "[87]\tvalidation_0-mlogloss:0.89296\n",
      "[88]\tvalidation_0-mlogloss:0.89227\n",
      "[89]\tvalidation_0-mlogloss:0.89161\n",
      "[90]\tvalidation_0-mlogloss:0.89098\n",
      "[91]\tvalidation_0-mlogloss:0.89031\n",
      "[92]\tvalidation_0-mlogloss:0.88976\n",
      "[93]\tvalidation_0-mlogloss:0.88914\n",
      "[94]\tvalidation_0-mlogloss:0.88859\n",
      "[95]\tvalidation_0-mlogloss:0.88807\n",
      "[96]\tvalidation_0-mlogloss:0.88753\n",
      "[97]\tvalidation_0-mlogloss:0.88707\n",
      "[98]\tvalidation_0-mlogloss:0.88664\n",
      "[99]\tvalidation_0-mlogloss:0.88623\n"
     ]
    }
   ],
   "source": [
    "xgb_clf = XGBClassifier(objective='multi:softmax', \n",
    "                                missing=-999, \n",
    "                                seed=42, \n",
    "                                learning_rate=0.1,\n",
    "                                early_stopping_rounds = 20)\n",
    "\n",
    "xgb_clf = xgb_clf.fit(X_train,\n",
    "                      y_train_int, \n",
    "                      verbose=True, \n",
    "                      sample_weight=sample_weights,\n",
    "                      eval_set = [(X_val, y_val_int)])\n",
    "\n",
    "y_pred = xgb_clf.predict(X_val)"
   ]
  },
  {
   "cell_type": "code",
   "execution_count": 30,
   "metadata": {},
   "outputs": [
    {
     "name": "stdout",
     "output_type": "stream",
     "text": [
      "              precision    recall  f1-score   support\n",
      "\n",
      "           0       0.90      0.84      0.87      5754\n",
      "           1       1.00      0.40      0.57      6201\n",
      "           2       0.35      0.45      0.39      2039\n",
      "           3       0.55      0.09      0.15      6536\n",
      "           4       0.63      0.40      0.49      6121\n",
      "           5       0.52      1.00      0.69      6277\n",
      "           6       0.31      0.72      0.43      2714\n",
      "           7       0.74      0.56      0.64      4788\n",
      "           8       0.46      0.83      0.59      3818\n",
      "           9       1.00      1.00      1.00      1272\n",
      "\n",
      "    accuracy                           0.58     45520\n",
      "   macro avg       0.65      0.63      0.58     45520\n",
      "weighted avg       0.66      0.58      0.56     45520\n",
      "\n"
     ]
    }
   ],
   "source": [
    "print(classification_report(y_val_int, y_pred))"
   ]
  },
  {
   "cell_type": "markdown",
   "metadata": {},
   "source": [
    "# Random Forest model"
   ]
  },
  {
   "cell_type": "code",
   "execution_count": 31,
   "metadata": {},
   "outputs": [
    {
     "name": "stdout",
     "output_type": "stream",
     "text": [
      "                         precision    recall  f1-score   support\n",
      "\n",
      "     Allergic sinusitis     0.8553    0.8783    0.8667      5754\n",
      "            Anaphylaxis     0.9278    0.4061    0.5649      6201\n",
      "                 Chagas     1.0000    0.2281    0.3714      2039\n",
      "HIV (initial infection)     0.3927    0.6841    0.4990      6536\n",
      "              Influenza     0.7292    0.2438    0.3654      6121\n",
      "        Localized edema     0.5231    1.0000    0.6869      6277\n",
      "                    SLE     1.0000    0.2977    0.4588      2714\n",
      "            Sarcoidosis     0.5737    0.7097    0.6345      4788\n",
      "           Tuberculosis     0.5807    0.4560    0.5109      3818\n",
      "         Whooping cough     1.0000    1.0000    1.0000      1272\n",
      "\n",
      "               accuracy                         0.6040     45520\n",
      "              macro avg     0.7583    0.5904    0.5958     45520\n",
      "           weighted avg     0.7025    0.6040    0.5835     45520\n",
      "\n"
     ]
    }
   ],
   "source": [
    "from sklearn.ensemble import RandomForestClassifier\n",
    "\n",
    "## optimal model hyperparameters\n",
    "n_estimators = 500\n",
    "max_depth = 20\n",
    "min_samples_leaf = 5\n",
    "bootstrap = False\n",
    "\n",
    "rf_prelim = RandomForestClassifier(\n",
    "    n_estimators=n_estimators,\n",
    "    max_depth=max_depth,\n",
    "    min_samples_leaf=min_samples_leaf,\n",
    "    bootstrap=bootstrap\n",
    ")\n",
    "\n",
    "rf_prelim.fit(X_train, y_train)\n",
    "pred_prelim = rf_prelim.predict(X_val)\n",
    "print(classification_report(y_val, pred_prelim, \n",
    "                            digits=4, output_dict=False))"
   ]
  },
  {
   "cell_type": "markdown",
   "metadata": {},
   "source": [
    "# Comparison plots"
   ]
  },
  {
   "cell_type": "code",
   "execution_count": 32,
   "metadata": {},
   "outputs": [],
   "source": [
    "precisions = {'baseline': 0.01,\n",
    "              'decision tree': 0.62,\n",
    "              'xgboost': 0.65,\n",
    "              'random forest': 0.7583}\n",
    "\n",
    "recalls = {'baseline': 0.1,\n",
    "              'decision tree': 0.59,\n",
    "              'xgboost': 0.63,\n",
    "              'random forest': 0.5904}\n",
    "\n",
    "f1s = {'baseline': 0.03,\n",
    "              'decision tree': 0.59,\n",
    "              'xgboost': 0.58,\n",
    "              'random forest': 0.5958}"
   ]
  },
  {
   "cell_type": "code",
   "execution_count": 37,
   "metadata": {},
   "outputs": [],
   "source": [
    "performances = pd.DataFrame([precisions, recalls, f1s], index=['precision', 'recall', 'f1-score'])"
   ]
  },
  {
   "cell_type": "code",
   "execution_count": 38,
   "metadata": {},
   "outputs": [
    {
     "data": {
      "text/html": [
       "<div>\n",
       "<style scoped>\n",
       "    .dataframe tbody tr th:only-of-type {\n",
       "        vertical-align: middle;\n",
       "    }\n",
       "\n",
       "    .dataframe tbody tr th {\n",
       "        vertical-align: top;\n",
       "    }\n",
       "\n",
       "    .dataframe thead th {\n",
       "        text-align: right;\n",
       "    }\n",
       "</style>\n",
       "<table border=\"1\" class=\"dataframe\">\n",
       "  <thead>\n",
       "    <tr style=\"text-align: right;\">\n",
       "      <th></th>\n",
       "      <th>baseline</th>\n",
       "      <th>decision tree</th>\n",
       "      <th>xgboost</th>\n",
       "      <th>random forest</th>\n",
       "    </tr>\n",
       "  </thead>\n",
       "  <tbody>\n",
       "    <tr>\n",
       "      <th>precision</th>\n",
       "      <td>0.01</td>\n",
       "      <td>0.62</td>\n",
       "      <td>0.65</td>\n",
       "      <td>0.7583</td>\n",
       "    </tr>\n",
       "    <tr>\n",
       "      <th>recall</th>\n",
       "      <td>0.10</td>\n",
       "      <td>0.59</td>\n",
       "      <td>0.63</td>\n",
       "      <td>0.5904</td>\n",
       "    </tr>\n",
       "    <tr>\n",
       "      <th>f1-score</th>\n",
       "      <td>0.03</td>\n",
       "      <td>0.59</td>\n",
       "      <td>0.58</td>\n",
       "      <td>0.5958</td>\n",
       "    </tr>\n",
       "  </tbody>\n",
       "</table>\n",
       "</div>"
      ],
      "text/plain": [
       "           baseline  decision tree  xgboost  random forest\n",
       "precision      0.01           0.62     0.65         0.7583\n",
       "recall         0.10           0.59     0.63         0.5904\n",
       "f1-score       0.03           0.59     0.58         0.5958"
      ]
     },
     "execution_count": 38,
     "metadata": {},
     "output_type": "execute_result"
    }
   ],
   "source": [
    "performances.head()"
   ]
  },
  {
   "cell_type": "code",
   "execution_count": 40,
   "metadata": {},
   "outputs": [],
   "source": [
    "df_melted = performances.reset_index().melt(id_vars='index', var_name='Model', value_name='Score')\n",
    "df_melted.rename(columns={'index': 'Metric'}, inplace=True)"
   ]
  },
  {
   "cell_type": "code",
   "execution_count": 47,
   "metadata": {},
   "outputs": [
    {
     "data": {
      "text/plain": [
       "<Axes: xlabel='Score', ylabel='Model'>"
      ]
     },
     "execution_count": 47,
     "metadata": {},
     "output_type": "execute_result"
    },
    {
     "data": {
      "image/png": "[encoded data removed]",
      "text/plain": [
       "<Figure size 1280x960 with 1 Axes>"
      ]
     },
     "metadata": {},
     "output_type": "display_data"
    }
   ],
   "source": [
    "sns.barplot(data=df_melted, x='Score', y='Model', hue='Metric',\n",
    "            palette=['#1b9e77', '#d95f02', '#7570b3'])"
   ]
  },
  {
   "cell_type": "code",
   "execution_count": null,
   "metadata": {},
   "outputs": [],
   "source": []
  }
 ],
 "metadata": {
  "kernelspec": {
   "display_name": "erdos_may_2024",
   "language": "python",
   "name": "python3"
  },
  "language_info": {
   "codemirror_mode": {
    "name": "ipython",
    "version": 3
   },
   "file_extension": ".py",
   "mimetype": "text/x-python",
   "name": "python",
   "nbconvert_exporter": "python",
   "pygments_lexer": "ipython3",
   "version": "3.11.9"
  }
 },
 "nbformat": 4,
 "nbformat_minor": 2
}
