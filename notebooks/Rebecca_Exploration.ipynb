{
 "cells": [
  {
   "cell_type": "code",
   "execution_count": 1,
   "metadata": {},
   "outputs": [],
   "source": [
    "import pandas as pd\n",
    "import json"
   ]
  },
  {
   "cell_type": "markdown",
   "metadata": {},
   "source": [
    "# Narrowing down to one subset of diseases"
   ]
  },
  {
   "cell_type": "code",
   "execution_count": 2,
   "metadata": {},
   "outputs": [],
   "source": [
    "DATASET_PATH = '/Users/rebeccaceppas/Desktop/code/mywork/project/dataset/'"
   ]
  },
  {
   "cell_type": "code",
   "execution_count": 4,
   "metadata": {},
   "outputs": [],
   "source": [
    "with open(DATASET_PATH+'release_conditions.json') as f:\n",
    "   pc = json.load(f)\n",
    "f.close()\n",
    "\n",
    "possible_conditions = pd.DataFrame.from_dict(pc)"
   ]
  },
  {
   "cell_type": "code",
   "execution_count": 5,
   "metadata": {},
   "outputs": [],
   "source": [
    "# Immune and Infectious Diseases\n",
    "\n",
    "# Infectious Diseases\n",
    "infectious_diseases = [\n",
    "    'VIH (Primo-infection)',\n",
    "    'Coqueluche',\n",
    "    'Chagas',\n",
    "    'Tuberculose',\n",
    "    'Ebola',\n",
    "    'Possible influenza ou syndrome virémique typique'\n",
    "]\n",
    "\n",
    "# Autoimmune and Inflammatory Conditions\n",
    "autoimmune_and_inflammatory_conditions = [\n",
    "    'Lupus érythémateux disséminé (LED)',\n",
    "    'Sarcoïdose'\n",
    "]\n",
    "\n",
    "# Allergic Reactions and Related Conditions\n",
    "allergic_reactions_and_related_conditions = [\n",
    "    'Anaphylaxie',\n",
    "    'Rhinite allergique',\n",
    "    'Oedème localisé ou généralisé sans atteinte pulmonaire associée'\n",
    "]\n",
    "\n",
    "immune_infectious = infectious_diseases + autoimmune_and_inflammatory_conditions + allergic_reactions_and_related_conditions"
   ]
  },
  {
   "cell_type": "markdown",
   "metadata": {},
   "source": [
    "# Making datasets only including patients with these diseases"
   ]
  },
  {
   "cell_type": "code",
   "execution_count": 13,
   "metadata": {},
   "outputs": [],
   "source": [
    "train = pd.read_csv(DATASET_PATH+'release_train_patients.csv')\n",
    "val = pd.read_csv(DATASET_PATH+'release_validate_patients.csv')\n",
    "test = pd.read_csv(DATASET_PATH+'release_test_patients.csv')"
   ]
  },
  {
   "cell_type": "code",
   "execution_count": 14,
   "metadata": {},
   "outputs": [],
   "source": [
    "train_patients = []\n",
    "val_patients = []\n",
    "test_patients = []\n",
    "\n",
    "for ii in immune_infectious:\n",
    "    train_patients += [ind for ind in train.PATHOLOGY[train.PATHOLOGY == ii].index.values]\n",
    "    val_patients += [ind for ind in val.PATHOLOGY[val.PATHOLOGY == ii].index.values]\n",
    "    test_patients += [ind for ind in test.PATHOLOGY[test.PATHOLOGY == ii].index.values]\n"
   ]
  },
  {
   "cell_type": "code",
   "execution_count": 16,
   "metadata": {},
   "outputs": [],
   "source": [
    "# selecting new samples of patients\n",
    "train_ii = train.iloc[train_patients]\n",
    "valid_ii = val.iloc[val_patients]\n",
    "test_ii = test.iloc[test_patients]"
   ]
  },
  {
   "cell_type": "code",
   "execution_count": 21,
   "metadata": {},
   "outputs": [
    {
     "name": "stdout",
     "output_type": "stream",
     "text": [
      "There are now 203008 patients in the training set.\n",
      "There are now 25399 patients in the validation set.\n",
      "There are now 25689 patients in the testing set.\n"
     ]
    }
   ],
   "source": [
    "print('There are now', len(train_ii), 'patients in the training set.')\n",
    "print('There are now', len(valid_ii), 'patients in the validation set.')\n",
    "print('There are now', len(test_ii), 'patients in the testing set.')"
   ]
  },
  {
   "cell_type": "code",
   "execution_count": 22,
   "metadata": {},
   "outputs": [
    {
     "data": {
      "text/html": [
       "<div>\n",
       "<style scoped>\n",
       "    .dataframe tbody tr th:only-of-type {\n",
       "        vertical-align: middle;\n",
       "    }\n",
       "\n",
       "    .dataframe tbody tr th {\n",
       "        vertical-align: top;\n",
       "    }\n",
       "\n",
       "    .dataframe thead th {\n",
       "        text-align: right;\n",
       "    }\n",
       "</style>\n",
       "<table border=\"1\" class=\"dataframe\">\n",
       "  <thead>\n",
       "    <tr style=\"text-align: right;\">\n",
       "      <th></th>\n",
       "      <th>AGE</th>\n",
       "      <th>DIFFERENTIAL_DIAGNOSIS</th>\n",
       "      <th>SEX</th>\n",
       "      <th>PATHOLOGY</th>\n",
       "      <th>EVIDENCES</th>\n",
       "      <th>INITIAL_EVIDENCE</th>\n",
       "    </tr>\n",
       "  </thead>\n",
       "  <tbody>\n",
       "    <tr>\n",
       "      <th>46</th>\n",
       "      <td>17</td>\n",
       "      <td>[['VIH (Primo-infection)', 0.3903549994602378]...</td>\n",
       "      <td>M</td>\n",
       "      <td>VIH (Primo-infection)</td>\n",
       "      <td>['adp_dlr', 'atcd_its', 'diarrhee', 'douleurxx...</td>\n",
       "      <td>douleurxx</td>\n",
       "    </tr>\n",
       "    <tr>\n",
       "      <th>114</th>\n",
       "      <td>35</td>\n",
       "      <td>[['VIH (Primo-infection)', 0.339660592404885],...</td>\n",
       "      <td>M</td>\n",
       "      <td>VIH (Primo-infection)</td>\n",
       "      <td>['adp_dlr', 'atcd_its', 'diaph', 'diarrhee', '...</td>\n",
       "      <td>fatig_ext</td>\n",
       "    </tr>\n",
       "    <tr>\n",
       "      <th>122</th>\n",
       "      <td>15</td>\n",
       "      <td>[['VIH (Primo-infection)', 0.3925425839871151]...</td>\n",
       "      <td>F</td>\n",
       "      <td>VIH (Primo-infection)</td>\n",
       "      <td>['adp_dlr', 'atcd_its', 'diaph', 'douleurxx', ...</td>\n",
       "      <td>diaph</td>\n",
       "    </tr>\n",
       "    <tr>\n",
       "      <th>123</th>\n",
       "      <td>4</td>\n",
       "      <td>[['VIH (Primo-infection)', 0.441221802327311],...</td>\n",
       "      <td>F</td>\n",
       "      <td>VIH (Primo-infection)</td>\n",
       "      <td>['adp_dlr', 'diarrhee', 'douleurxx', 'douleurx...</td>\n",
       "      <td>fievre</td>\n",
       "    </tr>\n",
       "    <tr>\n",
       "      <th>154</th>\n",
       "      <td>0</td>\n",
       "      <td>[['VIH (Primo-infection)', 0.43630678617344326...</td>\n",
       "      <td>M</td>\n",
       "      <td>VIH (Primo-infection)</td>\n",
       "      <td>['adp_dlr', 'diaph', 'diarrhee', 'douleurxx', ...</td>\n",
       "      <td>adp_dlr</td>\n",
       "    </tr>\n",
       "  </tbody>\n",
       "</table>\n",
       "</div>"
      ],
      "text/plain": [
       "     AGE                             DIFFERENTIAL_DIAGNOSIS SEX  \\\n",
       "46    17  [['VIH (Primo-infection)', 0.3903549994602378]...   M   \n",
       "114   35  [['VIH (Primo-infection)', 0.339660592404885],...   M   \n",
       "122   15  [['VIH (Primo-infection)', 0.3925425839871151]...   F   \n",
       "123    4  [['VIH (Primo-infection)', 0.441221802327311],...   F   \n",
       "154    0  [['VIH (Primo-infection)', 0.43630678617344326...   M   \n",
       "\n",
       "                 PATHOLOGY                                          EVIDENCES  \\\n",
       "46   VIH (Primo-infection)  ['adp_dlr', 'atcd_its', 'diarrhee', 'douleurxx...   \n",
       "114  VIH (Primo-infection)  ['adp_dlr', 'atcd_its', 'diaph', 'diarrhee', '...   \n",
       "122  VIH (Primo-infection)  ['adp_dlr', 'atcd_its', 'diaph', 'douleurxx', ...   \n",
       "123  VIH (Primo-infection)  ['adp_dlr', 'diarrhee', 'douleurxx', 'douleurx...   \n",
       "154  VIH (Primo-infection)  ['adp_dlr', 'diaph', 'diarrhee', 'douleurxx', ...   \n",
       "\n",
       "    INITIAL_EVIDENCE  \n",
       "46         douleurxx  \n",
       "114        fatig_ext  \n",
       "122            diaph  \n",
       "123           fievre  \n",
       "154          adp_dlr  "
      ]
     },
     "execution_count": 22,
     "metadata": {},
     "output_type": "execute_result"
    }
   ],
   "source": [
    "test_ii.head()"
   ]
  },
  {
   "cell_type": "markdown",
   "metadata": {},
   "source": [
    "# Saving the data as new csv files"
   ]
  },
  {
   "cell_type": "code",
   "execution_count": 24,
   "metadata": {},
   "outputs": [],
   "source": [
    "train_ii.to_csv('../data/subset_train.csv', index=False)\n",
    "valid_ii.to_csv('../data/subset_validation.csv', index=False)\n",
    "test_ii.to_csv('../data/subset_test.csv', index=False)"
   ]
  },
  {
   "cell_type": "code",
   "execution_count": 25,
   "metadata": {},
   "outputs": [],
   "source": [
    "test_test = pd.read_csv('../data/subset_test.csv')"
   ]
  },
  {
   "cell_type": "code",
   "execution_count": 26,
   "metadata": {},
   "outputs": [
    {
     "data": {
      "text/html": [
       "<div>\n",
       "<style scoped>\n",
       "    .dataframe tbody tr th:only-of-type {\n",
       "        vertical-align: middle;\n",
       "    }\n",
       "\n",
       "    .dataframe tbody tr th {\n",
       "        vertical-align: top;\n",
       "    }\n",
       "\n",
       "    .dataframe thead th {\n",
       "        text-align: right;\n",
       "    }\n",
       "</style>\n",
       "<table border=\"1\" class=\"dataframe\">\n",
       "  <thead>\n",
       "    <tr style=\"text-align: right;\">\n",
       "      <th></th>\n",
       "      <th>AGE</th>\n",
       "      <th>DIFFERENTIAL_DIAGNOSIS</th>\n",
       "      <th>SEX</th>\n",
       "      <th>PATHOLOGY</th>\n",
       "      <th>EVIDENCES</th>\n",
       "      <th>INITIAL_EVIDENCE</th>\n",
       "    </tr>\n",
       "  </thead>\n",
       "  <tbody>\n",
       "    <tr>\n",
       "      <th>0</th>\n",
       "      <td>17</td>\n",
       "      <td>[['VIH (Primo-infection)', 0.3903549994602378]...</td>\n",
       "      <td>M</td>\n",
       "      <td>VIH (Primo-infection)</td>\n",
       "      <td>['adp_dlr', 'atcd_its', 'diarrhee', 'douleurxx...</td>\n",
       "      <td>douleurxx</td>\n",
       "    </tr>\n",
       "    <tr>\n",
       "      <th>1</th>\n",
       "      <td>35</td>\n",
       "      <td>[['VIH (Primo-infection)', 0.339660592404885],...</td>\n",
       "      <td>M</td>\n",
       "      <td>VIH (Primo-infection)</td>\n",
       "      <td>['adp_dlr', 'atcd_its', 'diaph', 'diarrhee', '...</td>\n",
       "      <td>fatig_ext</td>\n",
       "    </tr>\n",
       "    <tr>\n",
       "      <th>2</th>\n",
       "      <td>15</td>\n",
       "      <td>[['VIH (Primo-infection)', 0.3925425839871151]...</td>\n",
       "      <td>F</td>\n",
       "      <td>VIH (Primo-infection)</td>\n",
       "      <td>['adp_dlr', 'atcd_its', 'diaph', 'douleurxx', ...</td>\n",
       "      <td>diaph</td>\n",
       "    </tr>\n",
       "    <tr>\n",
       "      <th>3</th>\n",
       "      <td>4</td>\n",
       "      <td>[['VIH (Primo-infection)', 0.441221802327311],...</td>\n",
       "      <td>F</td>\n",
       "      <td>VIH (Primo-infection)</td>\n",
       "      <td>['adp_dlr', 'diarrhee', 'douleurxx', 'douleurx...</td>\n",
       "      <td>fievre</td>\n",
       "    </tr>\n",
       "    <tr>\n",
       "      <th>4</th>\n",
       "      <td>0</td>\n",
       "      <td>[['VIH (Primo-infection)', 0.43630678617344326...</td>\n",
       "      <td>M</td>\n",
       "      <td>VIH (Primo-infection)</td>\n",
       "      <td>['adp_dlr', 'diaph', 'diarrhee', 'douleurxx', ...</td>\n",
       "      <td>adp_dlr</td>\n",
       "    </tr>\n",
       "  </tbody>\n",
       "</table>\n",
       "</div>"
      ],
      "text/plain": [
       "   AGE                             DIFFERENTIAL_DIAGNOSIS SEX  \\\n",
       "0   17  [['VIH (Primo-infection)', 0.3903549994602378]...   M   \n",
       "1   35  [['VIH (Primo-infection)', 0.339660592404885],...   M   \n",
       "2   15  [['VIH (Primo-infection)', 0.3925425839871151]...   F   \n",
       "3    4  [['VIH (Primo-infection)', 0.441221802327311],...   F   \n",
       "4    0  [['VIH (Primo-infection)', 0.43630678617344326...   M   \n",
       "\n",
       "               PATHOLOGY                                          EVIDENCES  \\\n",
       "0  VIH (Primo-infection)  ['adp_dlr', 'atcd_its', 'diarrhee', 'douleurxx...   \n",
       "1  VIH (Primo-infection)  ['adp_dlr', 'atcd_its', 'diaph', 'diarrhee', '...   \n",
       "2  VIH (Primo-infection)  ['adp_dlr', 'atcd_its', 'diaph', 'douleurxx', ...   \n",
       "3  VIH (Primo-infection)  ['adp_dlr', 'diarrhee', 'douleurxx', 'douleurx...   \n",
       "4  VIH (Primo-infection)  ['adp_dlr', 'diaph', 'diarrhee', 'douleurxx', ...   \n",
       "\n",
       "  INITIAL_EVIDENCE  \n",
       "0        douleurxx  \n",
       "1        fatig_ext  \n",
       "2            diaph  \n",
       "3           fievre  \n",
       "4          adp_dlr  "
      ]
     },
     "execution_count": 26,
     "metadata": {},
     "output_type": "execute_result"
    }
   ],
   "source": [
    "test_test.head()"
   ]
  },
  {
   "cell_type": "code",
   "execution_count": null,
   "metadata": {},
   "outputs": [],
   "source": []
  }
 ],
 "metadata": {
  "kernelspec": {
   "display_name": "erdos_may_2024",
   "language": "python",
   "name": "python3"
  },
  "language_info": {
   "codemirror_mode": {
    "name": "ipython",
    "version": 3
   },
   "file_extension": ".py",
   "mimetype": "text/x-python",
   "name": "python",
   "nbconvert_exporter": "python",
   "pygments_lexer": "ipython3",
   "version": "3.11.9"
  }
 },
 "nbformat": 4,
 "nbformat_minor": 2
}
