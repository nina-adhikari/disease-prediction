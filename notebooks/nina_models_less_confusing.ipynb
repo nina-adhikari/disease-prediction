{
  "nbformat": 4,
  "nbformat_minor": 0,
  "metadata": {
    "colab": {
      "provenance": [],
      "toc_visible": true,
      "authorship_tag": "ABX9TyONCb2kEAOn0inpg5UEiWuA"
    },
    "kernelspec": {
      "name": "python3",
      "display_name": "Python 3"
    },
    "language_info": {
      "name": "python"
    }
  },
  "cells": [
    {
      "cell_type": "markdown",
      "source": [
        "## Loading the data"
      ],
      "metadata": {
        "id": "LQo7aUfr6H2v"
      }
    },
    {
      "cell_type": "code",
      "source": [
        "from google.colab import drive\n",
        "drive.mount('/content/drive/', force_remount=True)"
      ],
      "metadata": {
        "colab": {
          "base_uri": "https://localhost:8080/"
        },
        "id": "_xvYosmXFelQ",
        "outputId": "0f508e45-a5d0-4569-c754-ce0b17fb68be"
      },
      "execution_count": null,
      "outputs": [
        {
          "output_type": "stream",
          "name": "stdout",
          "text": [
            "Mounted at /content/drive/\n"
          ]
        }
      ]
    },
    {
      "cell_type": "code",
      "source": [
        "DRIVE = '/content/drive/MyDrive/Disease-Prediction/ddx-dataset/'"
      ],
      "metadata": {
        "id": "m1pmgbIUFxuq"
      },
      "execution_count": null,
      "outputs": []
    },
    {
      "cell_type": "code",
      "execution_count": null,
      "metadata": {
        "colab": {
          "base_uri": "https://localhost:8080/"
        },
        "collapsed": true,
        "id": "Jr_SpSIRy-1i",
        "outputId": "baaf7225-bc34-479c-dd98-2bc2597c9c7d"
      },
      "outputs": [
        {
          "output_type": "stream",
          "name": "stdout",
          "text": [
            "Collecting git+https://github.com/nina-adhikari/disease_prediction\n",
            "  Cloning https://github.com/nina-adhikari/disease_prediction to /tmp/pip-req-build-ao6bydit\n",
            "  Running command git clone --filter=blob:none --quiet https://github.com/nina-adhikari/disease_prediction /tmp/pip-req-build-ao6bydit\n",
            "  Resolved https://github.com/nina-adhikari/disease_prediction to commit 7417f17bdfd1ea4710ef331f1259762809f62140\n",
            "  Preparing metadata (setup.py) ... \u001b[?25l\u001b[?25hdone\n",
            "Building wheels for collected packages: disease-prediction\n",
            "  Building wheel for disease-prediction (setup.py) ... \u001b[?25l\u001b[?25hdone\n",
            "  Created wheel for disease-prediction: filename=disease_prediction-0.1-py3-none-any.whl size=4658 sha256=50f634ef1ea8ad95415e1c5b9141d963f369de05a04038186ace9e8190f8880a\n",
            "  Stored in directory: /tmp/pip-ephem-wheel-cache-t29et7f9/wheels/c1/30/69/a4efc8ebfadf754cf631ddaf3e9e848bd514c4db078acf14f5\n",
            "Successfully built disease-prediction\n",
            "Installing collected packages: disease-prediction\n",
            "Successfully installed disease-prediction-0.1\n"
          ]
        }
      ],
      "source": [
        "!pip install git+https://github.com/nina-adhikari/disease_prediction"
      ]
    },
    {
      "cell_type": "code",
      "source": [
        "from disease_prediction.data import datasets as ds"
      ],
      "metadata": {
        "id": "jsf9-7xpzD84"
      },
      "execution_count": null,
      "outputs": []
    },
    {
      "cell_type": "code",
      "source": [
        "SUBSETS = ['train', 'test', 'validate']"
      ],
      "metadata": {
        "id": "RlPY2hxfznGN"
      },
      "execution_count": null,
      "outputs": []
    },
    {
      "cell_type": "code",
      "source": [
        "df = ds.load_datasets(subsets=SUBSETS, directory=DRIVE)"
      ],
      "metadata": {
        "id": "PI5YAFuhihWn"
      },
      "execution_count": null,
      "outputs": []
    },
    {
      "cell_type": "code",
      "source": [
        "df['test']"
      ],
      "metadata": {
        "colab": {
          "base_uri": "https://localhost:8080/",
          "height": 513
        },
        "collapsed": true,
        "id": "dgAhKjmfBTu0",
        "outputId": "c1fd3b67-8122-4f5c-b3c7-24323d9f6a26"
      },
      "execution_count": null,
      "outputs": [
        {
          "output_type": "execute_result",
          "data": {
            "text/plain": [
              "        AGE SEX           PATHOLOGY INITIAL_EVIDENCE  sweating  pain  \\\n",
              "22       10   F           Influenza            cough         0     1   \n",
              "24       79   M           Influenza      sore_throat         1     1   \n",
              "35       20   M           Influenza            fever         0     1   \n",
              "38        3   F     Localized edema             pain         0     1   \n",
              "39       87   M     Localized edema             pain         0     1   \n",
              "...     ...  ..                 ...              ...       ...   ...   \n",
              "134509    9   M     Localized edema    gained_weight         0     0   \n",
              "134520   17   F         Anaphylaxis           nausea         0     0   \n",
              "134521    4   F           Influenza      muscle_pain         0     0   \n",
              "134522   21   M  Allergic sinusitis      eye_itching         0     0   \n",
              "134524   52   M                 SLE             pain         0     0   \n",
              "\n",
              "         pain_char pain_somewhere  pain_intensity pain_radiate  ...  \\\n",
              "22           sharp          belly               3      nowhere  ...   \n",
              "24      exhausting      temple(R)               6      nowhere  ...   \n",
              "35         a cramp          pubis               4      nowhere  ...   \n",
              "38       sensitive      temple(L)               2      nowhere  ...   \n",
              "39           sharp        sole(L)               3      nowhere  ...   \n",
              "...            ...            ...             ...          ...  ...   \n",
              "134509          NA        nowhere               0      nowhere  ...   \n",
              "134520          NA        nowhere               0      nowhere  ...   \n",
              "134521          NA        nowhere               0      nowhere  ...   \n",
              "134522          NA        nowhere               0      nowhere  ...   \n",
              "134524          NA        nowhere               0      nowhere  ...   \n",
              "\n",
              "        ebolacase  bruising  breastfed_9  anorexia  new_fatigue  \\\n",
              "22              0         0            0         0            0   \n",
              "24              0         0            0         0            0   \n",
              "35              0         0            0         0            0   \n",
              "38              0         0            0         0            0   \n",
              "39              0         0            0         0            0   \n",
              "...           ...       ...          ...       ...          ...   \n",
              "134509          0         0            0         0            0   \n",
              "134520          0         0            0         0            0   \n",
              "134521          0         0            0         0            0   \n",
              "134522          0         0            0         0            0   \n",
              "134524          0         0            0         0            0   \n",
              "\n",
              "        vomiting_cough  coughing_fits vaccination cont_pertussis  \\\n",
              "22                   0              0           0              0   \n",
              "24                   0              0           0              0   \n",
              "35                   0              0           0              0   \n",
              "38                   0              0           0              0   \n",
              "39                   0              0           0              0   \n",
              "...                ...            ...         ...            ...   \n",
              "134509               0              0           0              0   \n",
              "134520               0              0           0              0   \n",
              "134521               0              0           0              0   \n",
              "134522               0              0           0              0   \n",
              "134524               0              0           0              0   \n",
              "\n",
              "        wheezing_inhale  \n",
              "22                    0  \n",
              "24                    0  \n",
              "35                    0  \n",
              "38                    0  \n",
              "39                    0  \n",
              "...                 ...  \n",
              "134509                0  \n",
              "134520                0  \n",
              "134521                0  \n",
              "134522                0  \n",
              "134524                0  \n",
              "\n",
              "[25689 rows x 94 columns]"
            ],
            "text/html": [
              "\n",
              "  <div id=\"df-40fca1f8-5fca-422f-bce6-efd7e21f737b\" class=\"colab-df-container\">\n",
              "    <div>\n",
              "<style scoped>\n",
              "    .dataframe tbody tr th:only-of-type {\n",
              "        vertical-align: middle;\n",
              "    }\n",
              "\n",
              "    .dataframe tbody tr th {\n",
              "        vertical-align: top;\n",
              "    }\n",
              "\n",
              "    .dataframe thead th {\n",
              "        text-align: right;\n",
              "    }\n",
              "</style>\n",
              "<table border=\"1\" class=\"dataframe\">\n",
              "  <thead>\n",
              "    <tr style=\"text-align: right;\">\n",
              "      <th></th>\n",
              "      <th>AGE</th>\n",
              "      <th>SEX</th>\n",
              "      <th>PATHOLOGY</th>\n",
              "      <th>INITIAL_EVIDENCE</th>\n",
              "      <th>sweating</th>\n",
              "      <th>pain</th>\n",
              "      <th>pain_char</th>\n",
              "      <th>pain_somewhere</th>\n",
              "      <th>pain_intensity</th>\n",
              "      <th>pain_radiate</th>\n",
              "      <th>...</th>\n",
              "      <th>ebolacase</th>\n",
              "      <th>bruising</th>\n",
              "      <th>breastfed_9</th>\n",
              "      <th>anorexia</th>\n",
              "      <th>new_fatigue</th>\n",
              "      <th>vomiting_cough</th>\n",
              "      <th>coughing_fits</th>\n",
              "      <th>vaccination</th>\n",
              "      <th>cont_pertussis</th>\n",
              "      <th>wheezing_inhale</th>\n",
              "    </tr>\n",
              "  </thead>\n",
              "  <tbody>\n",
              "    <tr>\n",
              "      <th>22</th>\n",
              "      <td>10</td>\n",
              "      <td>F</td>\n",
              "      <td>Influenza</td>\n",
              "      <td>cough</td>\n",
              "      <td>0</td>\n",
              "      <td>1</td>\n",
              "      <td>sharp</td>\n",
              "      <td>belly</td>\n",
              "      <td>3</td>\n",
              "      <td>nowhere</td>\n",
              "      <td>...</td>\n",
              "      <td>0</td>\n",
              "      <td>0</td>\n",
              "      <td>0</td>\n",
              "      <td>0</td>\n",
              "      <td>0</td>\n",
              "      <td>0</td>\n",
              "      <td>0</td>\n",
              "      <td>0</td>\n",
              "      <td>0</td>\n",
              "      <td>0</td>\n",
              "    </tr>\n",
              "    <tr>\n",
              "      <th>24</th>\n",
              "      <td>79</td>\n",
              "      <td>M</td>\n",
              "      <td>Influenza</td>\n",
              "      <td>sore_throat</td>\n",
              "      <td>1</td>\n",
              "      <td>1</td>\n",
              "      <td>exhausting</td>\n",
              "      <td>temple(R)</td>\n",
              "      <td>6</td>\n",
              "      <td>nowhere</td>\n",
              "      <td>...</td>\n",
              "      <td>0</td>\n",
              "      <td>0</td>\n",
              "      <td>0</td>\n",
              "      <td>0</td>\n",
              "      <td>0</td>\n",
              "      <td>0</td>\n",
              "      <td>0</td>\n",
              "      <td>0</td>\n",
              "      <td>0</td>\n",
              "      <td>0</td>\n",
              "    </tr>\n",
              "    <tr>\n",
              "      <th>35</th>\n",
              "      <td>20</td>\n",
              "      <td>M</td>\n",
              "      <td>Influenza</td>\n",
              "      <td>fever</td>\n",
              "      <td>0</td>\n",
              "      <td>1</td>\n",
              "      <td>a cramp</td>\n",
              "      <td>pubis</td>\n",
              "      <td>4</td>\n",
              "      <td>nowhere</td>\n",
              "      <td>...</td>\n",
              "      <td>0</td>\n",
              "      <td>0</td>\n",
              "      <td>0</td>\n",
              "      <td>0</td>\n",
              "      <td>0</td>\n",
              "      <td>0</td>\n",
              "      <td>0</td>\n",
              "      <td>0</td>\n",
              "      <td>0</td>\n",
              "      <td>0</td>\n",
              "    </tr>\n",
              "    <tr>\n",
              "      <th>38</th>\n",
              "      <td>3</td>\n",
              "      <td>F</td>\n",
              "      <td>Localized edema</td>\n",
              "      <td>pain</td>\n",
              "      <td>0</td>\n",
              "      <td>1</td>\n",
              "      <td>sensitive</td>\n",
              "      <td>temple(L)</td>\n",
              "      <td>2</td>\n",
              "      <td>nowhere</td>\n",
              "      <td>...</td>\n",
              "      <td>0</td>\n",
              "      <td>0</td>\n",
              "      <td>0</td>\n",
              "      <td>0</td>\n",
              "      <td>0</td>\n",
              "      <td>0</td>\n",
              "      <td>0</td>\n",
              "      <td>0</td>\n",
              "      <td>0</td>\n",
              "      <td>0</td>\n",
              "    </tr>\n",
              "    <tr>\n",
              "      <th>39</th>\n",
              "      <td>87</td>\n",
              "      <td>M</td>\n",
              "      <td>Localized edema</td>\n",
              "      <td>pain</td>\n",
              "      <td>0</td>\n",
              "      <td>1</td>\n",
              "      <td>sharp</td>\n",
              "      <td>sole(L)</td>\n",
              "      <td>3</td>\n",
              "      <td>nowhere</td>\n",
              "      <td>...</td>\n",
              "      <td>0</td>\n",
              "      <td>0</td>\n",
              "      <td>0</td>\n",
              "      <td>0</td>\n",
              "      <td>0</td>\n",
              "      <td>0</td>\n",
              "      <td>0</td>\n",
              "      <td>0</td>\n",
              "      <td>0</td>\n",
              "      <td>0</td>\n",
              "    </tr>\n",
              "    <tr>\n",
              "      <th>...</th>\n",
              "      <td>...</td>\n",
              "      <td>...</td>\n",
              "      <td>...</td>\n",
              "      <td>...</td>\n",
              "      <td>...</td>\n",
              "      <td>...</td>\n",
              "      <td>...</td>\n",
              "      <td>...</td>\n",
              "      <td>...</td>\n",
              "      <td>...</td>\n",
              "      <td>...</td>\n",
              "      <td>...</td>\n",
              "      <td>...</td>\n",
              "      <td>...</td>\n",
              "      <td>...</td>\n",
              "      <td>...</td>\n",
              "      <td>...</td>\n",
              "      <td>...</td>\n",
              "      <td>...</td>\n",
              "      <td>...</td>\n",
              "      <td>...</td>\n",
              "    </tr>\n",
              "    <tr>\n",
              "      <th>134509</th>\n",
              "      <td>9</td>\n",
              "      <td>M</td>\n",
              "      <td>Localized edema</td>\n",
              "      <td>gained_weight</td>\n",
              "      <td>0</td>\n",
              "      <td>0</td>\n",
              "      <td>NA</td>\n",
              "      <td>nowhere</td>\n",
              "      <td>0</td>\n",
              "      <td>nowhere</td>\n",
              "      <td>...</td>\n",
              "      <td>0</td>\n",
              "      <td>0</td>\n",
              "      <td>0</td>\n",
              "      <td>0</td>\n",
              "      <td>0</td>\n",
              "      <td>0</td>\n",
              "      <td>0</td>\n",
              "      <td>0</td>\n",
              "      <td>0</td>\n",
              "      <td>0</td>\n",
              "    </tr>\n",
              "    <tr>\n",
              "      <th>134520</th>\n",
              "      <td>17</td>\n",
              "      <td>F</td>\n",
              "      <td>Anaphylaxis</td>\n",
              "      <td>nausea</td>\n",
              "      <td>0</td>\n",
              "      <td>0</td>\n",
              "      <td>NA</td>\n",
              "      <td>nowhere</td>\n",
              "      <td>0</td>\n",
              "      <td>nowhere</td>\n",
              "      <td>...</td>\n",
              "      <td>0</td>\n",
              "      <td>0</td>\n",
              "      <td>0</td>\n",
              "      <td>0</td>\n",
              "      <td>0</td>\n",
              "      <td>0</td>\n",
              "      <td>0</td>\n",
              "      <td>0</td>\n",
              "      <td>0</td>\n",
              "      <td>0</td>\n",
              "    </tr>\n",
              "    <tr>\n",
              "      <th>134521</th>\n",
              "      <td>4</td>\n",
              "      <td>F</td>\n",
              "      <td>Influenza</td>\n",
              "      <td>muscle_pain</td>\n",
              "      <td>0</td>\n",
              "      <td>0</td>\n",
              "      <td>NA</td>\n",
              "      <td>nowhere</td>\n",
              "      <td>0</td>\n",
              "      <td>nowhere</td>\n",
              "      <td>...</td>\n",
              "      <td>0</td>\n",
              "      <td>0</td>\n",
              "      <td>0</td>\n",
              "      <td>0</td>\n",
              "      <td>0</td>\n",
              "      <td>0</td>\n",
              "      <td>0</td>\n",
              "      <td>0</td>\n",
              "      <td>0</td>\n",
              "      <td>0</td>\n",
              "    </tr>\n",
              "    <tr>\n",
              "      <th>134522</th>\n",
              "      <td>21</td>\n",
              "      <td>M</td>\n",
              "      <td>Allergic sinusitis</td>\n",
              "      <td>eye_itching</td>\n",
              "      <td>0</td>\n",
              "      <td>0</td>\n",
              "      <td>NA</td>\n",
              "      <td>nowhere</td>\n",
              "      <td>0</td>\n",
              "      <td>nowhere</td>\n",
              "      <td>...</td>\n",
              "      <td>0</td>\n",
              "      <td>0</td>\n",
              "      <td>0</td>\n",
              "      <td>0</td>\n",
              "      <td>0</td>\n",
              "      <td>0</td>\n",
              "      <td>0</td>\n",
              "      <td>0</td>\n",
              "      <td>0</td>\n",
              "      <td>0</td>\n",
              "    </tr>\n",
              "    <tr>\n",
              "      <th>134524</th>\n",
              "      <td>52</td>\n",
              "      <td>M</td>\n",
              "      <td>SLE</td>\n",
              "      <td>pain</td>\n",
              "      <td>0</td>\n",
              "      <td>0</td>\n",
              "      <td>NA</td>\n",
              "      <td>nowhere</td>\n",
              "      <td>0</td>\n",
              "      <td>nowhere</td>\n",
              "      <td>...</td>\n",
              "      <td>0</td>\n",
              "      <td>0</td>\n",
              "      <td>0</td>\n",
              "      <td>0</td>\n",
              "      <td>0</td>\n",
              "      <td>0</td>\n",
              "      <td>0</td>\n",
              "      <td>0</td>\n",
              "      <td>0</td>\n",
              "      <td>0</td>\n",
              "    </tr>\n",
              "  </tbody>\n",
              "</table>\n",
              "<p>25689 rows × 94 columns</p>\n",
              "</div>\n",
              "    <div class=\"colab-df-buttons\">\n",
              "\n",
              "  <div class=\"colab-df-container\">\n",
              "    <button class=\"colab-df-convert\" onclick=\"convertToInteractive('df-40fca1f8-5fca-422f-bce6-efd7e21f737b')\"\n",
              "            title=\"Convert this dataframe to an interactive table.\"\n",
              "            style=\"display:none;\">\n",
              "\n",
              "  <svg xmlns=\"http://www.w3.org/2000/svg\" height=\"24px\" viewBox=\"0 -960 960 960\">\n",
              "    <path d=\"M120-120v-720h720v720H120Zm60-500h600v-160H180v160Zm220 220h160v-160H400v160Zm0 220h160v-160H400v160ZM180-400h160v-160H180v160Zm440 0h160v-160H620v160ZM180-180h160v-160H180v160Zm440 0h160v-160H620v160Z\"/>\n",
              "  </svg>\n",
              "    </button>\n",
              "\n",
              "  <style>\n",
              "    .colab-df-container {\n",
              "      display:flex;\n",
              "      gap: 12px;\n",
              "    }\n",
              "\n",
              "    .colab-df-convert {\n",
              "      background-color: #E8F0FE;\n",
              "      border: none;\n",
              "      border-radius: 50%;\n",
              "      cursor: pointer;\n",
              "      display: none;\n",
              "      fill: #1967D2;\n",
              "      height: 32px;\n",
              "      padding: 0 0 0 0;\n",
              "      width: 32px;\n",
              "    }\n",
              "\n",
              "    .colab-df-convert:hover {\n",
              "      background-color: #E2EBFA;\n",
              "      box-shadow: 0px 1px 2px rgba(60, 64, 67, 0.3), 0px 1px 3px 1px rgba(60, 64, 67, 0.15);\n",
              "      fill: #174EA6;\n",
              "    }\n",
              "\n",
              "    .colab-df-buttons div {\n",
              "      margin-bottom: 4px;\n",
              "    }\n",
              "\n",
              "    [theme=dark] .colab-df-convert {\n",
              "      background-color: #3B4455;\n",
              "      fill: #D2E3FC;\n",
              "    }\n",
              "\n",
              "    [theme=dark] .colab-df-convert:hover {\n",
              "      background-color: #434B5C;\n",
              "      box-shadow: 0px 1px 3px 1px rgba(0, 0, 0, 0.15);\n",
              "      filter: drop-shadow(0px 1px 2px rgba(0, 0, 0, 0.3));\n",
              "      fill: #FFFFFF;\n",
              "    }\n",
              "  </style>\n",
              "\n",
              "    <script>\n",
              "      const buttonEl =\n",
              "        document.querySelector('#df-40fca1f8-5fca-422f-bce6-efd7e21f737b button.colab-df-convert');\n",
              "      buttonEl.style.display =\n",
              "        google.colab.kernel.accessAllowed ? 'block' : 'none';\n",
              "\n",
              "      async function convertToInteractive(key) {\n",
              "        const element = document.querySelector('#df-40fca1f8-5fca-422f-bce6-efd7e21f737b');\n",
              "        const dataTable =\n",
              "          await google.colab.kernel.invokeFunction('convertToInteractive',\n",
              "                                                    [key], {});\n",
              "        if (!dataTable) return;\n",
              "\n",
              "        const docLinkHtml = 'Like what you see? Visit the ' +\n",
              "          '<a target=\"_blank\" href=https://colab.research.google.com/notebooks/data_table.ipynb>data table notebook</a>'\n",
              "          + ' to learn more about interactive tables.';\n",
              "        element.innerHTML = '';\n",
              "        dataTable['output_type'] = 'display_data';\n",
              "        await google.colab.output.renderOutput(dataTable, element);\n",
              "        const docLink = document.createElement('div');\n",
              "        docLink.innerHTML = docLinkHtml;\n",
              "        element.appendChild(docLink);\n",
              "      }\n",
              "    </script>\n",
              "  </div>\n",
              "\n",
              "\n",
              "<div id=\"df-8dd299ae-4576-4331-8667-08ef31153524\">\n",
              "  <button class=\"colab-df-quickchart\" onclick=\"quickchart('df-8dd299ae-4576-4331-8667-08ef31153524')\"\n",
              "            title=\"Suggest charts\"\n",
              "            style=\"display:none;\">\n",
              "\n",
              "<svg xmlns=\"http://www.w3.org/2000/svg\" height=\"24px\"viewBox=\"0 0 24 24\"\n",
              "     width=\"24px\">\n",
              "    <g>\n",
              "        <path d=\"M19 3H5c-1.1 0-2 .9-2 2v14c0 1.1.9 2 2 2h14c1.1 0 2-.9 2-2V5c0-1.1-.9-2-2-2zM9 17H7v-7h2v7zm4 0h-2V7h2v10zm4 0h-2v-4h2v4z\"/>\n",
              "    </g>\n",
              "</svg>\n",
              "  </button>\n",
              "\n",
              "<style>\n",
              "  .colab-df-quickchart {\n",
              "      --bg-color: #E8F0FE;\n",
              "      --fill-color: #1967D2;\n",
              "      --hover-bg-color: #E2EBFA;\n",
              "      --hover-fill-color: #174EA6;\n",
              "      --disabled-fill-color: #AAA;\n",
              "      --disabled-bg-color: #DDD;\n",
              "  }\n",
              "\n",
              "  [theme=dark] .colab-df-quickchart {\n",
              "      --bg-color: #3B4455;\n",
              "      --fill-color: #D2E3FC;\n",
              "      --hover-bg-color: #434B5C;\n",
              "      --hover-fill-color: #FFFFFF;\n",
              "      --disabled-bg-color: #3B4455;\n",
              "      --disabled-fill-color: #666;\n",
              "  }\n",
              "\n",
              "  .colab-df-quickchart {\n",
              "    background-color: var(--bg-color);\n",
              "    border: none;\n",
              "    border-radius: 50%;\n",
              "    cursor: pointer;\n",
              "    display: none;\n",
              "    fill: var(--fill-color);\n",
              "    height: 32px;\n",
              "    padding: 0;\n",
              "    width: 32px;\n",
              "  }\n",
              "\n",
              "  .colab-df-quickchart:hover {\n",
              "    background-color: var(--hover-bg-color);\n",
              "    box-shadow: 0 1px 2px rgba(60, 64, 67, 0.3), 0 1px 3px 1px rgba(60, 64, 67, 0.15);\n",
              "    fill: var(--button-hover-fill-color);\n",
              "  }\n",
              "\n",
              "  .colab-df-quickchart-complete:disabled,\n",
              "  .colab-df-quickchart-complete:disabled:hover {\n",
              "    background-color: var(--disabled-bg-color);\n",
              "    fill: var(--disabled-fill-color);\n",
              "    box-shadow: none;\n",
              "  }\n",
              "\n",
              "  .colab-df-spinner {\n",
              "    border: 2px solid var(--fill-color);\n",
              "    border-color: transparent;\n",
              "    border-bottom-color: var(--fill-color);\n",
              "    animation:\n",
              "      spin 1s steps(1) infinite;\n",
              "  }\n",
              "\n",
              "  @keyframes spin {\n",
              "    0% {\n",
              "      border-color: transparent;\n",
              "      border-bottom-color: var(--fill-color);\n",
              "      border-left-color: var(--fill-color);\n",
              "    }\n",
              "    20% {\n",
              "      border-color: transparent;\n",
              "      border-left-color: var(--fill-color);\n",
              "      border-top-color: var(--fill-color);\n",
              "    }\n",
              "    30% {\n",
              "      border-color: transparent;\n",
              "      border-left-color: var(--fill-color);\n",
              "      border-top-color: var(--fill-color);\n",
              "      border-right-color: var(--fill-color);\n",
              "    }\n",
              "    40% {\n",
              "      border-color: transparent;\n",
              "      border-right-color: var(--fill-color);\n",
              "      border-top-color: var(--fill-color);\n",
              "    }\n",
              "    60% {\n",
              "      border-color: transparent;\n",
              "      border-right-color: var(--fill-color);\n",
              "    }\n",
              "    80% {\n",
              "      border-color: transparent;\n",
              "      border-right-color: var(--fill-color);\n",
              "      border-bottom-color: var(--fill-color);\n",
              "    }\n",
              "    90% {\n",
              "      border-color: transparent;\n",
              "      border-bottom-color: var(--fill-color);\n",
              "    }\n",
              "  }\n",
              "</style>\n",
              "\n",
              "  <script>\n",
              "    async function quickchart(key) {\n",
              "      const quickchartButtonEl =\n",
              "        document.querySelector('#' + key + ' button');\n",
              "      quickchartButtonEl.disabled = true;  // To prevent multiple clicks.\n",
              "      quickchartButtonEl.classList.add('colab-df-spinner');\n",
              "      try {\n",
              "        const charts = await google.colab.kernel.invokeFunction(\n",
              "            'suggestCharts', [key], {});\n",
              "      } catch (error) {\n",
              "        console.error('Error during call to suggestCharts:', error);\n",
              "      }\n",
              "      quickchartButtonEl.classList.remove('colab-df-spinner');\n",
              "      quickchartButtonEl.classList.add('colab-df-quickchart-complete');\n",
              "    }\n",
              "    (() => {\n",
              "      let quickchartButtonEl =\n",
              "        document.querySelector('#df-8dd299ae-4576-4331-8667-08ef31153524 button');\n",
              "      quickchartButtonEl.style.display =\n",
              "        google.colab.kernel.accessAllowed ? 'block' : 'none';\n",
              "    })();\n",
              "  </script>\n",
              "</div>\n",
              "\n",
              "    </div>\n",
              "  </div>\n"
            ],
            "application/vnd.google.colaboratory.intrinsic+json": {
              "type": "dataframe"
            }
          },
          "metadata": {},
          "execution_count": 7
        }
      ]
    },
    {
      "cell_type": "code",
      "source": [
        "d = {'Y': 1, 'N': 0}\n",
        "\n",
        "# drop the columns that have a single value in all three datasets and convert Y/N to 1/0\n",
        "for subset in SUBSETS:\n",
        "    df[subset].drop(columns=['pain_radiate', 'lesions_peeling'], inplace=True)\n",
        "    df[subset]['lesion_larger_than_1cm'] = df[subset]['lesion_larger_than_1cm'].map(d)"
      ],
      "metadata": {
        "id": "BhPr3x2wiJkU"
      },
      "execution_count": null,
      "outputs": []
    },
    {
      "cell_type": "code",
      "source": [
        "STANDARD_ORDER = ['PATHOLOGY', 'INITIAL_EVIDENCE', 'SEX',\n",
        "    'trav1', 'pain_char', 'lesion_color', 'pain_somewhere',\n",
        "    'lesion_location', 'swelling_location',\n",
        "    'AGE', 'swollen_nodes', 'std', 'lesion_larger_than_1cm',\n",
        "    'sweating', 'diarrhea', 'pain',\n",
        "    'pain_intensity', 'pain_precise', 'pain_sudden',\n",
        "    'fever', 'unprotected_sex', 'lesions',\n",
        "    'lesion_pain_swollen', 'lesion_pain_intense', 'itching_severity',\n",
        "    'nausea', 'weight_loss', 'sex_hiv', 'fam_allergies', 'fam_j45',\n",
        "    'j45', 'itchy_nose', 'eye_itching', 'runny_nose', 'urban1',\n",
        "    'severe_allergy', 'contact_allergy', 'short_breath', 'swelling',\n",
        "    'lost_consciousness', 'stridor', 'z84.89', 'HIV',\n",
        "    'cortico', 'IV_drugs', 'e10_e11', 'f10.129', 'cough', 'cough_blood',\n",
        "    'v85.0', 'I30', 'f17.210', 'high_bp', 'ulcers', 'anorexia',\n",
        "    'new_fatigue', 'nsaids', 'i50', 'i80', 'lymph_surg', 'synd_nephro',\n",
        "    'convulsion', 'e66', 'red_eye', 'agri', 'gained_weight', 'k74',\n",
        "    'patho_endo', 'dizziness', 'wheezing_exhale', 'fatigue_ext',\n",
        "    'sore_throat', 'muscle_pain', 'lost_appetite', 'heart_valves', 'sahs',\n",
        "    'cont_pertussis', 'vomiting_cough', 'coughing_fits', 'vaccination',\n",
        "    'chills', 'z92.25', 'ca_blockers', 'vag_discharge', 'wheezing_inhale',\n",
        "    'fatigue', 'menarche_12', 'breastfed_9', 'confusion', 'contact',\n",
        "    'ebolacase', 'bruising']"
      ],
      "metadata": {
        "id": "NX0zsNlpF-mK"
      },
      "execution_count": null,
      "outputs": []
    },
    {
      "cell_type": "code",
      "source": [
        "len(STANDARD_ORDER)"
      ],
      "metadata": {
        "colab": {
          "base_uri": "https://localhost:8080/"
        },
        "id": "Wo7RckJc9uGv",
        "outputId": "a7d62c05-4bed-46b5-ec4d-977dcf4c9c7b"
      },
      "execution_count": null,
      "outputs": [
        {
          "output_type": "execute_result",
          "data": {
            "text/plain": [
              "92"
            ]
          },
          "metadata": {},
          "execution_count": 10
        }
      ]
    },
    {
      "cell_type": "code",
      "source": [
        "list(df['test'].columns)"
      ],
      "metadata": {
        "colab": {
          "base_uri": "https://localhost:8080/"
        },
        "id": "DCF2G4-W9lZq",
        "outputId": "5490118b-3dd5-4b7e-adcf-612aa3a04b57"
      },
      "execution_count": null,
      "outputs": [
        {
          "output_type": "execute_result",
          "data": {
            "text/plain": [
              "['AGE',\n",
              " 'SEX',\n",
              " 'PATHOLOGY',\n",
              " 'INITIAL_EVIDENCE',\n",
              " 'sweating',\n",
              " 'pain',\n",
              " 'pain_char',\n",
              " 'pain_somewhere',\n",
              " 'pain_intensity',\n",
              " 'pain_precise',\n",
              " 'pain_sudden',\n",
              " 'f17.210',\n",
              " 'fatigue_ext',\n",
              " 'fever',\n",
              " 'sore_throat',\n",
              " 'lesions',\n",
              " 'lesion_color',\n",
              " 'lesion_pain_swollen',\n",
              " 'lesion_location',\n",
              " 'lesion_pain_intense',\n",
              " 'lesion_larger_than_1cm',\n",
              " 'itching_severity',\n",
              " 'muscle_pain',\n",
              " 'lost_appetite',\n",
              " 'cough',\n",
              " 'trav1',\n",
              " 'z92.25',\n",
              " 'runny_nose',\n",
              " 'heart_valves',\n",
              " 'cortico',\n",
              " 'gained_weight',\n",
              " 'i50',\n",
              " 'i80',\n",
              " 'k74',\n",
              " 'lymph_surg',\n",
              " 'swelling',\n",
              " 'swelling_location',\n",
              " 'sahs',\n",
              " 'synd_nephro',\n",
              " 'nsaids',\n",
              " 'swollen_nodes',\n",
              " 'std',\n",
              " 'diarrhea',\n",
              " 'unprotected_sex',\n",
              " 'weight_loss',\n",
              " 'sex_hiv',\n",
              " 'convulsion',\n",
              " 'short_breath',\n",
              " 'e66',\n",
              " 'agri',\n",
              " 'itchy_nose',\n",
              " 'eye_itching',\n",
              " 'urban1',\n",
              " 'z84.89',\n",
              " 'HIV',\n",
              " 'cough_blood',\n",
              " 'IV_drugs',\n",
              " 'f10.129',\n",
              " 'ca_blockers',\n",
              " 'I30',\n",
              " 'fatigue',\n",
              " 'high_bp',\n",
              " 'menarche_12',\n",
              " 'ulcers',\n",
              " 'red_eye',\n",
              " 'vag_discharge',\n",
              " 'nausea',\n",
              " 'severe_allergy',\n",
              " 'contact_allergy',\n",
              " 'wheezing_exhale',\n",
              " 'fam_allergies',\n",
              " 'fam_j45',\n",
              " 'j45',\n",
              " 'dizziness',\n",
              " 'lost_consciousness',\n",
              " 'chills',\n",
              " 'e10_e11',\n",
              " 'v85.0',\n",
              " 'stridor',\n",
              " 'patho_endo',\n",
              " 'confusion',\n",
              " 'contact',\n",
              " 'ebolacase',\n",
              " 'bruising',\n",
              " 'breastfed_9',\n",
              " 'anorexia',\n",
              " 'new_fatigue',\n",
              " 'vomiting_cough',\n",
              " 'coughing_fits',\n",
              " 'vaccination',\n",
              " 'cont_pertussis',\n",
              " 'wheezing_inhale']"
            ]
          },
          "metadata": {},
          "execution_count": 11
        }
      ]
    },
    {
      "cell_type": "code",
      "source": [
        "set(df['train'].columns) - set(STANDARD_ORDER)"
      ],
      "metadata": {
        "colab": {
          "base_uri": "https://localhost:8080/"
        },
        "id": "XvmcF53B-HTT",
        "outputId": "84c2a164-49ea-4adf-a648-4cd22b3dd6ad"
      },
      "execution_count": null,
      "outputs": [
        {
          "output_type": "execute_result",
          "data": {
            "text/plain": [
              "set()"
            ]
          },
          "metadata": {},
          "execution_count": 12
        }
      ]
    },
    {
      "cell_type": "code",
      "source": [
        "set(STANDARD_ORDER) - set(df['test'].columns)"
      ],
      "metadata": {
        "colab": {
          "base_uri": "https://localhost:8080/"
        },
        "id": "1yORx0vE99US",
        "outputId": "399f66f2-7030-4f50-9657-3e3821cdf485"
      },
      "execution_count": null,
      "outputs": [
        {
          "output_type": "execute_result",
          "data": {
            "text/plain": [
              "set()"
            ]
          },
          "metadata": {},
          "execution_count": 13
        }
      ]
    },
    {
      "cell_type": "code",
      "source": [
        "textcolumns = [ 'PATHOLOGY', 'INITIAL_EVIDENCE', 'SEX'] + ds.SYMPTOMS_WITH_STR_ENTRIES"
      ],
      "metadata": {
        "id": "MG6iqO_8Honf"
      },
      "execution_count": null,
      "outputs": []
    },
    {
      "cell_type": "code",
      "source": [
        "textcolumns.remove('pain_radiate')\n",
        "textcolumns.remove('lesions_peeling')\n",
        "textcolumns.remove('lesion_larger_than_1cm')"
      ],
      "metadata": {
        "id": "dtRNdj8savjc"
      },
      "execution_count": null,
      "outputs": []
    },
    {
      "cell_type": "markdown",
      "source": [
        "## Models"
      ],
      "metadata": {
        "id": "xEe4dEvxeOvD"
      }
    },
    {
      "cell_type": "code",
      "source": [
        "import numpy as np\n",
        "import pandas as pd\n",
        "import matplotlib.pyplot as plt"
      ],
      "metadata": {
        "id": "yINHRuyciqAp"
      },
      "execution_count": null,
      "outputs": []
    },
    {
      "cell_type": "code",
      "source": [
        "def getXy(dataframe):\n",
        "    temp = dataframe.drop(dataframe.loc[dataframe['PATHOLOGY'] == 'Ebola'].index)\n",
        "    return temp.drop(columns=['PATHOLOGY']), temp['PATHOLOGY'].copy()"
      ],
      "metadata": {
        "id": "xfjOZRinAYz6"
      },
      "execution_count": null,
      "outputs": []
    },
    {
      "cell_type": "code",
      "source": [
        "X_train, y_train = getXy(df['train'])\n",
        "\n",
        "X_validate, y_validate = getXy(df['validate'])"
      ],
      "metadata": {
        "id": "VMF5V5k2SDAb"
      },
      "execution_count": null,
      "outputs": []
    },
    {
      "cell_type": "code",
      "source": [
        "y_validate"
      ],
      "metadata": {
        "colab": {
          "base_uri": "https://localhost:8080/"
        },
        "id": "8lX6j0Z3BTjZ",
        "outputId": "f0ab319c-8ab7-43fd-e3e9-c93716684a5e"
      },
      "execution_count": null,
      "outputs": [
        {
          "output_type": "execute_result",
          "data": {
            "text/plain": [
              "2                  Influenza\n",
              "6         Allergic sinusitis\n",
              "12                       SLE\n",
              "15                 Influenza\n",
              "19                 Influenza\n",
              "                 ...        \n",
              "132421          Tuberculosis\n",
              "132423             Influenza\n",
              "132425             Influenza\n",
              "132433           Sarcoidosis\n",
              "132441             Influenza\n",
              "Name: PATHOLOGY, Length: 25309, dtype: object"
            ]
          },
          "metadata": {},
          "execution_count": 19
        }
      ]
    },
    {
      "cell_type": "markdown",
      "source": [
        "### Preprocessing and Utilities"
      ],
      "metadata": {
        "id": "yP-oS-9Stk2t"
      }
    },
    {
      "cell_type": "code",
      "source": [
        "categories = [\n",
        "    [\n",
        "        'eye_itching', 'fever', 'chills', 'lesions', 'new_fatigue', 'diarrhea', 'cough', 'fatigue_ext', 'bruising', 'dizziness', 'runny_nose', 'coughing_fits', 'convulsion', 'confusion', 'pain', 'weight_loss', 'wheezing_exhale', 'lost_consciousness', 'red_eye', 'fatigue', 'ulcers', 'nausea', 'cough_blood', 'short_breath', 'sore_throat', 'sweating', 'muscle_pain', 'vag_discharge', 'contact_allergy', 'swelling', 'vomiting_cough', 'anorexia', 'lost_appetite', 'wheezing_inhale', 'swollen_nodes', 'stridor', 'gained_weight', 'itchy_nose'\n",
        "    ],\n",
        "    ['M', 'F'],\n",
        "    [\n",
        "        'Europe', 'South America', 'South Africa', 'Central America', 'West Africa', 'North America', 'Asia', 'N'\n",
        "    ],\n",
        "    ['sensitive', 'burning', 'sharp', 'a pulse', 'a knife stroke', 'NA', 'a cramp', 'heavy', 'tugging', 'exhausting', 'tedious'],\n",
        "    ['pink', 'red', 'pale', 'NA'],\n",
        "    [\n",
        "        'temple(R)', 'side of the neck(R)', 'shoulder(R)', 'knee(R)', 'iliac fossa(L)', 'cervical spine', 'side of the neck(L)', 'occiput', 'toe (3)(R)', 'dorsal aspect of the foot(L)', 'dorsal aspect of the foot(R)', 'hip(R)', 'sole(L)', 'finger (index)(L)', 'calf(R)', 'thigh(R)', 'flank(L)', 'finger (middle)(R)', 'toe (1)(R)', 'toe (1)(L)', 'top of the head', 'dorsal aspect of the wrist(L)', 'pharynx', 'nowhere', 'hypochondrium(R)', 'palmar face of the wrist(R)', 'shoulder(L)', 'palmar face of the wrist(L)', 'thumb(R)', 'toe (2)(L)', 'toe (3)(L)', 'thigh(L)', 'knee(L)', 'little toe (4)(R)', 'forehead', 'hypochondrium(L)', 'temple(L)', 'pubis', 'toe (2)(R)', 'back of the neck', 'iliac fossa(R)', 'hip(L)', 'dorsal aspect of the wrist(R)', 'calf(L)', 'belly', 'finger (index)(R)', 'epigastric', 'sole(R)', 'flank(R)', 'back of head', 'finger (middle)(L)'\n",
        "    ],\n",
        "    [\n",
        "        'nose', 'side of the neck(R)', 'palace', 'shoulder(R)', 'thyroid cartilage', 'cervical spine', 'side of the neck(L)', 'labia minora(L)', 'internal cheek(R)', 'thigh(R)', 'nowhere', 'internal cheek(L)', 'ankle(R)', 'shoulder(L)', 'penis', 'vagina', 'lumbar spine', 'ankle(L)', 'labia minora(R)', 'thigh(L)', 'under the tongue', 'forehead', 'upper lip(R)', 'cheek(R)', 'bottom lip(R)', 'back of the neck', 'scrotum', 'cheek(L)', 'epigastric', 'thoracic spine'\n",
        "    ],\n",
        "    [\n",
        "        'nose', 'toe (1)(R)', 'toe (1)(L)', 'thigh(L)', 'calf(L)', 'cheek(L)', 'sole(R)', 'nowhere', 'dorsal aspect of the foot(L)', 'dorsal aspect of the foot(R)', 'sole(L)', 'forehead', 'calf(R)', 'thigh(R)', 'cheek(R)'\n",
        "    ]\n",
        "\n",
        "]"
      ],
      "metadata": {
        "id": "TcdEKPYZcWMW"
      },
      "execution_count": null,
      "outputs": []
    },
    {
      "cell_type": "code",
      "source": [
        "from sklearn.preprocessing import StandardScaler\n",
        "from sklearn.preprocessing import OneHotEncoder\n",
        "from sklearn.compose import ColumnTransformer\n",
        "from sklearn.pipeline import make_pipeline\n",
        "from sklearn.metrics import precision_recall_fscore_support as prfs\n",
        "from sklearn.metrics import recall_score\n",
        "from sklearn.metrics import make_scorer\n",
        "from sklearn.pipeline import Pipeline\n",
        "from sklearn.metrics import classification_report as cr\n",
        "from sklearn.feature_selection import SelectFromModel\n",
        "\n",
        "\n",
        "SEED = 42\n",
        "BETA = 2\n",
        "\n",
        "categorical_features = textcolumns.copy()\n",
        "numerical_features = [column for column in STANDARD_ORDER if column not in categorical_features]\n",
        "categorical_features.remove('PATHOLOGY')\n"
      ],
      "metadata": {
        "id": "UDy_BImaR6v3"
      },
      "execution_count": null,
      "outputs": []
    },
    {
      "cell_type": "code",
      "source": [
        "df['test'][numerical_features].iloc[22].values"
      ],
      "metadata": {
        "colab": {
          "base_uri": "https://localhost:8080/"
        },
        "id": "OpZvjPI08fmN",
        "outputId": "34236ff4-a8e0-4c1a-ea40-7d32781d974d"
      },
      "execution_count": null,
      "outputs": [
        {
          "output_type": "execute_result",
          "data": {
            "text/plain": [
              "array([25,  1,  0,  0,  0,  0,  1,  5,  7,  2,  0,  0,  0,  0,  0,  0,  0,\n",
              "        0,  0,  0,  0,  0,  0,  0,  0,  0,  0,  0,  0,  0,  0,  0,  0,  0,\n",
              "        0,  0,  0,  0,  0,  0,  0,  0,  0,  0,  0,  0,  0,  0,  0,  0,  0,\n",
              "        0,  0,  0,  0,  1,  0,  0,  0,  0,  0,  0,  0,  0,  0,  0,  0,  0,\n",
              "        0,  0,  0,  0,  0,  0,  0,  0,  0,  0,  0,  0,  0,  0,  0])"
            ]
          },
          "metadata": {},
          "execution_count": 22
        }
      ]
    },
    {
      "cell_type": "code",
      "source": [
        "def custom_pipeline(classifier):\n",
        "    features_preprocessor = ColumnTransformer(\n",
        "        transformers=[\n",
        "            ('num', StandardScaler(), numerical_features),\n",
        "            ('cat', OneHotEncoder(categories=categories), categorical_features)\n",
        "        ],\n",
        "        remainder='passthrough'\n",
        "    )\n",
        "    if classifier == None:\n",
        "        return make_pipeline(features_preprocessor)\n",
        "    return make_pipeline(features_preprocessor, classifier)"
      ],
      "metadata": {
        "id": "JwCfT1gXMUq_"
      },
      "execution_count": null,
      "outputs": []
    },
    {
      "cell_type": "code",
      "source": [
        "def score(model, X, y):\n",
        "    y_pred = model.predict(X)\n",
        "    #return prfs(y, y_pred, beta=BETA)\n",
        "    classes = model.classes_\n",
        "    scores = recall_score(y, y_pred, labels=classes, average=None)\n",
        "    ret = {}\n",
        "    for i in range(len(classes)):\n",
        "        ret[classes[i]] = scores[i]\n",
        "    return pd.DataFrame(ret, index=['recall']).transpose()"
      ],
      "metadata": {
        "id": "UAERFkSuRTf0"
      },
      "execution_count": null,
      "outputs": []
    },
    {
      "cell_type": "code",
      "source": [
        "def print_score(model):\n",
        "    print(cr(y_validate, model.predict(X_validate)))"
      ],
      "metadata": {
        "id": "xbxFIyCYkQuf"
      },
      "execution_count": null,
      "outputs": []
    },
    {
      "cell_type": "code",
      "source": [
        "from PIL import Image, ImageDraw, ImageFont\n",
        "\n",
        "def export_image(text, filename):\n",
        "    W, H = (900,450)\n",
        "    im = Image.new(\"RGBA\",(W,H),\"white\")\n",
        "\n",
        "    draw = ImageDraw.Draw(im)\n",
        "\n",
        "    font = ImageFont.truetype(font=DRIVE + 'FreeMono.ttf', size=20)\n",
        "    draw.text(xy=(50,50), text=text, fill='black', font=font)\n",
        "\n",
        "    # Save Image\n",
        "    im.save(filename, \"PNG\")"
      ],
      "metadata": {
        "id": "InJZzQDxpw_2"
      },
      "execution_count": null,
      "outputs": []
    },
    {
      "cell_type": "code",
      "source": [
        "def fit_and_score(classifier):\n",
        "    model = custom_pipeline(classifier)\n",
        "    model.fit(X_train, y_train)\n",
        "    text = str(classifier) + '\\n\\n' + cr(y_validate, model.predict(X_validate))\n",
        "    print(text)\n",
        "    export_image(text, str(classifier) + '.png')\n",
        "    return model"
      ],
      "metadata": {
        "id": "Bc2yWB1NvCxB"
      },
      "execution_count": null,
      "outputs": []
    },
    {
      "cell_type": "markdown",
      "source": [
        "### Logistic Regression"
      ],
      "metadata": {
        "id": "UQyvVGGfFCNf"
      }
    },
    {
      "cell_type": "code",
      "source": [
        "from sklearn.linear_model import LogisticRegression\n",
        "\n",
        "solver = 'saga'\n",
        "max_iter = 10\n",
        "\n",
        "lr = LogisticRegression(max_iter=max_iter, solver=solver)\n",
        "\n",
        "fit_and_score(lr)"
      ],
      "metadata": {
        "colab": {
          "base_uri": "https://localhost:8080/"
        },
        "id": "ssGcCDdut8RZ",
        "outputId": "6f6ae3cd-09e6-4077-ddb7-58d162ad2170"
      },
      "execution_count": null,
      "outputs": [
        {
          "output_type": "stream",
          "name": "stderr",
          "text": [
            "/usr/local/lib/python3.10/dist-packages/sklearn/linear_model/_sag.py:350: ConvergenceWarning: The max_iter was reached which means the coef_ did not converge\n",
            "  warnings.warn(\n"
          ]
        },
        {
          "output_type": "stream",
          "name": "stdout",
          "text": [
            "LogisticRegression(max_iter=10, solver='saga')\n",
            "\n",
            "                         precision    recall  f1-score   support\n",
            "\n",
            "     Allergic sinusitis       0.77      0.90      0.83      2136\n",
            "            Anaphylaxis       0.91      0.41      0.57      3754\n",
            "                 Chagas       1.00      0.22      0.37      1124\n",
            "HIV (initial infection)       0.40      0.58      0.47      3852\n",
            "              Influenza       0.66      0.34      0.45      3590\n",
            "        Localized edema       0.52      1.00      0.68      3694\n",
            "                    SLE       0.95      0.32      0.48      1579\n",
            "            Sarcoidosis       0.60      0.71      0.65      3028\n",
            "           Tuberculosis       0.60      0.48      0.53      2007\n",
            "         Whooping cough       1.00      1.00      1.00       545\n",
            "\n",
            "               accuracy                           0.59     25309\n",
            "              macro avg       0.74      0.60      0.60     25309\n",
            "           weighted avg       0.67      0.59      0.58     25309\n",
            "\n"
          ]
        }
      ]
    },
    {
      "cell_type": "markdown",
      "source": [
        "### Stochastic Gradient Descent Classifier"
      ],
      "metadata": {
        "id": "tF0vVvAoE-1G"
      }
    },
    {
      "cell_type": "code",
      "source": [
        "from sklearn.linear_model import SGDClassifier\n",
        "\n",
        "loss = 'log_loss'\n",
        "penalty = 'l1'\n",
        "alpha = 0.01\n",
        "\n",
        "sgd = SGDClassifier(\n",
        "    #loss=loss,\n",
        "    penalty=penalty,\n",
        "    #alpha=alpha,\n",
        "    random_state = SEED,\n",
        "    shuffle=True\n",
        "    )\n",
        "\n",
        "fit_and_score(sgd)"
      ],
      "metadata": {
        "id": "rqesnUYFoHWd",
        "colab": {
          "base_uri": "https://localhost:8080/"
        },
        "outputId": "12c86b58-02ad-4e44-83ef-acf6f3c1415e"
      },
      "execution_count": null,
      "outputs": [
        {
          "output_type": "stream",
          "name": "stdout",
          "text": [
            "SGDClassifier(penalty='l1', random_state=42)\n",
            "\n",
            "                         precision    recall  f1-score   support\n",
            "\n",
            "     Allergic sinusitis       0.77      0.90      0.83      2136\n",
            "            Anaphylaxis       0.90      0.42      0.58      3754\n",
            "                 Chagas       0.82      0.23      0.36      1124\n",
            "HIV (initial infection)       0.40      0.38      0.39      3852\n",
            "              Influenza       0.42      0.51      0.46      3590\n",
            "        Localized edema       0.53      0.96      0.68      3694\n",
            "                    SLE       0.40      0.48      0.44      1579\n",
            "            Sarcoidosis       0.74      0.57      0.65      3028\n",
            "           Tuberculosis       0.65      0.41      0.50      2007\n",
            "         Whooping cough       1.00      1.00      1.00       545\n",
            "\n",
            "               accuracy                           0.57     25309\n",
            "              macro avg       0.66      0.59      0.59     25309\n",
            "           weighted avg       0.62      0.57      0.56     25309\n",
            "\n"
          ]
        }
      ]
    },
    {
      "cell_type": "markdown",
      "source": [
        "### K Nearest Neighbors"
      ],
      "metadata": {
        "id": "1frchtfZE7oM"
      }
    },
    {
      "cell_type": "code",
      "source": [
        "from sklearn.neighbors import KNeighborsClassifier\n",
        "\n",
        "neighbors = 5\n",
        "\n",
        "knn = KNeighborsClassifier(\n",
        "    n_neighbors = neighbors\n",
        "    )\n",
        "fit_and_score(knn)"
      ],
      "metadata": {
        "colab": {
          "base_uri": "https://localhost:8080/",
          "height": 522
        },
        "id": "HI7vWXDatPvM",
        "outputId": "c88d205f-cbd5-4a82-827d-039aa3c8af4d"
      },
      "execution_count": null,
      "outputs": [
        {
          "output_type": "stream",
          "name": "stdout",
          "text": [
            "KNeighborsClassifier()\n",
            "\n",
            "                         precision    recall  f1-score   support\n",
            "\n",
            "     Allergic sinusitis       0.44      0.81      0.57      2136\n",
            "            Anaphylaxis       0.46      0.50      0.48      3754\n",
            "                 Chagas       0.37      0.24      0.29      1124\n",
            "HIV (initial infection)       0.32      0.33      0.33      3852\n",
            "              Influenza       0.42      0.32      0.36      3590\n",
            "        Localized edema       0.55      0.64      0.59      3694\n",
            "                    SLE       0.50      0.31      0.38      1579\n",
            "            Sarcoidosis       0.56      0.49      0.53      3028\n",
            "           Tuberculosis       0.50      0.35      0.42      2007\n",
            "         Whooping cough       0.89      0.80      0.84       545\n",
            "\n",
            "               accuracy                           0.47     25309\n",
            "              macro avg       0.50      0.48      0.48     25309\n",
            "           weighted avg       0.47      0.47      0.46     25309\n",
            "\n"
          ]
        },
        {
          "output_type": "execute_result",
          "data": {
            "text/plain": [
              "Pipeline(steps=[('columntransformer',\n",
              "                 ColumnTransformer(remainder='passthrough',\n",
              "                                   transformers=[('num', StandardScaler(),\n",
              "                                                  ['AGE', 'swollen_nodes',\n",
              "                                                   'std',\n",
              "                                                   'lesion_larger_than_1cm',\n",
              "                                                   'sweating', 'diarrhea',\n",
              "                                                   'pain', 'pain_intensity',\n",
              "                                                   'pain_precise',\n",
              "                                                   'pain_sudden', 'fever',\n",
              "                                                   'unprotected_sex', 'lesions',\n",
              "                                                   'lesion_pain_swollen',\n",
              "                                                   'lesion_pain_intense',\n",
              "                                                   'itching_severity', 'naus...\n",
              "                                                                             '(1)(L)',\n",
              "                                                                             'thigh(L)',\n",
              "                                                                             'calf(L)',\n",
              "                                                                             'cheek(L)',\n",
              "                                                                             'sole(R)',\n",
              "                                                                             'nowhere',\n",
              "                                                                             'dorsal '\n",
              "                                                                             'aspect '\n",
              "                                                                             'of '\n",
              "                                                                             'the '\n",
              "                                                                             'foot(L)',\n",
              "                                                                             'dorsal '\n",
              "                                                                             'aspect '\n",
              "                                                                             'of '\n",
              "                                                                             'the '\n",
              "                                                                             'foot(R)',\n",
              "                                                                             'sole(L)',\n",
              "                                                                             'forehead',\n",
              "                                                                             'calf(R)',\n",
              "                                                                             'thigh(R)',\n",
              "                                                                             'cheek(R)']]),\n",
              "                                                  ['INITIAL_EVIDENCE', 'SEX',\n",
              "                                                   'trav1', 'pain_char',\n",
              "                                                   'lesion_color',\n",
              "                                                   'pain_somewhere',\n",
              "                                                   'lesion_location',\n",
              "                                                   'swelling_location'])])),\n",
              "                ('kneighborsclassifier', KNeighborsClassifier())])"
            ],
            "text/html": [
              "<style>#sk-container-id-5 {color: black;background-color: white;}#sk-container-id-5 pre{padding: 0;}#sk-container-id-5 div.sk-toggleable {background-color: white;}#sk-container-id-5 label.sk-toggleable__label {cursor: pointer;display: block;width: 100%;margin-bottom: 0;padding: 0.3em;box-sizing: border-box;text-align: center;}#sk-container-id-5 label.sk-toggleable__label-arrow:before {content: \"▸\";float: left;margin-right: 0.25em;color: #696969;}#sk-container-id-5 label.sk-toggleable__label-arrow:hover:before {color: black;}#sk-container-id-5 div.sk-estimator:hover label.sk-toggleable__label-arrow:before {color: black;}#sk-container-id-5 div.sk-toggleable__content {max-height: 0;max-width: 0;overflow: hidden;text-align: left;background-color: #f0f8ff;}#sk-container-id-5 div.sk-toggleable__content pre {margin: 0.2em;color: black;border-radius: 0.25em;background-color: #f0f8ff;}#sk-container-id-5 input.sk-toggleable__control:checked~div.sk-toggleable__content {max-height: 200px;max-width: 100%;overflow: auto;}#sk-container-id-5 input.sk-toggleable__control:checked~label.sk-toggleable__label-arrow:before {content: \"▾\";}#sk-container-id-5 div.sk-estimator input.sk-toggleable__control:checked~label.sk-toggleable__label {background-color: #d4ebff;}#sk-container-id-5 div.sk-label input.sk-toggleable__control:checked~label.sk-toggleable__label {background-color: #d4ebff;}#sk-container-id-5 input.sk-hidden--visually {border: 0;clip: rect(1px 1px 1px 1px);clip: rect(1px, 1px, 1px, 1px);height: 1px;margin: -1px;overflow: hidden;padding: 0;position: absolute;width: 1px;}#sk-container-id-5 div.sk-estimator {font-family: monospace;background-color: #f0f8ff;border: 1px dotted black;border-radius: 0.25em;box-sizing: border-box;margin-bottom: 0.5em;}#sk-container-id-5 div.sk-estimator:hover {background-color: #d4ebff;}#sk-container-id-5 div.sk-parallel-item::after {content: \"\";width: 100%;border-bottom: 1px solid gray;flex-grow: 1;}#sk-container-id-5 div.sk-label:hover label.sk-toggleable__label {background-color: #d4ebff;}#sk-container-id-5 div.sk-serial::before {content: \"\";position: absolute;border-left: 1px solid gray;box-sizing: border-box;top: 0;bottom: 0;left: 50%;z-index: 0;}#sk-container-id-5 div.sk-serial {display: flex;flex-direction: column;align-items: center;background-color: white;padding-right: 0.2em;padding-left: 0.2em;position: relative;}#sk-container-id-5 div.sk-item {position: relative;z-index: 1;}#sk-container-id-5 div.sk-parallel {display: flex;align-items: stretch;justify-content: center;background-color: white;position: relative;}#sk-container-id-5 div.sk-item::before, #sk-container-id-5 div.sk-parallel-item::before {content: \"\";position: absolute;border-left: 1px solid gray;box-sizing: border-box;top: 0;bottom: 0;left: 50%;z-index: -1;}#sk-container-id-5 div.sk-parallel-item {display: flex;flex-direction: column;z-index: 1;position: relative;background-color: white;}#sk-container-id-5 div.sk-parallel-item:first-child::after {align-self: flex-end;width: 50%;}#sk-container-id-5 div.sk-parallel-item:last-child::after {align-self: flex-start;width: 50%;}#sk-container-id-5 div.sk-parallel-item:only-child::after {width: 0;}#sk-container-id-5 div.sk-dashed-wrapped {border: 1px dashed gray;margin: 0 0.4em 0.5em 0.4em;box-sizing: border-box;padding-bottom: 0.4em;background-color: white;}#sk-container-id-5 div.sk-label label {font-family: monospace;font-weight: bold;display: inline-block;line-height: 1.2em;}#sk-container-id-5 div.sk-label-container {text-align: center;}#sk-container-id-5 div.sk-container {/* jupyter's `normalize.less` sets `[hidden] { display: none; }` but bootstrap.min.css set `[hidden] { display: none !important; }` so we also need the `!important` here to be able to override the default hidden behavior on the sphinx rendered scikit-learn.org. See: https://github.com/scikit-learn/scikit-learn/issues/21755 */display: inline-block !important;position: relative;}#sk-container-id-5 div.sk-text-repr-fallback {display: none;}</style><div id=\"sk-container-id-5\" class=\"sk-top-container\"><div class=\"sk-text-repr-fallback\"><pre>Pipeline(steps=[(&#x27;columntransformer&#x27;,\n",
              "                 ColumnTransformer(remainder=&#x27;passthrough&#x27;,\n",
              "                                   transformers=[(&#x27;num&#x27;, StandardScaler(),\n",
              "                                                  [&#x27;AGE&#x27;, &#x27;swollen_nodes&#x27;,\n",
              "                                                   &#x27;std&#x27;,\n",
              "                                                   &#x27;lesion_larger_than_1cm&#x27;,\n",
              "                                                   &#x27;sweating&#x27;, &#x27;diarrhea&#x27;,\n",
              "                                                   &#x27;pain&#x27;, &#x27;pain_intensity&#x27;,\n",
              "                                                   &#x27;pain_precise&#x27;,\n",
              "                                                   &#x27;pain_sudden&#x27;, &#x27;fever&#x27;,\n",
              "                                                   &#x27;unprotected_sex&#x27;, &#x27;lesions&#x27;,\n",
              "                                                   &#x27;lesion_pain_swollen&#x27;,\n",
              "                                                   &#x27;lesion_pain_intense&#x27;,\n",
              "                                                   &#x27;itching_severity&#x27;, &#x27;naus...\n",
              "                                                                             &#x27;(1)(L)&#x27;,\n",
              "                                                                             &#x27;thigh(L)&#x27;,\n",
              "                                                                             &#x27;calf(L)&#x27;,\n",
              "                                                                             &#x27;cheek(L)&#x27;,\n",
              "                                                                             &#x27;sole(R)&#x27;,\n",
              "                                                                             &#x27;nowhere&#x27;,\n",
              "                                                                             &#x27;dorsal &#x27;\n",
              "                                                                             &#x27;aspect &#x27;\n",
              "                                                                             &#x27;of &#x27;\n",
              "                                                                             &#x27;the &#x27;\n",
              "                                                                             &#x27;foot(L)&#x27;,\n",
              "                                                                             &#x27;dorsal &#x27;\n",
              "                                                                             &#x27;aspect &#x27;\n",
              "                                                                             &#x27;of &#x27;\n",
              "                                                                             &#x27;the &#x27;\n",
              "                                                                             &#x27;foot(R)&#x27;,\n",
              "                                                                             &#x27;sole(L)&#x27;,\n",
              "                                                                             &#x27;forehead&#x27;,\n",
              "                                                                             &#x27;calf(R)&#x27;,\n",
              "                                                                             &#x27;thigh(R)&#x27;,\n",
              "                                                                             &#x27;cheek(R)&#x27;]]),\n",
              "                                                  [&#x27;INITIAL_EVIDENCE&#x27;, &#x27;SEX&#x27;,\n",
              "                                                   &#x27;trav1&#x27;, &#x27;pain_char&#x27;,\n",
              "                                                   &#x27;lesion_color&#x27;,\n",
              "                                                   &#x27;pain_somewhere&#x27;,\n",
              "                                                   &#x27;lesion_location&#x27;,\n",
              "                                                   &#x27;swelling_location&#x27;])])),\n",
              "                (&#x27;kneighborsclassifier&#x27;, KNeighborsClassifier())])</pre><b>In a Jupyter environment, please rerun this cell to show the HTML representation or trust the notebook. <br />On GitHub, the HTML representation is unable to render, please try loading this page with nbviewer.org.</b></div><div class=\"sk-container\" hidden><div class=\"sk-item sk-dashed-wrapped\"><div class=\"sk-label-container\"><div class=\"sk-label sk-toggleable\"><input class=\"sk-toggleable__control sk-hidden--visually\" id=\"sk-estimator-id-19\" type=\"checkbox\" ><label for=\"sk-estimator-id-19\" class=\"sk-toggleable__label sk-toggleable__label-arrow\">Pipeline</label><div class=\"sk-toggleable__content\"><pre>Pipeline(steps=[(&#x27;columntransformer&#x27;,\n",
              "                 ColumnTransformer(remainder=&#x27;passthrough&#x27;,\n",
              "                                   transformers=[(&#x27;num&#x27;, StandardScaler(),\n",
              "                                                  [&#x27;AGE&#x27;, &#x27;swollen_nodes&#x27;,\n",
              "                                                   &#x27;std&#x27;,\n",
              "                                                   &#x27;lesion_larger_than_1cm&#x27;,\n",
              "                                                   &#x27;sweating&#x27;, &#x27;diarrhea&#x27;,\n",
              "                                                   &#x27;pain&#x27;, &#x27;pain_intensity&#x27;,\n",
              "                                                   &#x27;pain_precise&#x27;,\n",
              "                                                   &#x27;pain_sudden&#x27;, &#x27;fever&#x27;,\n",
              "                                                   &#x27;unprotected_sex&#x27;, &#x27;lesions&#x27;,\n",
              "                                                   &#x27;lesion_pain_swollen&#x27;,\n",
              "                                                   &#x27;lesion_pain_intense&#x27;,\n",
              "                                                   &#x27;itching_severity&#x27;, &#x27;naus...\n",
              "                                                                             &#x27;(1)(L)&#x27;,\n",
              "                                                                             &#x27;thigh(L)&#x27;,\n",
              "                                                                             &#x27;calf(L)&#x27;,\n",
              "                                                                             &#x27;cheek(L)&#x27;,\n",
              "                                                                             &#x27;sole(R)&#x27;,\n",
              "                                                                             &#x27;nowhere&#x27;,\n",
              "                                                                             &#x27;dorsal &#x27;\n",
              "                                                                             &#x27;aspect &#x27;\n",
              "                                                                             &#x27;of &#x27;\n",
              "                                                                             &#x27;the &#x27;\n",
              "                                                                             &#x27;foot(L)&#x27;,\n",
              "                                                                             &#x27;dorsal &#x27;\n",
              "                                                                             &#x27;aspect &#x27;\n",
              "                                                                             &#x27;of &#x27;\n",
              "                                                                             &#x27;the &#x27;\n",
              "                                                                             &#x27;foot(R)&#x27;,\n",
              "                                                                             &#x27;sole(L)&#x27;,\n",
              "                                                                             &#x27;forehead&#x27;,\n",
              "                                                                             &#x27;calf(R)&#x27;,\n",
              "                                                                             &#x27;thigh(R)&#x27;,\n",
              "                                                                             &#x27;cheek(R)&#x27;]]),\n",
              "                                                  [&#x27;INITIAL_EVIDENCE&#x27;, &#x27;SEX&#x27;,\n",
              "                                                   &#x27;trav1&#x27;, &#x27;pain_char&#x27;,\n",
              "                                                   &#x27;lesion_color&#x27;,\n",
              "                                                   &#x27;pain_somewhere&#x27;,\n",
              "                                                   &#x27;lesion_location&#x27;,\n",
              "                                                   &#x27;swelling_location&#x27;])])),\n",
              "                (&#x27;kneighborsclassifier&#x27;, KNeighborsClassifier())])</pre></div></div></div><div class=\"sk-serial\"><div class=\"sk-item sk-dashed-wrapped\"><div class=\"sk-label-container\"><div class=\"sk-label sk-toggleable\"><input class=\"sk-toggleable__control sk-hidden--visually\" id=\"sk-estimator-id-20\" type=\"checkbox\" ><label for=\"sk-estimator-id-20\" class=\"sk-toggleable__label sk-toggleable__label-arrow\">columntransformer: ColumnTransformer</label><div class=\"sk-toggleable__content\"><pre>ColumnTransformer(remainder=&#x27;passthrough&#x27;,\n",
              "                  transformers=[(&#x27;num&#x27;, StandardScaler(),\n",
              "                                 [&#x27;AGE&#x27;, &#x27;swollen_nodes&#x27;, &#x27;std&#x27;,\n",
              "                                  &#x27;lesion_larger_than_1cm&#x27;, &#x27;sweating&#x27;,\n",
              "                                  &#x27;diarrhea&#x27;, &#x27;pain&#x27;, &#x27;pain_intensity&#x27;,\n",
              "                                  &#x27;pain_precise&#x27;, &#x27;pain_sudden&#x27;, &#x27;fever&#x27;,\n",
              "                                  &#x27;unprotected_sex&#x27;, &#x27;lesions&#x27;,\n",
              "                                  &#x27;lesion_pain_swollen&#x27;, &#x27;lesion_pain_intense&#x27;,\n",
              "                                  &#x27;itching_severity&#x27;, &#x27;nausea&#x27;, &#x27;weight_loss&#x27;,\n",
              "                                  &#x27;sex_hiv&#x27;, &#x27;fam_alle...\n",
              "                                                            &#x27;cheek(L)&#x27;,\n",
              "                                                            &#x27;epigastric&#x27;,\n",
              "                                                            &#x27;thoracic spine&#x27;],\n",
              "                                                           [&#x27;nose&#x27;,\n",
              "                                                            &#x27;toe (1)(R)&#x27;,\n",
              "                                                            &#x27;toe (1)(L)&#x27;,\n",
              "                                                            &#x27;thigh(L)&#x27;,\n",
              "                                                            &#x27;calf(L)&#x27;,\n",
              "                                                            &#x27;cheek(L)&#x27;,\n",
              "                                                            &#x27;sole(R)&#x27;,\n",
              "                                                            &#x27;nowhere&#x27;,\n",
              "                                                            &#x27;dorsal aspect of &#x27;\n",
              "                                                            &#x27;the foot(L)&#x27;,\n",
              "                                                            &#x27;dorsal aspect of &#x27;\n",
              "                                                            &#x27;the foot(R)&#x27;,\n",
              "                                                            &#x27;sole(L)&#x27;,\n",
              "                                                            &#x27;forehead&#x27;,\n",
              "                                                            &#x27;calf(R)&#x27;,\n",
              "                                                            &#x27;thigh(R)&#x27;,\n",
              "                                                            &#x27;cheek(R)&#x27;]]),\n",
              "                                 [&#x27;INITIAL_EVIDENCE&#x27;, &#x27;SEX&#x27;, &#x27;trav1&#x27;,\n",
              "                                  &#x27;pain_char&#x27;, &#x27;lesion_color&#x27;, &#x27;pain_somewhere&#x27;,\n",
              "                                  &#x27;lesion_location&#x27;, &#x27;swelling_location&#x27;])])</pre></div></div></div><div class=\"sk-parallel\"><div class=\"sk-parallel-item\"><div class=\"sk-item\"><div class=\"sk-label-container\"><div class=\"sk-label sk-toggleable\"><input class=\"sk-toggleable__control sk-hidden--visually\" id=\"sk-estimator-id-21\" type=\"checkbox\" ><label for=\"sk-estimator-id-21\" class=\"sk-toggleable__label sk-toggleable__label-arrow\">num</label><div class=\"sk-toggleable__content\"><pre>[&#x27;AGE&#x27;, &#x27;swollen_nodes&#x27;, &#x27;std&#x27;, &#x27;lesion_larger_than_1cm&#x27;, &#x27;sweating&#x27;, &#x27;diarrhea&#x27;, &#x27;pain&#x27;, &#x27;pain_intensity&#x27;, &#x27;pain_precise&#x27;, &#x27;pain_sudden&#x27;, &#x27;fever&#x27;, &#x27;unprotected_sex&#x27;, &#x27;lesions&#x27;, &#x27;lesion_pain_swollen&#x27;, &#x27;lesion_pain_intense&#x27;, &#x27;itching_severity&#x27;, &#x27;nausea&#x27;, &#x27;weight_loss&#x27;, &#x27;sex_hiv&#x27;, &#x27;fam_allergies&#x27;, &#x27;fam_j45&#x27;, &#x27;j45&#x27;, &#x27;itchy_nose&#x27;, &#x27;eye_itching&#x27;, &#x27;runny_nose&#x27;, &#x27;urban1&#x27;, &#x27;severe_allergy&#x27;, &#x27;contact_allergy&#x27;, &#x27;short_breath&#x27;, &#x27;swelling&#x27;, &#x27;lost_consciousness&#x27;, &#x27;stridor&#x27;, &#x27;z84.89&#x27;, &#x27;HIV&#x27;, &#x27;cortico&#x27;, &#x27;IV_drugs&#x27;, &#x27;e10_e11&#x27;, &#x27;f10.129&#x27;, &#x27;cough&#x27;, &#x27;cough_blood&#x27;, &#x27;v85.0&#x27;, &#x27;I30&#x27;, &#x27;f17.210&#x27;, &#x27;high_bp&#x27;, &#x27;ulcers&#x27;, &#x27;anorexia&#x27;, &#x27;new_fatigue&#x27;, &#x27;nsaids&#x27;, &#x27;i50&#x27;, &#x27;i80&#x27;, &#x27;lymph_surg&#x27;, &#x27;synd_nephro&#x27;, &#x27;convulsion&#x27;, &#x27;e66&#x27;, &#x27;red_eye&#x27;, &#x27;agri&#x27;, &#x27;gained_weight&#x27;, &#x27;k74&#x27;, &#x27;patho_endo&#x27;, &#x27;dizziness&#x27;, &#x27;wheezing_exhale&#x27;, &#x27;fatigue_ext&#x27;, &#x27;sore_throat&#x27;, &#x27;muscle_pain&#x27;, &#x27;lost_appetite&#x27;, &#x27;heart_valves&#x27;, &#x27;sahs&#x27;, &#x27;cont_pertussis&#x27;, &#x27;vomiting_cough&#x27;, &#x27;coughing_fits&#x27;, &#x27;vaccination&#x27;, &#x27;chills&#x27;, &#x27;z92.25&#x27;, &#x27;ca_blockers&#x27;, &#x27;vag_discharge&#x27;, &#x27;wheezing_inhale&#x27;, &#x27;fatigue&#x27;, &#x27;menarche_12&#x27;, &#x27;breastfed_9&#x27;, &#x27;confusion&#x27;, &#x27;contact&#x27;, &#x27;ebolacase&#x27;, &#x27;bruising&#x27;]</pre></div></div></div><div class=\"sk-serial\"><div class=\"sk-item\"><div class=\"sk-estimator sk-toggleable\"><input class=\"sk-toggleable__control sk-hidden--visually\" id=\"sk-estimator-id-22\" type=\"checkbox\" ><label for=\"sk-estimator-id-22\" class=\"sk-toggleable__label sk-toggleable__label-arrow\">StandardScaler</label><div class=\"sk-toggleable__content\"><pre>StandardScaler()</pre></div></div></div></div></div></div><div class=\"sk-parallel-item\"><div class=\"sk-item\"><div class=\"sk-label-container\"><div class=\"sk-label sk-toggleable\"><input class=\"sk-toggleable__control sk-hidden--visually\" id=\"sk-estimator-id-23\" type=\"checkbox\" ><label for=\"sk-estimator-id-23\" class=\"sk-toggleable__label sk-toggleable__label-arrow\">cat</label><div class=\"sk-toggleable__content\"><pre>[&#x27;INITIAL_EVIDENCE&#x27;, &#x27;SEX&#x27;, &#x27;trav1&#x27;, &#x27;pain_char&#x27;, &#x27;lesion_color&#x27;, &#x27;pain_somewhere&#x27;, &#x27;lesion_location&#x27;, &#x27;swelling_location&#x27;]</pre></div></div></div><div class=\"sk-serial\"><div class=\"sk-item\"><div class=\"sk-estimator sk-toggleable\"><input class=\"sk-toggleable__control sk-hidden--visually\" id=\"sk-estimator-id-24\" type=\"checkbox\" ><label for=\"sk-estimator-id-24\" class=\"sk-toggleable__label sk-toggleable__label-arrow\">OneHotEncoder</label><div class=\"sk-toggleable__content\"><pre>OneHotEncoder(categories=[[&#x27;eye_itching&#x27;, &#x27;fever&#x27;, &#x27;chills&#x27;, &#x27;lesions&#x27;,\n",
              "                           &#x27;new_fatigue&#x27;, &#x27;diarrhea&#x27;, &#x27;cough&#x27;, &#x27;fatigue_ext&#x27;,\n",
              "                           &#x27;bruising&#x27;, &#x27;dizziness&#x27;, &#x27;runny_nose&#x27;,\n",
              "                           &#x27;coughing_fits&#x27;, &#x27;convulsion&#x27;, &#x27;confusion&#x27;, &#x27;pain&#x27;,\n",
              "                           &#x27;weight_loss&#x27;, &#x27;wheezing_exhale&#x27;,\n",
              "                           &#x27;lost_consciousness&#x27;, &#x27;red_eye&#x27;, &#x27;fatigue&#x27;, &#x27;ulcers&#x27;,\n",
              "                           &#x27;nausea&#x27;, &#x27;cough_blood&#x27;, &#x27;short_breath&#x27;,\n",
              "                           &#x27;sore_throat&#x27;, &#x27;sweating&#x27;, &#x27;muscl...\n",
              "                           &#x27;labia minora(R)&#x27;, &#x27;thigh(L)&#x27;, &#x27;under the tongue&#x27;,\n",
              "                           &#x27;forehead&#x27;, &#x27;upper lip(R)&#x27;, &#x27;cheek(R)&#x27;,\n",
              "                           &#x27;bottom lip(R)&#x27;, &#x27;back of the neck&#x27;, &#x27;scrotum&#x27;,\n",
              "                           &#x27;cheek(L)&#x27;, &#x27;epigastric&#x27;, &#x27;thoracic spine&#x27;],\n",
              "                          [&#x27;nose&#x27;, &#x27;toe (1)(R)&#x27;, &#x27;toe (1)(L)&#x27;, &#x27;thigh(L)&#x27;,\n",
              "                           &#x27;calf(L)&#x27;, &#x27;cheek(L)&#x27;, &#x27;sole(R)&#x27;, &#x27;nowhere&#x27;,\n",
              "                           &#x27;dorsal aspect of the foot(L)&#x27;,\n",
              "                           &#x27;dorsal aspect of the foot(R)&#x27;, &#x27;sole(L)&#x27;,\n",
              "                           &#x27;forehead&#x27;, &#x27;calf(R)&#x27;, &#x27;thigh(R)&#x27;, &#x27;cheek(R)&#x27;]])</pre></div></div></div></div></div></div><div class=\"sk-parallel-item\"><div class=\"sk-item\"><div class=\"sk-label-container\"><div class=\"sk-label sk-toggleable\"><input class=\"sk-toggleable__control sk-hidden--visually\" id=\"sk-estimator-id-25\" type=\"checkbox\" ><label for=\"sk-estimator-id-25\" class=\"sk-toggleable__label sk-toggleable__label-arrow\">remainder</label><div class=\"sk-toggleable__content\"><pre>[]</pre></div></div></div><div class=\"sk-serial\"><div class=\"sk-item\"><div class=\"sk-estimator sk-toggleable\"><input class=\"sk-toggleable__control sk-hidden--visually\" id=\"sk-estimator-id-26\" type=\"checkbox\" ><label for=\"sk-estimator-id-26\" class=\"sk-toggleable__label sk-toggleable__label-arrow\">passthrough</label><div class=\"sk-toggleable__content\"><pre>passthrough</pre></div></div></div></div></div></div></div></div><div class=\"sk-item\"><div class=\"sk-estimator sk-toggleable\"><input class=\"sk-toggleable__control sk-hidden--visually\" id=\"sk-estimator-id-27\" type=\"checkbox\" ><label for=\"sk-estimator-id-27\" class=\"sk-toggleable__label sk-toggleable__label-arrow\">KNeighborsClassifier</label><div class=\"sk-toggleable__content\"><pre>KNeighborsClassifier()</pre></div></div></div></div></div></div></div>"
            ]
          },
          "metadata": {},
          "execution_count": 228
        }
      ]
    },
    {
      "cell_type": "markdown",
      "source": [
        "### Multinomial Naive Bayes"
      ],
      "metadata": {
        "id": "27svBkgEE1Qv"
      }
    },
    {
      "cell_type": "code",
      "source": [
        "from sklearn.naive_bayes import MultinomialNB\n",
        "\n",
        "nb = MultinomialNB(alpha=0.1)\n",
        "\n",
        "fit_and_score(nb)"
      ],
      "metadata": {
        "colab": {
          "base_uri": "https://localhost:8080/",
          "height": 321
        },
        "id": "4wFQCwgGw7w8",
        "outputId": "5e451432-f5c0-47cc-d120-7fe62d97d2e8"
      },
      "execution_count": null,
      "outputs": [
        {
          "output_type": "error",
          "ename": "ValueError",
          "evalue": "Negative values in data passed to MultinomialNB (input X)",
          "traceback": [
            "\u001b[0;31m---------------------------------------------------------------------------\u001b[0m",
            "\u001b[0;31mValueError\u001b[0m                                Traceback (most recent call last)",
            "\u001b[0;32m<ipython-input-196-59650a4ab114>\u001b[0m in \u001b[0;36m<cell line: 5>\u001b[0;34m()\u001b[0m\n\u001b[1;32m      3\u001b[0m \u001b[0mnb\u001b[0m \u001b[0;34m=\u001b[0m \u001b[0mMultinomialNB\u001b[0m\u001b[0;34m(\u001b[0m\u001b[0malpha\u001b[0m\u001b[0;34m=\u001b[0m\u001b[0;36m0.1\u001b[0m\u001b[0;34m)\u001b[0m\u001b[0;34m\u001b[0m\u001b[0;34m\u001b[0m\u001b[0m\n\u001b[1;32m      4\u001b[0m \u001b[0;34m\u001b[0m\u001b[0m\n\u001b[0;32m----> 5\u001b[0;31m \u001b[0mfit_and_score\u001b[0m\u001b[0;34m(\u001b[0m\u001b[0mnb\u001b[0m\u001b[0;34m)\u001b[0m\u001b[0;34m\u001b[0m\u001b[0;34m\u001b[0m\u001b[0m\n\u001b[0m",
            "\u001b[0;32m<ipython-input-154-b95c250658b9>\u001b[0m in \u001b[0;36mfit_and_score\u001b[0;34m(classifier)\u001b[0m\n\u001b[1;32m      1\u001b[0m \u001b[0;32mdef\u001b[0m \u001b[0mfit_and_score\u001b[0m\u001b[0;34m(\u001b[0m\u001b[0mclassifier\u001b[0m\u001b[0;34m)\u001b[0m\u001b[0;34m:\u001b[0m\u001b[0;34m\u001b[0m\u001b[0;34m\u001b[0m\u001b[0m\n\u001b[1;32m      2\u001b[0m     \u001b[0mmodel\u001b[0m \u001b[0;34m=\u001b[0m \u001b[0mcustom_pipeline\u001b[0m\u001b[0;34m(\u001b[0m\u001b[0mclassifier\u001b[0m\u001b[0;34m)\u001b[0m\u001b[0;34m\u001b[0m\u001b[0;34m\u001b[0m\u001b[0m\n\u001b[0;32m----> 3\u001b[0;31m     \u001b[0mmodel\u001b[0m\u001b[0;34m.\u001b[0m\u001b[0mfit\u001b[0m\u001b[0;34m(\u001b[0m\u001b[0mX_train\u001b[0m\u001b[0;34m,\u001b[0m \u001b[0my_train\u001b[0m\u001b[0;34m)\u001b[0m\u001b[0;34m\u001b[0m\u001b[0;34m\u001b[0m\u001b[0m\n\u001b[0m\u001b[1;32m      4\u001b[0m     \u001b[0mtext\u001b[0m \u001b[0;34m=\u001b[0m \u001b[0mstr\u001b[0m\u001b[0;34m(\u001b[0m\u001b[0mclassifier\u001b[0m\u001b[0;34m)\u001b[0m \u001b[0;34m+\u001b[0m \u001b[0;34m'\\n\\n'\u001b[0m \u001b[0;34m+\u001b[0m \u001b[0mcr\u001b[0m\u001b[0;34m(\u001b[0m\u001b[0my_validate\u001b[0m\u001b[0;34m,\u001b[0m \u001b[0mmodel\u001b[0m\u001b[0;34m.\u001b[0m\u001b[0mpredict\u001b[0m\u001b[0;34m(\u001b[0m\u001b[0mX_validate\u001b[0m\u001b[0;34m)\u001b[0m\u001b[0;34m)\u001b[0m\u001b[0;34m\u001b[0m\u001b[0;34m\u001b[0m\u001b[0m\n\u001b[1;32m      5\u001b[0m     \u001b[0mprint\u001b[0m\u001b[0;34m(\u001b[0m\u001b[0mtext\u001b[0m\u001b[0;34m)\u001b[0m\u001b[0;34m\u001b[0m\u001b[0;34m\u001b[0m\u001b[0m\n",
            "\u001b[0;32m/usr/local/lib/python3.10/dist-packages/sklearn/pipeline.py\u001b[0m in \u001b[0;36mfit\u001b[0;34m(self, X, y, **fit_params)\u001b[0m\n\u001b[1;32m    403\u001b[0m             \u001b[0;32mif\u001b[0m \u001b[0mself\u001b[0m\u001b[0;34m.\u001b[0m\u001b[0m_final_estimator\u001b[0m \u001b[0;34m!=\u001b[0m \u001b[0;34m\"passthrough\"\u001b[0m\u001b[0;34m:\u001b[0m\u001b[0;34m\u001b[0m\u001b[0;34m\u001b[0m\u001b[0m\n\u001b[1;32m    404\u001b[0m                 \u001b[0mfit_params_last_step\u001b[0m \u001b[0;34m=\u001b[0m \u001b[0mfit_params_steps\u001b[0m\u001b[0;34m[\u001b[0m\u001b[0mself\u001b[0m\u001b[0;34m.\u001b[0m\u001b[0msteps\u001b[0m\u001b[0;34m[\u001b[0m\u001b[0;34m-\u001b[0m\u001b[0;36m1\u001b[0m\u001b[0;34m]\u001b[0m\u001b[0;34m[\u001b[0m\u001b[0;36m0\u001b[0m\u001b[0;34m]\u001b[0m\u001b[0;34m]\u001b[0m\u001b[0;34m\u001b[0m\u001b[0;34m\u001b[0m\u001b[0m\n\u001b[0;32m--> 405\u001b[0;31m                 \u001b[0mself\u001b[0m\u001b[0;34m.\u001b[0m\u001b[0m_final_estimator\u001b[0m\u001b[0;34m.\u001b[0m\u001b[0mfit\u001b[0m\u001b[0;34m(\u001b[0m\u001b[0mXt\u001b[0m\u001b[0;34m,\u001b[0m \u001b[0my\u001b[0m\u001b[0;34m,\u001b[0m \u001b[0;34m**\u001b[0m\u001b[0mfit_params_last_step\u001b[0m\u001b[0;34m)\u001b[0m\u001b[0;34m\u001b[0m\u001b[0;34m\u001b[0m\u001b[0m\n\u001b[0m\u001b[1;32m    406\u001b[0m \u001b[0;34m\u001b[0m\u001b[0m\n\u001b[1;32m    407\u001b[0m         \u001b[0;32mreturn\u001b[0m \u001b[0mself\u001b[0m\u001b[0;34m\u001b[0m\u001b[0;34m\u001b[0m\u001b[0m\n",
            "\u001b[0;32m/usr/local/lib/python3.10/dist-packages/sklearn/naive_bayes.py\u001b[0m in \u001b[0;36mfit\u001b[0;34m(self, X, y, sample_weight)\u001b[0m\n\u001b[1;32m    774\u001b[0m         \u001b[0mn_classes\u001b[0m \u001b[0;34m=\u001b[0m \u001b[0mY\u001b[0m\u001b[0;34m.\u001b[0m\u001b[0mshape\u001b[0m\u001b[0;34m[\u001b[0m\u001b[0;36m1\u001b[0m\u001b[0;34m]\u001b[0m\u001b[0;34m\u001b[0m\u001b[0;34m\u001b[0m\u001b[0m\n\u001b[1;32m    775\u001b[0m         \u001b[0mself\u001b[0m\u001b[0;34m.\u001b[0m\u001b[0m_init_counters\u001b[0m\u001b[0;34m(\u001b[0m\u001b[0mn_classes\u001b[0m\u001b[0;34m,\u001b[0m \u001b[0mn_features\u001b[0m\u001b[0;34m)\u001b[0m\u001b[0;34m\u001b[0m\u001b[0;34m\u001b[0m\u001b[0m\n\u001b[0;32m--> 776\u001b[0;31m         \u001b[0mself\u001b[0m\u001b[0;34m.\u001b[0m\u001b[0m_count\u001b[0m\u001b[0;34m(\u001b[0m\u001b[0mX\u001b[0m\u001b[0;34m,\u001b[0m \u001b[0mY\u001b[0m\u001b[0;34m)\u001b[0m\u001b[0;34m\u001b[0m\u001b[0;34m\u001b[0m\u001b[0m\n\u001b[0m\u001b[1;32m    777\u001b[0m         \u001b[0malpha\u001b[0m \u001b[0;34m=\u001b[0m \u001b[0mself\u001b[0m\u001b[0;34m.\u001b[0m\u001b[0m_check_alpha\u001b[0m\u001b[0;34m(\u001b[0m\u001b[0;34m)\u001b[0m\u001b[0;34m\u001b[0m\u001b[0;34m\u001b[0m\u001b[0m\n\u001b[1;32m    778\u001b[0m         \u001b[0mself\u001b[0m\u001b[0;34m.\u001b[0m\u001b[0m_update_feature_log_prob\u001b[0m\u001b[0;34m(\u001b[0m\u001b[0malpha\u001b[0m\u001b[0;34m)\u001b[0m\u001b[0;34m\u001b[0m\u001b[0;34m\u001b[0m\u001b[0m\n",
            "\u001b[0;32m/usr/local/lib/python3.10/dist-packages/sklearn/naive_bayes.py\u001b[0m in \u001b[0;36m_count\u001b[0;34m(self, X, Y)\u001b[0m\n\u001b[1;32m    896\u001b[0m     \u001b[0;32mdef\u001b[0m \u001b[0m_count\u001b[0m\u001b[0;34m(\u001b[0m\u001b[0mself\u001b[0m\u001b[0;34m,\u001b[0m \u001b[0mX\u001b[0m\u001b[0;34m,\u001b[0m \u001b[0mY\u001b[0m\u001b[0;34m)\u001b[0m\u001b[0;34m:\u001b[0m\u001b[0;34m\u001b[0m\u001b[0;34m\u001b[0m\u001b[0m\n\u001b[1;32m    897\u001b[0m         \u001b[0;34m\"\"\"Count and smooth feature occurrences.\"\"\"\u001b[0m\u001b[0;34m\u001b[0m\u001b[0;34m\u001b[0m\u001b[0m\n\u001b[0;32m--> 898\u001b[0;31m         \u001b[0mcheck_non_negative\u001b[0m\u001b[0;34m(\u001b[0m\u001b[0mX\u001b[0m\u001b[0;34m,\u001b[0m \u001b[0;34m\"MultinomialNB (input X)\"\u001b[0m\u001b[0;34m)\u001b[0m\u001b[0;34m\u001b[0m\u001b[0;34m\u001b[0m\u001b[0m\n\u001b[0m\u001b[1;32m    899\u001b[0m         \u001b[0mself\u001b[0m\u001b[0;34m.\u001b[0m\u001b[0mfeature_count_\u001b[0m \u001b[0;34m+=\u001b[0m \u001b[0msafe_sparse_dot\u001b[0m\u001b[0;34m(\u001b[0m\u001b[0mY\u001b[0m\u001b[0;34m.\u001b[0m\u001b[0mT\u001b[0m\u001b[0;34m,\u001b[0m \u001b[0mX\u001b[0m\u001b[0;34m)\u001b[0m\u001b[0;34m\u001b[0m\u001b[0;34m\u001b[0m\u001b[0m\n\u001b[1;32m    900\u001b[0m         \u001b[0mself\u001b[0m\u001b[0;34m.\u001b[0m\u001b[0mclass_count_\u001b[0m \u001b[0;34m+=\u001b[0m \u001b[0mY\u001b[0m\u001b[0;34m.\u001b[0m\u001b[0msum\u001b[0m\u001b[0;34m(\u001b[0m\u001b[0maxis\u001b[0m\u001b[0;34m=\u001b[0m\u001b[0;36m0\u001b[0m\u001b[0;34m)\u001b[0m\u001b[0;34m\u001b[0m\u001b[0;34m\u001b[0m\u001b[0m\n",
            "\u001b[0;32m/usr/local/lib/python3.10/dist-packages/sklearn/utils/validation.py\u001b[0m in \u001b[0;36mcheck_non_negative\u001b[0;34m(X, whom)\u001b[0m\n\u001b[1;32m   1416\u001b[0m \u001b[0;34m\u001b[0m\u001b[0m\n\u001b[1;32m   1417\u001b[0m     \u001b[0;32mif\u001b[0m \u001b[0mX_min\u001b[0m \u001b[0;34m<\u001b[0m \u001b[0;36m0\u001b[0m\u001b[0;34m:\u001b[0m\u001b[0;34m\u001b[0m\u001b[0;34m\u001b[0m\u001b[0m\n\u001b[0;32m-> 1418\u001b[0;31m         \u001b[0;32mraise\u001b[0m \u001b[0mValueError\u001b[0m\u001b[0;34m(\u001b[0m\u001b[0;34m\"Negative values in data passed to %s\"\u001b[0m \u001b[0;34m%\u001b[0m \u001b[0mwhom\u001b[0m\u001b[0;34m)\u001b[0m\u001b[0;34m\u001b[0m\u001b[0;34m\u001b[0m\u001b[0m\n\u001b[0m\u001b[1;32m   1419\u001b[0m \u001b[0;34m\u001b[0m\u001b[0m\n\u001b[1;32m   1420\u001b[0m \u001b[0;34m\u001b[0m\u001b[0m\n",
            "\u001b[0;31mValueError\u001b[0m: Negative values in data passed to MultinomialNB (input X)"
          ]
        }
      ]
    },
    {
      "cell_type": "markdown",
      "source": [
        "### Decision Tree Classifier"
      ],
      "metadata": {
        "id": "AKUKWEFjE4MD"
      }
    },
    {
      "cell_type": "code",
      "source": [
        "from sklearn.tree import DecisionTreeClassifier\n",
        "\n",
        "dt = DecisionTreeClassifier(random_state = SEED)\n",
        "\n",
        "fit_and_score(dt)"
      ],
      "metadata": {
        "colab": {
          "base_uri": "https://localhost:8080/"
        },
        "id": "8_v7JX_4xYQW",
        "outputId": "8080c43e-a11f-403c-d00f-41018b5b31a9"
      },
      "execution_count": null,
      "outputs": [
        {
          "output_type": "stream",
          "name": "stdout",
          "text": [
            "DecisionTreeClassifier(random_state=42)\n",
            "\n",
            "                         precision    recall  f1-score   support\n",
            "\n",
            "     Allergic sinusitis       0.74      0.88      0.81      2136\n",
            "            Anaphylaxis       0.65      0.52      0.58      3754\n",
            "                 Chagas       0.56      0.26      0.35      1124\n",
            "HIV (initial infection)       0.42      0.42      0.42      3852\n",
            "              Influenza       0.55      0.36      0.43      3590\n",
            "        Localized edema       0.54      0.93      0.68      3694\n",
            "                    SLE       0.62      0.39      0.48      1579\n",
            "            Sarcoidosis       0.63      0.63      0.63      3028\n",
            "           Tuberculosis       0.53      0.54      0.53      2007\n",
            "         Whooping cough       1.00      1.00      1.00       545\n",
            "\n",
            "               accuracy                           0.58     25309\n",
            "              macro avg       0.62      0.59      0.59     25309\n",
            "           weighted avg       0.58      0.58      0.56     25309\n",
            "\n"
          ]
        }
      ]
    },
    {
      "cell_type": "markdown",
      "source": [
        "### Ensemble methods"
      ],
      "metadata": {
        "id": "va4T21QCGw0R"
      }
    },
    {
      "cell_type": "code",
      "source": [
        "from sklearn.ensemble import RandomForestClassifier\n",
        "\n",
        "rf = RandomForestClassifier(random_state = SEED, n_estimators=10)\n",
        "\n",
        "fit_and_score(rf)"
      ],
      "metadata": {
        "colab": {
          "base_uri": "https://localhost:8080/"
        },
        "id": "RkPQMLOnGpK2",
        "outputId": "c39c596c-5b27-4e9a-9688-0c3ea0915a08"
      },
      "execution_count": null,
      "outputs": [
        {
          "output_type": "stream",
          "name": "stdout",
          "text": [
            "RandomForestClassifier(n_estimators=10, random_state=42)\n",
            "\n",
            "                         precision    recall  f1-score   support\n",
            "\n",
            "     Allergic sinusitis       0.74      0.90      0.81      2136\n",
            "            Anaphylaxis       0.66      0.51      0.58      3754\n",
            "                 Chagas       0.68      0.23      0.35      1124\n",
            "HIV (initial infection)       0.42      0.42      0.42      3852\n",
            "              Influenza       0.57      0.36      0.44      3590\n",
            "        Localized edema       0.53      0.95      0.68      3694\n",
            "                    SLE       0.61      0.38      0.47      1579\n",
            "            Sarcoidosis       0.64      0.63      0.63      3028\n",
            "           Tuberculosis       0.52      0.55      0.53      2007\n",
            "         Whooping cough       1.00      1.00      1.00       545\n",
            "\n",
            "               accuracy                           0.58     25309\n",
            "              macro avg       0.64      0.59      0.59     25309\n",
            "           weighted avg       0.59      0.58      0.56     25309\n",
            "\n"
          ]
        }
      ]
    },
    {
      "cell_type": "code",
      "source": [
        "from sklearn.ensemble import GradientBoostingClassifier\n",
        "\n",
        "gb = GradientBoostingClassifier(random_state = SEED, n_estimators=10)\n",
        "\n",
        "fit_and_score(gb)"
      ],
      "metadata": {
        "colab": {
          "base_uri": "https://localhost:8080/",
          "height": 522
        },
        "id": "zmpeCVLDGWcm",
        "outputId": "3f43fb45-351d-4a9e-a6d3-394ade95d99b"
      },
      "execution_count": null,
      "outputs": [
        {
          "output_type": "stream",
          "name": "stdout",
          "text": [
            "GradientBoostingClassifier(n_estimators=10, random_state=42)\n",
            "\n",
            "                         precision    recall  f1-score   support\n",
            "\n",
            "     Allergic sinusitis       0.86      0.83      0.85      2136\n",
            "            Anaphylaxis       0.59      0.46      0.52      3754\n",
            "                 Chagas       1.00      0.22      0.37      1124\n",
            "HIV (initial infection)       0.39      0.60      0.48      3852\n",
            "              Influenza       0.71      0.29      0.41      3590\n",
            "        Localized edema       0.52      1.00      0.68      3694\n",
            "                    SLE       1.00      0.32      0.48      1579\n",
            "            Sarcoidosis       0.78      0.56      0.65      3028\n",
            "           Tuberculosis       0.57      0.66      0.61      2007\n",
            "         Whooping cough       1.00      1.00      1.00       545\n",
            "\n",
            "               accuracy                           0.59     25309\n",
            "              macro avg       0.74      0.60      0.60     25309\n",
            "           weighted avg       0.66      0.59      0.57     25309\n",
            "\n"
          ]
        },
        {
          "output_type": "execute_result",
          "data": {
            "text/plain": [
              "Pipeline(steps=[('columntransformer',\n",
              "                 ColumnTransformer(remainder='passthrough',\n",
              "                                   transformers=[('num', StandardScaler(),\n",
              "                                                  ['AGE', 'swollen_nodes',\n",
              "                                                   'std',\n",
              "                                                   'lesion_larger_than_1cm',\n",
              "                                                   'sweating', 'diarrhea',\n",
              "                                                   'pain', 'pain_intensity',\n",
              "                                                   'pain_precise',\n",
              "                                                   'pain_sudden', 'fever',\n",
              "                                                   'unprotected_sex', 'lesions',\n",
              "                                                   'lesion_pain_swollen',\n",
              "                                                   'lesion_pain_intense',\n",
              "                                                   'itching_severity', 'naus...\n",
              "                                                                             'sole(R)',\n",
              "                                                                             'nowhere',\n",
              "                                                                             'dorsal '\n",
              "                                                                             'aspect '\n",
              "                                                                             'of '\n",
              "                                                                             'the '\n",
              "                                                                             'foot(L)',\n",
              "                                                                             'dorsal '\n",
              "                                                                             'aspect '\n",
              "                                                                             'of '\n",
              "                                                                             'the '\n",
              "                                                                             'foot(R)',\n",
              "                                                                             'sole(L)',\n",
              "                                                                             'forehead',\n",
              "                                                                             'calf(R)',\n",
              "                                                                             'thigh(R)',\n",
              "                                                                             'cheek(R)']]),\n",
              "                                                  ['INITIAL_EVIDENCE', 'SEX',\n",
              "                                                   'trav1', 'pain_char',\n",
              "                                                   'lesion_color',\n",
              "                                                   'pain_somewhere',\n",
              "                                                   'lesion_location',\n",
              "                                                   'swelling_location'])])),\n",
              "                ('gradientboostingclassifier',\n",
              "                 GradientBoostingClassifier(n_estimators=10, random_state=42))])"
            ],
            "text/html": [
              "<style>#sk-container-id-11 {color: black;background-color: white;}#sk-container-id-11 pre{padding: 0;}#sk-container-id-11 div.sk-toggleable {background-color: white;}#sk-container-id-11 label.sk-toggleable__label {cursor: pointer;display: block;width: 100%;margin-bottom: 0;padding: 0.3em;box-sizing: border-box;text-align: center;}#sk-container-id-11 label.sk-toggleable__label-arrow:before {content: \"▸\";float: left;margin-right: 0.25em;color: #696969;}#sk-container-id-11 label.sk-toggleable__label-arrow:hover:before {color: black;}#sk-container-id-11 div.sk-estimator:hover label.sk-toggleable__label-arrow:before {color: black;}#sk-container-id-11 div.sk-toggleable__content {max-height: 0;max-width: 0;overflow: hidden;text-align: left;background-color: #f0f8ff;}#sk-container-id-11 div.sk-toggleable__content pre {margin: 0.2em;color: black;border-radius: 0.25em;background-color: #f0f8ff;}#sk-container-id-11 input.sk-toggleable__control:checked~div.sk-toggleable__content {max-height: 200px;max-width: 100%;overflow: auto;}#sk-container-id-11 input.sk-toggleable__control:checked~label.sk-toggleable__label-arrow:before {content: \"▾\";}#sk-container-id-11 div.sk-estimator input.sk-toggleable__control:checked~label.sk-toggleable__label {background-color: #d4ebff;}#sk-container-id-11 div.sk-label input.sk-toggleable__control:checked~label.sk-toggleable__label {background-color: #d4ebff;}#sk-container-id-11 input.sk-hidden--visually {border: 0;clip: rect(1px 1px 1px 1px);clip: rect(1px, 1px, 1px, 1px);height: 1px;margin: -1px;overflow: hidden;padding: 0;position: absolute;width: 1px;}#sk-container-id-11 div.sk-estimator {font-family: monospace;background-color: #f0f8ff;border: 1px dotted black;border-radius: 0.25em;box-sizing: border-box;margin-bottom: 0.5em;}#sk-container-id-11 div.sk-estimator:hover {background-color: #d4ebff;}#sk-container-id-11 div.sk-parallel-item::after {content: \"\";width: 100%;border-bottom: 1px solid gray;flex-grow: 1;}#sk-container-id-11 div.sk-label:hover label.sk-toggleable__label {background-color: #d4ebff;}#sk-container-id-11 div.sk-serial::before {content: \"\";position: absolute;border-left: 1px solid gray;box-sizing: border-box;top: 0;bottom: 0;left: 50%;z-index: 0;}#sk-container-id-11 div.sk-serial {display: flex;flex-direction: column;align-items: center;background-color: white;padding-right: 0.2em;padding-left: 0.2em;position: relative;}#sk-container-id-11 div.sk-item {position: relative;z-index: 1;}#sk-container-id-11 div.sk-parallel {display: flex;align-items: stretch;justify-content: center;background-color: white;position: relative;}#sk-container-id-11 div.sk-item::before, #sk-container-id-11 div.sk-parallel-item::before {content: \"\";position: absolute;border-left: 1px solid gray;box-sizing: border-box;top: 0;bottom: 0;left: 50%;z-index: -1;}#sk-container-id-11 div.sk-parallel-item {display: flex;flex-direction: column;z-index: 1;position: relative;background-color: white;}#sk-container-id-11 div.sk-parallel-item:first-child::after {align-self: flex-end;width: 50%;}#sk-container-id-11 div.sk-parallel-item:last-child::after {align-self: flex-start;width: 50%;}#sk-container-id-11 div.sk-parallel-item:only-child::after {width: 0;}#sk-container-id-11 div.sk-dashed-wrapped {border: 1px dashed gray;margin: 0 0.4em 0.5em 0.4em;box-sizing: border-box;padding-bottom: 0.4em;background-color: white;}#sk-container-id-11 div.sk-label label {font-family: monospace;font-weight: bold;display: inline-block;line-height: 1.2em;}#sk-container-id-11 div.sk-label-container {text-align: center;}#sk-container-id-11 div.sk-container {/* jupyter's `normalize.less` sets `[hidden] { display: none; }` but bootstrap.min.css set `[hidden] { display: none !important; }` so we also need the `!important` here to be able to override the default hidden behavior on the sphinx rendered scikit-learn.org. See: https://github.com/scikit-learn/scikit-learn/issues/21755 */display: inline-block !important;position: relative;}#sk-container-id-11 div.sk-text-repr-fallback {display: none;}</style><div id=\"sk-container-id-11\" class=\"sk-top-container\"><div class=\"sk-text-repr-fallback\"><pre>Pipeline(steps=[(&#x27;columntransformer&#x27;,\n",
              "                 ColumnTransformer(remainder=&#x27;passthrough&#x27;,\n",
              "                                   transformers=[(&#x27;num&#x27;, StandardScaler(),\n",
              "                                                  [&#x27;AGE&#x27;, &#x27;swollen_nodes&#x27;,\n",
              "                                                   &#x27;std&#x27;,\n",
              "                                                   &#x27;lesion_larger_than_1cm&#x27;,\n",
              "                                                   &#x27;sweating&#x27;, &#x27;diarrhea&#x27;,\n",
              "                                                   &#x27;pain&#x27;, &#x27;pain_intensity&#x27;,\n",
              "                                                   &#x27;pain_precise&#x27;,\n",
              "                                                   &#x27;pain_sudden&#x27;, &#x27;fever&#x27;,\n",
              "                                                   &#x27;unprotected_sex&#x27;, &#x27;lesions&#x27;,\n",
              "                                                   &#x27;lesion_pain_swollen&#x27;,\n",
              "                                                   &#x27;lesion_pain_intense&#x27;,\n",
              "                                                   &#x27;itching_severity&#x27;, &#x27;naus...\n",
              "                                                                             &#x27;sole(R)&#x27;,\n",
              "                                                                             &#x27;nowhere&#x27;,\n",
              "                                                                             &#x27;dorsal &#x27;\n",
              "                                                                             &#x27;aspect &#x27;\n",
              "                                                                             &#x27;of &#x27;\n",
              "                                                                             &#x27;the &#x27;\n",
              "                                                                             &#x27;foot(L)&#x27;,\n",
              "                                                                             &#x27;dorsal &#x27;\n",
              "                                                                             &#x27;aspect &#x27;\n",
              "                                                                             &#x27;of &#x27;\n",
              "                                                                             &#x27;the &#x27;\n",
              "                                                                             &#x27;foot(R)&#x27;,\n",
              "                                                                             &#x27;sole(L)&#x27;,\n",
              "                                                                             &#x27;forehead&#x27;,\n",
              "                                                                             &#x27;calf(R)&#x27;,\n",
              "                                                                             &#x27;thigh(R)&#x27;,\n",
              "                                                                             &#x27;cheek(R)&#x27;]]),\n",
              "                                                  [&#x27;INITIAL_EVIDENCE&#x27;, &#x27;SEX&#x27;,\n",
              "                                                   &#x27;trav1&#x27;, &#x27;pain_char&#x27;,\n",
              "                                                   &#x27;lesion_color&#x27;,\n",
              "                                                   &#x27;pain_somewhere&#x27;,\n",
              "                                                   &#x27;lesion_location&#x27;,\n",
              "                                                   &#x27;swelling_location&#x27;])])),\n",
              "                (&#x27;gradientboostingclassifier&#x27;,\n",
              "                 GradientBoostingClassifier(n_estimators=10, random_state=42))])</pre><b>In a Jupyter environment, please rerun this cell to show the HTML representation or trust the notebook. <br />On GitHub, the HTML representation is unable to render, please try loading this page with nbviewer.org.</b></div><div class=\"sk-container\" hidden><div class=\"sk-item sk-dashed-wrapped\"><div class=\"sk-label-container\"><div class=\"sk-label sk-toggleable\"><input class=\"sk-toggleable__control sk-hidden--visually\" id=\"sk-estimator-id-88\" type=\"checkbox\" ><label for=\"sk-estimator-id-88\" class=\"sk-toggleable__label sk-toggleable__label-arrow\">Pipeline</label><div class=\"sk-toggleable__content\"><pre>Pipeline(steps=[(&#x27;columntransformer&#x27;,\n",
              "                 ColumnTransformer(remainder=&#x27;passthrough&#x27;,\n",
              "                                   transformers=[(&#x27;num&#x27;, StandardScaler(),\n",
              "                                                  [&#x27;AGE&#x27;, &#x27;swollen_nodes&#x27;,\n",
              "                                                   &#x27;std&#x27;,\n",
              "                                                   &#x27;lesion_larger_than_1cm&#x27;,\n",
              "                                                   &#x27;sweating&#x27;, &#x27;diarrhea&#x27;,\n",
              "                                                   &#x27;pain&#x27;, &#x27;pain_intensity&#x27;,\n",
              "                                                   &#x27;pain_precise&#x27;,\n",
              "                                                   &#x27;pain_sudden&#x27;, &#x27;fever&#x27;,\n",
              "                                                   &#x27;unprotected_sex&#x27;, &#x27;lesions&#x27;,\n",
              "                                                   &#x27;lesion_pain_swollen&#x27;,\n",
              "                                                   &#x27;lesion_pain_intense&#x27;,\n",
              "                                                   &#x27;itching_severity&#x27;, &#x27;naus...\n",
              "                                                                             &#x27;sole(R)&#x27;,\n",
              "                                                                             &#x27;nowhere&#x27;,\n",
              "                                                                             &#x27;dorsal &#x27;\n",
              "                                                                             &#x27;aspect &#x27;\n",
              "                                                                             &#x27;of &#x27;\n",
              "                                                                             &#x27;the &#x27;\n",
              "                                                                             &#x27;foot(L)&#x27;,\n",
              "                                                                             &#x27;dorsal &#x27;\n",
              "                                                                             &#x27;aspect &#x27;\n",
              "                                                                             &#x27;of &#x27;\n",
              "                                                                             &#x27;the &#x27;\n",
              "                                                                             &#x27;foot(R)&#x27;,\n",
              "                                                                             &#x27;sole(L)&#x27;,\n",
              "                                                                             &#x27;forehead&#x27;,\n",
              "                                                                             &#x27;calf(R)&#x27;,\n",
              "                                                                             &#x27;thigh(R)&#x27;,\n",
              "                                                                             &#x27;cheek(R)&#x27;]]),\n",
              "                                                  [&#x27;INITIAL_EVIDENCE&#x27;, &#x27;SEX&#x27;,\n",
              "                                                   &#x27;trav1&#x27;, &#x27;pain_char&#x27;,\n",
              "                                                   &#x27;lesion_color&#x27;,\n",
              "                                                   &#x27;pain_somewhere&#x27;,\n",
              "                                                   &#x27;lesion_location&#x27;,\n",
              "                                                   &#x27;swelling_location&#x27;])])),\n",
              "                (&#x27;gradientboostingclassifier&#x27;,\n",
              "                 GradientBoostingClassifier(n_estimators=10, random_state=42))])</pre></div></div></div><div class=\"sk-serial\"><div class=\"sk-item sk-dashed-wrapped\"><div class=\"sk-label-container\"><div class=\"sk-label sk-toggleable\"><input class=\"sk-toggleable__control sk-hidden--visually\" id=\"sk-estimator-id-89\" type=\"checkbox\" ><label for=\"sk-estimator-id-89\" class=\"sk-toggleable__label sk-toggleable__label-arrow\">columntransformer: ColumnTransformer</label><div class=\"sk-toggleable__content\"><pre>ColumnTransformer(remainder=&#x27;passthrough&#x27;,\n",
              "                  transformers=[(&#x27;num&#x27;, StandardScaler(),\n",
              "                                 [&#x27;AGE&#x27;, &#x27;swollen_nodes&#x27;, &#x27;std&#x27;,\n",
              "                                  &#x27;lesion_larger_than_1cm&#x27;, &#x27;sweating&#x27;,\n",
              "                                  &#x27;diarrhea&#x27;, &#x27;pain&#x27;, &#x27;pain_intensity&#x27;,\n",
              "                                  &#x27;pain_precise&#x27;, &#x27;pain_sudden&#x27;, &#x27;fever&#x27;,\n",
              "                                  &#x27;unprotected_sex&#x27;, &#x27;lesions&#x27;,\n",
              "                                  &#x27;lesion_pain_swollen&#x27;, &#x27;lesion_pain_intense&#x27;,\n",
              "                                  &#x27;itching_severity&#x27;, &#x27;nausea&#x27;, &#x27;weight_loss&#x27;,\n",
              "                                  &#x27;sex_hiv&#x27;, &#x27;fam_alle...\n",
              "                                                            &#x27;cheek(L)&#x27;,\n",
              "                                                            &#x27;epigastric&#x27;,\n",
              "                                                            &#x27;thoracic spine&#x27;],\n",
              "                                                           [&#x27;nose&#x27;,\n",
              "                                                            &#x27;toe (1)(R)&#x27;,\n",
              "                                                            &#x27;toe (1)(L)&#x27;,\n",
              "                                                            &#x27;thigh(L)&#x27;,\n",
              "                                                            &#x27;calf(L)&#x27;,\n",
              "                                                            &#x27;cheek(L)&#x27;,\n",
              "                                                            &#x27;sole(R)&#x27;,\n",
              "                                                            &#x27;nowhere&#x27;,\n",
              "                                                            &#x27;dorsal aspect of &#x27;\n",
              "                                                            &#x27;the foot(L)&#x27;,\n",
              "                                                            &#x27;dorsal aspect of &#x27;\n",
              "                                                            &#x27;the foot(R)&#x27;,\n",
              "                                                            &#x27;sole(L)&#x27;,\n",
              "                                                            &#x27;forehead&#x27;,\n",
              "                                                            &#x27;calf(R)&#x27;,\n",
              "                                                            &#x27;thigh(R)&#x27;,\n",
              "                                                            &#x27;cheek(R)&#x27;]]),\n",
              "                                 [&#x27;INITIAL_EVIDENCE&#x27;, &#x27;SEX&#x27;, &#x27;trav1&#x27;,\n",
              "                                  &#x27;pain_char&#x27;, &#x27;lesion_color&#x27;, &#x27;pain_somewhere&#x27;,\n",
              "                                  &#x27;lesion_location&#x27;, &#x27;swelling_location&#x27;])])</pre></div></div></div><div class=\"sk-parallel\"><div class=\"sk-parallel-item\"><div class=\"sk-item\"><div class=\"sk-label-container\"><div class=\"sk-label sk-toggleable\"><input class=\"sk-toggleable__control sk-hidden--visually\" id=\"sk-estimator-id-90\" type=\"checkbox\" ><label for=\"sk-estimator-id-90\" class=\"sk-toggleable__label sk-toggleable__label-arrow\">num</label><div class=\"sk-toggleable__content\"><pre>[&#x27;AGE&#x27;, &#x27;swollen_nodes&#x27;, &#x27;std&#x27;, &#x27;lesion_larger_than_1cm&#x27;, &#x27;sweating&#x27;, &#x27;diarrhea&#x27;, &#x27;pain&#x27;, &#x27;pain_intensity&#x27;, &#x27;pain_precise&#x27;, &#x27;pain_sudden&#x27;, &#x27;fever&#x27;, &#x27;unprotected_sex&#x27;, &#x27;lesions&#x27;, &#x27;lesion_pain_swollen&#x27;, &#x27;lesion_pain_intense&#x27;, &#x27;itching_severity&#x27;, &#x27;nausea&#x27;, &#x27;weight_loss&#x27;, &#x27;sex_hiv&#x27;, &#x27;fam_allergies&#x27;, &#x27;fam_j45&#x27;, &#x27;j45&#x27;, &#x27;itchy_nose&#x27;, &#x27;eye_itching&#x27;, &#x27;runny_nose&#x27;, &#x27;urban1&#x27;, &#x27;severe_allergy&#x27;, &#x27;contact_allergy&#x27;, &#x27;short_breath&#x27;, &#x27;swelling&#x27;, &#x27;lost_consciousness&#x27;, &#x27;stridor&#x27;, &#x27;z84.89&#x27;, &#x27;HIV&#x27;, &#x27;cortico&#x27;, &#x27;IV_drugs&#x27;, &#x27;e10_e11&#x27;, &#x27;f10.129&#x27;, &#x27;cough&#x27;, &#x27;cough_blood&#x27;, &#x27;v85.0&#x27;, &#x27;I30&#x27;, &#x27;f17.210&#x27;, &#x27;high_bp&#x27;, &#x27;ulcers&#x27;, &#x27;anorexia&#x27;, &#x27;new_fatigue&#x27;, &#x27;nsaids&#x27;, &#x27;i50&#x27;, &#x27;i80&#x27;, &#x27;lymph_surg&#x27;, &#x27;synd_nephro&#x27;, &#x27;convulsion&#x27;, &#x27;e66&#x27;, &#x27;red_eye&#x27;, &#x27;agri&#x27;, &#x27;gained_weight&#x27;, &#x27;k74&#x27;, &#x27;patho_endo&#x27;, &#x27;dizziness&#x27;, &#x27;wheezing_exhale&#x27;, &#x27;fatigue_ext&#x27;, &#x27;sore_throat&#x27;, &#x27;muscle_pain&#x27;, &#x27;lost_appetite&#x27;, &#x27;heart_valves&#x27;, &#x27;sahs&#x27;, &#x27;cont_pertussis&#x27;, &#x27;vomiting_cough&#x27;, &#x27;coughing_fits&#x27;, &#x27;vaccination&#x27;, &#x27;chills&#x27;, &#x27;z92.25&#x27;, &#x27;ca_blockers&#x27;, &#x27;vag_discharge&#x27;, &#x27;wheezing_inhale&#x27;, &#x27;fatigue&#x27;, &#x27;menarche_12&#x27;, &#x27;breastfed_9&#x27;, &#x27;confusion&#x27;, &#x27;contact&#x27;, &#x27;ebolacase&#x27;, &#x27;bruising&#x27;]</pre></div></div></div><div class=\"sk-serial\"><div class=\"sk-item\"><div class=\"sk-estimator sk-toggleable\"><input class=\"sk-toggleable__control sk-hidden--visually\" id=\"sk-estimator-id-91\" type=\"checkbox\" ><label for=\"sk-estimator-id-91\" class=\"sk-toggleable__label sk-toggleable__label-arrow\">StandardScaler</label><div class=\"sk-toggleable__content\"><pre>StandardScaler()</pre></div></div></div></div></div></div><div class=\"sk-parallel-item\"><div class=\"sk-item\"><div class=\"sk-label-container\"><div class=\"sk-label sk-toggleable\"><input class=\"sk-toggleable__control sk-hidden--visually\" id=\"sk-estimator-id-92\" type=\"checkbox\" ><label for=\"sk-estimator-id-92\" class=\"sk-toggleable__label sk-toggleable__label-arrow\">cat</label><div class=\"sk-toggleable__content\"><pre>[&#x27;INITIAL_EVIDENCE&#x27;, &#x27;SEX&#x27;, &#x27;trav1&#x27;, &#x27;pain_char&#x27;, &#x27;lesion_color&#x27;, &#x27;pain_somewhere&#x27;, &#x27;lesion_location&#x27;, &#x27;swelling_location&#x27;]</pre></div></div></div><div class=\"sk-serial\"><div class=\"sk-item\"><div class=\"sk-estimator sk-toggleable\"><input class=\"sk-toggleable__control sk-hidden--visually\" id=\"sk-estimator-id-93\" type=\"checkbox\" ><label for=\"sk-estimator-id-93\" class=\"sk-toggleable__label sk-toggleable__label-arrow\">OneHotEncoder</label><div class=\"sk-toggleable__content\"><pre>OneHotEncoder(categories=[[&#x27;eye_itching&#x27;, &#x27;fever&#x27;, &#x27;chills&#x27;, &#x27;lesions&#x27;,\n",
              "                           &#x27;new_fatigue&#x27;, &#x27;diarrhea&#x27;, &#x27;cough&#x27;, &#x27;fatigue_ext&#x27;,\n",
              "                           &#x27;bruising&#x27;, &#x27;dizziness&#x27;, &#x27;runny_nose&#x27;,\n",
              "                           &#x27;coughing_fits&#x27;, &#x27;convulsion&#x27;, &#x27;confusion&#x27;, &#x27;pain&#x27;,\n",
              "                           &#x27;weight_loss&#x27;, &#x27;wheezing_exhale&#x27;,\n",
              "                           &#x27;lost_consciousness&#x27;, &#x27;red_eye&#x27;, &#x27;fatigue&#x27;, &#x27;ulcers&#x27;,\n",
              "                           &#x27;nausea&#x27;, &#x27;cough_blood&#x27;, &#x27;short_breath&#x27;,\n",
              "                           &#x27;sore_throat&#x27;, &#x27;sweating&#x27;, &#x27;muscl...\n",
              "                           &#x27;labia minora(R)&#x27;, &#x27;thigh(L)&#x27;, &#x27;under the tongue&#x27;,\n",
              "                           &#x27;forehead&#x27;, &#x27;upper lip(R)&#x27;, &#x27;cheek(R)&#x27;,\n",
              "                           &#x27;bottom lip(R)&#x27;, &#x27;back of the neck&#x27;, &#x27;scrotum&#x27;,\n",
              "                           &#x27;cheek(L)&#x27;, &#x27;epigastric&#x27;, &#x27;thoracic spine&#x27;],\n",
              "                          [&#x27;nose&#x27;, &#x27;toe (1)(R)&#x27;, &#x27;toe (1)(L)&#x27;, &#x27;thigh(L)&#x27;,\n",
              "                           &#x27;calf(L)&#x27;, &#x27;cheek(L)&#x27;, &#x27;sole(R)&#x27;, &#x27;nowhere&#x27;,\n",
              "                           &#x27;dorsal aspect of the foot(L)&#x27;,\n",
              "                           &#x27;dorsal aspect of the foot(R)&#x27;, &#x27;sole(L)&#x27;,\n",
              "                           &#x27;forehead&#x27;, &#x27;calf(R)&#x27;, &#x27;thigh(R)&#x27;, &#x27;cheek(R)&#x27;]])</pre></div></div></div></div></div></div><div class=\"sk-parallel-item\"><div class=\"sk-item\"><div class=\"sk-label-container\"><div class=\"sk-label sk-toggleable\"><input class=\"sk-toggleable__control sk-hidden--visually\" id=\"sk-estimator-id-94\" type=\"checkbox\" ><label for=\"sk-estimator-id-94\" class=\"sk-toggleable__label sk-toggleable__label-arrow\">remainder</label><div class=\"sk-toggleable__content\"><pre>[]</pre></div></div></div><div class=\"sk-serial\"><div class=\"sk-item\"><div class=\"sk-estimator sk-toggleable\"><input class=\"sk-toggleable__control sk-hidden--visually\" id=\"sk-estimator-id-95\" type=\"checkbox\" ><label for=\"sk-estimator-id-95\" class=\"sk-toggleable__label sk-toggleable__label-arrow\">passthrough</label><div class=\"sk-toggleable__content\"><pre>passthrough</pre></div></div></div></div></div></div></div></div><div class=\"sk-item\"><div class=\"sk-estimator sk-toggleable\"><input class=\"sk-toggleable__control sk-hidden--visually\" id=\"sk-estimator-id-96\" type=\"checkbox\" ><label for=\"sk-estimator-id-96\" class=\"sk-toggleable__label sk-toggleable__label-arrow\">GradientBoostingClassifier</label><div class=\"sk-toggleable__content\"><pre>GradientBoostingClassifier(n_estimators=10, random_state=42)</pre></div></div></div></div></div></div></div>"
            ]
          },
          "metadata": {},
          "execution_count": 247
        }
      ]
    },
    {
      "cell_type": "code",
      "source": [
        "from sklearn.ensemble import AdaBoostClassifier\n",
        "\n",
        "ada = AdaBoostClassifier(random_state = SEED, n_estimators=10, estimator=RandomForestClassifier(random_state = SEED, n_estimators=10))\n",
        "\n",
        "fit_and_score(ada)"
      ],
      "metadata": {
        "colab": {
          "base_uri": "https://localhost:8080/"
        },
        "id": "djXCL1EKH8bb",
        "outputId": "67bcab2e-301d-4b36-b4bb-74979b2104ce"
      },
      "execution_count": null,
      "outputs": [
        {
          "output_type": "stream",
          "name": "stdout",
          "text": [
            "AdaBoostClassifier(estimator=RandomForestClassifier(n_estimators=10,\n",
            "                                                    random_state=42),\n",
            "                   n_estimators=10, random_state=42)\n",
            "\n",
            "                         precision    recall  f1-score   support\n",
            "\n",
            "     Allergic sinusitis       0.74      0.90      0.81      2136\n",
            "            Anaphylaxis       0.69      0.50      0.58      3754\n",
            "                 Chagas       0.78      0.23      0.36      1124\n",
            "HIV (initial infection)       0.42      0.42      0.42      3852\n",
            "              Influenza       0.57      0.36      0.44      3590\n",
            "        Localized edema       0.53      0.97      0.68      3694\n",
            "                    SLE       0.65      0.38      0.48      1579\n",
            "            Sarcoidosis       0.63      0.64      0.63      3028\n",
            "           Tuberculosis       0.52      0.55      0.54      2007\n",
            "         Whooping cough       1.00      1.00      1.00       545\n",
            "\n",
            "               accuracy                           0.58     25309\n",
            "              macro avg       0.65      0.60      0.59     25309\n",
            "           weighted avg       0.60      0.58      0.57     25309\n",
            "\n"
          ]
        }
      ]
    },
    {
      "cell_type": "markdown",
      "source": [
        "### XGBoost and CatBoost"
      ],
      "metadata": {
        "id": "z616ppTVkwKC"
      }
    },
    {
      "cell_type": "code",
      "source": [
        "from xgboost import XGBClassifier\n",
        "from sklearn.preprocessing import LabelEncoder\n",
        "\n",
        "le = LabelEncoder()\n",
        "\n",
        "xgb = XGBClassifier(random_state = SEED, n_estimators=10)\n",
        "\n",
        "xgb_model = custom_pipeline(xgb)\n",
        "xgb_model.fit(X_train, le.fit_transform(y_train))"
      ],
      "metadata": {
        "colab": {
          "base_uri": "https://localhost:8080/",
          "height": 192
        },
        "id": "6lo4FL8oJSkn",
        "outputId": "eea26c38-2620-4f7a-80c5-79f1939d8d33"
      },
      "execution_count": null,
      "outputs": [
        {
          "output_type": "execute_result",
          "data": {
            "text/plain": [
              "Pipeline(steps=[('columntransformer',\n",
              "                 ColumnTransformer(remainder='passthrough',\n",
              "                                   transformers=[('num', StandardScaler(),\n",
              "                                                  ['AGE', 'swollen_nodes',\n",
              "                                                   'std',\n",
              "                                                   'lesion_larger_than_1cm',\n",
              "                                                   'sweating', 'diarrhea',\n",
              "                                                   'pain', 'pain_intensity',\n",
              "                                                   'pain_precise',\n",
              "                                                   'pain_sudden', 'fever',\n",
              "                                                   'unprotected_sex', 'lesions',\n",
              "                                                   'lesion_pain_swollen',\n",
              "                                                   'lesion_pain_intense',\n",
              "                                                   'itching_severity', 'naus...\n",
              "                               feature_types=None, gamma=None, grow_policy=None,\n",
              "                               importance_type=None,\n",
              "                               interaction_constraints=None, learning_rate=None,\n",
              "                               max_bin=None, max_cat_threshold=None,\n",
              "                               max_cat_to_onehot=None, max_delta_step=None,\n",
              "                               max_depth=None, max_leaves=None,\n",
              "                               min_child_weight=None, missing=nan,\n",
              "                               monotone_constraints=None, multi_strategy=None,\n",
              "                               n_estimators=10, n_jobs=None,\n",
              "                               num_parallel_tree=None,\n",
              "                               objective='multi:softprob', ...))])"
            ],
            "text/html": [
              "<style>#sk-container-id-1 {color: black;background-color: white;}#sk-container-id-1 pre{padding: 0;}#sk-container-id-1 div.sk-toggleable {background-color: white;}#sk-container-id-1 label.sk-toggleable__label {cursor: pointer;display: block;width: 100%;margin-bottom: 0;padding: 0.3em;box-sizing: border-box;text-align: center;}#sk-container-id-1 label.sk-toggleable__label-arrow:before {content: \"▸\";float: left;margin-right: 0.25em;color: #696969;}#sk-container-id-1 label.sk-toggleable__label-arrow:hover:before {color: black;}#sk-container-id-1 div.sk-estimator:hover label.sk-toggleable__label-arrow:before {color: black;}#sk-container-id-1 div.sk-toggleable__content {max-height: 0;max-width: 0;overflow: hidden;text-align: left;background-color: #f0f8ff;}#sk-container-id-1 div.sk-toggleable__content pre {margin: 0.2em;color: black;border-radius: 0.25em;background-color: #f0f8ff;}#sk-container-id-1 input.sk-toggleable__control:checked~div.sk-toggleable__content {max-height: 200px;max-width: 100%;overflow: auto;}#sk-container-id-1 input.sk-toggleable__control:checked~label.sk-toggleable__label-arrow:before {content: \"▾\";}#sk-container-id-1 div.sk-estimator input.sk-toggleable__control:checked~label.sk-toggleable__label {background-color: #d4ebff;}#sk-container-id-1 div.sk-label input.sk-toggleable__control:checked~label.sk-toggleable__label {background-color: #d4ebff;}#sk-container-id-1 input.sk-hidden--visually {border: 0;clip: rect(1px 1px 1px 1px);clip: rect(1px, 1px, 1px, 1px);height: 1px;margin: -1px;overflow: hidden;padding: 0;position: absolute;width: 1px;}#sk-container-id-1 div.sk-estimator {font-family: monospace;background-color: #f0f8ff;border: 1px dotted black;border-radius: 0.25em;box-sizing: border-box;margin-bottom: 0.5em;}#sk-container-id-1 div.sk-estimator:hover {background-color: #d4ebff;}#sk-container-id-1 div.sk-parallel-item::after {content: \"\";width: 100%;border-bottom: 1px solid gray;flex-grow: 1;}#sk-container-id-1 div.sk-label:hover label.sk-toggleable__label {background-color: #d4ebff;}#sk-container-id-1 div.sk-serial::before {content: \"\";position: absolute;border-left: 1px solid gray;box-sizing: border-box;top: 0;bottom: 0;left: 50%;z-index: 0;}#sk-container-id-1 div.sk-serial {display: flex;flex-direction: column;align-items: center;background-color: white;padding-right: 0.2em;padding-left: 0.2em;position: relative;}#sk-container-id-1 div.sk-item {position: relative;z-index: 1;}#sk-container-id-1 div.sk-parallel {display: flex;align-items: stretch;justify-content: center;background-color: white;position: relative;}#sk-container-id-1 div.sk-item::before, #sk-container-id-1 div.sk-parallel-item::before {content: \"\";position: absolute;border-left: 1px solid gray;box-sizing: border-box;top: 0;bottom: 0;left: 50%;z-index: -1;}#sk-container-id-1 div.sk-parallel-item {display: flex;flex-direction: column;z-index: 1;position: relative;background-color: white;}#sk-container-id-1 div.sk-parallel-item:first-child::after {align-self: flex-end;width: 50%;}#sk-container-id-1 div.sk-parallel-item:last-child::after {align-self: flex-start;width: 50%;}#sk-container-id-1 div.sk-parallel-item:only-child::after {width: 0;}#sk-container-id-1 div.sk-dashed-wrapped {border: 1px dashed gray;margin: 0 0.4em 0.5em 0.4em;box-sizing: border-box;padding-bottom: 0.4em;background-color: white;}#sk-container-id-1 div.sk-label label {font-family: monospace;font-weight: bold;display: inline-block;line-height: 1.2em;}#sk-container-id-1 div.sk-label-container {text-align: center;}#sk-container-id-1 div.sk-container {/* jupyter's `normalize.less` sets `[hidden] { display: none; }` but bootstrap.min.css set `[hidden] { display: none !important; }` so we also need the `!important` here to be able to override the default hidden behavior on the sphinx rendered scikit-learn.org. See: https://github.com/scikit-learn/scikit-learn/issues/21755 */display: inline-block !important;position: relative;}#sk-container-id-1 div.sk-text-repr-fallback {display: none;}</style><div id=\"sk-container-id-1\" class=\"sk-top-container\"><div class=\"sk-text-repr-fallback\"><pre>Pipeline(steps=[(&#x27;columntransformer&#x27;,\n",
              "                 ColumnTransformer(remainder=&#x27;passthrough&#x27;,\n",
              "                                   transformers=[(&#x27;num&#x27;, StandardScaler(),\n",
              "                                                  [&#x27;AGE&#x27;, &#x27;swollen_nodes&#x27;,\n",
              "                                                   &#x27;std&#x27;,\n",
              "                                                   &#x27;lesion_larger_than_1cm&#x27;,\n",
              "                                                   &#x27;sweating&#x27;, &#x27;diarrhea&#x27;,\n",
              "                                                   &#x27;pain&#x27;, &#x27;pain_intensity&#x27;,\n",
              "                                                   &#x27;pain_precise&#x27;,\n",
              "                                                   &#x27;pain_sudden&#x27;, &#x27;fever&#x27;,\n",
              "                                                   &#x27;unprotected_sex&#x27;, &#x27;lesions&#x27;,\n",
              "                                                   &#x27;lesion_pain_swollen&#x27;,\n",
              "                                                   &#x27;lesion_pain_intense&#x27;,\n",
              "                                                   &#x27;itching_severity&#x27;, &#x27;naus...\n",
              "                               feature_types=None, gamma=None, grow_policy=None,\n",
              "                               importance_type=None,\n",
              "                               interaction_constraints=None, learning_rate=None,\n",
              "                               max_bin=None, max_cat_threshold=None,\n",
              "                               max_cat_to_onehot=None, max_delta_step=None,\n",
              "                               max_depth=None, max_leaves=None,\n",
              "                               min_child_weight=None, missing=nan,\n",
              "                               monotone_constraints=None, multi_strategy=None,\n",
              "                               n_estimators=10, n_jobs=None,\n",
              "                               num_parallel_tree=None,\n",
              "                               objective=&#x27;multi:softprob&#x27;, ...))])</pre><b>In a Jupyter environment, please rerun this cell to show the HTML representation or trust the notebook. <br />On GitHub, the HTML representation is unable to render, please try loading this page with nbviewer.org.</b></div><div class=\"sk-container\" hidden><div class=\"sk-item sk-dashed-wrapped\"><div class=\"sk-label-container\"><div class=\"sk-label sk-toggleable\"><input class=\"sk-toggleable__control sk-hidden--visually\" id=\"sk-estimator-id-1\" type=\"checkbox\" ><label for=\"sk-estimator-id-1\" class=\"sk-toggleable__label sk-toggleable__label-arrow\">Pipeline</label><div class=\"sk-toggleable__content\"><pre>Pipeline(steps=[(&#x27;columntransformer&#x27;,\n",
              "                 ColumnTransformer(remainder=&#x27;passthrough&#x27;,\n",
              "                                   transformers=[(&#x27;num&#x27;, StandardScaler(),\n",
              "                                                  [&#x27;AGE&#x27;, &#x27;swollen_nodes&#x27;,\n",
              "                                                   &#x27;std&#x27;,\n",
              "                                                   &#x27;lesion_larger_than_1cm&#x27;,\n",
              "                                                   &#x27;sweating&#x27;, &#x27;diarrhea&#x27;,\n",
              "                                                   &#x27;pain&#x27;, &#x27;pain_intensity&#x27;,\n",
              "                                                   &#x27;pain_precise&#x27;,\n",
              "                                                   &#x27;pain_sudden&#x27;, &#x27;fever&#x27;,\n",
              "                                                   &#x27;unprotected_sex&#x27;, &#x27;lesions&#x27;,\n",
              "                                                   &#x27;lesion_pain_swollen&#x27;,\n",
              "                                                   &#x27;lesion_pain_intense&#x27;,\n",
              "                                                   &#x27;itching_severity&#x27;, &#x27;naus...\n",
              "                               feature_types=None, gamma=None, grow_policy=None,\n",
              "                               importance_type=None,\n",
              "                               interaction_constraints=None, learning_rate=None,\n",
              "                               max_bin=None, max_cat_threshold=None,\n",
              "                               max_cat_to_onehot=None, max_delta_step=None,\n",
              "                               max_depth=None, max_leaves=None,\n",
              "                               min_child_weight=None, missing=nan,\n",
              "                               monotone_constraints=None, multi_strategy=None,\n",
              "                               n_estimators=10, n_jobs=None,\n",
              "                               num_parallel_tree=None,\n",
              "                               objective=&#x27;multi:softprob&#x27;, ...))])</pre></div></div></div><div class=\"sk-serial\"><div class=\"sk-item sk-dashed-wrapped\"><div class=\"sk-label-container\"><div class=\"sk-label sk-toggleable\"><input class=\"sk-toggleable__control sk-hidden--visually\" id=\"sk-estimator-id-2\" type=\"checkbox\" ><label for=\"sk-estimator-id-2\" class=\"sk-toggleable__label sk-toggleable__label-arrow\">columntransformer: ColumnTransformer</label><div class=\"sk-toggleable__content\"><pre>ColumnTransformer(remainder=&#x27;passthrough&#x27;,\n",
              "                  transformers=[(&#x27;num&#x27;, StandardScaler(),\n",
              "                                 [&#x27;AGE&#x27;, &#x27;swollen_nodes&#x27;, &#x27;std&#x27;,\n",
              "                                  &#x27;lesion_larger_than_1cm&#x27;, &#x27;sweating&#x27;,\n",
              "                                  &#x27;diarrhea&#x27;, &#x27;pain&#x27;, &#x27;pain_intensity&#x27;,\n",
              "                                  &#x27;pain_precise&#x27;, &#x27;pain_sudden&#x27;, &#x27;fever&#x27;,\n",
              "                                  &#x27;unprotected_sex&#x27;, &#x27;lesions&#x27;,\n",
              "                                  &#x27;lesion_pain_swollen&#x27;, &#x27;lesion_pain_intense&#x27;,\n",
              "                                  &#x27;itching_severity&#x27;, &#x27;nausea&#x27;, &#x27;weight_loss&#x27;,\n",
              "                                  &#x27;sex_hiv&#x27;, &#x27;fam_alle...\n",
              "                                                            &#x27;cheek(L)&#x27;,\n",
              "                                                            &#x27;epigastric&#x27;,\n",
              "                                                            &#x27;thoracic spine&#x27;],\n",
              "                                                           [&#x27;nose&#x27;,\n",
              "                                                            &#x27;toe (1)(R)&#x27;,\n",
              "                                                            &#x27;toe (1)(L)&#x27;,\n",
              "                                                            &#x27;thigh(L)&#x27;,\n",
              "                                                            &#x27;calf(L)&#x27;,\n",
              "                                                            &#x27;cheek(L)&#x27;,\n",
              "                                                            &#x27;sole(R)&#x27;,\n",
              "                                                            &#x27;nowhere&#x27;,\n",
              "                                                            &#x27;dorsal aspect of &#x27;\n",
              "                                                            &#x27;the foot(L)&#x27;,\n",
              "                                                            &#x27;dorsal aspect of &#x27;\n",
              "                                                            &#x27;the foot(R)&#x27;,\n",
              "                                                            &#x27;sole(L)&#x27;,\n",
              "                                                            &#x27;forehead&#x27;,\n",
              "                                                            &#x27;calf(R)&#x27;,\n",
              "                                                            &#x27;thigh(R)&#x27;,\n",
              "                                                            &#x27;cheek(R)&#x27;]]),\n",
              "                                 [&#x27;INITIAL_EVIDENCE&#x27;, &#x27;SEX&#x27;, &#x27;trav1&#x27;,\n",
              "                                  &#x27;pain_char&#x27;, &#x27;lesion_color&#x27;, &#x27;pain_somewhere&#x27;,\n",
              "                                  &#x27;lesion_location&#x27;, &#x27;swelling_location&#x27;])])</pre></div></div></div><div class=\"sk-parallel\"><div class=\"sk-parallel-item\"><div class=\"sk-item\"><div class=\"sk-label-container\"><div class=\"sk-label sk-toggleable\"><input class=\"sk-toggleable__control sk-hidden--visually\" id=\"sk-estimator-id-3\" type=\"checkbox\" ><label for=\"sk-estimator-id-3\" class=\"sk-toggleable__label sk-toggleable__label-arrow\">num</label><div class=\"sk-toggleable__content\"><pre>[&#x27;AGE&#x27;, &#x27;swollen_nodes&#x27;, &#x27;std&#x27;, &#x27;lesion_larger_than_1cm&#x27;, &#x27;sweating&#x27;, &#x27;diarrhea&#x27;, &#x27;pain&#x27;, &#x27;pain_intensity&#x27;, &#x27;pain_precise&#x27;, &#x27;pain_sudden&#x27;, &#x27;fever&#x27;, &#x27;unprotected_sex&#x27;, &#x27;lesions&#x27;, &#x27;lesion_pain_swollen&#x27;, &#x27;lesion_pain_intense&#x27;, &#x27;itching_severity&#x27;, &#x27;nausea&#x27;, &#x27;weight_loss&#x27;, &#x27;sex_hiv&#x27;, &#x27;fam_allergies&#x27;, &#x27;fam_j45&#x27;, &#x27;j45&#x27;, &#x27;itchy_nose&#x27;, &#x27;eye_itching&#x27;, &#x27;runny_nose&#x27;, &#x27;urban1&#x27;, &#x27;severe_allergy&#x27;, &#x27;contact_allergy&#x27;, &#x27;short_breath&#x27;, &#x27;swelling&#x27;, &#x27;lost_consciousness&#x27;, &#x27;stridor&#x27;, &#x27;z84.89&#x27;, &#x27;HIV&#x27;, &#x27;cortico&#x27;, &#x27;IV_drugs&#x27;, &#x27;e10_e11&#x27;, &#x27;f10.129&#x27;, &#x27;cough&#x27;, &#x27;cough_blood&#x27;, &#x27;v85.0&#x27;, &#x27;I30&#x27;, &#x27;f17.210&#x27;, &#x27;high_bp&#x27;, &#x27;ulcers&#x27;, &#x27;anorexia&#x27;, &#x27;new_fatigue&#x27;, &#x27;nsaids&#x27;, &#x27;i50&#x27;, &#x27;i80&#x27;, &#x27;lymph_surg&#x27;, &#x27;synd_nephro&#x27;, &#x27;convulsion&#x27;, &#x27;e66&#x27;, &#x27;red_eye&#x27;, &#x27;agri&#x27;, &#x27;gained_weight&#x27;, &#x27;k74&#x27;, &#x27;patho_endo&#x27;, &#x27;dizziness&#x27;, &#x27;wheezing_exhale&#x27;, &#x27;fatigue_ext&#x27;, &#x27;sore_throat&#x27;, &#x27;muscle_pain&#x27;, &#x27;lost_appetite&#x27;, &#x27;heart_valves&#x27;, &#x27;sahs&#x27;, &#x27;cont_pertussis&#x27;, &#x27;vomiting_cough&#x27;, &#x27;coughing_fits&#x27;, &#x27;vaccination&#x27;, &#x27;chills&#x27;, &#x27;z92.25&#x27;, &#x27;ca_blockers&#x27;, &#x27;vag_discharge&#x27;, &#x27;wheezing_inhale&#x27;, &#x27;fatigue&#x27;, &#x27;menarche_12&#x27;, &#x27;breastfed_9&#x27;, &#x27;confusion&#x27;, &#x27;contact&#x27;, &#x27;ebolacase&#x27;, &#x27;bruising&#x27;]</pre></div></div></div><div class=\"sk-serial\"><div class=\"sk-item\"><div class=\"sk-estimator sk-toggleable\"><input class=\"sk-toggleable__control sk-hidden--visually\" id=\"sk-estimator-id-4\" type=\"checkbox\" ><label for=\"sk-estimator-id-4\" class=\"sk-toggleable__label sk-toggleable__label-arrow\">StandardScaler</label><div class=\"sk-toggleable__content\"><pre>StandardScaler()</pre></div></div></div></div></div></div><div class=\"sk-parallel-item\"><div class=\"sk-item\"><div class=\"sk-label-container\"><div class=\"sk-label sk-toggleable\"><input class=\"sk-toggleable__control sk-hidden--visually\" id=\"sk-estimator-id-5\" type=\"checkbox\" ><label for=\"sk-estimator-id-5\" class=\"sk-toggleable__label sk-toggleable__label-arrow\">cat</label><div class=\"sk-toggleable__content\"><pre>[&#x27;INITIAL_EVIDENCE&#x27;, &#x27;SEX&#x27;, &#x27;trav1&#x27;, &#x27;pain_char&#x27;, &#x27;lesion_color&#x27;, &#x27;pain_somewhere&#x27;, &#x27;lesion_location&#x27;, &#x27;swelling_location&#x27;]</pre></div></div></div><div class=\"sk-serial\"><div class=\"sk-item\"><div class=\"sk-estimator sk-toggleable\"><input class=\"sk-toggleable__control sk-hidden--visually\" id=\"sk-estimator-id-6\" type=\"checkbox\" ><label for=\"sk-estimator-id-6\" class=\"sk-toggleable__label sk-toggleable__label-arrow\">OneHotEncoder</label><div class=\"sk-toggleable__content\"><pre>OneHotEncoder(categories=[[&#x27;eye_itching&#x27;, &#x27;fever&#x27;, &#x27;chills&#x27;, &#x27;lesions&#x27;,\n",
              "                           &#x27;new_fatigue&#x27;, &#x27;diarrhea&#x27;, &#x27;cough&#x27;, &#x27;fatigue_ext&#x27;,\n",
              "                           &#x27;bruising&#x27;, &#x27;dizziness&#x27;, &#x27;runny_nose&#x27;,\n",
              "                           &#x27;coughing_fits&#x27;, &#x27;convulsion&#x27;, &#x27;confusion&#x27;, &#x27;pain&#x27;,\n",
              "                           &#x27;weight_loss&#x27;, &#x27;wheezing_exhale&#x27;,\n",
              "                           &#x27;lost_consciousness&#x27;, &#x27;red_eye&#x27;, &#x27;fatigue&#x27;, &#x27;ulcers&#x27;,\n",
              "                           &#x27;nausea&#x27;, &#x27;cough_blood&#x27;, &#x27;short_breath&#x27;,\n",
              "                           &#x27;sore_throat&#x27;, &#x27;sweating&#x27;, &#x27;muscl...\n",
              "                           &#x27;labia minora(R)&#x27;, &#x27;thigh(L)&#x27;, &#x27;under the tongue&#x27;,\n",
              "                           &#x27;forehead&#x27;, &#x27;upper lip(R)&#x27;, &#x27;cheek(R)&#x27;,\n",
              "                           &#x27;bottom lip(R)&#x27;, &#x27;back of the neck&#x27;, &#x27;scrotum&#x27;,\n",
              "                           &#x27;cheek(L)&#x27;, &#x27;epigastric&#x27;, &#x27;thoracic spine&#x27;],\n",
              "                          [&#x27;nose&#x27;, &#x27;toe (1)(R)&#x27;, &#x27;toe (1)(L)&#x27;, &#x27;thigh(L)&#x27;,\n",
              "                           &#x27;calf(L)&#x27;, &#x27;cheek(L)&#x27;, &#x27;sole(R)&#x27;, &#x27;nowhere&#x27;,\n",
              "                           &#x27;dorsal aspect of the foot(L)&#x27;,\n",
              "                           &#x27;dorsal aspect of the foot(R)&#x27;, &#x27;sole(L)&#x27;,\n",
              "                           &#x27;forehead&#x27;, &#x27;calf(R)&#x27;, &#x27;thigh(R)&#x27;, &#x27;cheek(R)&#x27;]])</pre></div></div></div></div></div></div><div class=\"sk-parallel-item\"><div class=\"sk-item\"><div class=\"sk-label-container\"><div class=\"sk-label sk-toggleable\"><input class=\"sk-toggleable__control sk-hidden--visually\" id=\"sk-estimator-id-7\" type=\"checkbox\" ><label for=\"sk-estimator-id-7\" class=\"sk-toggleable__label sk-toggleable__label-arrow\">remainder</label><div class=\"sk-toggleable__content\"><pre>[]</pre></div></div></div><div class=\"sk-serial\"><div class=\"sk-item\"><div class=\"sk-estimator sk-toggleable\"><input class=\"sk-toggleable__control sk-hidden--visually\" id=\"sk-estimator-id-8\" type=\"checkbox\" ><label for=\"sk-estimator-id-8\" class=\"sk-toggleable__label sk-toggleable__label-arrow\">passthrough</label><div class=\"sk-toggleable__content\"><pre>passthrough</pre></div></div></div></div></div></div></div></div><div class=\"sk-item\"><div class=\"sk-estimator sk-toggleable\"><input class=\"sk-toggleable__control sk-hidden--visually\" id=\"sk-estimator-id-9\" type=\"checkbox\" ><label for=\"sk-estimator-id-9\" class=\"sk-toggleable__label sk-toggleable__label-arrow\">XGBClassifier</label><div class=\"sk-toggleable__content\"><pre>XGBClassifier(base_score=None, booster=None, callbacks=None,\n",
              "              colsample_bylevel=None, colsample_bynode=None,\n",
              "              colsample_bytree=None, device=None, early_stopping_rounds=None,\n",
              "              enable_categorical=False, eval_metric=None, feature_types=None,\n",
              "              gamma=None, grow_policy=None, importance_type=None,\n",
              "              interaction_constraints=None, learning_rate=None, max_bin=None,\n",
              "              max_cat_threshold=None, max_cat_to_onehot=None,\n",
              "              max_delta_step=None, max_depth=None, max_leaves=None,\n",
              "              min_child_weight=None, missing=nan, monotone_constraints=None,\n",
              "              multi_strategy=None, n_estimators=10, n_jobs=None,\n",
              "              num_parallel_tree=None, objective=&#x27;multi:softprob&#x27;, ...)</pre></div></div></div></div></div></div></div>"
            ]
          },
          "metadata": {},
          "execution_count": 29
        }
      ]
    },
    {
      "cell_type": "code",
      "source": [
        "print(cr(le.fit_transform(y_validate), xgb_model.predict(X_validate)))"
      ],
      "metadata": {
        "colab": {
          "base_uri": "https://localhost:8080/"
        },
        "id": "Slxnlu5bXLMF",
        "outputId": "e9276f1d-1404-442d-b294-cf36cf4815c3"
      },
      "execution_count": null,
      "outputs": [
        {
          "output_type": "stream",
          "name": "stdout",
          "text": [
            "              precision    recall  f1-score   support\n",
            "\n",
            "           0       0.79      0.88      0.83      2136\n",
            "           1       0.98      0.40      0.57      3754\n",
            "           2       1.00      0.22      0.37      1124\n",
            "           3       0.40      0.58      0.47      3852\n",
            "           4       0.70      0.29      0.41      3590\n",
            "           5       0.52      1.00      0.68      3694\n",
            "           6       0.88      0.34      0.49      1579\n",
            "           7       0.60      0.72      0.65      3028\n",
            "           8       0.58      0.61      0.59      2007\n",
            "           9       1.00      1.00      1.00       545\n",
            "\n",
            "    accuracy                           0.60     25309\n",
            "   macro avg       0.74      0.60      0.61     25309\n",
            "weighted avg       0.69      0.60      0.58     25309\n",
            "\n"
          ]
        }
      ]
    },
    {
      "cell_type": "code",
      "source": [
        "!pip install catboost"
      ],
      "metadata": {
        "colab": {
          "base_uri": "https://localhost:8080/"
        },
        "collapsed": true,
        "id": "x9VAhUOMK_Ow",
        "outputId": "89a59f12-d3ef-4967-c132-0b3f3cf8bb67"
      },
      "execution_count": null,
      "outputs": [
        {
          "output_type": "stream",
          "name": "stdout",
          "text": [
            "Collecting catboost\n",
            "  Downloading catboost-1.2.5-cp310-cp310-manylinux2014_x86_64.whl (98.2 MB)\n",
            "\u001b[2K     \u001b[90m━━━━━━━━━━━━━━━━━━━━━━━━━━━━━━━━━━━━━━━━\u001b[0m \u001b[32m98.2/98.2 MB\u001b[0m \u001b[31m4.5 MB/s\u001b[0m eta \u001b[36m0:00:00\u001b[0m\n",
            "\u001b[?25hRequirement already satisfied: graphviz in /usr/local/lib/python3.10/dist-packages (from catboost) (0.20.3)\n",
            "Requirement already satisfied: matplotlib in /usr/local/lib/python3.10/dist-packages (from catboost) (3.7.1)\n",
            "Requirement already satisfied: numpy>=1.16.0 in /usr/local/lib/python3.10/dist-packages (from catboost) (1.25.2)\n",
            "Requirement already satisfied: pandas>=0.24 in /usr/local/lib/python3.10/dist-packages (from catboost) (2.0.3)\n",
            "Requirement already satisfied: scipy in /usr/local/lib/python3.10/dist-packages (from catboost) (1.11.4)\n",
            "Requirement already satisfied: plotly in /usr/local/lib/python3.10/dist-packages (from catboost) (5.15.0)\n",
            "Requirement already satisfied: six in /usr/local/lib/python3.10/dist-packages (from catboost) (1.16.0)\n",
            "Requirement already satisfied: python-dateutil>=2.8.2 in /usr/local/lib/python3.10/dist-packages (from pandas>=0.24->catboost) (2.8.2)\n",
            "Requirement already satisfied: pytz>=2020.1 in /usr/local/lib/python3.10/dist-packages (from pandas>=0.24->catboost) (2023.4)\n",
            "Requirement already satisfied: tzdata>=2022.1 in /usr/local/lib/python3.10/dist-packages (from pandas>=0.24->catboost) (2024.1)\n",
            "Requirement already satisfied: contourpy>=1.0.1 in /usr/local/lib/python3.10/dist-packages (from matplotlib->catboost) (1.2.1)\n",
            "Requirement already satisfied: cycler>=0.10 in /usr/local/lib/python3.10/dist-packages (from matplotlib->catboost) (0.12.1)\n",
            "Requirement already satisfied: fonttools>=4.22.0 in /usr/local/lib/python3.10/dist-packages (from matplotlib->catboost) (4.51.0)\n",
            "Requirement already satisfied: kiwisolver>=1.0.1 in /usr/local/lib/python3.10/dist-packages (from matplotlib->catboost) (1.4.5)\n",
            "Requirement already satisfied: packaging>=20.0 in /usr/local/lib/python3.10/dist-packages (from matplotlib->catboost) (24.0)\n",
            "Requirement already satisfied: pillow>=6.2.0 in /usr/local/lib/python3.10/dist-packages (from matplotlib->catboost) (9.4.0)\n",
            "Requirement already satisfied: pyparsing>=2.3.1 in /usr/local/lib/python3.10/dist-packages (from matplotlib->catboost) (3.1.2)\n",
            "Requirement already satisfied: tenacity>=6.2.0 in /usr/local/lib/python3.10/dist-packages (from plotly->catboost) (8.3.0)\n",
            "Installing collected packages: catboost\n",
            "Successfully installed catboost-1.2.5\n"
          ]
        }
      ]
    },
    {
      "cell_type": "markdown",
      "source": [
        "This is using CatBoost the way we did everything else:"
      ],
      "metadata": {
        "id": "y5qXdvfnbuOq"
      }
    },
    {
      "cell_type": "code",
      "source": [
        "from catboost import CatBoostClassifier\n",
        "\n",
        "cat = CatBoostClassifier(\n",
        "    random_state = SEED,\n",
        "    iterations=10,\n",
        "    learning_rate=0.8\n",
        "    )\n",
        "\n",
        "fit_and_score(cat)"
      ],
      "metadata": {
        "colab": {
          "base_uri": "https://localhost:8080/",
          "height": 696
        },
        "id": "msCE56CwK7G3",
        "outputId": "9e490d1f-00c1-4176-f237-48b4546e7ad9"
      },
      "execution_count": null,
      "outputs": [
        {
          "output_type": "stream",
          "name": "stdout",
          "text": [
            "0:\tlearn: 1.7534206\ttotal: 1.01s\tremaining: 9.13s\n",
            "1:\tlearn: 1.4637232\ttotal: 1.91s\tremaining: 7.66s\n",
            "2:\tlearn: 1.3375018\ttotal: 3.08s\tremaining: 7.18s\n",
            "3:\tlearn: 1.3414745\ttotal: 4.57s\tremaining: 6.85s\n",
            "4:\tlearn: 15.5164142\ttotal: 6.14s\tremaining: 6.14s\n",
            "5:\tlearn: 52.3325873\ttotal: 7.6s\tremaining: 5.07s\n",
            "6:\tlearn: 131.4412794\ttotal: 8.64s\tremaining: 3.7s\n",
            "7:\tlearn: 22.9945767\ttotal: 9.56s\tremaining: 2.39s\n",
            "8:\tlearn: 75.1067938\ttotal: 10.5s\tremaining: 1.17s\n",
            "9:\tlearn: 33.0058048\ttotal: 11.4s\tremaining: 0us\n",
            "<catboost.core.CatBoostClassifier object at 0x785a37c0eb90>\n",
            "\n",
            "                         precision    recall  f1-score   support\n",
            "\n",
            "     Allergic sinusitis       0.80      0.87      0.83      2136\n",
            "            Anaphylaxis       0.82      0.47      0.60      3754\n",
            "                 Chagas       1.00      0.22      0.36      1124\n",
            "HIV (initial infection)       0.42      0.39      0.40      3852\n",
            "              Influenza       0.53      0.43      0.48      3590\n",
            "        Localized edema       0.52      1.00      0.68      3694\n",
            "                    SLE       0.41      0.51      0.45      1579\n",
            "            Sarcoidosis       0.60      0.72      0.65      3028\n",
            "           Tuberculosis       0.75      0.30      0.42      2007\n",
            "         Whooping cough       1.00      1.00      1.00       545\n",
            "\n",
            "               accuracy                           0.58     25309\n",
            "              macro avg       0.68      0.59      0.59     25309\n",
            "           weighted avg       0.63      0.58      0.57     25309\n",
            "\n"
          ]
        },
        {
          "output_type": "execute_result",
          "data": {
            "text/plain": [
              "Pipeline(steps=[('columntransformer',\n",
              "                 ColumnTransformer(remainder='passthrough',\n",
              "                                   transformers=[('num', StandardScaler(),\n",
              "                                                  ['AGE', 'swollen_nodes',\n",
              "                                                   'std',\n",
              "                                                   'lesion_larger_than_1cm',\n",
              "                                                   'sweating', 'diarrhea',\n",
              "                                                   'pain', 'pain_intensity',\n",
              "                                                   'pain_precise',\n",
              "                                                   'pain_sudden', 'fever',\n",
              "                                                   'unprotected_sex', 'lesions',\n",
              "                                                   'lesion_pain_swollen',\n",
              "                                                   'lesion_pain_intense',\n",
              "                                                   'itching_severity', 'naus...\n",
              "                                                                             'cheek(L)',\n",
              "                                                                             'sole(R)',\n",
              "                                                                             'nowhere',\n",
              "                                                                             'dorsal '\n",
              "                                                                             'aspect '\n",
              "                                                                             'of '\n",
              "                                                                             'the '\n",
              "                                                                             'foot(L)',\n",
              "                                                                             'dorsal '\n",
              "                                                                             'aspect '\n",
              "                                                                             'of '\n",
              "                                                                             'the '\n",
              "                                                                             'foot(R)',\n",
              "                                                                             'sole(L)',\n",
              "                                                                             'forehead',\n",
              "                                                                             'calf(R)',\n",
              "                                                                             'thigh(R)',\n",
              "                                                                             'cheek(R)']]),\n",
              "                                                  ['INITIAL_EVIDENCE', 'SEX',\n",
              "                                                   'trav1', 'pain_char',\n",
              "                                                   'lesion_color',\n",
              "                                                   'pain_somewhere',\n",
              "                                                   'lesion_location',\n",
              "                                                   'swelling_location'])])),\n",
              "                ('catboostclassifier',\n",
              "                 <catboost.core.CatBoostClassifier object at 0x785a37c0eb90>)])"
            ],
            "text/html": [
              "<style>#sk-container-id-2 {color: black;background-color: white;}#sk-container-id-2 pre{padding: 0;}#sk-container-id-2 div.sk-toggleable {background-color: white;}#sk-container-id-2 label.sk-toggleable__label {cursor: pointer;display: block;width: 100%;margin-bottom: 0;padding: 0.3em;box-sizing: border-box;text-align: center;}#sk-container-id-2 label.sk-toggleable__label-arrow:before {content: \"▸\";float: left;margin-right: 0.25em;color: #696969;}#sk-container-id-2 label.sk-toggleable__label-arrow:hover:before {color: black;}#sk-container-id-2 div.sk-estimator:hover label.sk-toggleable__label-arrow:before {color: black;}#sk-container-id-2 div.sk-toggleable__content {max-height: 0;max-width: 0;overflow: hidden;text-align: left;background-color: #f0f8ff;}#sk-container-id-2 div.sk-toggleable__content pre {margin: 0.2em;color: black;border-radius: 0.25em;background-color: #f0f8ff;}#sk-container-id-2 input.sk-toggleable__control:checked~div.sk-toggleable__content {max-height: 200px;max-width: 100%;overflow: auto;}#sk-container-id-2 input.sk-toggleable__control:checked~label.sk-toggleable__label-arrow:before {content: \"▾\";}#sk-container-id-2 div.sk-estimator input.sk-toggleable__control:checked~label.sk-toggleable__label {background-color: #d4ebff;}#sk-container-id-2 div.sk-label input.sk-toggleable__control:checked~label.sk-toggleable__label {background-color: #d4ebff;}#sk-container-id-2 input.sk-hidden--visually {border: 0;clip: rect(1px 1px 1px 1px);clip: rect(1px, 1px, 1px, 1px);height: 1px;margin: -1px;overflow: hidden;padding: 0;position: absolute;width: 1px;}#sk-container-id-2 div.sk-estimator {font-family: monospace;background-color: #f0f8ff;border: 1px dotted black;border-radius: 0.25em;box-sizing: border-box;margin-bottom: 0.5em;}#sk-container-id-2 div.sk-estimator:hover {background-color: #d4ebff;}#sk-container-id-2 div.sk-parallel-item::after {content: \"\";width: 100%;border-bottom: 1px solid gray;flex-grow: 1;}#sk-container-id-2 div.sk-label:hover label.sk-toggleable__label {background-color: #d4ebff;}#sk-container-id-2 div.sk-serial::before {content: \"\";position: absolute;border-left: 1px solid gray;box-sizing: border-box;top: 0;bottom: 0;left: 50%;z-index: 0;}#sk-container-id-2 div.sk-serial {display: flex;flex-direction: column;align-items: center;background-color: white;padding-right: 0.2em;padding-left: 0.2em;position: relative;}#sk-container-id-2 div.sk-item {position: relative;z-index: 1;}#sk-container-id-2 div.sk-parallel {display: flex;align-items: stretch;justify-content: center;background-color: white;position: relative;}#sk-container-id-2 div.sk-item::before, #sk-container-id-2 div.sk-parallel-item::before {content: \"\";position: absolute;border-left: 1px solid gray;box-sizing: border-box;top: 0;bottom: 0;left: 50%;z-index: -1;}#sk-container-id-2 div.sk-parallel-item {display: flex;flex-direction: column;z-index: 1;position: relative;background-color: white;}#sk-container-id-2 div.sk-parallel-item:first-child::after {align-self: flex-end;width: 50%;}#sk-container-id-2 div.sk-parallel-item:last-child::after {align-self: flex-start;width: 50%;}#sk-container-id-2 div.sk-parallel-item:only-child::after {width: 0;}#sk-container-id-2 div.sk-dashed-wrapped {border: 1px dashed gray;margin: 0 0.4em 0.5em 0.4em;box-sizing: border-box;padding-bottom: 0.4em;background-color: white;}#sk-container-id-2 div.sk-label label {font-family: monospace;font-weight: bold;display: inline-block;line-height: 1.2em;}#sk-container-id-2 div.sk-label-container {text-align: center;}#sk-container-id-2 div.sk-container {/* jupyter's `normalize.less` sets `[hidden] { display: none; }` but bootstrap.min.css set `[hidden] { display: none !important; }` so we also need the `!important` here to be able to override the default hidden behavior on the sphinx rendered scikit-learn.org. See: https://github.com/scikit-learn/scikit-learn/issues/21755 */display: inline-block !important;position: relative;}#sk-container-id-2 div.sk-text-repr-fallback {display: none;}</style><div id=\"sk-container-id-2\" class=\"sk-top-container\"><div class=\"sk-text-repr-fallback\"><pre>Pipeline(steps=[(&#x27;columntransformer&#x27;,\n",
              "                 ColumnTransformer(remainder=&#x27;passthrough&#x27;,\n",
              "                                   transformers=[(&#x27;num&#x27;, StandardScaler(),\n",
              "                                                  [&#x27;AGE&#x27;, &#x27;swollen_nodes&#x27;,\n",
              "                                                   &#x27;std&#x27;,\n",
              "                                                   &#x27;lesion_larger_than_1cm&#x27;,\n",
              "                                                   &#x27;sweating&#x27;, &#x27;diarrhea&#x27;,\n",
              "                                                   &#x27;pain&#x27;, &#x27;pain_intensity&#x27;,\n",
              "                                                   &#x27;pain_precise&#x27;,\n",
              "                                                   &#x27;pain_sudden&#x27;, &#x27;fever&#x27;,\n",
              "                                                   &#x27;unprotected_sex&#x27;, &#x27;lesions&#x27;,\n",
              "                                                   &#x27;lesion_pain_swollen&#x27;,\n",
              "                                                   &#x27;lesion_pain_intense&#x27;,\n",
              "                                                   &#x27;itching_severity&#x27;, &#x27;naus...\n",
              "                                                                             &#x27;cheek(L)&#x27;,\n",
              "                                                                             &#x27;sole(R)&#x27;,\n",
              "                                                                             &#x27;nowhere&#x27;,\n",
              "                                                                             &#x27;dorsal &#x27;\n",
              "                                                                             &#x27;aspect &#x27;\n",
              "                                                                             &#x27;of &#x27;\n",
              "                                                                             &#x27;the &#x27;\n",
              "                                                                             &#x27;foot(L)&#x27;,\n",
              "                                                                             &#x27;dorsal &#x27;\n",
              "                                                                             &#x27;aspect &#x27;\n",
              "                                                                             &#x27;of &#x27;\n",
              "                                                                             &#x27;the &#x27;\n",
              "                                                                             &#x27;foot(R)&#x27;,\n",
              "                                                                             &#x27;sole(L)&#x27;,\n",
              "                                                                             &#x27;forehead&#x27;,\n",
              "                                                                             &#x27;calf(R)&#x27;,\n",
              "                                                                             &#x27;thigh(R)&#x27;,\n",
              "                                                                             &#x27;cheek(R)&#x27;]]),\n",
              "                                                  [&#x27;INITIAL_EVIDENCE&#x27;, &#x27;SEX&#x27;,\n",
              "                                                   &#x27;trav1&#x27;, &#x27;pain_char&#x27;,\n",
              "                                                   &#x27;lesion_color&#x27;,\n",
              "                                                   &#x27;pain_somewhere&#x27;,\n",
              "                                                   &#x27;lesion_location&#x27;,\n",
              "                                                   &#x27;swelling_location&#x27;])])),\n",
              "                (&#x27;catboostclassifier&#x27;,\n",
              "                 &lt;catboost.core.CatBoostClassifier object at 0x785a37c0eb90&gt;)])</pre><b>In a Jupyter environment, please rerun this cell to show the HTML representation or trust the notebook. <br />On GitHub, the HTML representation is unable to render, please try loading this page with nbviewer.org.</b></div><div class=\"sk-container\" hidden><div class=\"sk-item sk-dashed-wrapped\"><div class=\"sk-label-container\"><div class=\"sk-label sk-toggleable\"><input class=\"sk-toggleable__control sk-hidden--visually\" id=\"sk-estimator-id-10\" type=\"checkbox\" ><label for=\"sk-estimator-id-10\" class=\"sk-toggleable__label sk-toggleable__label-arrow\">Pipeline</label><div class=\"sk-toggleable__content\"><pre>Pipeline(steps=[(&#x27;columntransformer&#x27;,\n",
              "                 ColumnTransformer(remainder=&#x27;passthrough&#x27;,\n",
              "                                   transformers=[(&#x27;num&#x27;, StandardScaler(),\n",
              "                                                  [&#x27;AGE&#x27;, &#x27;swollen_nodes&#x27;,\n",
              "                                                   &#x27;std&#x27;,\n",
              "                                                   &#x27;lesion_larger_than_1cm&#x27;,\n",
              "                                                   &#x27;sweating&#x27;, &#x27;diarrhea&#x27;,\n",
              "                                                   &#x27;pain&#x27;, &#x27;pain_intensity&#x27;,\n",
              "                                                   &#x27;pain_precise&#x27;,\n",
              "                                                   &#x27;pain_sudden&#x27;, &#x27;fever&#x27;,\n",
              "                                                   &#x27;unprotected_sex&#x27;, &#x27;lesions&#x27;,\n",
              "                                                   &#x27;lesion_pain_swollen&#x27;,\n",
              "                                                   &#x27;lesion_pain_intense&#x27;,\n",
              "                                                   &#x27;itching_severity&#x27;, &#x27;naus...\n",
              "                                                                             &#x27;cheek(L)&#x27;,\n",
              "                                                                             &#x27;sole(R)&#x27;,\n",
              "                                                                             &#x27;nowhere&#x27;,\n",
              "                                                                             &#x27;dorsal &#x27;\n",
              "                                                                             &#x27;aspect &#x27;\n",
              "                                                                             &#x27;of &#x27;\n",
              "                                                                             &#x27;the &#x27;\n",
              "                                                                             &#x27;foot(L)&#x27;,\n",
              "                                                                             &#x27;dorsal &#x27;\n",
              "                                                                             &#x27;aspect &#x27;\n",
              "                                                                             &#x27;of &#x27;\n",
              "                                                                             &#x27;the &#x27;\n",
              "                                                                             &#x27;foot(R)&#x27;,\n",
              "                                                                             &#x27;sole(L)&#x27;,\n",
              "                                                                             &#x27;forehead&#x27;,\n",
              "                                                                             &#x27;calf(R)&#x27;,\n",
              "                                                                             &#x27;thigh(R)&#x27;,\n",
              "                                                                             &#x27;cheek(R)&#x27;]]),\n",
              "                                                  [&#x27;INITIAL_EVIDENCE&#x27;, &#x27;SEX&#x27;,\n",
              "                                                   &#x27;trav1&#x27;, &#x27;pain_char&#x27;,\n",
              "                                                   &#x27;lesion_color&#x27;,\n",
              "                                                   &#x27;pain_somewhere&#x27;,\n",
              "                                                   &#x27;lesion_location&#x27;,\n",
              "                                                   &#x27;swelling_location&#x27;])])),\n",
              "                (&#x27;catboostclassifier&#x27;,\n",
              "                 &lt;catboost.core.CatBoostClassifier object at 0x785a37c0eb90&gt;)])</pre></div></div></div><div class=\"sk-serial\"><div class=\"sk-item sk-dashed-wrapped\"><div class=\"sk-label-container\"><div class=\"sk-label sk-toggleable\"><input class=\"sk-toggleable__control sk-hidden--visually\" id=\"sk-estimator-id-11\" type=\"checkbox\" ><label for=\"sk-estimator-id-11\" class=\"sk-toggleable__label sk-toggleable__label-arrow\">columntransformer: ColumnTransformer</label><div class=\"sk-toggleable__content\"><pre>ColumnTransformer(remainder=&#x27;passthrough&#x27;,\n",
              "                  transformers=[(&#x27;num&#x27;, StandardScaler(),\n",
              "                                 [&#x27;AGE&#x27;, &#x27;swollen_nodes&#x27;, &#x27;std&#x27;,\n",
              "                                  &#x27;lesion_larger_than_1cm&#x27;, &#x27;sweating&#x27;,\n",
              "                                  &#x27;diarrhea&#x27;, &#x27;pain&#x27;, &#x27;pain_intensity&#x27;,\n",
              "                                  &#x27;pain_precise&#x27;, &#x27;pain_sudden&#x27;, &#x27;fever&#x27;,\n",
              "                                  &#x27;unprotected_sex&#x27;, &#x27;lesions&#x27;,\n",
              "                                  &#x27;lesion_pain_swollen&#x27;, &#x27;lesion_pain_intense&#x27;,\n",
              "                                  &#x27;itching_severity&#x27;, &#x27;nausea&#x27;, &#x27;weight_loss&#x27;,\n",
              "                                  &#x27;sex_hiv&#x27;, &#x27;fam_alle...\n",
              "                                                            &#x27;cheek(L)&#x27;,\n",
              "                                                            &#x27;epigastric&#x27;,\n",
              "                                                            &#x27;thoracic spine&#x27;],\n",
              "                                                           [&#x27;nose&#x27;,\n",
              "                                                            &#x27;toe (1)(R)&#x27;,\n",
              "                                                            &#x27;toe (1)(L)&#x27;,\n",
              "                                                            &#x27;thigh(L)&#x27;,\n",
              "                                                            &#x27;calf(L)&#x27;,\n",
              "                                                            &#x27;cheek(L)&#x27;,\n",
              "                                                            &#x27;sole(R)&#x27;,\n",
              "                                                            &#x27;nowhere&#x27;,\n",
              "                                                            &#x27;dorsal aspect of &#x27;\n",
              "                                                            &#x27;the foot(L)&#x27;,\n",
              "                                                            &#x27;dorsal aspect of &#x27;\n",
              "                                                            &#x27;the foot(R)&#x27;,\n",
              "                                                            &#x27;sole(L)&#x27;,\n",
              "                                                            &#x27;forehead&#x27;,\n",
              "                                                            &#x27;calf(R)&#x27;,\n",
              "                                                            &#x27;thigh(R)&#x27;,\n",
              "                                                            &#x27;cheek(R)&#x27;]]),\n",
              "                                 [&#x27;INITIAL_EVIDENCE&#x27;, &#x27;SEX&#x27;, &#x27;trav1&#x27;,\n",
              "                                  &#x27;pain_char&#x27;, &#x27;lesion_color&#x27;, &#x27;pain_somewhere&#x27;,\n",
              "                                  &#x27;lesion_location&#x27;, &#x27;swelling_location&#x27;])])</pre></div></div></div><div class=\"sk-parallel\"><div class=\"sk-parallel-item\"><div class=\"sk-item\"><div class=\"sk-label-container\"><div class=\"sk-label sk-toggleable\"><input class=\"sk-toggleable__control sk-hidden--visually\" id=\"sk-estimator-id-12\" type=\"checkbox\" ><label for=\"sk-estimator-id-12\" class=\"sk-toggleable__label sk-toggleable__label-arrow\">num</label><div class=\"sk-toggleable__content\"><pre>[&#x27;AGE&#x27;, &#x27;swollen_nodes&#x27;, &#x27;std&#x27;, &#x27;lesion_larger_than_1cm&#x27;, &#x27;sweating&#x27;, &#x27;diarrhea&#x27;, &#x27;pain&#x27;, &#x27;pain_intensity&#x27;, &#x27;pain_precise&#x27;, &#x27;pain_sudden&#x27;, &#x27;fever&#x27;, &#x27;unprotected_sex&#x27;, &#x27;lesions&#x27;, &#x27;lesion_pain_swollen&#x27;, &#x27;lesion_pain_intense&#x27;, &#x27;itching_severity&#x27;, &#x27;nausea&#x27;, &#x27;weight_loss&#x27;, &#x27;sex_hiv&#x27;, &#x27;fam_allergies&#x27;, &#x27;fam_j45&#x27;, &#x27;j45&#x27;, &#x27;itchy_nose&#x27;, &#x27;eye_itching&#x27;, &#x27;runny_nose&#x27;, &#x27;urban1&#x27;, &#x27;severe_allergy&#x27;, &#x27;contact_allergy&#x27;, &#x27;short_breath&#x27;, &#x27;swelling&#x27;, &#x27;lost_consciousness&#x27;, &#x27;stridor&#x27;, &#x27;z84.89&#x27;, &#x27;HIV&#x27;, &#x27;cortico&#x27;, &#x27;IV_drugs&#x27;, &#x27;e10_e11&#x27;, &#x27;f10.129&#x27;, &#x27;cough&#x27;, &#x27;cough_blood&#x27;, &#x27;v85.0&#x27;, &#x27;I30&#x27;, &#x27;f17.210&#x27;, &#x27;high_bp&#x27;, &#x27;ulcers&#x27;, &#x27;anorexia&#x27;, &#x27;new_fatigue&#x27;, &#x27;nsaids&#x27;, &#x27;i50&#x27;, &#x27;i80&#x27;, &#x27;lymph_surg&#x27;, &#x27;synd_nephro&#x27;, &#x27;convulsion&#x27;, &#x27;e66&#x27;, &#x27;red_eye&#x27;, &#x27;agri&#x27;, &#x27;gained_weight&#x27;, &#x27;k74&#x27;, &#x27;patho_endo&#x27;, &#x27;dizziness&#x27;, &#x27;wheezing_exhale&#x27;, &#x27;fatigue_ext&#x27;, &#x27;sore_throat&#x27;, &#x27;muscle_pain&#x27;, &#x27;lost_appetite&#x27;, &#x27;heart_valves&#x27;, &#x27;sahs&#x27;, &#x27;cont_pertussis&#x27;, &#x27;vomiting_cough&#x27;, &#x27;coughing_fits&#x27;, &#x27;vaccination&#x27;, &#x27;chills&#x27;, &#x27;z92.25&#x27;, &#x27;ca_blockers&#x27;, &#x27;vag_discharge&#x27;, &#x27;wheezing_inhale&#x27;, &#x27;fatigue&#x27;, &#x27;menarche_12&#x27;, &#x27;breastfed_9&#x27;, &#x27;confusion&#x27;, &#x27;contact&#x27;, &#x27;ebolacase&#x27;, &#x27;bruising&#x27;]</pre></div></div></div><div class=\"sk-serial\"><div class=\"sk-item\"><div class=\"sk-estimator sk-toggleable\"><input class=\"sk-toggleable__control sk-hidden--visually\" id=\"sk-estimator-id-13\" type=\"checkbox\" ><label for=\"sk-estimator-id-13\" class=\"sk-toggleable__label sk-toggleable__label-arrow\">StandardScaler</label><div class=\"sk-toggleable__content\"><pre>StandardScaler()</pre></div></div></div></div></div></div><div class=\"sk-parallel-item\"><div class=\"sk-item\"><div class=\"sk-label-container\"><div class=\"sk-label sk-toggleable\"><input class=\"sk-toggleable__control sk-hidden--visually\" id=\"sk-estimator-id-14\" type=\"checkbox\" ><label for=\"sk-estimator-id-14\" class=\"sk-toggleable__label sk-toggleable__label-arrow\">cat</label><div class=\"sk-toggleable__content\"><pre>[&#x27;INITIAL_EVIDENCE&#x27;, &#x27;SEX&#x27;, &#x27;trav1&#x27;, &#x27;pain_char&#x27;, &#x27;lesion_color&#x27;, &#x27;pain_somewhere&#x27;, &#x27;lesion_location&#x27;, &#x27;swelling_location&#x27;]</pre></div></div></div><div class=\"sk-serial\"><div class=\"sk-item\"><div class=\"sk-estimator sk-toggleable\"><input class=\"sk-toggleable__control sk-hidden--visually\" id=\"sk-estimator-id-15\" type=\"checkbox\" ><label for=\"sk-estimator-id-15\" class=\"sk-toggleable__label sk-toggleable__label-arrow\">OneHotEncoder</label><div class=\"sk-toggleable__content\"><pre>OneHotEncoder(categories=[[&#x27;eye_itching&#x27;, &#x27;fever&#x27;, &#x27;chills&#x27;, &#x27;lesions&#x27;,\n",
              "                           &#x27;new_fatigue&#x27;, &#x27;diarrhea&#x27;, &#x27;cough&#x27;, &#x27;fatigue_ext&#x27;,\n",
              "                           &#x27;bruising&#x27;, &#x27;dizziness&#x27;, &#x27;runny_nose&#x27;,\n",
              "                           &#x27;coughing_fits&#x27;, &#x27;convulsion&#x27;, &#x27;confusion&#x27;, &#x27;pain&#x27;,\n",
              "                           &#x27;weight_loss&#x27;, &#x27;wheezing_exhale&#x27;,\n",
              "                           &#x27;lost_consciousness&#x27;, &#x27;red_eye&#x27;, &#x27;fatigue&#x27;, &#x27;ulcers&#x27;,\n",
              "                           &#x27;nausea&#x27;, &#x27;cough_blood&#x27;, &#x27;short_breath&#x27;,\n",
              "                           &#x27;sore_throat&#x27;, &#x27;sweating&#x27;, &#x27;muscl...\n",
              "                           &#x27;labia minora(R)&#x27;, &#x27;thigh(L)&#x27;, &#x27;under the tongue&#x27;,\n",
              "                           &#x27;forehead&#x27;, &#x27;upper lip(R)&#x27;, &#x27;cheek(R)&#x27;,\n",
              "                           &#x27;bottom lip(R)&#x27;, &#x27;back of the neck&#x27;, &#x27;scrotum&#x27;,\n",
              "                           &#x27;cheek(L)&#x27;, &#x27;epigastric&#x27;, &#x27;thoracic spine&#x27;],\n",
              "                          [&#x27;nose&#x27;, &#x27;toe (1)(R)&#x27;, &#x27;toe (1)(L)&#x27;, &#x27;thigh(L)&#x27;,\n",
              "                           &#x27;calf(L)&#x27;, &#x27;cheek(L)&#x27;, &#x27;sole(R)&#x27;, &#x27;nowhere&#x27;,\n",
              "                           &#x27;dorsal aspect of the foot(L)&#x27;,\n",
              "                           &#x27;dorsal aspect of the foot(R)&#x27;, &#x27;sole(L)&#x27;,\n",
              "                           &#x27;forehead&#x27;, &#x27;calf(R)&#x27;, &#x27;thigh(R)&#x27;, &#x27;cheek(R)&#x27;]])</pre></div></div></div></div></div></div><div class=\"sk-parallel-item\"><div class=\"sk-item\"><div class=\"sk-label-container\"><div class=\"sk-label sk-toggleable\"><input class=\"sk-toggleable__control sk-hidden--visually\" id=\"sk-estimator-id-16\" type=\"checkbox\" ><label for=\"sk-estimator-id-16\" class=\"sk-toggleable__label sk-toggleable__label-arrow\">remainder</label><div class=\"sk-toggleable__content\"><pre>[]</pre></div></div></div><div class=\"sk-serial\"><div class=\"sk-item\"><div class=\"sk-estimator sk-toggleable\"><input class=\"sk-toggleable__control sk-hidden--visually\" id=\"sk-estimator-id-17\" type=\"checkbox\" ><label for=\"sk-estimator-id-17\" class=\"sk-toggleable__label sk-toggleable__label-arrow\">passthrough</label><div class=\"sk-toggleable__content\"><pre>passthrough</pre></div></div></div></div></div></div></div></div><div class=\"sk-item\"><div class=\"sk-estimator sk-toggleable\"><input class=\"sk-toggleable__control sk-hidden--visually\" id=\"sk-estimator-id-18\" type=\"checkbox\" ><label for=\"sk-estimator-id-18\" class=\"sk-toggleable__label sk-toggleable__label-arrow\">CatBoostClassifier</label><div class=\"sk-toggleable__content\"><pre>&lt;catboost.core.CatBoostClassifier object at 0x785a37c0eb90&gt;</pre></div></div></div></div></div></div></div>"
            ]
          },
          "metadata": {},
          "execution_count": 32
        }
      ]
    },
    {
      "cell_type": "markdown",
      "source": [
        "However, CatBoost has support for categorical variables. So we should try to use it without one-hot encoding:"
      ],
      "metadata": {
        "id": "LmQ5liO8b8J-"
      }
    },
    {
      "cell_type": "code",
      "source": [
        "from catboost import CatBoostClassifier\n",
        "\n",
        "X_val_for_cat = X_validate.copy()\n",
        "X_val_for_cat[categorical_features] = X_val_for_cat[categorical_features].astype(str)\n",
        "X_val_for_cat = X_val_for_cat[X_train.columns]\n",
        "\n",
        "cat2 = CatBoostClassifier(\n",
        "    iterations=5,\n",
        "    learning_rate=0.7,\n",
        "    random_seed=SEED,\n",
        "    loss_function='MultiClass',\n",
        "    cat_features=categorical_features\n",
        ")\n",
        "cat2.fit(\n",
        "    X_train, y_train,\n",
        "    cat_features=categorical_features,\n",
        "    eval_set=(X_val_for_cat, y_validate),\n",
        "    verbose=True,\n",
        "    #plot=True\n",
        ")"
      ],
      "metadata": {
        "colab": {
          "base_uri": "https://localhost:8080/"
        },
        "id": "y78uOu8acCm4",
        "outputId": "12219bd0-70d4-45c9-bc37-81cd61774b18"
      },
      "execution_count": null,
      "outputs": [
        {
          "output_type": "stream",
          "name": "stdout",
          "text": [
            "0:\tlearn: 1.2504885\ttest: 1.3112720\tbest: 1.3112720 (0)\ttotal: 8.59s\tremaining: 34.4s\n",
            "1:\tlearn: 0.9793981\ttest: 1.0209881\tbest: 1.0209881 (1)\ttotal: 17.2s\tremaining: 25.8s\n",
            "2:\tlearn: 0.9065016\ttest: 0.9301462\tbest: 0.9301462 (2)\ttotal: 23.8s\tremaining: 15.9s\n",
            "3:\tlearn: 0.8663491\ttest: 0.8960783\tbest: 0.8960783 (3)\ttotal: 31.6s\tremaining: 7.89s\n",
            "4:\tlearn: 0.8548126\ttest: 0.8865453\tbest: 0.8865453 (4)\ttotal: 39.1s\tremaining: 0us\n",
            "\n",
            "bestTest = 0.8865452824\n",
            "bestIteration = 4\n",
            "\n"
          ]
        },
        {
          "output_type": "execute_result",
          "data": {
            "text/plain": [
              "<catboost.core.CatBoostClassifier at 0x785a37c0d930>"
            ]
          },
          "metadata": {},
          "execution_count": 75
        }
      ]
    },
    {
      "cell_type": "code",
      "source": [
        "print(cr(y_validate, cat2.predict(X_val_for_cat, )))"
      ],
      "metadata": {
        "colab": {
          "base_uri": "https://localhost:8080/"
        },
        "id": "KkmL4A33eEL-",
        "outputId": "6b5baf7c-a27e-4494-8b74-686cd4ea1f84"
      },
      "execution_count": null,
      "outputs": [
        {
          "output_type": "stream",
          "name": "stdout",
          "text": [
            "                         precision    recall  f1-score   support\n",
            "\n",
            "     Allergic sinusitis       0.80      0.86      0.83      2136\n",
            "            Anaphylaxis       1.00      0.40      0.57      3754\n",
            "                 Chagas       1.00      0.22      0.37      1124\n",
            "HIV (initial infection)       0.34      0.39      0.37      3852\n",
            "              Influenza       0.58      0.47      0.52      3590\n",
            "        Localized edema       0.52      1.00      0.68      3694\n",
            "                    SLE       1.00      0.32      0.48      1579\n",
            "            Sarcoidosis       0.60      0.72      0.65      3028\n",
            "           Tuberculosis       0.57      0.62      0.60      2007\n",
            "         Whooping cough       1.00      1.00      1.00       545\n",
            "\n",
            "               accuracy                           0.59     25309\n",
            "              macro avg       0.74      0.60      0.61     25309\n",
            "           weighted avg       0.67      0.59      0.58     25309\n",
            "\n"
          ]
        }
      ]
    },
    {
      "cell_type": "markdown",
      "source": [
        "#### Stacking"
      ],
      "metadata": {
        "id": "RTOzHPlwk3DT"
      }
    },
    {
      "cell_type": "code",
      "source": [
        "from sklearn.ensemble import StackingClassifier\n",
        "\n",
        "estimators = [\n",
        "    ('xgb', xgb_model),\n",
        "    ('cat', cat2)\n",
        "]\n",
        "\n",
        "stacking = StackingClassifier(\n",
        "    estimators=estimators,\n",
        "    #final_estimator=RandomForestClassifier(random_state = SEED, n_estimators=10)\n",
        ")\n",
        "\n",
        "stacking.fit(X_train, y_train)"
      ],
      "metadata": {
        "colab": {
          "base_uri": "https://localhost:8080/",
          "height": 924
        },
        "id": "Qsy2JSM9js5L",
        "outputId": "639a66f0-0c5a-4161-dd97-d51657c06aaf"
      },
      "execution_count": null,
      "outputs": [
        {
          "output_type": "stream",
          "name": "stdout",
          "text": [
            "0:\tlearn: 1.2504885\ttotal: 8.54s\tremaining: 34.2s\n",
            "1:\tlearn: 0.9793981\ttotal: 15.3s\tremaining: 22.9s\n",
            "2:\tlearn: 0.9065016\ttotal: 24.4s\tremaining: 16.2s\n",
            "3:\tlearn: 0.8663491\ttotal: 30.5s\tremaining: 7.62s\n",
            "4:\tlearn: 0.8548126\ttotal: 38.7s\tremaining: 0us\n",
            "0:\tlearn: 1.2523221\ttotal: 5.74s\tremaining: 22.9s\n",
            "1:\tlearn: 0.9657569\ttotal: 10.5s\tremaining: 15.8s\n",
            "2:\tlearn: 0.8891795\ttotal: 17.9s\tremaining: 11.9s\n",
            "3:\tlearn: 0.8613044\ttotal: 22.9s\tremaining: 5.71s\n",
            "4:\tlearn: 0.8511641\ttotal: 27.6s\tremaining: 0us\n",
            "0:\tlearn: 1.2465605\ttotal: 6.46s\tremaining: 25.8s\n",
            "1:\tlearn: 0.9561243\ttotal: 12.6s\tremaining: 18.9s\n",
            "2:\tlearn: 0.8874947\ttotal: 19.8s\tremaining: 13.2s\n",
            "3:\tlearn: 0.8648569\ttotal: 24.6s\tremaining: 6.16s\n",
            "4:\tlearn: 0.8522853\ttotal: 29.4s\tremaining: 0us\n",
            "0:\tlearn: 1.2390571\ttotal: 6.84s\tremaining: 27.4s\n",
            "1:\tlearn: 1.0148520\ttotal: 11.8s\tremaining: 17.6s\n",
            "2:\tlearn: 0.8939759\ttotal: 17.9s\tremaining: 11.9s\n",
            "3:\tlearn: 0.8747247\ttotal: 23.7s\tremaining: 5.92s\n",
            "4:\tlearn: 0.8573286\ttotal: 28.4s\tremaining: 0us\n",
            "0:\tlearn: 1.2377156\ttotal: 7.92s\tremaining: 31.7s\n",
            "1:\tlearn: 0.9941337\ttotal: 14s\tremaining: 21s\n",
            "2:\tlearn: 0.8943723\ttotal: 22.1s\tremaining: 14.8s\n",
            "3:\tlearn: 0.8760432\ttotal: 28.4s\tremaining: 7.09s\n",
            "4:\tlearn: 0.8595741\ttotal: 33.8s\tremaining: 0us\n",
            "0:\tlearn: 1.2357473\ttotal: 8.74s\tremaining: 35s\n",
            "1:\tlearn: 0.9901152\ttotal: 15.6s\tremaining: 23.5s\n",
            "2:\tlearn: 0.8889197\ttotal: 20.9s\tremaining: 13.9s\n",
            "3:\tlearn: 0.8611137\ttotal: 25.7s\tremaining: 6.42s\n",
            "4:\tlearn: 0.8512710\ttotal: 32.9s\tremaining: 0us\n"
          ]
        },
        {
          "output_type": "stream",
          "name": "stderr",
          "text": [
            "/usr/local/lib/python3.10/dist-packages/sklearn/linear_model/_logistic.py:458: ConvergenceWarning: lbfgs failed to converge (status=1):\n",
            "STOP: TOTAL NO. of ITERATIONS REACHED LIMIT.\n",
            "\n",
            "Increase the number of iterations (max_iter) or scale the data as shown in:\n",
            "    https://scikit-learn.org/stable/modules/preprocessing.html\n",
            "Please also refer to the documentation for alternative solver options:\n",
            "    https://scikit-learn.org/stable/modules/linear_model.html#logistic-regression\n",
            "  n_iter_i = _check_optimize_result(\n"
          ]
        },
        {
          "output_type": "execute_result",
          "data": {
            "text/plain": [
              "StackingClassifier(estimators=[('xgb',\n",
              "                                Pipeline(steps=[('columntransformer',\n",
              "                                                 ColumnTransformer(remainder='passthrough',\n",
              "                                                                   transformers=[('num',\n",
              "                                                                                  StandardScaler(),\n",
              "                                                                                  ['AGE',\n",
              "                                                                                   'swollen_nodes',\n",
              "                                                                                   'std',\n",
              "                                                                                   'lesion_larger_than_1cm',\n",
              "                                                                                   'sweating',\n",
              "                                                                                   'diarrhea',\n",
              "                                                                                   'pain',\n",
              "                                                                                   'pain_intensity',\n",
              "                                                                                   'pain_precise',\n",
              "                                                                                   'pain_sudden',\n",
              "                                                                                   'fever',\n",
              "                                                                                   'unprotected_sex',\n",
              "                                                                                   'lesions',\n",
              "                                                                                   'lesion_pain_swollen',\n",
              "                                                                                   'lesion_...\n",
              "                                                               learning_rate=None,\n",
              "                                                               max_bin=None,\n",
              "                                                               max_cat_threshold=None,\n",
              "                                                               max_cat_to_onehot=None,\n",
              "                                                               max_delta_step=None,\n",
              "                                                               max_depth=None,\n",
              "                                                               max_leaves=None,\n",
              "                                                               min_child_weight=None,\n",
              "                                                               missing=nan,\n",
              "                                                               monotone_constraints=None,\n",
              "                                                               multi_strategy=None,\n",
              "                                                               n_estimators=10,\n",
              "                                                               n_jobs=None,\n",
              "                                                               num_parallel_tree=None,\n",
              "                                                               objective='multi:softprob', ...))])),\n",
              "                               ('cat',\n",
              "                                <catboost.core.CatBoostClassifier object at 0x785a37c0d930>)])"
            ],
            "text/html": [
              "<style>#sk-container-id-5 {color: black;background-color: white;}#sk-container-id-5 pre{padding: 0;}#sk-container-id-5 div.sk-toggleable {background-color: white;}#sk-container-id-5 label.sk-toggleable__label {cursor: pointer;display: block;width: 100%;margin-bottom: 0;padding: 0.3em;box-sizing: border-box;text-align: center;}#sk-container-id-5 label.sk-toggleable__label-arrow:before {content: \"▸\";float: left;margin-right: 0.25em;color: #696969;}#sk-container-id-5 label.sk-toggleable__label-arrow:hover:before {color: black;}#sk-container-id-5 div.sk-estimator:hover label.sk-toggleable__label-arrow:before {color: black;}#sk-container-id-5 div.sk-toggleable__content {max-height: 0;max-width: 0;overflow: hidden;text-align: left;background-color: #f0f8ff;}#sk-container-id-5 div.sk-toggleable__content pre {margin: 0.2em;color: black;border-radius: 0.25em;background-color: #f0f8ff;}#sk-container-id-5 input.sk-toggleable__control:checked~div.sk-toggleable__content {max-height: 200px;max-width: 100%;overflow: auto;}#sk-container-id-5 input.sk-toggleable__control:checked~label.sk-toggleable__label-arrow:before {content: \"▾\";}#sk-container-id-5 div.sk-estimator input.sk-toggleable__control:checked~label.sk-toggleable__label {background-color: #d4ebff;}#sk-container-id-5 div.sk-label input.sk-toggleable__control:checked~label.sk-toggleable__label {background-color: #d4ebff;}#sk-container-id-5 input.sk-hidden--visually {border: 0;clip: rect(1px 1px 1px 1px);clip: rect(1px, 1px, 1px, 1px);height: 1px;margin: -1px;overflow: hidden;padding: 0;position: absolute;width: 1px;}#sk-container-id-5 div.sk-estimator {font-family: monospace;background-color: #f0f8ff;border: 1px dotted black;border-radius: 0.25em;box-sizing: border-box;margin-bottom: 0.5em;}#sk-container-id-5 div.sk-estimator:hover {background-color: #d4ebff;}#sk-container-id-5 div.sk-parallel-item::after {content: \"\";width: 100%;border-bottom: 1px solid gray;flex-grow: 1;}#sk-container-id-5 div.sk-label:hover label.sk-toggleable__label {background-color: #d4ebff;}#sk-container-id-5 div.sk-serial::before {content: \"\";position: absolute;border-left: 1px solid gray;box-sizing: border-box;top: 0;bottom: 0;left: 50%;z-index: 0;}#sk-container-id-5 div.sk-serial {display: flex;flex-direction: column;align-items: center;background-color: white;padding-right: 0.2em;padding-left: 0.2em;position: relative;}#sk-container-id-5 div.sk-item {position: relative;z-index: 1;}#sk-container-id-5 div.sk-parallel {display: flex;align-items: stretch;justify-content: center;background-color: white;position: relative;}#sk-container-id-5 div.sk-item::before, #sk-container-id-5 div.sk-parallel-item::before {content: \"\";position: absolute;border-left: 1px solid gray;box-sizing: border-box;top: 0;bottom: 0;left: 50%;z-index: -1;}#sk-container-id-5 div.sk-parallel-item {display: flex;flex-direction: column;z-index: 1;position: relative;background-color: white;}#sk-container-id-5 div.sk-parallel-item:first-child::after {align-self: flex-end;width: 50%;}#sk-container-id-5 div.sk-parallel-item:last-child::after {align-self: flex-start;width: 50%;}#sk-container-id-5 div.sk-parallel-item:only-child::after {width: 0;}#sk-container-id-5 div.sk-dashed-wrapped {border: 1px dashed gray;margin: 0 0.4em 0.5em 0.4em;box-sizing: border-box;padding-bottom: 0.4em;background-color: white;}#sk-container-id-5 div.sk-label label {font-family: monospace;font-weight: bold;display: inline-block;line-height: 1.2em;}#sk-container-id-5 div.sk-label-container {text-align: center;}#sk-container-id-5 div.sk-container {/* jupyter's `normalize.less` sets `[hidden] { display: none; }` but bootstrap.min.css set `[hidden] { display: none !important; }` so we also need the `!important` here to be able to override the default hidden behavior on the sphinx rendered scikit-learn.org. See: https://github.com/scikit-learn/scikit-learn/issues/21755 */display: inline-block !important;position: relative;}#sk-container-id-5 div.sk-text-repr-fallback {display: none;}</style><div id=\"sk-container-id-5\" class=\"sk-top-container\"><div class=\"sk-text-repr-fallback\"><pre>StackingClassifier(estimators=[(&#x27;xgb&#x27;,\n",
              "                                Pipeline(steps=[(&#x27;columntransformer&#x27;,\n",
              "                                                 ColumnTransformer(remainder=&#x27;passthrough&#x27;,\n",
              "                                                                   transformers=[(&#x27;num&#x27;,\n",
              "                                                                                  StandardScaler(),\n",
              "                                                                                  [&#x27;AGE&#x27;,\n",
              "                                                                                   &#x27;swollen_nodes&#x27;,\n",
              "                                                                                   &#x27;std&#x27;,\n",
              "                                                                                   &#x27;lesion_larger_than_1cm&#x27;,\n",
              "                                                                                   &#x27;sweating&#x27;,\n",
              "                                                                                   &#x27;diarrhea&#x27;,\n",
              "                                                                                   &#x27;pain&#x27;,\n",
              "                                                                                   &#x27;pain_intensity&#x27;,\n",
              "                                                                                   &#x27;pain_precise&#x27;,\n",
              "                                                                                   &#x27;pain_sudden&#x27;,\n",
              "                                                                                   &#x27;fever&#x27;,\n",
              "                                                                                   &#x27;unprotected_sex&#x27;,\n",
              "                                                                                   &#x27;lesions&#x27;,\n",
              "                                                                                   &#x27;lesion_pain_swollen&#x27;,\n",
              "                                                                                   &#x27;lesion_...\n",
              "                                                               learning_rate=None,\n",
              "                                                               max_bin=None,\n",
              "                                                               max_cat_threshold=None,\n",
              "                                                               max_cat_to_onehot=None,\n",
              "                                                               max_delta_step=None,\n",
              "                                                               max_depth=None,\n",
              "                                                               max_leaves=None,\n",
              "                                                               min_child_weight=None,\n",
              "                                                               missing=nan,\n",
              "                                                               monotone_constraints=None,\n",
              "                                                               multi_strategy=None,\n",
              "                                                               n_estimators=10,\n",
              "                                                               n_jobs=None,\n",
              "                                                               num_parallel_tree=None,\n",
              "                                                               objective=&#x27;multi:softprob&#x27;, ...))])),\n",
              "                               (&#x27;cat&#x27;,\n",
              "                                &lt;catboost.core.CatBoostClassifier object at 0x785a37c0d930&gt;)])</pre><b>In a Jupyter environment, please rerun this cell to show the HTML representation or trust the notebook. <br />On GitHub, the HTML representation is unable to render, please try loading this page with nbviewer.org.</b></div><div class=\"sk-container\" hidden><div class=\"sk-item sk-dashed-wrapped\"><div class=\"sk-label-container\"><div class=\"sk-label sk-toggleable\"><input class=\"sk-toggleable__control sk-hidden--visually\" id=\"sk-estimator-id-29\" type=\"checkbox\" ><label for=\"sk-estimator-id-29\" class=\"sk-toggleable__label sk-toggleable__label-arrow\">StackingClassifier</label><div class=\"sk-toggleable__content\"><pre>StackingClassifier(estimators=[(&#x27;xgb&#x27;,\n",
              "                                Pipeline(steps=[(&#x27;columntransformer&#x27;,\n",
              "                                                 ColumnTransformer(remainder=&#x27;passthrough&#x27;,\n",
              "                                                                   transformers=[(&#x27;num&#x27;,\n",
              "                                                                                  StandardScaler(),\n",
              "                                                                                  [&#x27;AGE&#x27;,\n",
              "                                                                                   &#x27;swollen_nodes&#x27;,\n",
              "                                                                                   &#x27;std&#x27;,\n",
              "                                                                                   &#x27;lesion_larger_than_1cm&#x27;,\n",
              "                                                                                   &#x27;sweating&#x27;,\n",
              "                                                                                   &#x27;diarrhea&#x27;,\n",
              "                                                                                   &#x27;pain&#x27;,\n",
              "                                                                                   &#x27;pain_intensity&#x27;,\n",
              "                                                                                   &#x27;pain_precise&#x27;,\n",
              "                                                                                   &#x27;pain_sudden&#x27;,\n",
              "                                                                                   &#x27;fever&#x27;,\n",
              "                                                                                   &#x27;unprotected_sex&#x27;,\n",
              "                                                                                   &#x27;lesions&#x27;,\n",
              "                                                                                   &#x27;lesion_pain_swollen&#x27;,\n",
              "                                                                                   &#x27;lesion_...\n",
              "                                                               learning_rate=None,\n",
              "                                                               max_bin=None,\n",
              "                                                               max_cat_threshold=None,\n",
              "                                                               max_cat_to_onehot=None,\n",
              "                                                               max_delta_step=None,\n",
              "                                                               max_depth=None,\n",
              "                                                               max_leaves=None,\n",
              "                                                               min_child_weight=None,\n",
              "                                                               missing=nan,\n",
              "                                                               monotone_constraints=None,\n",
              "                                                               multi_strategy=None,\n",
              "                                                               n_estimators=10,\n",
              "                                                               n_jobs=None,\n",
              "                                                               num_parallel_tree=None,\n",
              "                                                               objective=&#x27;multi:softprob&#x27;, ...))])),\n",
              "                               (&#x27;cat&#x27;,\n",
              "                                &lt;catboost.core.CatBoostClassifier object at 0x785a37c0d930&gt;)])</pre></div></div></div><div class=\"sk-serial\"><div class=\"sk-item\"><div class=\"sk-parallel\"><div class=\"sk-parallel-item\"><div class=\"sk-item\"><div class=\"sk-label-container\"><div class=\"sk-label sk-toggleable\"><label>xgb</label></div></div><div class=\"sk-serial\"><div class=\"sk-item\"><div class=\"sk-serial\"><div class=\"sk-item sk-dashed-wrapped\"><div class=\"sk-label-container\"><div class=\"sk-label sk-toggleable\"><input class=\"sk-toggleable__control sk-hidden--visually\" id=\"sk-estimator-id-30\" type=\"checkbox\" ><label for=\"sk-estimator-id-30\" class=\"sk-toggleable__label sk-toggleable__label-arrow\">columntransformer: ColumnTransformer</label><div class=\"sk-toggleable__content\"><pre>ColumnTransformer(remainder=&#x27;passthrough&#x27;,\n",
              "                  transformers=[(&#x27;num&#x27;, StandardScaler(),\n",
              "                                 [&#x27;AGE&#x27;, &#x27;swollen_nodes&#x27;, &#x27;std&#x27;,\n",
              "                                  &#x27;lesion_larger_than_1cm&#x27;, &#x27;sweating&#x27;,\n",
              "                                  &#x27;diarrhea&#x27;, &#x27;pain&#x27;, &#x27;pain_intensity&#x27;,\n",
              "                                  &#x27;pain_precise&#x27;, &#x27;pain_sudden&#x27;, &#x27;fever&#x27;,\n",
              "                                  &#x27;unprotected_sex&#x27;, &#x27;lesions&#x27;,\n",
              "                                  &#x27;lesion_pain_swollen&#x27;, &#x27;lesion_pain_intense&#x27;,\n",
              "                                  &#x27;itching_severity&#x27;, &#x27;nausea&#x27;, &#x27;weight_loss&#x27;,\n",
              "                                  &#x27;sex_hiv&#x27;, &#x27;fam_alle...\n",
              "                                                            &#x27;cheek(L)&#x27;,\n",
              "                                                            &#x27;epigastric&#x27;,\n",
              "                                                            &#x27;thoracic spine&#x27;],\n",
              "                                                           [&#x27;nose&#x27;,\n",
              "                                                            &#x27;toe (1)(R)&#x27;,\n",
              "                                                            &#x27;toe (1)(L)&#x27;,\n",
              "                                                            &#x27;thigh(L)&#x27;,\n",
              "                                                            &#x27;calf(L)&#x27;,\n",
              "                                                            &#x27;cheek(L)&#x27;,\n",
              "                                                            &#x27;sole(R)&#x27;,\n",
              "                                                            &#x27;nowhere&#x27;,\n",
              "                                                            &#x27;dorsal aspect of &#x27;\n",
              "                                                            &#x27;the foot(L)&#x27;,\n",
              "                                                            &#x27;dorsal aspect of &#x27;\n",
              "                                                            &#x27;the foot(R)&#x27;,\n",
              "                                                            &#x27;sole(L)&#x27;,\n",
              "                                                            &#x27;forehead&#x27;,\n",
              "                                                            &#x27;calf(R)&#x27;,\n",
              "                                                            &#x27;thigh(R)&#x27;,\n",
              "                                                            &#x27;cheek(R)&#x27;]]),\n",
              "                                 [&#x27;INITIAL_EVIDENCE&#x27;, &#x27;SEX&#x27;, &#x27;trav1&#x27;,\n",
              "                                  &#x27;pain_char&#x27;, &#x27;lesion_color&#x27;, &#x27;pain_somewhere&#x27;,\n",
              "                                  &#x27;lesion_location&#x27;, &#x27;swelling_location&#x27;])])</pre></div></div></div><div class=\"sk-parallel\"><div class=\"sk-parallel-item\"><div class=\"sk-item\"><div class=\"sk-label-container\"><div class=\"sk-label sk-toggleable\"><input class=\"sk-toggleable__control sk-hidden--visually\" id=\"sk-estimator-id-31\" type=\"checkbox\" ><label for=\"sk-estimator-id-31\" class=\"sk-toggleable__label sk-toggleable__label-arrow\">num</label><div class=\"sk-toggleable__content\"><pre>[&#x27;AGE&#x27;, &#x27;swollen_nodes&#x27;, &#x27;std&#x27;, &#x27;lesion_larger_than_1cm&#x27;, &#x27;sweating&#x27;, &#x27;diarrhea&#x27;, &#x27;pain&#x27;, &#x27;pain_intensity&#x27;, &#x27;pain_precise&#x27;, &#x27;pain_sudden&#x27;, &#x27;fever&#x27;, &#x27;unprotected_sex&#x27;, &#x27;lesions&#x27;, &#x27;lesion_pain_swollen&#x27;, &#x27;lesion_pain_intense&#x27;, &#x27;itching_severity&#x27;, &#x27;nausea&#x27;, &#x27;weight_loss&#x27;, &#x27;sex_hiv&#x27;, &#x27;fam_allergies&#x27;, &#x27;fam_j45&#x27;, &#x27;j45&#x27;, &#x27;itchy_nose&#x27;, &#x27;eye_itching&#x27;, &#x27;runny_nose&#x27;, &#x27;urban1&#x27;, &#x27;severe_allergy&#x27;, &#x27;contact_allergy&#x27;, &#x27;short_breath&#x27;, &#x27;swelling&#x27;, &#x27;lost_consciousness&#x27;, &#x27;stridor&#x27;, &#x27;z84.89&#x27;, &#x27;HIV&#x27;, &#x27;cortico&#x27;, &#x27;IV_drugs&#x27;, &#x27;e10_e11&#x27;, &#x27;f10.129&#x27;, &#x27;cough&#x27;, &#x27;cough_blood&#x27;, &#x27;v85.0&#x27;, &#x27;I30&#x27;, &#x27;f17.210&#x27;, &#x27;high_bp&#x27;, &#x27;ulcers&#x27;, &#x27;anorexia&#x27;, &#x27;new_fatigue&#x27;, &#x27;nsaids&#x27;, &#x27;i50&#x27;, &#x27;i80&#x27;, &#x27;lymph_surg&#x27;, &#x27;synd_nephro&#x27;, &#x27;convulsion&#x27;, &#x27;e66&#x27;, &#x27;red_eye&#x27;, &#x27;agri&#x27;, &#x27;gained_weight&#x27;, &#x27;k74&#x27;, &#x27;patho_endo&#x27;, &#x27;dizziness&#x27;, &#x27;wheezing_exhale&#x27;, &#x27;fatigue_ext&#x27;, &#x27;sore_throat&#x27;, &#x27;muscle_pain&#x27;, &#x27;lost_appetite&#x27;, &#x27;heart_valves&#x27;, &#x27;sahs&#x27;, &#x27;cont_pertussis&#x27;, &#x27;vomiting_cough&#x27;, &#x27;coughing_fits&#x27;, &#x27;vaccination&#x27;, &#x27;chills&#x27;, &#x27;z92.25&#x27;, &#x27;ca_blockers&#x27;, &#x27;vag_discharge&#x27;, &#x27;wheezing_inhale&#x27;, &#x27;fatigue&#x27;, &#x27;menarche_12&#x27;, &#x27;breastfed_9&#x27;, &#x27;confusion&#x27;, &#x27;contact&#x27;, &#x27;ebolacase&#x27;, &#x27;bruising&#x27;]</pre></div></div></div><div class=\"sk-serial\"><div class=\"sk-item\"><div class=\"sk-estimator sk-toggleable\"><input class=\"sk-toggleable__control sk-hidden--visually\" id=\"sk-estimator-id-32\" type=\"checkbox\" ><label for=\"sk-estimator-id-32\" class=\"sk-toggleable__label sk-toggleable__label-arrow\">StandardScaler</label><div class=\"sk-toggleable__content\"><pre>StandardScaler()</pre></div></div></div></div></div></div><div class=\"sk-parallel-item\"><div class=\"sk-item\"><div class=\"sk-label-container\"><div class=\"sk-label sk-toggleable\"><input class=\"sk-toggleable__control sk-hidden--visually\" id=\"sk-estimator-id-33\" type=\"checkbox\" ><label for=\"sk-estimator-id-33\" class=\"sk-toggleable__label sk-toggleable__label-arrow\">cat</label><div class=\"sk-toggleable__content\"><pre>[&#x27;INITIAL_EVIDENCE&#x27;, &#x27;SEX&#x27;, &#x27;trav1&#x27;, &#x27;pain_char&#x27;, &#x27;lesion_color&#x27;, &#x27;pain_somewhere&#x27;, &#x27;lesion_location&#x27;, &#x27;swelling_location&#x27;]</pre></div></div></div><div class=\"sk-serial\"><div class=\"sk-item\"><div class=\"sk-estimator sk-toggleable\"><input class=\"sk-toggleable__control sk-hidden--visually\" id=\"sk-estimator-id-34\" type=\"checkbox\" ><label for=\"sk-estimator-id-34\" class=\"sk-toggleable__label sk-toggleable__label-arrow\">OneHotEncoder</label><div class=\"sk-toggleable__content\"><pre>OneHotEncoder(categories=[[&#x27;eye_itching&#x27;, &#x27;fever&#x27;, &#x27;chills&#x27;, &#x27;lesions&#x27;,\n",
              "                           &#x27;new_fatigue&#x27;, &#x27;diarrhea&#x27;, &#x27;cough&#x27;, &#x27;fatigue_ext&#x27;,\n",
              "                           &#x27;bruising&#x27;, &#x27;dizziness&#x27;, &#x27;runny_nose&#x27;,\n",
              "                           &#x27;coughing_fits&#x27;, &#x27;convulsion&#x27;, &#x27;confusion&#x27;, &#x27;pain&#x27;,\n",
              "                           &#x27;weight_loss&#x27;, &#x27;wheezing_exhale&#x27;,\n",
              "                           &#x27;lost_consciousness&#x27;, &#x27;red_eye&#x27;, &#x27;fatigue&#x27;, &#x27;ulcers&#x27;,\n",
              "                           &#x27;nausea&#x27;, &#x27;cough_blood&#x27;, &#x27;short_breath&#x27;,\n",
              "                           &#x27;sore_throat&#x27;, &#x27;sweating&#x27;, &#x27;muscl...\n",
              "                           &#x27;labia minora(R)&#x27;, &#x27;thigh(L)&#x27;, &#x27;under the tongue&#x27;,\n",
              "                           &#x27;forehead&#x27;, &#x27;upper lip(R)&#x27;, &#x27;cheek(R)&#x27;,\n",
              "                           &#x27;bottom lip(R)&#x27;, &#x27;back of the neck&#x27;, &#x27;scrotum&#x27;,\n",
              "                           &#x27;cheek(L)&#x27;, &#x27;epigastric&#x27;, &#x27;thoracic spine&#x27;],\n",
              "                          [&#x27;nose&#x27;, &#x27;toe (1)(R)&#x27;, &#x27;toe (1)(L)&#x27;, &#x27;thigh(L)&#x27;,\n",
              "                           &#x27;calf(L)&#x27;, &#x27;cheek(L)&#x27;, &#x27;sole(R)&#x27;, &#x27;nowhere&#x27;,\n",
              "                           &#x27;dorsal aspect of the foot(L)&#x27;,\n",
              "                           &#x27;dorsal aspect of the foot(R)&#x27;, &#x27;sole(L)&#x27;,\n",
              "                           &#x27;forehead&#x27;, &#x27;calf(R)&#x27;, &#x27;thigh(R)&#x27;, &#x27;cheek(R)&#x27;]])</pre></div></div></div></div></div></div><div class=\"sk-parallel-item\"><div class=\"sk-item\"><div class=\"sk-label-container\"><div class=\"sk-label sk-toggleable\"><input class=\"sk-toggleable__control sk-hidden--visually\" id=\"sk-estimator-id-35\" type=\"checkbox\" ><label for=\"sk-estimator-id-35\" class=\"sk-toggleable__label sk-toggleable__label-arrow\">remainder</label><div class=\"sk-toggleable__content\"><pre>[]</pre></div></div></div><div class=\"sk-serial\"><div class=\"sk-item\"><div class=\"sk-estimator sk-toggleable\"><input class=\"sk-toggleable__control sk-hidden--visually\" id=\"sk-estimator-id-36\" type=\"checkbox\" ><label for=\"sk-estimator-id-36\" class=\"sk-toggleable__label sk-toggleable__label-arrow\">passthrough</label><div class=\"sk-toggleable__content\"><pre>passthrough</pre></div></div></div></div></div></div></div></div><div class=\"sk-item\"><div class=\"sk-estimator sk-toggleable\"><input class=\"sk-toggleable__control sk-hidden--visually\" id=\"sk-estimator-id-37\" type=\"checkbox\" ><label for=\"sk-estimator-id-37\" class=\"sk-toggleable__label sk-toggleable__label-arrow\">XGBClassifier</label><div class=\"sk-toggleable__content\"><pre>XGBClassifier(base_score=None, booster=None, callbacks=None,\n",
              "              colsample_bylevel=None, colsample_bynode=None,\n",
              "              colsample_bytree=None, device=None, early_stopping_rounds=None,\n",
              "              enable_categorical=False, eval_metric=None, feature_types=None,\n",
              "              gamma=None, grow_policy=None, importance_type=None,\n",
              "              interaction_constraints=None, learning_rate=None, max_bin=None,\n",
              "              max_cat_threshold=None, max_cat_to_onehot=None,\n",
              "              max_delta_step=None, max_depth=None, max_leaves=None,\n",
              "              min_child_weight=None, missing=nan, monotone_constraints=None,\n",
              "              multi_strategy=None, n_estimators=10, n_jobs=None,\n",
              "              num_parallel_tree=None, objective=&#x27;multi:softprob&#x27;, ...)</pre></div></div></div></div></div></div></div></div><div class=\"sk-parallel-item\"><div class=\"sk-item\"><div class=\"sk-label-container\"><div class=\"sk-label sk-toggleable\"><label>cat</label></div></div><div class=\"sk-serial\"><div class=\"sk-item\"><div class=\"sk-estimator sk-toggleable\"><input class=\"sk-toggleable__control sk-hidden--visually\" id=\"sk-estimator-id-38\" type=\"checkbox\" ><label for=\"sk-estimator-id-38\" class=\"sk-toggleable__label sk-toggleable__label-arrow\">CatBoostClassifier</label><div class=\"sk-toggleable__content\"><pre>&lt;catboost.core.CatBoostClassifier object at 0x785a37c0d930&gt;</pre></div></div></div></div></div></div></div></div><div class=\"sk-item\"><div class=\"sk-parallel\"><div class=\"sk-parallel-item\"><div class=\"sk-item\"><div class=\"sk-label-container\"><div class=\"sk-label sk-toggleable\"><label>final_estimator</label></div></div><div class=\"sk-serial\"><div class=\"sk-item\"><div class=\"sk-estimator sk-toggleable\"><input class=\"sk-toggleable__control sk-hidden--visually\" id=\"sk-estimator-id-39\" type=\"checkbox\" ><label for=\"sk-estimator-id-39\" class=\"sk-toggleable__label sk-toggleable__label-arrow\">LogisticRegression</label><div class=\"sk-toggleable__content\"><pre>LogisticRegression()</pre></div></div></div></div></div></div></div></div></div></div></div></div>"
            ]
          },
          "metadata": {},
          "execution_count": 77
        }
      ]
    },
    {
      "cell_type": "code",
      "source": [
        "print(cr(y_validate, stacking.predict(X_val_for_cat)))"
      ],
      "metadata": {
        "colab": {
          "base_uri": "https://localhost:8080/"
        },
        "id": "ytXLZc16kVFQ",
        "outputId": "9a8de604-4c55-4eb6-ba59-632d012ef489"
      },
      "execution_count": null,
      "outputs": [
        {
          "output_type": "stream",
          "name": "stdout",
          "text": [
            "                         precision    recall  f1-score   support\n",
            "\n",
            "     Allergic sinusitis       0.83      0.85      0.84      2136\n",
            "            Anaphylaxis       0.78      0.48      0.60      3754\n",
            "                 Chagas       0.90      0.23      0.36      1124\n",
            "HIV (initial infection)       0.35      0.36      0.35      3852\n",
            "              Influenza       0.58      0.47      0.52      3590\n",
            "        Localized edema       0.52      1.00      0.68      3694\n",
            "                    SLE       0.89      0.34      0.49      1579\n",
            "            Sarcoidosis       0.60      0.72      0.65      3028\n",
            "           Tuberculosis       0.58      0.52      0.55      2007\n",
            "         Whooping cough       1.00      1.00      1.00       545\n",
            "\n",
            "               accuracy                           0.59     25309\n",
            "              macro avg       0.70      0.60      0.60     25309\n",
            "           weighted avg       0.63      0.59      0.58     25309\n",
            "\n"
          ]
        }
      ]
    },
    {
      "cell_type": "markdown",
      "source": [
        "### LightGBM"
      ],
      "metadata": {
        "id": "GyGKMGLebynd"
      }
    },
    {
      "cell_type": "code",
      "source": [
        "import lightgbm as lgb\n",
        "\n",
        "lgbm = lgb.LGBMClassifier(random_state = SEED, n_estimators=10)\n",
        "\n",
        "fit_and_score(lgbm)"
      ],
      "metadata": {
        "colab": {
          "base_uri": "https://localhost:8080/",
          "height": 800
        },
        "id": "fPJdTjmOXsxP",
        "outputId": "bcbfc17a-d260-4b72-d35b-9809cd7ffe79"
      },
      "execution_count": null,
      "outputs": [
        {
          "output_type": "stream",
          "name": "stdout",
          "text": [
            "[LightGBM] [Info] Auto-choosing row-wise multi-threading, the overhead of testing was 0.268306 seconds.\n",
            "You can set `force_row_wise=true` to remove the overhead.\n",
            "And if memory is not enough, you can set `force_col_wise=true`.\n",
            "[LightGBM] [Info] Total Bins 667\n",
            "[LightGBM] [Info] Number of data points in the train set: 202290, number of used features: 216\n",
            "[LightGBM] [Info] Start training from score -2.043828\n",
            "[LightGBM] [Info] Start training from score -1.987620\n",
            "[LightGBM] [Info] Start training from score -3.084863\n",
            "[LightGBM] [Info] Start training from score -1.941958\n",
            "[LightGBM] [Info] Start training from score -2.020853\n",
            "[LightGBM] [Info] Start training from score -1.983767\n",
            "[LightGBM] [Info] Start training from score -2.835941\n",
            "[LightGBM] [Info] Start training from score -2.251700\n",
            "[LightGBM] [Info] Start training from score -2.521917\n",
            "[LightGBM] [Info] Start training from score -3.506344\n",
            "[LightGBM] [Warning] No further splits with positive gain, best gain: -inf\n",
            "LGBMClassifier(n_estimators=10, random_state=42)\n",
            "\n",
            "                         precision    recall  f1-score   support\n",
            "\n",
            "     Allergic sinusitis       0.77      0.90      0.83      2136\n",
            "            Anaphylaxis       0.93      0.41      0.57      3754\n",
            "                 Chagas       1.00      0.22      0.36      1124\n",
            "HIV (initial infection)       0.39      0.57      0.47      3852\n",
            "              Influenza       0.67      0.31      0.42      3590\n",
            "        Localized edema       0.52      1.00      0.68      3694\n",
            "                    SLE       0.95      0.32      0.48      1579\n",
            "            Sarcoidosis       0.60      0.71      0.65      3028\n",
            "           Tuberculosis       0.59      0.57      0.58      2007\n",
            "         Whooping cough       1.00      1.00      1.00       545\n",
            "\n",
            "               accuracy                           0.59     25309\n",
            "              macro avg       0.74      0.60      0.60     25309\n",
            "           weighted avg       0.68      0.59      0.58     25309\n",
            "\n"
          ]
        },
        {
          "output_type": "execute_result",
          "data": {
            "text/plain": [
              "Pipeline(steps=[('columntransformer',\n",
              "                 ColumnTransformer(remainder='passthrough',\n",
              "                                   transformers=[('num', StandardScaler(),\n",
              "                                                  ['AGE', 'swollen_nodes',\n",
              "                                                   'std',\n",
              "                                                   'lesion_larger_than_1cm',\n",
              "                                                   'sweating', 'diarrhea',\n",
              "                                                   'pain', 'pain_intensity',\n",
              "                                                   'pain_precise',\n",
              "                                                   'pain_sudden', 'fever',\n",
              "                                                   'unprotected_sex', 'lesions',\n",
              "                                                   'lesion_pain_swollen',\n",
              "                                                   'lesion_pain_intense',\n",
              "                                                   'itching_severity', 'naus...\n",
              "                                                                             'calf(L)',\n",
              "                                                                             'cheek(L)',\n",
              "                                                                             'sole(R)',\n",
              "                                                                             'nowhere',\n",
              "                                                                             'dorsal '\n",
              "                                                                             'aspect '\n",
              "                                                                             'of '\n",
              "                                                                             'the '\n",
              "                                                                             'foot(L)',\n",
              "                                                                             'dorsal '\n",
              "                                                                             'aspect '\n",
              "                                                                             'of '\n",
              "                                                                             'the '\n",
              "                                                                             'foot(R)',\n",
              "                                                                             'sole(L)',\n",
              "                                                                             'forehead',\n",
              "                                                                             'calf(R)',\n",
              "                                                                             'thigh(R)',\n",
              "                                                                             'cheek(R)']]),\n",
              "                                                  ['INITIAL_EVIDENCE', 'SEX',\n",
              "                                                   'trav1', 'pain_char',\n",
              "                                                   'lesion_color',\n",
              "                                                   'pain_somewhere',\n",
              "                                                   'lesion_location',\n",
              "                                                   'swelling_location'])])),\n",
              "                ('lgbmclassifier',\n",
              "                 LGBMClassifier(n_estimators=10, random_state=42))])"
            ],
            "text/html": [
              "<style>#sk-container-id-3 {color: black;background-color: white;}#sk-container-id-3 pre{padding: 0;}#sk-container-id-3 div.sk-toggleable {background-color: white;}#sk-container-id-3 label.sk-toggleable__label {cursor: pointer;display: block;width: 100%;margin-bottom: 0;padding: 0.3em;box-sizing: border-box;text-align: center;}#sk-container-id-3 label.sk-toggleable__label-arrow:before {content: \"▸\";float: left;margin-right: 0.25em;color: #696969;}#sk-container-id-3 label.sk-toggleable__label-arrow:hover:before {color: black;}#sk-container-id-3 div.sk-estimator:hover label.sk-toggleable__label-arrow:before {color: black;}#sk-container-id-3 div.sk-toggleable__content {max-height: 0;max-width: 0;overflow: hidden;text-align: left;background-color: #f0f8ff;}#sk-container-id-3 div.sk-toggleable__content pre {margin: 0.2em;color: black;border-radius: 0.25em;background-color: #f0f8ff;}#sk-container-id-3 input.sk-toggleable__control:checked~div.sk-toggleable__content {max-height: 200px;max-width: 100%;overflow: auto;}#sk-container-id-3 input.sk-toggleable__control:checked~label.sk-toggleable__label-arrow:before {content: \"▾\";}#sk-container-id-3 div.sk-estimator input.sk-toggleable__control:checked~label.sk-toggleable__label {background-color: #d4ebff;}#sk-container-id-3 div.sk-label input.sk-toggleable__control:checked~label.sk-toggleable__label {background-color: #d4ebff;}#sk-container-id-3 input.sk-hidden--visually {border: 0;clip: rect(1px 1px 1px 1px);clip: rect(1px, 1px, 1px, 1px);height: 1px;margin: -1px;overflow: hidden;padding: 0;position: absolute;width: 1px;}#sk-container-id-3 div.sk-estimator {font-family: monospace;background-color: #f0f8ff;border: 1px dotted black;border-radius: 0.25em;box-sizing: border-box;margin-bottom: 0.5em;}#sk-container-id-3 div.sk-estimator:hover {background-color: #d4ebff;}#sk-container-id-3 div.sk-parallel-item::after {content: \"\";width: 100%;border-bottom: 1px solid gray;flex-grow: 1;}#sk-container-id-3 div.sk-label:hover label.sk-toggleable__label {background-color: #d4ebff;}#sk-container-id-3 div.sk-serial::before {content: \"\";position: absolute;border-left: 1px solid gray;box-sizing: border-box;top: 0;bottom: 0;left: 50%;z-index: 0;}#sk-container-id-3 div.sk-serial {display: flex;flex-direction: column;align-items: center;background-color: white;padding-right: 0.2em;padding-left: 0.2em;position: relative;}#sk-container-id-3 div.sk-item {position: relative;z-index: 1;}#sk-container-id-3 div.sk-parallel {display: flex;align-items: stretch;justify-content: center;background-color: white;position: relative;}#sk-container-id-3 div.sk-item::before, #sk-container-id-3 div.sk-parallel-item::before {content: \"\";position: absolute;border-left: 1px solid gray;box-sizing: border-box;top: 0;bottom: 0;left: 50%;z-index: -1;}#sk-container-id-3 div.sk-parallel-item {display: flex;flex-direction: column;z-index: 1;position: relative;background-color: white;}#sk-container-id-3 div.sk-parallel-item:first-child::after {align-self: flex-end;width: 50%;}#sk-container-id-3 div.sk-parallel-item:last-child::after {align-self: flex-start;width: 50%;}#sk-container-id-3 div.sk-parallel-item:only-child::after {width: 0;}#sk-container-id-3 div.sk-dashed-wrapped {border: 1px dashed gray;margin: 0 0.4em 0.5em 0.4em;box-sizing: border-box;padding-bottom: 0.4em;background-color: white;}#sk-container-id-3 div.sk-label label {font-family: monospace;font-weight: bold;display: inline-block;line-height: 1.2em;}#sk-container-id-3 div.sk-label-container {text-align: center;}#sk-container-id-3 div.sk-container {/* jupyter's `normalize.less` sets `[hidden] { display: none; }` but bootstrap.min.css set `[hidden] { display: none !important; }` so we also need the `!important` here to be able to override the default hidden behavior on the sphinx rendered scikit-learn.org. See: https://github.com/scikit-learn/scikit-learn/issues/21755 */display: inline-block !important;position: relative;}#sk-container-id-3 div.sk-text-repr-fallback {display: none;}</style><div id=\"sk-container-id-3\" class=\"sk-top-container\"><div class=\"sk-text-repr-fallback\"><pre>Pipeline(steps=[(&#x27;columntransformer&#x27;,\n",
              "                 ColumnTransformer(remainder=&#x27;passthrough&#x27;,\n",
              "                                   transformers=[(&#x27;num&#x27;, StandardScaler(),\n",
              "                                                  [&#x27;AGE&#x27;, &#x27;swollen_nodes&#x27;,\n",
              "                                                   &#x27;std&#x27;,\n",
              "                                                   &#x27;lesion_larger_than_1cm&#x27;,\n",
              "                                                   &#x27;sweating&#x27;, &#x27;diarrhea&#x27;,\n",
              "                                                   &#x27;pain&#x27;, &#x27;pain_intensity&#x27;,\n",
              "                                                   &#x27;pain_precise&#x27;,\n",
              "                                                   &#x27;pain_sudden&#x27;, &#x27;fever&#x27;,\n",
              "                                                   &#x27;unprotected_sex&#x27;, &#x27;lesions&#x27;,\n",
              "                                                   &#x27;lesion_pain_swollen&#x27;,\n",
              "                                                   &#x27;lesion_pain_intense&#x27;,\n",
              "                                                   &#x27;itching_severity&#x27;, &#x27;naus...\n",
              "                                                                             &#x27;calf(L)&#x27;,\n",
              "                                                                             &#x27;cheek(L)&#x27;,\n",
              "                                                                             &#x27;sole(R)&#x27;,\n",
              "                                                                             &#x27;nowhere&#x27;,\n",
              "                                                                             &#x27;dorsal &#x27;\n",
              "                                                                             &#x27;aspect &#x27;\n",
              "                                                                             &#x27;of &#x27;\n",
              "                                                                             &#x27;the &#x27;\n",
              "                                                                             &#x27;foot(L)&#x27;,\n",
              "                                                                             &#x27;dorsal &#x27;\n",
              "                                                                             &#x27;aspect &#x27;\n",
              "                                                                             &#x27;of &#x27;\n",
              "                                                                             &#x27;the &#x27;\n",
              "                                                                             &#x27;foot(R)&#x27;,\n",
              "                                                                             &#x27;sole(L)&#x27;,\n",
              "                                                                             &#x27;forehead&#x27;,\n",
              "                                                                             &#x27;calf(R)&#x27;,\n",
              "                                                                             &#x27;thigh(R)&#x27;,\n",
              "                                                                             &#x27;cheek(R)&#x27;]]),\n",
              "                                                  [&#x27;INITIAL_EVIDENCE&#x27;, &#x27;SEX&#x27;,\n",
              "                                                   &#x27;trav1&#x27;, &#x27;pain_char&#x27;,\n",
              "                                                   &#x27;lesion_color&#x27;,\n",
              "                                                   &#x27;pain_somewhere&#x27;,\n",
              "                                                   &#x27;lesion_location&#x27;,\n",
              "                                                   &#x27;swelling_location&#x27;])])),\n",
              "                (&#x27;lgbmclassifier&#x27;,\n",
              "                 LGBMClassifier(n_estimators=10, random_state=42))])</pre><b>In a Jupyter environment, please rerun this cell to show the HTML representation or trust the notebook. <br />On GitHub, the HTML representation is unable to render, please try loading this page with nbviewer.org.</b></div><div class=\"sk-container\" hidden><div class=\"sk-item sk-dashed-wrapped\"><div class=\"sk-label-container\"><div class=\"sk-label sk-toggleable\"><input class=\"sk-toggleable__control sk-hidden--visually\" id=\"sk-estimator-id-19\" type=\"checkbox\" ><label for=\"sk-estimator-id-19\" class=\"sk-toggleable__label sk-toggleable__label-arrow\">Pipeline</label><div class=\"sk-toggleable__content\"><pre>Pipeline(steps=[(&#x27;columntransformer&#x27;,\n",
              "                 ColumnTransformer(remainder=&#x27;passthrough&#x27;,\n",
              "                                   transformers=[(&#x27;num&#x27;, StandardScaler(),\n",
              "                                                  [&#x27;AGE&#x27;, &#x27;swollen_nodes&#x27;,\n",
              "                                                   &#x27;std&#x27;,\n",
              "                                                   &#x27;lesion_larger_than_1cm&#x27;,\n",
              "                                                   &#x27;sweating&#x27;, &#x27;diarrhea&#x27;,\n",
              "                                                   &#x27;pain&#x27;, &#x27;pain_intensity&#x27;,\n",
              "                                                   &#x27;pain_precise&#x27;,\n",
              "                                                   &#x27;pain_sudden&#x27;, &#x27;fever&#x27;,\n",
              "                                                   &#x27;unprotected_sex&#x27;, &#x27;lesions&#x27;,\n",
              "                                                   &#x27;lesion_pain_swollen&#x27;,\n",
              "                                                   &#x27;lesion_pain_intense&#x27;,\n",
              "                                                   &#x27;itching_severity&#x27;, &#x27;naus...\n",
              "                                                                             &#x27;calf(L)&#x27;,\n",
              "                                                                             &#x27;cheek(L)&#x27;,\n",
              "                                                                             &#x27;sole(R)&#x27;,\n",
              "                                                                             &#x27;nowhere&#x27;,\n",
              "                                                                             &#x27;dorsal &#x27;\n",
              "                                                                             &#x27;aspect &#x27;\n",
              "                                                                             &#x27;of &#x27;\n",
              "                                                                             &#x27;the &#x27;\n",
              "                                                                             &#x27;foot(L)&#x27;,\n",
              "                                                                             &#x27;dorsal &#x27;\n",
              "                                                                             &#x27;aspect &#x27;\n",
              "                                                                             &#x27;of &#x27;\n",
              "                                                                             &#x27;the &#x27;\n",
              "                                                                             &#x27;foot(R)&#x27;,\n",
              "                                                                             &#x27;sole(L)&#x27;,\n",
              "                                                                             &#x27;forehead&#x27;,\n",
              "                                                                             &#x27;calf(R)&#x27;,\n",
              "                                                                             &#x27;thigh(R)&#x27;,\n",
              "                                                                             &#x27;cheek(R)&#x27;]]),\n",
              "                                                  [&#x27;INITIAL_EVIDENCE&#x27;, &#x27;SEX&#x27;,\n",
              "                                                   &#x27;trav1&#x27;, &#x27;pain_char&#x27;,\n",
              "                                                   &#x27;lesion_color&#x27;,\n",
              "                                                   &#x27;pain_somewhere&#x27;,\n",
              "                                                   &#x27;lesion_location&#x27;,\n",
              "                                                   &#x27;swelling_location&#x27;])])),\n",
              "                (&#x27;lgbmclassifier&#x27;,\n",
              "                 LGBMClassifier(n_estimators=10, random_state=42))])</pre></div></div></div><div class=\"sk-serial\"><div class=\"sk-item sk-dashed-wrapped\"><div class=\"sk-label-container\"><div class=\"sk-label sk-toggleable\"><input class=\"sk-toggleable__control sk-hidden--visually\" id=\"sk-estimator-id-20\" type=\"checkbox\" ><label for=\"sk-estimator-id-20\" class=\"sk-toggleable__label sk-toggleable__label-arrow\">columntransformer: ColumnTransformer</label><div class=\"sk-toggleable__content\"><pre>ColumnTransformer(remainder=&#x27;passthrough&#x27;,\n",
              "                  transformers=[(&#x27;num&#x27;, StandardScaler(),\n",
              "                                 [&#x27;AGE&#x27;, &#x27;swollen_nodes&#x27;, &#x27;std&#x27;,\n",
              "                                  &#x27;lesion_larger_than_1cm&#x27;, &#x27;sweating&#x27;,\n",
              "                                  &#x27;diarrhea&#x27;, &#x27;pain&#x27;, &#x27;pain_intensity&#x27;,\n",
              "                                  &#x27;pain_precise&#x27;, &#x27;pain_sudden&#x27;, &#x27;fever&#x27;,\n",
              "                                  &#x27;unprotected_sex&#x27;, &#x27;lesions&#x27;,\n",
              "                                  &#x27;lesion_pain_swollen&#x27;, &#x27;lesion_pain_intense&#x27;,\n",
              "                                  &#x27;itching_severity&#x27;, &#x27;nausea&#x27;, &#x27;weight_loss&#x27;,\n",
              "                                  &#x27;sex_hiv&#x27;, &#x27;fam_alle...\n",
              "                                                            &#x27;cheek(L)&#x27;,\n",
              "                                                            &#x27;epigastric&#x27;,\n",
              "                                                            &#x27;thoracic spine&#x27;],\n",
              "                                                           [&#x27;nose&#x27;,\n",
              "                                                            &#x27;toe (1)(R)&#x27;,\n",
              "                                                            &#x27;toe (1)(L)&#x27;,\n",
              "                                                            &#x27;thigh(L)&#x27;,\n",
              "                                                            &#x27;calf(L)&#x27;,\n",
              "                                                            &#x27;cheek(L)&#x27;,\n",
              "                                                            &#x27;sole(R)&#x27;,\n",
              "                                                            &#x27;nowhere&#x27;,\n",
              "                                                            &#x27;dorsal aspect of &#x27;\n",
              "                                                            &#x27;the foot(L)&#x27;,\n",
              "                                                            &#x27;dorsal aspect of &#x27;\n",
              "                                                            &#x27;the foot(R)&#x27;,\n",
              "                                                            &#x27;sole(L)&#x27;,\n",
              "                                                            &#x27;forehead&#x27;,\n",
              "                                                            &#x27;calf(R)&#x27;,\n",
              "                                                            &#x27;thigh(R)&#x27;,\n",
              "                                                            &#x27;cheek(R)&#x27;]]),\n",
              "                                 [&#x27;INITIAL_EVIDENCE&#x27;, &#x27;SEX&#x27;, &#x27;trav1&#x27;,\n",
              "                                  &#x27;pain_char&#x27;, &#x27;lesion_color&#x27;, &#x27;pain_somewhere&#x27;,\n",
              "                                  &#x27;lesion_location&#x27;, &#x27;swelling_location&#x27;])])</pre></div></div></div><div class=\"sk-parallel\"><div class=\"sk-parallel-item\"><div class=\"sk-item\"><div class=\"sk-label-container\"><div class=\"sk-label sk-toggleable\"><input class=\"sk-toggleable__control sk-hidden--visually\" id=\"sk-estimator-id-21\" type=\"checkbox\" ><label for=\"sk-estimator-id-21\" class=\"sk-toggleable__label sk-toggleable__label-arrow\">num</label><div class=\"sk-toggleable__content\"><pre>[&#x27;AGE&#x27;, &#x27;swollen_nodes&#x27;, &#x27;std&#x27;, &#x27;lesion_larger_than_1cm&#x27;, &#x27;sweating&#x27;, &#x27;diarrhea&#x27;, &#x27;pain&#x27;, &#x27;pain_intensity&#x27;, &#x27;pain_precise&#x27;, &#x27;pain_sudden&#x27;, &#x27;fever&#x27;, &#x27;unprotected_sex&#x27;, &#x27;lesions&#x27;, &#x27;lesion_pain_swollen&#x27;, &#x27;lesion_pain_intense&#x27;, &#x27;itching_severity&#x27;, &#x27;nausea&#x27;, &#x27;weight_loss&#x27;, &#x27;sex_hiv&#x27;, &#x27;fam_allergies&#x27;, &#x27;fam_j45&#x27;, &#x27;j45&#x27;, &#x27;itchy_nose&#x27;, &#x27;eye_itching&#x27;, &#x27;runny_nose&#x27;, &#x27;urban1&#x27;, &#x27;severe_allergy&#x27;, &#x27;contact_allergy&#x27;, &#x27;short_breath&#x27;, &#x27;swelling&#x27;, &#x27;lost_consciousness&#x27;, &#x27;stridor&#x27;, &#x27;z84.89&#x27;, &#x27;HIV&#x27;, &#x27;cortico&#x27;, &#x27;IV_drugs&#x27;, &#x27;e10_e11&#x27;, &#x27;f10.129&#x27;, &#x27;cough&#x27;, &#x27;cough_blood&#x27;, &#x27;v85.0&#x27;, &#x27;I30&#x27;, &#x27;f17.210&#x27;, &#x27;high_bp&#x27;, &#x27;ulcers&#x27;, &#x27;anorexia&#x27;, &#x27;new_fatigue&#x27;, &#x27;nsaids&#x27;, &#x27;i50&#x27;, &#x27;i80&#x27;, &#x27;lymph_surg&#x27;, &#x27;synd_nephro&#x27;, &#x27;convulsion&#x27;, &#x27;e66&#x27;, &#x27;red_eye&#x27;, &#x27;agri&#x27;, &#x27;gained_weight&#x27;, &#x27;k74&#x27;, &#x27;patho_endo&#x27;, &#x27;dizziness&#x27;, &#x27;wheezing_exhale&#x27;, &#x27;fatigue_ext&#x27;, &#x27;sore_throat&#x27;, &#x27;muscle_pain&#x27;, &#x27;lost_appetite&#x27;, &#x27;heart_valves&#x27;, &#x27;sahs&#x27;, &#x27;cont_pertussis&#x27;, &#x27;vomiting_cough&#x27;, &#x27;coughing_fits&#x27;, &#x27;vaccination&#x27;, &#x27;chills&#x27;, &#x27;z92.25&#x27;, &#x27;ca_blockers&#x27;, &#x27;vag_discharge&#x27;, &#x27;wheezing_inhale&#x27;, &#x27;fatigue&#x27;, &#x27;menarche_12&#x27;, &#x27;breastfed_9&#x27;, &#x27;confusion&#x27;, &#x27;contact&#x27;, &#x27;ebolacase&#x27;, &#x27;bruising&#x27;]</pre></div></div></div><div class=\"sk-serial\"><div class=\"sk-item\"><div class=\"sk-estimator sk-toggleable\"><input class=\"sk-toggleable__control sk-hidden--visually\" id=\"sk-estimator-id-22\" type=\"checkbox\" ><label for=\"sk-estimator-id-22\" class=\"sk-toggleable__label sk-toggleable__label-arrow\">StandardScaler</label><div class=\"sk-toggleable__content\"><pre>StandardScaler()</pre></div></div></div></div></div></div><div class=\"sk-parallel-item\"><div class=\"sk-item\"><div class=\"sk-label-container\"><div class=\"sk-label sk-toggleable\"><input class=\"sk-toggleable__control sk-hidden--visually\" id=\"sk-estimator-id-23\" type=\"checkbox\" ><label for=\"sk-estimator-id-23\" class=\"sk-toggleable__label sk-toggleable__label-arrow\">cat</label><div class=\"sk-toggleable__content\"><pre>[&#x27;INITIAL_EVIDENCE&#x27;, &#x27;SEX&#x27;, &#x27;trav1&#x27;, &#x27;pain_char&#x27;, &#x27;lesion_color&#x27;, &#x27;pain_somewhere&#x27;, &#x27;lesion_location&#x27;, &#x27;swelling_location&#x27;]</pre></div></div></div><div class=\"sk-serial\"><div class=\"sk-item\"><div class=\"sk-estimator sk-toggleable\"><input class=\"sk-toggleable__control sk-hidden--visually\" id=\"sk-estimator-id-24\" type=\"checkbox\" ><label for=\"sk-estimator-id-24\" class=\"sk-toggleable__label sk-toggleable__label-arrow\">OneHotEncoder</label><div class=\"sk-toggleable__content\"><pre>OneHotEncoder(categories=[[&#x27;eye_itching&#x27;, &#x27;fever&#x27;, &#x27;chills&#x27;, &#x27;lesions&#x27;,\n",
              "                           &#x27;new_fatigue&#x27;, &#x27;diarrhea&#x27;, &#x27;cough&#x27;, &#x27;fatigue_ext&#x27;,\n",
              "                           &#x27;bruising&#x27;, &#x27;dizziness&#x27;, &#x27;runny_nose&#x27;,\n",
              "                           &#x27;coughing_fits&#x27;, &#x27;convulsion&#x27;, &#x27;confusion&#x27;, &#x27;pain&#x27;,\n",
              "                           &#x27;weight_loss&#x27;, &#x27;wheezing_exhale&#x27;,\n",
              "                           &#x27;lost_consciousness&#x27;, &#x27;red_eye&#x27;, &#x27;fatigue&#x27;, &#x27;ulcers&#x27;,\n",
              "                           &#x27;nausea&#x27;, &#x27;cough_blood&#x27;, &#x27;short_breath&#x27;,\n",
              "                           &#x27;sore_throat&#x27;, &#x27;sweating&#x27;, &#x27;muscl...\n",
              "                           &#x27;labia minora(R)&#x27;, &#x27;thigh(L)&#x27;, &#x27;under the tongue&#x27;,\n",
              "                           &#x27;forehead&#x27;, &#x27;upper lip(R)&#x27;, &#x27;cheek(R)&#x27;,\n",
              "                           &#x27;bottom lip(R)&#x27;, &#x27;back of the neck&#x27;, &#x27;scrotum&#x27;,\n",
              "                           &#x27;cheek(L)&#x27;, &#x27;epigastric&#x27;, &#x27;thoracic spine&#x27;],\n",
              "                          [&#x27;nose&#x27;, &#x27;toe (1)(R)&#x27;, &#x27;toe (1)(L)&#x27;, &#x27;thigh(L)&#x27;,\n",
              "                           &#x27;calf(L)&#x27;, &#x27;cheek(L)&#x27;, &#x27;sole(R)&#x27;, &#x27;nowhere&#x27;,\n",
              "                           &#x27;dorsal aspect of the foot(L)&#x27;,\n",
              "                           &#x27;dorsal aspect of the foot(R)&#x27;, &#x27;sole(L)&#x27;,\n",
              "                           &#x27;forehead&#x27;, &#x27;calf(R)&#x27;, &#x27;thigh(R)&#x27;, &#x27;cheek(R)&#x27;]])</pre></div></div></div></div></div></div><div class=\"sk-parallel-item\"><div class=\"sk-item\"><div class=\"sk-label-container\"><div class=\"sk-label sk-toggleable\"><input class=\"sk-toggleable__control sk-hidden--visually\" id=\"sk-estimator-id-25\" type=\"checkbox\" ><label for=\"sk-estimator-id-25\" class=\"sk-toggleable__label sk-toggleable__label-arrow\">remainder</label><div class=\"sk-toggleable__content\"><pre>[]</pre></div></div></div><div class=\"sk-serial\"><div class=\"sk-item\"><div class=\"sk-estimator sk-toggleable\"><input class=\"sk-toggleable__control sk-hidden--visually\" id=\"sk-estimator-id-26\" type=\"checkbox\" ><label for=\"sk-estimator-id-26\" class=\"sk-toggleable__label sk-toggleable__label-arrow\">passthrough</label><div class=\"sk-toggleable__content\"><pre>passthrough</pre></div></div></div></div></div></div></div></div><div class=\"sk-item\"><div class=\"sk-estimator sk-toggleable\"><input class=\"sk-toggleable__control sk-hidden--visually\" id=\"sk-estimator-id-27\" type=\"checkbox\" ><label for=\"sk-estimator-id-27\" class=\"sk-toggleable__label sk-toggleable__label-arrow\">LGBMClassifier</label><div class=\"sk-toggleable__content\"><pre>LGBMClassifier(n_estimators=10, random_state=42)</pre></div></div></div></div></div></div></div>"
            ]
          },
          "metadata": {},
          "execution_count": 33
        }
      ]
    },
    {
      "cell_type": "code",
      "source": [
        "ct = ColumnTransformer(\n",
        "    transformers=[\n",
        "        ('num', StandardScaler(), numerical_features),\n",
        "        ('cat', OneHotEncoder(categories=categories), categorical_features)\n",
        "    ],\n",
        "    remainder='passthrough'\n",
        ")\n",
        "\n",
        "ct.fit(X_train)\n",
        "X_train_lgb = ct.transform(X_train)\n",
        "X_validate_lgb = ct.transform(X_validate)\n",
        "\n",
        "le = LabelEncoder()\n",
        "y_train_lgb = le.fit_transform(y_train)\n",
        "y_validate_lgb = le.transform(y_validate)\n",
        "\n",
        "train_data = lgb.Dataset(X_train_lgb, label=y_train_lgb)\n",
        "param = {'num_leaves': 31, 'objective': 'binary'}\n",
        "num_round = 10\n",
        "\n",
        "lgb.cv(param, train_data, num_round, nfold=5)\n"
      ],
      "metadata": {
        "colab": {
          "base_uri": "https://localhost:8080/"
        },
        "id": "m7obWi3hY8x-",
        "outputId": "78d9f38d-ef30-4499-b08a-d08541142d8a"
      },
      "execution_count": null,
      "outputs": [
        {
          "output_type": "stream",
          "name": "stdout",
          "text": [
            "[LightGBM] [Info] Number of positive: 140870, number of negative: 20962\n",
            "[LightGBM] [Info] Auto-choosing row-wise multi-threading, the overhead of testing was 0.218417 seconds.\n",
            "You can set `force_row_wise=true` to remove the overhead.\n",
            "And if memory is not enough, you can set `force_col_wise=true`.\n",
            "[LightGBM] [Info] Total Bins 667\n",
            "[LightGBM] [Info] Number of data points in the train set: 161832, number of used features: 216\n",
            "[LightGBM] [Info] Number of positive: 140869, number of negative: 20963\n",
            "[LightGBM] [Info] Auto-choosing row-wise multi-threading, the overhead of testing was 0.219071 seconds.\n",
            "You can set `force_row_wise=true` to remove the overhead.\n",
            "And if memory is not enough, you can set `force_col_wise=true`.\n",
            "[LightGBM] [Info] Total Bins 667\n",
            "[LightGBM] [Info] Number of data points in the train set: 161832, number of used features: 216\n",
            "[LightGBM] [Info] Number of positive: 140869, number of negative: 20963\n",
            "[LightGBM] [Info] Auto-choosing row-wise multi-threading, the overhead of testing was 0.213122 seconds.\n",
            "You can set `force_row_wise=true` to remove the overhead.\n",
            "And if memory is not enough, you can set `force_col_wise=true`.\n",
            "[LightGBM] [Info] Total Bins 667\n",
            "[LightGBM] [Info] Number of data points in the train set: 161832, number of used features: 216\n",
            "[LightGBM] [Info] Number of positive: 140870, number of negative: 20962\n",
            "[LightGBM] [Info] Auto-choosing row-wise multi-threading, the overhead of testing was 0.224318 seconds.\n",
            "You can set `force_row_wise=true` to remove the overhead.\n",
            "And if memory is not enough, you can set `force_col_wise=true`.\n",
            "[LightGBM] [Info] Total Bins 667\n",
            "[LightGBM] [Info] Number of data points in the train set: 161832, number of used features: 216\n",
            "[LightGBM] [Info] Number of positive: 140870, number of negative: 20962\n",
            "[LightGBM] [Info] Auto-choosing row-wise multi-threading, the overhead of testing was 0.210079 seconds.\n",
            "You can set `force_row_wise=true` to remove the overhead.\n",
            "And if memory is not enough, you can set `force_col_wise=true`.\n",
            "[LightGBM] [Info] Total Bins 667\n",
            "[LightGBM] [Info] Number of data points in the train set: 161832, number of used features: 216\n",
            "[LightGBM] [Info] [binary:BoostFromScore]: pavg=0.870471 -> initscore=1.905126\n",
            "[LightGBM] [Info] Start training from score 1.905126\n",
            "[LightGBM] [Info] [binary:BoostFromScore]: pavg=0.870464 -> initscore=1.905071\n",
            "[LightGBM] [Info] Start training from score 1.905071\n",
            "[LightGBM] [Info] [binary:BoostFromScore]: pavg=0.870464 -> initscore=1.905071\n",
            "[LightGBM] [Info] Start training from score 1.905071\n",
            "[LightGBM] [Info] [binary:BoostFromScore]: pavg=0.870471 -> initscore=1.905126\n",
            "[LightGBM] [Info] Start training from score 1.905126\n",
            "[LightGBM] [Info] [binary:BoostFromScore]: pavg=0.870471 -> initscore=1.905126\n",
            "[LightGBM] [Info] Start training from score 1.905126\n"
          ]
        },
        {
          "output_type": "execute_result",
          "data": {
            "text/plain": [
              "{'valid binary_logloss-mean': [0.31026741435934524,\n",
              "  0.2684985724151307,\n",
              "  0.23828579126893773,\n",
              "  0.21465099582740743,\n",
              "  0.19543375215229924,\n",
              "  0.17941598297356015,\n",
              "  0.1658524883158296,\n",
              "  0.1542469662112118,\n",
              "  0.14423764965624492,\n",
              "  0.13552880638100318],\n",
              " 'valid binary_logloss-stdv': [0.00023583415323031722,\n",
              "  0.0003116537447577421,\n",
              "  0.0003442647920699498,\n",
              "  0.00037241342809398164,\n",
              "  0.0003929957722390439,\n",
              "  0.0004173139362707479,\n",
              "  0.0004381317208824662,\n",
              "  0.00045452563803426854,\n",
              "  0.00047176629290164693,\n",
              "  0.0004859948669684686]}"
            ]
          },
          "metadata": {},
          "execution_count": 42
        }
      ]
    },
    {
      "cell_type": "code",
      "source": [
        "lgbooster = lgb.train(param, train_data, num_round)"
      ],
      "metadata": {
        "colab": {
          "base_uri": "https://localhost:8080/"
        },
        "id": "rLl49qdraPWy",
        "outputId": "a292ca99-4ac6-40f0-d3ae-02215db8a781"
      },
      "execution_count": null,
      "outputs": [
        {
          "output_type": "stream",
          "name": "stdout",
          "text": [
            "[LightGBM] [Info] Number of positive: 176087, number of negative: 26203\n",
            "[LightGBM] [Info] Auto-choosing col-wise multi-threading, the overhead of testing was 0.419620 seconds.\n",
            "You can set `force_col_wise=true` to remove the overhead.\n",
            "[LightGBM] [Info] Total Bins 667\n",
            "[LightGBM] [Info] Number of data points in the train set: 202290, number of used features: 216\n",
            "[LightGBM] [Info] [binary:BoostFromScore]: pavg=0.870468 -> initscore=1.905104\n",
            "[LightGBM] [Info] Start training from score 1.905104\n"
          ]
        }
      ]
    },
    {
      "cell_type": "code",
      "source": [
        "print(cr(y_validate_lgb, lgbooster.predict(X_validate_lgb).round()))"
      ],
      "metadata": {
        "colab": {
          "base_uri": "https://localhost:8080/"
        },
        "id": "NQYEiiaxaKIE",
        "outputId": "cb60b667-bf61-4390-b348-dc986ed78f4f"
      },
      "execution_count": null,
      "outputs": [
        {
          "output_type": "stream",
          "name": "stderr",
          "text": [
            "/usr/local/lib/python3.10/dist-packages/sklearn/metrics/_classification.py:1344: UndefinedMetricWarning: Precision and F-score are ill-defined and being set to 0.0 in labels with no predicted samples. Use `zero_division` parameter to control this behavior.\n",
            "  _warn_prf(average, modifier, msg_start, len(result))\n",
            "/usr/local/lib/python3.10/dist-packages/sklearn/metrics/_classification.py:1344: UndefinedMetricWarning: Precision and F-score are ill-defined and being set to 0.0 in labels with no predicted samples. Use `zero_division` parameter to control this behavior.\n",
            "  _warn_prf(average, modifier, msg_start, len(result))\n"
          ]
        },
        {
          "output_type": "stream",
          "name": "stdout",
          "text": [
            "              precision    recall  f1-score   support\n",
            "\n",
            "           0       0.85      0.84      0.84      2136\n",
            "           1       0.16      1.00      0.28      3754\n",
            "           2       0.00      0.00      0.00      1124\n",
            "           3       0.00      0.00      0.00      3852\n",
            "           4       0.00      0.00      0.00      3590\n",
            "           5       0.00      0.00      0.00      3694\n",
            "           6       0.00      0.00      0.00      1579\n",
            "           7       0.00      0.00      0.00      3028\n",
            "           8       0.00      0.00      0.00      2007\n",
            "           9       0.00      0.00      0.00       545\n",
            "\n",
            "    accuracy                           0.22     25309\n",
            "   macro avg       0.10      0.18      0.11     25309\n",
            "weighted avg       0.10      0.22      0.11     25309\n",
            "\n"
          ]
        },
        {
          "output_type": "stream",
          "name": "stderr",
          "text": [
            "/usr/local/lib/python3.10/dist-packages/sklearn/metrics/_classification.py:1344: UndefinedMetricWarning: Precision and F-score are ill-defined and being set to 0.0 in labels with no predicted samples. Use `zero_division` parameter to control this behavior.\n",
            "  _warn_prf(average, modifier, msg_start, len(result))\n"
          ]
        }
      ]
    },
    {
      "cell_type": "markdown",
      "source": [
        "### Support Vector Machine Classifier"
      ],
      "metadata": {
        "id": "vAXTW-6rFFh8"
      }
    },
    {
      "cell_type": "code",
      "source": [
        "from sklearn.svm import LinearSVC\n",
        "\n",
        "max_iter = 1\n",
        "\n",
        "C = 1/np.sqrt(len(X_train))\n",
        "\n",
        "svm = LinearSVC(\n",
        "    random_state = SEED,\n",
        "    max_iter=max_iter,\n",
        "    C=C\n",
        "    )\n",
        "\n",
        "svm_model = fit_and_score(svm)"
      ],
      "metadata": {
        "colab": {
          "base_uri": "https://localhost:8080/"
        },
        "id": "iQDKvcfGK1FN",
        "outputId": "1b15410b-91a7-4d4f-aa55-a194c53af398"
      },
      "execution_count": null,
      "outputs": [
        {
          "output_type": "stream",
          "name": "stderr",
          "text": [
            "/usr/local/lib/python3.10/dist-packages/sklearn/svm/_base.py:1244: ConvergenceWarning: Liblinear failed to converge, increase the number of iterations.\n",
            "  warnings.warn(\n"
          ]
        },
        {
          "output_type": "stream",
          "name": "stdout",
          "text": [
            "LinearSVC(C=0.0022233753825767564, max_iter=1, random_state=42)\n",
            "\n",
            "                         precision    recall  f1-score   support\n",
            "\n",
            "     Allergic sinusitis       0.73      0.92      0.82      2136\n",
            "            Anaphylaxis       0.51      0.64      0.57      3754\n",
            "                 Chagas       0.93      0.23      0.37      1124\n",
            "HIV (initial infection)       0.43      0.40      0.41      3852\n",
            "              Influenza       0.69      0.25      0.37      3590\n",
            "        Localized edema       0.53      0.95      0.68      3694\n",
            "                    SLE       0.88      0.33      0.48      1579\n",
            "            Sarcoidosis       0.67      0.63      0.65      3028\n",
            "           Tuberculosis       0.55      0.56      0.55      2007\n",
            "         Whooping cough       0.99      1.00      1.00       545\n",
            "\n",
            "               accuracy                           0.58     25309\n",
            "              macro avg       0.69      0.59      0.59     25309\n",
            "           weighted avg       0.62      0.58      0.56     25309\n",
            "\n"
          ]
        }
      ]
    },
    {
      "cell_type": "markdown",
      "source": [
        "Warning: SVM takes a long time!"
      ],
      "metadata": {
        "id": "3ppkouEZ4s7W"
      }
    },
    {
      "cell_type": "code",
      "source": [
        "# from sklearn.svm import SVC\n",
        "\n",
        "# svm = SVC(kernel='linear', random_state = SEED, decision_function_shape='ovo')\n",
        "\n",
        "# svm_model = make_pipeline(ct, ss, svm)\n",
        "# svm_model.fit(X_train, y_train)\n",
        "# svm_model.score(X_validate, y_validate)"
      ],
      "metadata": {
        "id": "QMgn_znAXUp0"
      },
      "execution_count": null,
      "outputs": []
    },
    {
      "cell_type": "markdown",
      "source": [
        "### Combinations"
      ],
      "metadata": {
        "id": "5BR_qEeJaZ_0"
      }
    },
    {
      "cell_type": "code",
      "source": [
        "pipe = make_pipeline(\n",
        "    ColumnTransformer(\n",
        "        transformers=[\n",
        "            ('num', StandardScaler(), numerical_features),\n",
        "            ('cat', OneHotEncoder(categories=categories), categorical_features)\n",
        "        ],\n",
        "        remainder='passthrough'\n",
        "    ),\n",
        "    SelectFromModel(\n",
        "        LinearSVC(\n",
        "            random_state = SEED,\n",
        "            max_iter = 10,\n",
        "            C = C\n",
        "        ),\n",
        "        threshold = 'median'\n",
        "    ),\n",
        "    GradientBoostingClassifier(random_state = SEED, n_estimators=10)\n",
        ")\n"
      ],
      "metadata": {
        "id": "iArIRXHfo1Be"
      },
      "execution_count": null,
      "outputs": []
    },
    {
      "cell_type": "code",
      "source": [
        "pipe.fit(X_train, y_train)"
      ],
      "metadata": {
        "colab": {
          "base_uri": "https://localhost:8080/",
          "height": 328
        },
        "id": "JkAqjUr9bZop",
        "outputId": "82670d37-ea45-4913-8d19-2d594acc6787"
      },
      "execution_count": null,
      "outputs": [
        {
          "output_type": "stream",
          "name": "stderr",
          "text": [
            "/usr/local/lib/python3.10/dist-packages/sklearn/svm/_base.py:1244: ConvergenceWarning: Liblinear failed to converge, increase the number of iterations.\n",
            "  warnings.warn(\n"
          ]
        },
        {
          "output_type": "execute_result",
          "data": {
            "text/plain": [
              "Pipeline(steps=[('columntransformer',\n",
              "                 ColumnTransformer(remainder='passthrough',\n",
              "                                   transformers=[('num', StandardScaler(),\n",
              "                                                  ['AGE', 'swollen_nodes',\n",
              "                                                   'std',\n",
              "                                                   'lesion_larger_than_1cm',\n",
              "                                                   'sweating', 'diarrhea',\n",
              "                                                   'pain', 'pain_intensity',\n",
              "                                                   'pain_precise',\n",
              "                                                   'pain_sudden', 'fever',\n",
              "                                                   'unprotected_sex', 'lesions',\n",
              "                                                   'lesion_pain_swollen',\n",
              "                                                   'lesion_pain_intense',\n",
              "                                                   'itching_severity', 'naus...\n",
              "                                                                             'cheek(R)']]),\n",
              "                                                  ['INITIAL_EVIDENCE', 'SEX',\n",
              "                                                   'trav1', 'pain_char',\n",
              "                                                   'lesion_color',\n",
              "                                                   'pain_somewhere',\n",
              "                                                   'lesion_location',\n",
              "                                                   'swelling_location'])])),\n",
              "                ('selectfrommodel',\n",
              "                 SelectFromModel(estimator=LinearSVC(C=0.0022233753825767564,\n",
              "                                                     max_iter=10,\n",
              "                                                     random_state=42),\n",
              "                                 threshold='median')),\n",
              "                ('gradientboostingclassifier',\n",
              "                 GradientBoostingClassifier(n_estimators=10, random_state=42))])"
            ],
            "text/html": [
              "<style>#sk-container-id-10 {color: black;background-color: white;}#sk-container-id-10 pre{padding: 0;}#sk-container-id-10 div.sk-toggleable {background-color: white;}#sk-container-id-10 label.sk-toggleable__label {cursor: pointer;display: block;width: 100%;margin-bottom: 0;padding: 0.3em;box-sizing: border-box;text-align: center;}#sk-container-id-10 label.sk-toggleable__label-arrow:before {content: \"▸\";float: left;margin-right: 0.25em;color: #696969;}#sk-container-id-10 label.sk-toggleable__label-arrow:hover:before {color: black;}#sk-container-id-10 div.sk-estimator:hover label.sk-toggleable__label-arrow:before {color: black;}#sk-container-id-10 div.sk-toggleable__content {max-height: 0;max-width: 0;overflow: hidden;text-align: left;background-color: #f0f8ff;}#sk-container-id-10 div.sk-toggleable__content pre {margin: 0.2em;color: black;border-radius: 0.25em;background-color: #f0f8ff;}#sk-container-id-10 input.sk-toggleable__control:checked~div.sk-toggleable__content {max-height: 200px;max-width: 100%;overflow: auto;}#sk-container-id-10 input.sk-toggleable__control:checked~label.sk-toggleable__label-arrow:before {content: \"▾\";}#sk-container-id-10 div.sk-estimator input.sk-toggleable__control:checked~label.sk-toggleable__label {background-color: #d4ebff;}#sk-container-id-10 div.sk-label input.sk-toggleable__control:checked~label.sk-toggleable__label {background-color: #d4ebff;}#sk-container-id-10 input.sk-hidden--visually {border: 0;clip: rect(1px 1px 1px 1px);clip: rect(1px, 1px, 1px, 1px);height: 1px;margin: -1px;overflow: hidden;padding: 0;position: absolute;width: 1px;}#sk-container-id-10 div.sk-estimator {font-family: monospace;background-color: #f0f8ff;border: 1px dotted black;border-radius: 0.25em;box-sizing: border-box;margin-bottom: 0.5em;}#sk-container-id-10 div.sk-estimator:hover {background-color: #d4ebff;}#sk-container-id-10 div.sk-parallel-item::after {content: \"\";width: 100%;border-bottom: 1px solid gray;flex-grow: 1;}#sk-container-id-10 div.sk-label:hover label.sk-toggleable__label {background-color: #d4ebff;}#sk-container-id-10 div.sk-serial::before {content: \"\";position: absolute;border-left: 1px solid gray;box-sizing: border-box;top: 0;bottom: 0;left: 50%;z-index: 0;}#sk-container-id-10 div.sk-serial {display: flex;flex-direction: column;align-items: center;background-color: white;padding-right: 0.2em;padding-left: 0.2em;position: relative;}#sk-container-id-10 div.sk-item {position: relative;z-index: 1;}#sk-container-id-10 div.sk-parallel {display: flex;align-items: stretch;justify-content: center;background-color: white;position: relative;}#sk-container-id-10 div.sk-item::before, #sk-container-id-10 div.sk-parallel-item::before {content: \"\";position: absolute;border-left: 1px solid gray;box-sizing: border-box;top: 0;bottom: 0;left: 50%;z-index: -1;}#sk-container-id-10 div.sk-parallel-item {display: flex;flex-direction: column;z-index: 1;position: relative;background-color: white;}#sk-container-id-10 div.sk-parallel-item:first-child::after {align-self: flex-end;width: 50%;}#sk-container-id-10 div.sk-parallel-item:last-child::after {align-self: flex-start;width: 50%;}#sk-container-id-10 div.sk-parallel-item:only-child::after {width: 0;}#sk-container-id-10 div.sk-dashed-wrapped {border: 1px dashed gray;margin: 0 0.4em 0.5em 0.4em;box-sizing: border-box;padding-bottom: 0.4em;background-color: white;}#sk-container-id-10 div.sk-label label {font-family: monospace;font-weight: bold;display: inline-block;line-height: 1.2em;}#sk-container-id-10 div.sk-label-container {text-align: center;}#sk-container-id-10 div.sk-container {/* jupyter's `normalize.less` sets `[hidden] { display: none; }` but bootstrap.min.css set `[hidden] { display: none !important; }` so we also need the `!important` here to be able to override the default hidden behavior on the sphinx rendered scikit-learn.org. See: https://github.com/scikit-learn/scikit-learn/issues/21755 */display: inline-block !important;position: relative;}#sk-container-id-10 div.sk-text-repr-fallback {display: none;}</style><div id=\"sk-container-id-10\" class=\"sk-top-container\"><div class=\"sk-text-repr-fallback\"><pre>Pipeline(steps=[(&#x27;columntransformer&#x27;,\n",
              "                 ColumnTransformer(remainder=&#x27;passthrough&#x27;,\n",
              "                                   transformers=[(&#x27;num&#x27;, StandardScaler(),\n",
              "                                                  [&#x27;AGE&#x27;, &#x27;swollen_nodes&#x27;,\n",
              "                                                   &#x27;std&#x27;,\n",
              "                                                   &#x27;lesion_larger_than_1cm&#x27;,\n",
              "                                                   &#x27;sweating&#x27;, &#x27;diarrhea&#x27;,\n",
              "                                                   &#x27;pain&#x27;, &#x27;pain_intensity&#x27;,\n",
              "                                                   &#x27;pain_precise&#x27;,\n",
              "                                                   &#x27;pain_sudden&#x27;, &#x27;fever&#x27;,\n",
              "                                                   &#x27;unprotected_sex&#x27;, &#x27;lesions&#x27;,\n",
              "                                                   &#x27;lesion_pain_swollen&#x27;,\n",
              "                                                   &#x27;lesion_pain_intense&#x27;,\n",
              "                                                   &#x27;itching_severity&#x27;, &#x27;naus...\n",
              "                                                                             &#x27;cheek(R)&#x27;]]),\n",
              "                                                  [&#x27;INITIAL_EVIDENCE&#x27;, &#x27;SEX&#x27;,\n",
              "                                                   &#x27;trav1&#x27;, &#x27;pain_char&#x27;,\n",
              "                                                   &#x27;lesion_color&#x27;,\n",
              "                                                   &#x27;pain_somewhere&#x27;,\n",
              "                                                   &#x27;lesion_location&#x27;,\n",
              "                                                   &#x27;swelling_location&#x27;])])),\n",
              "                (&#x27;selectfrommodel&#x27;,\n",
              "                 SelectFromModel(estimator=LinearSVC(C=0.0022233753825767564,\n",
              "                                                     max_iter=10,\n",
              "                                                     random_state=42),\n",
              "                                 threshold=&#x27;median&#x27;)),\n",
              "                (&#x27;gradientboostingclassifier&#x27;,\n",
              "                 GradientBoostingClassifier(n_estimators=10, random_state=42))])</pre><b>In a Jupyter environment, please rerun this cell to show the HTML representation or trust the notebook. <br />On GitHub, the HTML representation is unable to render, please try loading this page with nbviewer.org.</b></div><div class=\"sk-container\" hidden><div class=\"sk-item sk-dashed-wrapped\"><div class=\"sk-label-container\"><div class=\"sk-label sk-toggleable\"><input class=\"sk-toggleable__control sk-hidden--visually\" id=\"sk-estimator-id-76\" type=\"checkbox\" ><label for=\"sk-estimator-id-76\" class=\"sk-toggleable__label sk-toggleable__label-arrow\">Pipeline</label><div class=\"sk-toggleable__content\"><pre>Pipeline(steps=[(&#x27;columntransformer&#x27;,\n",
              "                 ColumnTransformer(remainder=&#x27;passthrough&#x27;,\n",
              "                                   transformers=[(&#x27;num&#x27;, StandardScaler(),\n",
              "                                                  [&#x27;AGE&#x27;, &#x27;swollen_nodes&#x27;,\n",
              "                                                   &#x27;std&#x27;,\n",
              "                                                   &#x27;lesion_larger_than_1cm&#x27;,\n",
              "                                                   &#x27;sweating&#x27;, &#x27;diarrhea&#x27;,\n",
              "                                                   &#x27;pain&#x27;, &#x27;pain_intensity&#x27;,\n",
              "                                                   &#x27;pain_precise&#x27;,\n",
              "                                                   &#x27;pain_sudden&#x27;, &#x27;fever&#x27;,\n",
              "                                                   &#x27;unprotected_sex&#x27;, &#x27;lesions&#x27;,\n",
              "                                                   &#x27;lesion_pain_swollen&#x27;,\n",
              "                                                   &#x27;lesion_pain_intense&#x27;,\n",
              "                                                   &#x27;itching_severity&#x27;, &#x27;naus...\n",
              "                                                                             &#x27;cheek(R)&#x27;]]),\n",
              "                                                  [&#x27;INITIAL_EVIDENCE&#x27;, &#x27;SEX&#x27;,\n",
              "                                                   &#x27;trav1&#x27;, &#x27;pain_char&#x27;,\n",
              "                                                   &#x27;lesion_color&#x27;,\n",
              "                                                   &#x27;pain_somewhere&#x27;,\n",
              "                                                   &#x27;lesion_location&#x27;,\n",
              "                                                   &#x27;swelling_location&#x27;])])),\n",
              "                (&#x27;selectfrommodel&#x27;,\n",
              "                 SelectFromModel(estimator=LinearSVC(C=0.0022233753825767564,\n",
              "                                                     max_iter=10,\n",
              "                                                     random_state=42),\n",
              "                                 threshold=&#x27;median&#x27;)),\n",
              "                (&#x27;gradientboostingclassifier&#x27;,\n",
              "                 GradientBoostingClassifier(n_estimators=10, random_state=42))])</pre></div></div></div><div class=\"sk-serial\"><div class=\"sk-item sk-dashed-wrapped\"><div class=\"sk-label-container\"><div class=\"sk-label sk-toggleable\"><input class=\"sk-toggleable__control sk-hidden--visually\" id=\"sk-estimator-id-77\" type=\"checkbox\" ><label for=\"sk-estimator-id-77\" class=\"sk-toggleable__label sk-toggleable__label-arrow\">columntransformer: ColumnTransformer</label><div class=\"sk-toggleable__content\"><pre>ColumnTransformer(remainder=&#x27;passthrough&#x27;,\n",
              "                  transformers=[(&#x27;num&#x27;, StandardScaler(),\n",
              "                                 [&#x27;AGE&#x27;, &#x27;swollen_nodes&#x27;, &#x27;std&#x27;,\n",
              "                                  &#x27;lesion_larger_than_1cm&#x27;, &#x27;sweating&#x27;,\n",
              "                                  &#x27;diarrhea&#x27;, &#x27;pain&#x27;, &#x27;pain_intensity&#x27;,\n",
              "                                  &#x27;pain_precise&#x27;, &#x27;pain_sudden&#x27;, &#x27;fever&#x27;,\n",
              "                                  &#x27;unprotected_sex&#x27;, &#x27;lesions&#x27;,\n",
              "                                  &#x27;lesion_pain_swollen&#x27;, &#x27;lesion_pain_intense&#x27;,\n",
              "                                  &#x27;itching_severity&#x27;, &#x27;nausea&#x27;, &#x27;weight_loss&#x27;,\n",
              "                                  &#x27;sex_hiv&#x27;, &#x27;fam_alle...\n",
              "                                                            &#x27;cheek(L)&#x27;,\n",
              "                                                            &#x27;epigastric&#x27;,\n",
              "                                                            &#x27;thoracic spine&#x27;],\n",
              "                                                           [&#x27;nose&#x27;,\n",
              "                                                            &#x27;toe (1)(R)&#x27;,\n",
              "                                                            &#x27;toe (1)(L)&#x27;,\n",
              "                                                            &#x27;thigh(L)&#x27;,\n",
              "                                                            &#x27;calf(L)&#x27;,\n",
              "                                                            &#x27;cheek(L)&#x27;,\n",
              "                                                            &#x27;sole(R)&#x27;,\n",
              "                                                            &#x27;nowhere&#x27;,\n",
              "                                                            &#x27;dorsal aspect of &#x27;\n",
              "                                                            &#x27;the foot(L)&#x27;,\n",
              "                                                            &#x27;dorsal aspect of &#x27;\n",
              "                                                            &#x27;the foot(R)&#x27;,\n",
              "                                                            &#x27;sole(L)&#x27;,\n",
              "                                                            &#x27;forehead&#x27;,\n",
              "                                                            &#x27;calf(R)&#x27;,\n",
              "                                                            &#x27;thigh(R)&#x27;,\n",
              "                                                            &#x27;cheek(R)&#x27;]]),\n",
              "                                 [&#x27;INITIAL_EVIDENCE&#x27;, &#x27;SEX&#x27;, &#x27;trav1&#x27;,\n",
              "                                  &#x27;pain_char&#x27;, &#x27;lesion_color&#x27;, &#x27;pain_somewhere&#x27;,\n",
              "                                  &#x27;lesion_location&#x27;, &#x27;swelling_location&#x27;])])</pre></div></div></div><div class=\"sk-parallel\"><div class=\"sk-parallel-item\"><div class=\"sk-item\"><div class=\"sk-label-container\"><div class=\"sk-label sk-toggleable\"><input class=\"sk-toggleable__control sk-hidden--visually\" id=\"sk-estimator-id-78\" type=\"checkbox\" ><label for=\"sk-estimator-id-78\" class=\"sk-toggleable__label sk-toggleable__label-arrow\">num</label><div class=\"sk-toggleable__content\"><pre>[&#x27;AGE&#x27;, &#x27;swollen_nodes&#x27;, &#x27;std&#x27;, &#x27;lesion_larger_than_1cm&#x27;, &#x27;sweating&#x27;, &#x27;diarrhea&#x27;, &#x27;pain&#x27;, &#x27;pain_intensity&#x27;, &#x27;pain_precise&#x27;, &#x27;pain_sudden&#x27;, &#x27;fever&#x27;, &#x27;unprotected_sex&#x27;, &#x27;lesions&#x27;, &#x27;lesion_pain_swollen&#x27;, &#x27;lesion_pain_intense&#x27;, &#x27;itching_severity&#x27;, &#x27;nausea&#x27;, &#x27;weight_loss&#x27;, &#x27;sex_hiv&#x27;, &#x27;fam_allergies&#x27;, &#x27;fam_j45&#x27;, &#x27;j45&#x27;, &#x27;itchy_nose&#x27;, &#x27;eye_itching&#x27;, &#x27;runny_nose&#x27;, &#x27;urban1&#x27;, &#x27;severe_allergy&#x27;, &#x27;contact_allergy&#x27;, &#x27;short_breath&#x27;, &#x27;swelling&#x27;, &#x27;lost_consciousness&#x27;, &#x27;stridor&#x27;, &#x27;z84.89&#x27;, &#x27;HIV&#x27;, &#x27;cortico&#x27;, &#x27;IV_drugs&#x27;, &#x27;e10_e11&#x27;, &#x27;f10.129&#x27;, &#x27;cough&#x27;, &#x27;cough_blood&#x27;, &#x27;v85.0&#x27;, &#x27;I30&#x27;, &#x27;f17.210&#x27;, &#x27;high_bp&#x27;, &#x27;ulcers&#x27;, &#x27;anorexia&#x27;, &#x27;new_fatigue&#x27;, &#x27;nsaids&#x27;, &#x27;i50&#x27;, &#x27;i80&#x27;, &#x27;lymph_surg&#x27;, &#x27;synd_nephro&#x27;, &#x27;convulsion&#x27;, &#x27;e66&#x27;, &#x27;red_eye&#x27;, &#x27;agri&#x27;, &#x27;gained_weight&#x27;, &#x27;k74&#x27;, &#x27;patho_endo&#x27;, &#x27;dizziness&#x27;, &#x27;wheezing_exhale&#x27;, &#x27;fatigue_ext&#x27;, &#x27;sore_throat&#x27;, &#x27;muscle_pain&#x27;, &#x27;lost_appetite&#x27;, &#x27;heart_valves&#x27;, &#x27;sahs&#x27;, &#x27;cont_pertussis&#x27;, &#x27;vomiting_cough&#x27;, &#x27;coughing_fits&#x27;, &#x27;vaccination&#x27;, &#x27;chills&#x27;, &#x27;z92.25&#x27;, &#x27;ca_blockers&#x27;, &#x27;vag_discharge&#x27;, &#x27;wheezing_inhale&#x27;, &#x27;fatigue&#x27;, &#x27;menarche_12&#x27;, &#x27;breastfed_9&#x27;, &#x27;confusion&#x27;, &#x27;contact&#x27;, &#x27;ebolacase&#x27;, &#x27;bruising&#x27;]</pre></div></div></div><div class=\"sk-serial\"><div class=\"sk-item\"><div class=\"sk-estimator sk-toggleable\"><input class=\"sk-toggleable__control sk-hidden--visually\" id=\"sk-estimator-id-79\" type=\"checkbox\" ><label for=\"sk-estimator-id-79\" class=\"sk-toggleable__label sk-toggleable__label-arrow\">StandardScaler</label><div class=\"sk-toggleable__content\"><pre>StandardScaler()</pre></div></div></div></div></div></div><div class=\"sk-parallel-item\"><div class=\"sk-item\"><div class=\"sk-label-container\"><div class=\"sk-label sk-toggleable\"><input class=\"sk-toggleable__control sk-hidden--visually\" id=\"sk-estimator-id-80\" type=\"checkbox\" ><label for=\"sk-estimator-id-80\" class=\"sk-toggleable__label sk-toggleable__label-arrow\">cat</label><div class=\"sk-toggleable__content\"><pre>[&#x27;INITIAL_EVIDENCE&#x27;, &#x27;SEX&#x27;, &#x27;trav1&#x27;, &#x27;pain_char&#x27;, &#x27;lesion_color&#x27;, &#x27;pain_somewhere&#x27;, &#x27;lesion_location&#x27;, &#x27;swelling_location&#x27;]</pre></div></div></div><div class=\"sk-serial\"><div class=\"sk-item\"><div class=\"sk-estimator sk-toggleable\"><input class=\"sk-toggleable__control sk-hidden--visually\" id=\"sk-estimator-id-81\" type=\"checkbox\" ><label for=\"sk-estimator-id-81\" class=\"sk-toggleable__label sk-toggleable__label-arrow\">OneHotEncoder</label><div class=\"sk-toggleable__content\"><pre>OneHotEncoder(categories=[[&#x27;eye_itching&#x27;, &#x27;fever&#x27;, &#x27;chills&#x27;, &#x27;lesions&#x27;,\n",
              "                           &#x27;new_fatigue&#x27;, &#x27;diarrhea&#x27;, &#x27;cough&#x27;, &#x27;fatigue_ext&#x27;,\n",
              "                           &#x27;bruising&#x27;, &#x27;dizziness&#x27;, &#x27;runny_nose&#x27;,\n",
              "                           &#x27;coughing_fits&#x27;, &#x27;convulsion&#x27;, &#x27;confusion&#x27;, &#x27;pain&#x27;,\n",
              "                           &#x27;weight_loss&#x27;, &#x27;wheezing_exhale&#x27;,\n",
              "                           &#x27;lost_consciousness&#x27;, &#x27;red_eye&#x27;, &#x27;fatigue&#x27;, &#x27;ulcers&#x27;,\n",
              "                           &#x27;nausea&#x27;, &#x27;cough_blood&#x27;, &#x27;short_breath&#x27;,\n",
              "                           &#x27;sore_throat&#x27;, &#x27;sweating&#x27;, &#x27;muscl...\n",
              "                           &#x27;labia minora(R)&#x27;, &#x27;thigh(L)&#x27;, &#x27;under the tongue&#x27;,\n",
              "                           &#x27;forehead&#x27;, &#x27;upper lip(R)&#x27;, &#x27;cheek(R)&#x27;,\n",
              "                           &#x27;bottom lip(R)&#x27;, &#x27;back of the neck&#x27;, &#x27;scrotum&#x27;,\n",
              "                           &#x27;cheek(L)&#x27;, &#x27;epigastric&#x27;, &#x27;thoracic spine&#x27;],\n",
              "                          [&#x27;nose&#x27;, &#x27;toe (1)(R)&#x27;, &#x27;toe (1)(L)&#x27;, &#x27;thigh(L)&#x27;,\n",
              "                           &#x27;calf(L)&#x27;, &#x27;cheek(L)&#x27;, &#x27;sole(R)&#x27;, &#x27;nowhere&#x27;,\n",
              "                           &#x27;dorsal aspect of the foot(L)&#x27;,\n",
              "                           &#x27;dorsal aspect of the foot(R)&#x27;, &#x27;sole(L)&#x27;,\n",
              "                           &#x27;forehead&#x27;, &#x27;calf(R)&#x27;, &#x27;thigh(R)&#x27;, &#x27;cheek(R)&#x27;]])</pre></div></div></div></div></div></div><div class=\"sk-parallel-item\"><div class=\"sk-item\"><div class=\"sk-label-container\"><div class=\"sk-label sk-toggleable\"><input class=\"sk-toggleable__control sk-hidden--visually\" id=\"sk-estimator-id-82\" type=\"checkbox\" ><label for=\"sk-estimator-id-82\" class=\"sk-toggleable__label sk-toggleable__label-arrow\">remainder</label><div class=\"sk-toggleable__content\"><pre>[]</pre></div></div></div><div class=\"sk-serial\"><div class=\"sk-item\"><div class=\"sk-estimator sk-toggleable\"><input class=\"sk-toggleable__control sk-hidden--visually\" id=\"sk-estimator-id-83\" type=\"checkbox\" ><label for=\"sk-estimator-id-83\" class=\"sk-toggleable__label sk-toggleable__label-arrow\">passthrough</label><div class=\"sk-toggleable__content\"><pre>passthrough</pre></div></div></div></div></div></div></div></div><div class=\"sk-item sk-dashed-wrapped\"><div class=\"sk-label-container\"><div class=\"sk-label sk-toggleable\"><input class=\"sk-toggleable__control sk-hidden--visually\" id=\"sk-estimator-id-84\" type=\"checkbox\" ><label for=\"sk-estimator-id-84\" class=\"sk-toggleable__label sk-toggleable__label-arrow\">selectfrommodel: SelectFromModel</label><div class=\"sk-toggleable__content\"><pre>SelectFromModel(estimator=LinearSVC(C=0.0022233753825767564, max_iter=10,\n",
              "                                    random_state=42),\n",
              "                threshold=&#x27;median&#x27;)</pre></div></div></div><div class=\"sk-parallel\"><div class=\"sk-parallel-item\"><div class=\"sk-item\"><div class=\"sk-label-container\"><div class=\"sk-label sk-toggleable\"><input class=\"sk-toggleable__control sk-hidden--visually\" id=\"sk-estimator-id-85\" type=\"checkbox\" ><label for=\"sk-estimator-id-85\" class=\"sk-toggleable__label sk-toggleable__label-arrow\">estimator: LinearSVC</label><div class=\"sk-toggleable__content\"><pre>LinearSVC(C=0.0022233753825767564, max_iter=10, random_state=42)</pre></div></div></div><div class=\"sk-serial\"><div class=\"sk-item\"><div class=\"sk-estimator sk-toggleable\"><input class=\"sk-toggleable__control sk-hidden--visually\" id=\"sk-estimator-id-86\" type=\"checkbox\" ><label for=\"sk-estimator-id-86\" class=\"sk-toggleable__label sk-toggleable__label-arrow\">LinearSVC</label><div class=\"sk-toggleable__content\"><pre>LinearSVC(C=0.0022233753825767564, max_iter=10, random_state=42)</pre></div></div></div></div></div></div></div></div><div class=\"sk-item\"><div class=\"sk-estimator sk-toggleable\"><input class=\"sk-toggleable__control sk-hidden--visually\" id=\"sk-estimator-id-87\" type=\"checkbox\" ><label for=\"sk-estimator-id-87\" class=\"sk-toggleable__label sk-toggleable__label-arrow\">GradientBoostingClassifier</label><div class=\"sk-toggleable__content\"><pre>GradientBoostingClassifier(n_estimators=10, random_state=42)</pre></div></div></div></div></div></div></div>"
            ]
          },
          "metadata": {},
          "execution_count": 245
        }
      ]
    },
    {
      "cell_type": "code",
      "source": [
        "print(cr(y_validate, pipe.predict(X_validate)))"
      ],
      "metadata": {
        "colab": {
          "base_uri": "https://localhost:8080/"
        },
        "id": "2vNpGMAVbcMk",
        "outputId": "9914513d-afbf-4849-8177-a0bd907e517a"
      },
      "execution_count": null,
      "outputs": [
        {
          "output_type": "stream",
          "name": "stdout",
          "text": [
            "                         precision    recall  f1-score   support\n",
            "\n",
            "     Allergic sinusitis       0.86      0.83      0.85      2136\n",
            "            Anaphylaxis       0.59      0.46      0.52      3754\n",
            "                 Chagas       1.00      0.22      0.37      1124\n",
            "HIV (initial infection)       0.39      0.63      0.48      3852\n",
            "              Influenza       0.74      0.25      0.37      3590\n",
            "        Localized edema       0.52      1.00      0.68      3694\n",
            "                    SLE       1.00      0.32      0.48      1579\n",
            "            Sarcoidosis       0.78      0.56      0.65      3028\n",
            "           Tuberculosis       0.57      0.66      0.61      2007\n",
            "         Whooping cough       1.00      1.00      1.00       545\n",
            "\n",
            "               accuracy                           0.59     25309\n",
            "              macro avg       0.74      0.59      0.60     25309\n",
            "           weighted avg       0.67      0.59      0.57     25309\n",
            "\n"
          ]
        }
      ]
    },
    {
      "cell_type": "code",
      "source": [
        "pipe2 = make_pipeline(\n",
        "    ColumnTransformer(\n",
        "        transformers=[\n",
        "            ('num', StandardScaler(), numerical_features),\n",
        "            ('cat', OneHotEncoder(categories=categories), categorical_features)\n",
        "        ],\n",
        "        remainder='passthrough'\n",
        "    ),\n",
        "    SelectFromModel(\n",
        "        GradientBoostingClassifier(random_state = SEED, n_estimators=10),\n",
        "        threshold = 'median'\n",
        "    ),\n",
        "    GradientBoostingClassifier(random_state = SEED, n_estimators=10)\n",
        ")\n"
      ],
      "metadata": {
        "id": "Tn10zDwAbt5u"
      },
      "execution_count": null,
      "outputs": []
    },
    {
      "cell_type": "code",
      "source": [
        "pipe2.fit(X_train, y_train)"
      ],
      "metadata": {
        "colab": {
          "base_uri": "https://localhost:8080/",
          "height": 293
        },
        "id": "jRb5nWEdflho",
        "outputId": "238e1d0f-0fd0-499d-d1ae-ca67bd1e94b4"
      },
      "execution_count": null,
      "outputs": [
        {
          "output_type": "execute_result",
          "data": {
            "text/plain": [
              "Pipeline(steps=[('columntransformer',\n",
              "                 ColumnTransformer(remainder='passthrough',\n",
              "                                   transformers=[('num', StandardScaler(),\n",
              "                                                  ['AGE', 'swollen_nodes',\n",
              "                                                   'std',\n",
              "                                                   'lesion_larger_than_1cm',\n",
              "                                                   'sweating', 'diarrhea',\n",
              "                                                   'pain', 'pain_intensity',\n",
              "                                                   'pain_precise',\n",
              "                                                   'pain_sudden', 'fever',\n",
              "                                                   'unprotected_sex', 'lesions',\n",
              "                                                   'lesion_pain_swollen',\n",
              "                                                   'lesion_pain_intense',\n",
              "                                                   'itching_severity', 'naus...\n",
              "                                                                             'cheek(R)']]),\n",
              "                                                  ['INITIAL_EVIDENCE', 'SEX',\n",
              "                                                   'trav1', 'pain_char',\n",
              "                                                   'lesion_color',\n",
              "                                                   'pain_somewhere',\n",
              "                                                   'lesion_location',\n",
              "                                                   'swelling_location'])])),\n",
              "                ('selectfrommodel',\n",
              "                 SelectFromModel(estimator=GradientBoostingClassifier(n_estimators=10,\n",
              "                                                                      random_state=42),\n",
              "                                 threshold='median')),\n",
              "                ('gradientboostingclassifier',\n",
              "                 GradientBoostingClassifier(n_estimators=10, random_state=42))])"
            ],
            "text/html": [
              "<style>#sk-container-id-12 {color: black;background-color: white;}#sk-container-id-12 pre{padding: 0;}#sk-container-id-12 div.sk-toggleable {background-color: white;}#sk-container-id-12 label.sk-toggleable__label {cursor: pointer;display: block;width: 100%;margin-bottom: 0;padding: 0.3em;box-sizing: border-box;text-align: center;}#sk-container-id-12 label.sk-toggleable__label-arrow:before {content: \"▸\";float: left;margin-right: 0.25em;color: #696969;}#sk-container-id-12 label.sk-toggleable__label-arrow:hover:before {color: black;}#sk-container-id-12 div.sk-estimator:hover label.sk-toggleable__label-arrow:before {color: black;}#sk-container-id-12 div.sk-toggleable__content {max-height: 0;max-width: 0;overflow: hidden;text-align: left;background-color: #f0f8ff;}#sk-container-id-12 div.sk-toggleable__content pre {margin: 0.2em;color: black;border-radius: 0.25em;background-color: #f0f8ff;}#sk-container-id-12 input.sk-toggleable__control:checked~div.sk-toggleable__content {max-height: 200px;max-width: 100%;overflow: auto;}#sk-container-id-12 input.sk-toggleable__control:checked~label.sk-toggleable__label-arrow:before {content: \"▾\";}#sk-container-id-12 div.sk-estimator input.sk-toggleable__control:checked~label.sk-toggleable__label {background-color: #d4ebff;}#sk-container-id-12 div.sk-label input.sk-toggleable__control:checked~label.sk-toggleable__label {background-color: #d4ebff;}#sk-container-id-12 input.sk-hidden--visually {border: 0;clip: rect(1px 1px 1px 1px);clip: rect(1px, 1px, 1px, 1px);height: 1px;margin: -1px;overflow: hidden;padding: 0;position: absolute;width: 1px;}#sk-container-id-12 div.sk-estimator {font-family: monospace;background-color: #f0f8ff;border: 1px dotted black;border-radius: 0.25em;box-sizing: border-box;margin-bottom: 0.5em;}#sk-container-id-12 div.sk-estimator:hover {background-color: #d4ebff;}#sk-container-id-12 div.sk-parallel-item::after {content: \"\";width: 100%;border-bottom: 1px solid gray;flex-grow: 1;}#sk-container-id-12 div.sk-label:hover label.sk-toggleable__label {background-color: #d4ebff;}#sk-container-id-12 div.sk-serial::before {content: \"\";position: absolute;border-left: 1px solid gray;box-sizing: border-box;top: 0;bottom: 0;left: 50%;z-index: 0;}#sk-container-id-12 div.sk-serial {display: flex;flex-direction: column;align-items: center;background-color: white;padding-right: 0.2em;padding-left: 0.2em;position: relative;}#sk-container-id-12 div.sk-item {position: relative;z-index: 1;}#sk-container-id-12 div.sk-parallel {display: flex;align-items: stretch;justify-content: center;background-color: white;position: relative;}#sk-container-id-12 div.sk-item::before, #sk-container-id-12 div.sk-parallel-item::before {content: \"\";position: absolute;border-left: 1px solid gray;box-sizing: border-box;top: 0;bottom: 0;left: 50%;z-index: -1;}#sk-container-id-12 div.sk-parallel-item {display: flex;flex-direction: column;z-index: 1;position: relative;background-color: white;}#sk-container-id-12 div.sk-parallel-item:first-child::after {align-self: flex-end;width: 50%;}#sk-container-id-12 div.sk-parallel-item:last-child::after {align-self: flex-start;width: 50%;}#sk-container-id-12 div.sk-parallel-item:only-child::after {width: 0;}#sk-container-id-12 div.sk-dashed-wrapped {border: 1px dashed gray;margin: 0 0.4em 0.5em 0.4em;box-sizing: border-box;padding-bottom: 0.4em;background-color: white;}#sk-container-id-12 div.sk-label label {font-family: monospace;font-weight: bold;display: inline-block;line-height: 1.2em;}#sk-container-id-12 div.sk-label-container {text-align: center;}#sk-container-id-12 div.sk-container {/* jupyter's `normalize.less` sets `[hidden] { display: none; }` but bootstrap.min.css set `[hidden] { display: none !important; }` so we also need the `!important` here to be able to override the default hidden behavior on the sphinx rendered scikit-learn.org. See: https://github.com/scikit-learn/scikit-learn/issues/21755 */display: inline-block !important;position: relative;}#sk-container-id-12 div.sk-text-repr-fallback {display: none;}</style><div id=\"sk-container-id-12\" class=\"sk-top-container\"><div class=\"sk-text-repr-fallback\"><pre>Pipeline(steps=[(&#x27;columntransformer&#x27;,\n",
              "                 ColumnTransformer(remainder=&#x27;passthrough&#x27;,\n",
              "                                   transformers=[(&#x27;num&#x27;, StandardScaler(),\n",
              "                                                  [&#x27;AGE&#x27;, &#x27;swollen_nodes&#x27;,\n",
              "                                                   &#x27;std&#x27;,\n",
              "                                                   &#x27;lesion_larger_than_1cm&#x27;,\n",
              "                                                   &#x27;sweating&#x27;, &#x27;diarrhea&#x27;,\n",
              "                                                   &#x27;pain&#x27;, &#x27;pain_intensity&#x27;,\n",
              "                                                   &#x27;pain_precise&#x27;,\n",
              "                                                   &#x27;pain_sudden&#x27;, &#x27;fever&#x27;,\n",
              "                                                   &#x27;unprotected_sex&#x27;, &#x27;lesions&#x27;,\n",
              "                                                   &#x27;lesion_pain_swollen&#x27;,\n",
              "                                                   &#x27;lesion_pain_intense&#x27;,\n",
              "                                                   &#x27;itching_severity&#x27;, &#x27;naus...\n",
              "                                                                             &#x27;cheek(R)&#x27;]]),\n",
              "                                                  [&#x27;INITIAL_EVIDENCE&#x27;, &#x27;SEX&#x27;,\n",
              "                                                   &#x27;trav1&#x27;, &#x27;pain_char&#x27;,\n",
              "                                                   &#x27;lesion_color&#x27;,\n",
              "                                                   &#x27;pain_somewhere&#x27;,\n",
              "                                                   &#x27;lesion_location&#x27;,\n",
              "                                                   &#x27;swelling_location&#x27;])])),\n",
              "                (&#x27;selectfrommodel&#x27;,\n",
              "                 SelectFromModel(estimator=GradientBoostingClassifier(n_estimators=10,\n",
              "                                                                      random_state=42),\n",
              "                                 threshold=&#x27;median&#x27;)),\n",
              "                (&#x27;gradientboostingclassifier&#x27;,\n",
              "                 GradientBoostingClassifier(n_estimators=10, random_state=42))])</pre><b>In a Jupyter environment, please rerun this cell to show the HTML representation or trust the notebook. <br />On GitHub, the HTML representation is unable to render, please try loading this page with nbviewer.org.</b></div><div class=\"sk-container\" hidden><div class=\"sk-item sk-dashed-wrapped\"><div class=\"sk-label-container\"><div class=\"sk-label sk-toggleable\"><input class=\"sk-toggleable__control sk-hidden--visually\" id=\"sk-estimator-id-97\" type=\"checkbox\" ><label for=\"sk-estimator-id-97\" class=\"sk-toggleable__label sk-toggleable__label-arrow\">Pipeline</label><div class=\"sk-toggleable__content\"><pre>Pipeline(steps=[(&#x27;columntransformer&#x27;,\n",
              "                 ColumnTransformer(remainder=&#x27;passthrough&#x27;,\n",
              "                                   transformers=[(&#x27;num&#x27;, StandardScaler(),\n",
              "                                                  [&#x27;AGE&#x27;, &#x27;swollen_nodes&#x27;,\n",
              "                                                   &#x27;std&#x27;,\n",
              "                                                   &#x27;lesion_larger_than_1cm&#x27;,\n",
              "                                                   &#x27;sweating&#x27;, &#x27;diarrhea&#x27;,\n",
              "                                                   &#x27;pain&#x27;, &#x27;pain_intensity&#x27;,\n",
              "                                                   &#x27;pain_precise&#x27;,\n",
              "                                                   &#x27;pain_sudden&#x27;, &#x27;fever&#x27;,\n",
              "                                                   &#x27;unprotected_sex&#x27;, &#x27;lesions&#x27;,\n",
              "                                                   &#x27;lesion_pain_swollen&#x27;,\n",
              "                                                   &#x27;lesion_pain_intense&#x27;,\n",
              "                                                   &#x27;itching_severity&#x27;, &#x27;naus...\n",
              "                                                                             &#x27;cheek(R)&#x27;]]),\n",
              "                                                  [&#x27;INITIAL_EVIDENCE&#x27;, &#x27;SEX&#x27;,\n",
              "                                                   &#x27;trav1&#x27;, &#x27;pain_char&#x27;,\n",
              "                                                   &#x27;lesion_color&#x27;,\n",
              "                                                   &#x27;pain_somewhere&#x27;,\n",
              "                                                   &#x27;lesion_location&#x27;,\n",
              "                                                   &#x27;swelling_location&#x27;])])),\n",
              "                (&#x27;selectfrommodel&#x27;,\n",
              "                 SelectFromModel(estimator=GradientBoostingClassifier(n_estimators=10,\n",
              "                                                                      random_state=42),\n",
              "                                 threshold=&#x27;median&#x27;)),\n",
              "                (&#x27;gradientboostingclassifier&#x27;,\n",
              "                 GradientBoostingClassifier(n_estimators=10, random_state=42))])</pre></div></div></div><div class=\"sk-serial\"><div class=\"sk-item sk-dashed-wrapped\"><div class=\"sk-label-container\"><div class=\"sk-label sk-toggleable\"><input class=\"sk-toggleable__control sk-hidden--visually\" id=\"sk-estimator-id-98\" type=\"checkbox\" ><label for=\"sk-estimator-id-98\" class=\"sk-toggleable__label sk-toggleable__label-arrow\">columntransformer: ColumnTransformer</label><div class=\"sk-toggleable__content\"><pre>ColumnTransformer(remainder=&#x27;passthrough&#x27;,\n",
              "                  transformers=[(&#x27;num&#x27;, StandardScaler(),\n",
              "                                 [&#x27;AGE&#x27;, &#x27;swollen_nodes&#x27;, &#x27;std&#x27;,\n",
              "                                  &#x27;lesion_larger_than_1cm&#x27;, &#x27;sweating&#x27;,\n",
              "                                  &#x27;diarrhea&#x27;, &#x27;pain&#x27;, &#x27;pain_intensity&#x27;,\n",
              "                                  &#x27;pain_precise&#x27;, &#x27;pain_sudden&#x27;, &#x27;fever&#x27;,\n",
              "                                  &#x27;unprotected_sex&#x27;, &#x27;lesions&#x27;,\n",
              "                                  &#x27;lesion_pain_swollen&#x27;, &#x27;lesion_pain_intense&#x27;,\n",
              "                                  &#x27;itching_severity&#x27;, &#x27;nausea&#x27;, &#x27;weight_loss&#x27;,\n",
              "                                  &#x27;sex_hiv&#x27;, &#x27;fam_alle...\n",
              "                                                            &#x27;cheek(L)&#x27;,\n",
              "                                                            &#x27;epigastric&#x27;,\n",
              "                                                            &#x27;thoracic spine&#x27;],\n",
              "                                                           [&#x27;nose&#x27;,\n",
              "                                                            &#x27;toe (1)(R)&#x27;,\n",
              "                                                            &#x27;toe (1)(L)&#x27;,\n",
              "                                                            &#x27;thigh(L)&#x27;,\n",
              "                                                            &#x27;calf(L)&#x27;,\n",
              "                                                            &#x27;cheek(L)&#x27;,\n",
              "                                                            &#x27;sole(R)&#x27;,\n",
              "                                                            &#x27;nowhere&#x27;,\n",
              "                                                            &#x27;dorsal aspect of &#x27;\n",
              "                                                            &#x27;the foot(L)&#x27;,\n",
              "                                                            &#x27;dorsal aspect of &#x27;\n",
              "                                                            &#x27;the foot(R)&#x27;,\n",
              "                                                            &#x27;sole(L)&#x27;,\n",
              "                                                            &#x27;forehead&#x27;,\n",
              "                                                            &#x27;calf(R)&#x27;,\n",
              "                                                            &#x27;thigh(R)&#x27;,\n",
              "                                                            &#x27;cheek(R)&#x27;]]),\n",
              "                                 [&#x27;INITIAL_EVIDENCE&#x27;, &#x27;SEX&#x27;, &#x27;trav1&#x27;,\n",
              "                                  &#x27;pain_char&#x27;, &#x27;lesion_color&#x27;, &#x27;pain_somewhere&#x27;,\n",
              "                                  &#x27;lesion_location&#x27;, &#x27;swelling_location&#x27;])])</pre></div></div></div><div class=\"sk-parallel\"><div class=\"sk-parallel-item\"><div class=\"sk-item\"><div class=\"sk-label-container\"><div class=\"sk-label sk-toggleable\"><input class=\"sk-toggleable__control sk-hidden--visually\" id=\"sk-estimator-id-99\" type=\"checkbox\" ><label for=\"sk-estimator-id-99\" class=\"sk-toggleable__label sk-toggleable__label-arrow\">num</label><div class=\"sk-toggleable__content\"><pre>[&#x27;AGE&#x27;, &#x27;swollen_nodes&#x27;, &#x27;std&#x27;, &#x27;lesion_larger_than_1cm&#x27;, &#x27;sweating&#x27;, &#x27;diarrhea&#x27;, &#x27;pain&#x27;, &#x27;pain_intensity&#x27;, &#x27;pain_precise&#x27;, &#x27;pain_sudden&#x27;, &#x27;fever&#x27;, &#x27;unprotected_sex&#x27;, &#x27;lesions&#x27;, &#x27;lesion_pain_swollen&#x27;, &#x27;lesion_pain_intense&#x27;, &#x27;itching_severity&#x27;, &#x27;nausea&#x27;, &#x27;weight_loss&#x27;, &#x27;sex_hiv&#x27;, &#x27;fam_allergies&#x27;, &#x27;fam_j45&#x27;, &#x27;j45&#x27;, &#x27;itchy_nose&#x27;, &#x27;eye_itching&#x27;, &#x27;runny_nose&#x27;, &#x27;urban1&#x27;, &#x27;severe_allergy&#x27;, &#x27;contact_allergy&#x27;, &#x27;short_breath&#x27;, &#x27;swelling&#x27;, &#x27;lost_consciousness&#x27;, &#x27;stridor&#x27;, &#x27;z84.89&#x27;, &#x27;HIV&#x27;, &#x27;cortico&#x27;, &#x27;IV_drugs&#x27;, &#x27;e10_e11&#x27;, &#x27;f10.129&#x27;, &#x27;cough&#x27;, &#x27;cough_blood&#x27;, &#x27;v85.0&#x27;, &#x27;I30&#x27;, &#x27;f17.210&#x27;, &#x27;high_bp&#x27;, &#x27;ulcers&#x27;, &#x27;anorexia&#x27;, &#x27;new_fatigue&#x27;, &#x27;nsaids&#x27;, &#x27;i50&#x27;, &#x27;i80&#x27;, &#x27;lymph_surg&#x27;, &#x27;synd_nephro&#x27;, &#x27;convulsion&#x27;, &#x27;e66&#x27;, &#x27;red_eye&#x27;, &#x27;agri&#x27;, &#x27;gained_weight&#x27;, &#x27;k74&#x27;, &#x27;patho_endo&#x27;, &#x27;dizziness&#x27;, &#x27;wheezing_exhale&#x27;, &#x27;fatigue_ext&#x27;, &#x27;sore_throat&#x27;, &#x27;muscle_pain&#x27;, &#x27;lost_appetite&#x27;, &#x27;heart_valves&#x27;, &#x27;sahs&#x27;, &#x27;cont_pertussis&#x27;, &#x27;vomiting_cough&#x27;, &#x27;coughing_fits&#x27;, &#x27;vaccination&#x27;, &#x27;chills&#x27;, &#x27;z92.25&#x27;, &#x27;ca_blockers&#x27;, &#x27;vag_discharge&#x27;, &#x27;wheezing_inhale&#x27;, &#x27;fatigue&#x27;, &#x27;menarche_12&#x27;, &#x27;breastfed_9&#x27;, &#x27;confusion&#x27;, &#x27;contact&#x27;, &#x27;ebolacase&#x27;, &#x27;bruising&#x27;]</pre></div></div></div><div class=\"sk-serial\"><div class=\"sk-item\"><div class=\"sk-estimator sk-toggleable\"><input class=\"sk-toggleable__control sk-hidden--visually\" id=\"sk-estimator-id-100\" type=\"checkbox\" ><label for=\"sk-estimator-id-100\" class=\"sk-toggleable__label sk-toggleable__label-arrow\">StandardScaler</label><div class=\"sk-toggleable__content\"><pre>StandardScaler()</pre></div></div></div></div></div></div><div class=\"sk-parallel-item\"><div class=\"sk-item\"><div class=\"sk-label-container\"><div class=\"sk-label sk-toggleable\"><input class=\"sk-toggleable__control sk-hidden--visually\" id=\"sk-estimator-id-101\" type=\"checkbox\" ><label for=\"sk-estimator-id-101\" class=\"sk-toggleable__label sk-toggleable__label-arrow\">cat</label><div class=\"sk-toggleable__content\"><pre>[&#x27;INITIAL_EVIDENCE&#x27;, &#x27;SEX&#x27;, &#x27;trav1&#x27;, &#x27;pain_char&#x27;, &#x27;lesion_color&#x27;, &#x27;pain_somewhere&#x27;, &#x27;lesion_location&#x27;, &#x27;swelling_location&#x27;]</pre></div></div></div><div class=\"sk-serial\"><div class=\"sk-item\"><div class=\"sk-estimator sk-toggleable\"><input class=\"sk-toggleable__control sk-hidden--visually\" id=\"sk-estimator-id-102\" type=\"checkbox\" ><label for=\"sk-estimator-id-102\" class=\"sk-toggleable__label sk-toggleable__label-arrow\">OneHotEncoder</label><div class=\"sk-toggleable__content\"><pre>OneHotEncoder(categories=[[&#x27;eye_itching&#x27;, &#x27;fever&#x27;, &#x27;chills&#x27;, &#x27;lesions&#x27;,\n",
              "                           &#x27;new_fatigue&#x27;, &#x27;diarrhea&#x27;, &#x27;cough&#x27;, &#x27;fatigue_ext&#x27;,\n",
              "                           &#x27;bruising&#x27;, &#x27;dizziness&#x27;, &#x27;runny_nose&#x27;,\n",
              "                           &#x27;coughing_fits&#x27;, &#x27;convulsion&#x27;, &#x27;confusion&#x27;, &#x27;pain&#x27;,\n",
              "                           &#x27;weight_loss&#x27;, &#x27;wheezing_exhale&#x27;,\n",
              "                           &#x27;lost_consciousness&#x27;, &#x27;red_eye&#x27;, &#x27;fatigue&#x27;, &#x27;ulcers&#x27;,\n",
              "                           &#x27;nausea&#x27;, &#x27;cough_blood&#x27;, &#x27;short_breath&#x27;,\n",
              "                           &#x27;sore_throat&#x27;, &#x27;sweating&#x27;, &#x27;muscl...\n",
              "                           &#x27;labia minora(R)&#x27;, &#x27;thigh(L)&#x27;, &#x27;under the tongue&#x27;,\n",
              "                           &#x27;forehead&#x27;, &#x27;upper lip(R)&#x27;, &#x27;cheek(R)&#x27;,\n",
              "                           &#x27;bottom lip(R)&#x27;, &#x27;back of the neck&#x27;, &#x27;scrotum&#x27;,\n",
              "                           &#x27;cheek(L)&#x27;, &#x27;epigastric&#x27;, &#x27;thoracic spine&#x27;],\n",
              "                          [&#x27;nose&#x27;, &#x27;toe (1)(R)&#x27;, &#x27;toe (1)(L)&#x27;, &#x27;thigh(L)&#x27;,\n",
              "                           &#x27;calf(L)&#x27;, &#x27;cheek(L)&#x27;, &#x27;sole(R)&#x27;, &#x27;nowhere&#x27;,\n",
              "                           &#x27;dorsal aspect of the foot(L)&#x27;,\n",
              "                           &#x27;dorsal aspect of the foot(R)&#x27;, &#x27;sole(L)&#x27;,\n",
              "                           &#x27;forehead&#x27;, &#x27;calf(R)&#x27;, &#x27;thigh(R)&#x27;, &#x27;cheek(R)&#x27;]])</pre></div></div></div></div></div></div><div class=\"sk-parallel-item\"><div class=\"sk-item\"><div class=\"sk-label-container\"><div class=\"sk-label sk-toggleable\"><input class=\"sk-toggleable__control sk-hidden--visually\" id=\"sk-estimator-id-103\" type=\"checkbox\" ><label for=\"sk-estimator-id-103\" class=\"sk-toggleable__label sk-toggleable__label-arrow\">remainder</label><div class=\"sk-toggleable__content\"><pre>[]</pre></div></div></div><div class=\"sk-serial\"><div class=\"sk-item\"><div class=\"sk-estimator sk-toggleable\"><input class=\"sk-toggleable__control sk-hidden--visually\" id=\"sk-estimator-id-104\" type=\"checkbox\" ><label for=\"sk-estimator-id-104\" class=\"sk-toggleable__label sk-toggleable__label-arrow\">passthrough</label><div class=\"sk-toggleable__content\"><pre>passthrough</pre></div></div></div></div></div></div></div></div><div class=\"sk-item sk-dashed-wrapped\"><div class=\"sk-label-container\"><div class=\"sk-label sk-toggleable\"><input class=\"sk-toggleable__control sk-hidden--visually\" id=\"sk-estimator-id-105\" type=\"checkbox\" ><label for=\"sk-estimator-id-105\" class=\"sk-toggleable__label sk-toggleable__label-arrow\">selectfrommodel: SelectFromModel</label><div class=\"sk-toggleable__content\"><pre>SelectFromModel(estimator=GradientBoostingClassifier(n_estimators=10,\n",
              "                                                     random_state=42),\n",
              "                threshold=&#x27;median&#x27;)</pre></div></div></div><div class=\"sk-parallel\"><div class=\"sk-parallel-item\"><div class=\"sk-item\"><div class=\"sk-label-container\"><div class=\"sk-label sk-toggleable\"><input class=\"sk-toggleable__control sk-hidden--visually\" id=\"sk-estimator-id-106\" type=\"checkbox\" ><label for=\"sk-estimator-id-106\" class=\"sk-toggleable__label sk-toggleable__label-arrow\">estimator: GradientBoostingClassifier</label><div class=\"sk-toggleable__content\"><pre>GradientBoostingClassifier(n_estimators=10, random_state=42)</pre></div></div></div><div class=\"sk-serial\"><div class=\"sk-item\"><div class=\"sk-estimator sk-toggleable\"><input class=\"sk-toggleable__control sk-hidden--visually\" id=\"sk-estimator-id-107\" type=\"checkbox\" ><label for=\"sk-estimator-id-107\" class=\"sk-toggleable__label sk-toggleable__label-arrow\">GradientBoostingClassifier</label><div class=\"sk-toggleable__content\"><pre>GradientBoostingClassifier(n_estimators=10, random_state=42)</pre></div></div></div></div></div></div></div></div><div class=\"sk-item\"><div class=\"sk-estimator sk-toggleable\"><input class=\"sk-toggleable__control sk-hidden--visually\" id=\"sk-estimator-id-108\" type=\"checkbox\" ><label for=\"sk-estimator-id-108\" class=\"sk-toggleable__label sk-toggleable__label-arrow\">GradientBoostingClassifier</label><div class=\"sk-toggleable__content\"><pre>GradientBoostingClassifier(n_estimators=10, random_state=42)</pre></div></div></div></div></div></div></div>"
            ]
          },
          "metadata": {},
          "execution_count": 249
        }
      ]
    },
    {
      "cell_type": "code",
      "source": [
        "print(cr(y_validate, pipe2.predict(X_validate)))"
      ],
      "metadata": {
        "colab": {
          "base_uri": "https://localhost:8080/"
        },
        "id": "0KOB8ma9fm-P",
        "outputId": "38f5660d-376c-4d3c-81c6-c6e602966ec7"
      },
      "execution_count": null,
      "outputs": [
        {
          "output_type": "stream",
          "name": "stdout",
          "text": [
            "                         precision    recall  f1-score   support\n",
            "\n",
            "     Allergic sinusitis       0.86      0.83      0.85      2136\n",
            "            Anaphylaxis       0.59      0.46      0.52      3754\n",
            "                 Chagas       1.00      0.22      0.37      1124\n",
            "HIV (initial infection)       0.39      0.60      0.48      3852\n",
            "              Influenza       0.71      0.29      0.41      3590\n",
            "        Localized edema       0.52      1.00      0.68      3694\n",
            "                    SLE       1.00      0.32      0.48      1579\n",
            "            Sarcoidosis       0.78      0.56      0.65      3028\n",
            "           Tuberculosis       0.57      0.66      0.61      2007\n",
            "         Whooping cough       1.00      1.00      1.00       545\n",
            "\n",
            "               accuracy                           0.59     25309\n",
            "              macro avg       0.74      0.60      0.60     25309\n",
            "           weighted avg       0.66      0.59      0.57     25309\n",
            "\n"
          ]
        }
      ]
    }
  ]
}