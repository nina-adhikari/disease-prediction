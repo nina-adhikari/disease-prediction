{
 "cells": [
  {
   "cell_type": "code",
   "execution_count": 107,
   "metadata": {},
   "outputs": [],
   "source": [
    "import numpy as np\n",
    "import matplotlib.pyplot as plt\n",
    "import pandas as pd\n",
    "import seaborn as sns"
   ]
  },
  {
   "cell_type": "code",
   "execution_count": 108,
   "metadata": {},
   "outputs": [],
   "source": [
    "DRIVE = 'data/'"
   ]
  },
  {
   "cell_type": "code",
   "execution_count": 109,
   "metadata": {},
   "outputs": [],
   "source": [
    "#!git clone https://github.com/nina-adhikari/disease-prediction"
   ]
  },
  {
   "cell_type": "code",
   "execution_count": 110,
   "metadata": {},
   "outputs": [
    {
     "name": "stdout",
     "output_type": "stream",
     "text": [
      "Collecting git+https://github.com/nina-adhikari/disease_prediction\n",
      "  Cloning https://github.com/nina-adhikari/disease_prediction to /private/var/folders/_2/3t2c95cn5sjcvt63r1qfngh00000gn/T/pip-req-build-66xxptw6\n",
      "  Running command git clone --filter=blob:none --quiet https://github.com/nina-adhikari/disease_prediction /private/var/folders/_2/3t2c95cn5sjcvt63r1qfngh00000gn/T/pip-req-build-66xxptw6\n",
      "  Resolved https://github.com/nina-adhikari/disease_prediction to commit d5cc3b6ab57930402bfd4f8652ec931229f0855e\n",
      "  Preparing metadata (setup.py) ... \u001b[?25ldone\n",
      "\u001b[?25h"
     ]
    }
   ],
   "source": [
    "!pip install git+https://github.com/nina-adhikari/disease_prediction"
   ]
  },
  {
   "cell_type": "code",
   "execution_count": 111,
   "metadata": {},
   "outputs": [],
   "source": [
    "from disease_prediction.data import datasets as ds"
   ]
  },
  {
   "cell_type": "code",
   "execution_count": 112,
   "metadata": {},
   "outputs": [],
   "source": [
    "df = ds.load_datasets(subsets=['train', 'test', 'validate'], directory=DRIVE)"
   ]
  },
  {
   "cell_type": "code",
   "execution_count": 113,
   "metadata": {},
   "outputs": [],
   "source": [
    "train_df = df['train']"
   ]
  },
  {
   "cell_type": "code",
   "execution_count": 114,
   "metadata": {},
   "outputs": [
    {
     "data": {
      "text/html": [
       "<div>\n",
       "<style scoped>\n",
       "    .dataframe tbody tr th:only-of-type {\n",
       "        vertical-align: middle;\n",
       "    }\n",
       "\n",
       "    .dataframe tbody tr th {\n",
       "        vertical-align: top;\n",
       "    }\n",
       "\n",
       "    .dataframe thead th {\n",
       "        text-align: right;\n",
       "    }\n",
       "</style>\n",
       "<table border=\"1\" class=\"dataframe\">\n",
       "  <thead>\n",
       "    <tr style=\"text-align: right;\">\n",
       "      <th></th>\n",
       "      <th>AGE</th>\n",
       "      <th>SEX</th>\n",
       "      <th>PATHOLOGY</th>\n",
       "      <th>INITIAL_EVIDENCE</th>\n",
       "      <th>swollen_nodes</th>\n",
       "      <th>std</th>\n",
       "      <th>sweating</th>\n",
       "      <th>diarrhea</th>\n",
       "      <th>pain</th>\n",
       "      <th>pain_char</th>\n",
       "      <th>...</th>\n",
       "      <th>ca_blockers</th>\n",
       "      <th>vag_discharge</th>\n",
       "      <th>wheezing_inhale</th>\n",
       "      <th>fatigue</th>\n",
       "      <th>menarche_12</th>\n",
       "      <th>breastfed_9</th>\n",
       "      <th>confusion</th>\n",
       "      <th>contact</th>\n",
       "      <th>ebolacase</th>\n",
       "      <th>bruising</th>\n",
       "    </tr>\n",
       "  </thead>\n",
       "  <tbody>\n",
       "    <tr>\n",
       "      <th>1</th>\n",
       "      <td>21</td>\n",
       "      <td>M</td>\n",
       "      <td>HIV (initial infection)</td>\n",
       "      <td>sweating</td>\n",
       "      <td>0</td>\n",
       "      <td>0</td>\n",
       "      <td>0</td>\n",
       "      <td>0</td>\n",
       "      <td>0</td>\n",
       "      <td>NA</td>\n",
       "      <td>...</td>\n",
       "      <td>0</td>\n",
       "      <td>0</td>\n",
       "      <td>0</td>\n",
       "      <td>0</td>\n",
       "      <td>0</td>\n",
       "      <td>0</td>\n",
       "      <td>0</td>\n",
       "      <td>0</td>\n",
       "      <td>0</td>\n",
       "      <td>0</td>\n",
       "    </tr>\n",
       "    <tr>\n",
       "      <th>10</th>\n",
       "      <td>8</td>\n",
       "      <td>M</td>\n",
       "      <td>Allergic sinusitis</td>\n",
       "      <td>itchy_nose</td>\n",
       "      <td>0</td>\n",
       "      <td>0</td>\n",
       "      <td>0</td>\n",
       "      <td>0</td>\n",
       "      <td>1</td>\n",
       "      <td>heavy</td>\n",
       "      <td>...</td>\n",
       "      <td>0</td>\n",
       "      <td>0</td>\n",
       "      <td>0</td>\n",
       "      <td>0</td>\n",
       "      <td>0</td>\n",
       "      <td>0</td>\n",
       "      <td>0</td>\n",
       "      <td>0</td>\n",
       "      <td>0</td>\n",
       "      <td>0</td>\n",
       "    </tr>\n",
       "    <tr>\n",
       "      <th>13</th>\n",
       "      <td>49</td>\n",
       "      <td>F</td>\n",
       "      <td>Anaphylaxis</td>\n",
       "      <td>lost_consciousness</td>\n",
       "      <td>0</td>\n",
       "      <td>0</td>\n",
       "      <td>0</td>\n",
       "      <td>0</td>\n",
       "      <td>0</td>\n",
       "      <td>NA</td>\n",
       "      <td>...</td>\n",
       "      <td>0</td>\n",
       "      <td>0</td>\n",
       "      <td>0</td>\n",
       "      <td>0</td>\n",
       "      <td>0</td>\n",
       "      <td>0</td>\n",
       "      <td>0</td>\n",
       "      <td>0</td>\n",
       "      <td>0</td>\n",
       "      <td>0</td>\n",
       "    </tr>\n",
       "    <tr>\n",
       "      <th>18</th>\n",
       "      <td>69</td>\n",
       "      <td>M</td>\n",
       "      <td>Tuberculosis</td>\n",
       "      <td>cough</td>\n",
       "      <td>0</td>\n",
       "      <td>0</td>\n",
       "      <td>0</td>\n",
       "      <td>0</td>\n",
       "      <td>1</td>\n",
       "      <td>heavy</td>\n",
       "      <td>...</td>\n",
       "      <td>0</td>\n",
       "      <td>0</td>\n",
       "      <td>0</td>\n",
       "      <td>0</td>\n",
       "      <td>0</td>\n",
       "      <td>0</td>\n",
       "      <td>0</td>\n",
       "      <td>0</td>\n",
       "      <td>0</td>\n",
       "      <td>0</td>\n",
       "    </tr>\n",
       "    <tr>\n",
       "      <th>19</th>\n",
       "      <td>30</td>\n",
       "      <td>F</td>\n",
       "      <td>Tuberculosis</td>\n",
       "      <td>cough_blood</td>\n",
       "      <td>0</td>\n",
       "      <td>0</td>\n",
       "      <td>0</td>\n",
       "      <td>0</td>\n",
       "      <td>1</td>\n",
       "      <td>sharp</td>\n",
       "      <td>...</td>\n",
       "      <td>0</td>\n",
       "      <td>0</td>\n",
       "      <td>0</td>\n",
       "      <td>0</td>\n",
       "      <td>0</td>\n",
       "      <td>0</td>\n",
       "      <td>0</td>\n",
       "      <td>0</td>\n",
       "      <td>0</td>\n",
       "      <td>0</td>\n",
       "    </tr>\n",
       "  </tbody>\n",
       "</table>\n",
       "<p>5 rows × 94 columns</p>\n",
       "</div>"
      ],
      "text/plain": [
       "    AGE SEX                PATHOLOGY    INITIAL_EVIDENCE  swollen_nodes  std  \\\n",
       "1    21   M  HIV (initial infection)            sweating              0    0   \n",
       "10    8   M       Allergic sinusitis          itchy_nose              0    0   \n",
       "13   49   F              Anaphylaxis  lost_consciousness              0    0   \n",
       "18   69   M             Tuberculosis               cough              0    0   \n",
       "19   30   F             Tuberculosis         cough_blood              0    0   \n",
       "\n",
       "    sweating  diarrhea  pain pain_char  ... ca_blockers  vag_discharge  \\\n",
       "1          0         0     0        NA  ...           0              0   \n",
       "10         0         0     1     heavy  ...           0              0   \n",
       "13         0         0     0        NA  ...           0              0   \n",
       "18         0         0     1     heavy  ...           0              0   \n",
       "19         0         0     1     sharp  ...           0              0   \n",
       "\n",
       "   wheezing_inhale  fatigue  menarche_12  breastfed_9  confusion  contact  \\\n",
       "1                0        0            0            0          0        0   \n",
       "10               0        0            0            0          0        0   \n",
       "13               0        0            0            0          0        0   \n",
       "18               0        0            0            0          0        0   \n",
       "19               0        0            0            0          0        0   \n",
       "\n",
       "   ebolacase bruising  \n",
       "1          0        0  \n",
       "10         0        0  \n",
       "13         0        0  \n",
       "18         0        0  \n",
       "19         0        0  \n",
       "\n",
       "[5 rows x 94 columns]"
      ]
     },
     "execution_count": 114,
     "metadata": {},
     "output_type": "execute_result"
    }
   ],
   "source": [
    "train_df.head()"
   ]
  },
  {
   "cell_type": "code",
   "execution_count": 115,
   "metadata": {},
   "outputs": [
    {
     "data": {
      "image/png": "[encoded data removed]",
      "text/plain": [
       "<Figure size 1200x400 with 1 Axes>"
      ]
     },
     "metadata": {},
     "output_type": "display_data"
    }
   ],
   "source": [
    "plt.figure(figsize=(12, 4))\n",
    "sns.countplot(data=train_df, x='PATHOLOGY') \n",
    "plt.tight_layout()"
   ]
  },
  {
   "cell_type": "code",
   "execution_count": 116,
   "metadata": {},
   "outputs": [],
   "source": [
    "# Ebola counts are very low\n",
    "# maybe drop it... (haven't dropped it yet)"
   ]
  },
  {
   "cell_type": "code",
   "execution_count": 117,
   "metadata": {},
   "outputs": [
    {
     "data": {
      "text/plain": [
       "Index(['AGE', 'SEX', 'PATHOLOGY', 'INITIAL_EVIDENCE', 'swollen_nodes', 'std',\n",
       "       'sweating', 'diarrhea', 'pain', 'pain_char', 'pain_somewhere',\n",
       "       'pain_intensity', 'pain_radiate', 'pain_precise', 'pain_sudden',\n",
       "       'fever', 'unprotected_sex', 'lesions', 'lesion_color',\n",
       "       'lesions_peeling', 'lesion_pain_swollen', 'lesion_location',\n",
       "       'lesion_pain_intense', 'lesion_larger_than_1cm', 'itching_severity',\n",
       "       'nausea', 'weight_loss', 'sex_hiv', 'trav1', 'fam_allergies', 'fam_j45',\n",
       "       'j45', 'itchy_nose', 'eye_itching', 'runny_nose', 'urban1',\n",
       "       'severe_allergy', 'contact_allergy', 'short_breath', 'swelling',\n",
       "       'swelling_location', 'lost_consciousness', 'stridor', 'z84.89', 'HIV',\n",
       "       'cortico', 'IV_drugs', 'e10_e11', 'f10.129', 'cough', 'cough_blood',\n",
       "       'v85.0', 'I30', 'f17.210', 'high_bp', 'ulcers', 'anorexia',\n",
       "       'new_fatigue', 'nsaids', 'i50', 'i80', 'lymph_surg', 'synd_nephro',\n",
       "       'convulsion', 'e66', 'red_eye', 'agri', 'gained_weight', 'k74',\n",
       "       'patho_endo', 'dizziness', 'wheezing_exhale', 'fatigue_ext',\n",
       "       'sore_throat', 'muscle_pain', 'lost_appetite', 'heart_valves', 'sahs',\n",
       "       'cont_pertussis', 'vomiting_cough', 'coughing_fits', 'vaccination',\n",
       "       'chills', 'z92.25', 'ca_blockers', 'vag_discharge', 'wheezing_inhale',\n",
       "       'fatigue', 'menarche_12', 'breastfed_9', 'confusion', 'contact',\n",
       "       'ebolacase', 'bruising'],\n",
       "      dtype='object')"
      ]
     },
     "execution_count": 117,
     "metadata": {},
     "output_type": "execute_result"
    }
   ],
   "source": [
    "# feature columns\n",
    "train_df.columns"
   ]
  },
  {
   "cell_type": "code",
   "execution_count": 118,
   "metadata": {},
   "outputs": [],
   "source": [
    "# binary columns\n",
    "bin_cols = [col for col in train_df.columns if train_df[col].nunique() == 2]"
   ]
  },
  {
   "cell_type": "code",
   "execution_count": 119,
   "metadata": {},
   "outputs": [
    {
     "name": "stdout",
     "output_type": "stream",
     "text": [
      "AGE 110\n",
      "PATHOLOGY 11\n",
      "INITIAL_EVIDENCE 38\n",
      "pain_char 11\n",
      "pain_somewhere 51\n",
      "pain_intensity 10\n",
      "pain_precise 11\n",
      "pain_sudden 9\n",
      "lesion_color 4\n",
      "lesion_pain_swollen 7\n",
      "lesion_location 29\n",
      "lesion_pain_intense 9\n",
      "itching_severity 10\n",
      "trav1 8\n",
      "swelling_location 15\n"
     ]
    }
   ],
   "source": [
    "# columns with more than 2 unique values\n",
    "for col in train_df.columns:\n",
    "    if train_df[col].nunique() > 2:\n",
    "        print(col, train_df[col].nunique())"
   ]
  },
  {
   "cell_type": "code",
   "execution_count": 120,
   "metadata": {},
   "outputs": [],
   "source": [
    "# AGE is good continuous variable"
   ]
  },
  {
   "cell_type": "code",
   "execution_count": 121,
   "metadata": {},
   "outputs": [
    {
     "data": {
      "text/plain": [
       "INITIAL_EVIDENCE\n",
       "pain                  32936\n",
       "swelling              14651\n",
       "lesions               13323\n",
       "cough                 12459\n",
       "short_breath          11127\n",
       "runny_nose            10447\n",
       "fever                  9886\n",
       "swollen_nodes          7532\n",
       "itchy_nose             6976\n",
       "eye_itching            6013\n",
       "gained_weight          5597\n",
       "nausea                 5327\n",
       "diarrhea               5222\n",
       "weight_loss            4974\n",
       "fatigue_ext            4889\n",
       "sweating               4502\n",
       "muscle_pain            4406\n",
       "sore_throat            3963\n",
       "cough_blood            3591\n",
       "vomiting_cough         3040\n",
       "convulsion             2914\n",
       "red_eye                2901\n",
       "contact_allergy        2705\n",
       "vag_discharge          2283\n",
       "chills                 2231\n",
       "dizziness              2164\n",
       "lost_consciousness     2073\n",
       "stridor                2043\n",
       "wheezing_exhale        1957\n",
       "lost_appetite          1927\n",
       "ulcers                 1861\n",
       "fatigue                1684\n",
       "coughing_fits          1600\n",
       "wheezing_inhale        1430\n",
       "new_fatigue            1173\n",
       "anorexia               1020\n",
       "bruising                104\n",
       "confusion                77\n",
       "Name: count, dtype: int64"
      ]
     },
     "execution_count": 121,
     "metadata": {},
     "output_type": "execute_result"
    }
   ],
   "source": [
    "# INITIAL_EVIDENCE\n",
    "train_df['INITIAL_EVIDENCE'].value_counts()"
   ]
  },
  {
   "cell_type": "code",
   "execution_count": 122,
   "metadata": {},
   "outputs": [
    {
     "data": {
      "image/png": "[encoded data removed]",
      "text/plain": [
       "<Figure size 1000x600 with 1 Axes>"
      ]
     },
     "metadata": {},
     "output_type": "display_data"
    }
   ],
   "source": [
    "plt.figure(figsize=(10, 6))\n",
    "sns.countplot(data=train_df, x='INITIAL_EVIDENCE')\n",
    "plt.tight_layout()"
   ]
  },
  {
   "cell_type": "code",
   "execution_count": 123,
   "metadata": {},
   "outputs": [],
   "source": [
    "# convert to binary using pandas get_dummies\n",
    "train_df = pd.get_dummies(train_df, columns=['INITIAL_EVIDENCE'])"
   ]
  },
  {
   "cell_type": "code",
   "execution_count": 124,
   "metadata": {},
   "outputs": [
    {
     "data": {
      "text/plain": [
       "pain_char\n",
       "NA                171596\n",
       "sharp              11206\n",
       "exhausting          8819\n",
       "heavy               2467\n",
       "sensitive           2168\n",
       "a pulse             1625\n",
       "burning             1518\n",
       "a cramp             1512\n",
       "a knife stroke      1129\n",
       "tugging              576\n",
       "tedious              392\n",
       "Name: count, dtype: int64"
      ]
     },
     "execution_count": 124,
     "metadata": {},
     "output_type": "execute_result"
    }
   ],
   "source": [
    "# pain_char\n",
    "train_df['pain_char'].value_counts()"
   ]
  },
  {
   "cell_type": "code",
   "execution_count": 125,
   "metadata": {},
   "outputs": [],
   "source": [
    "# could be made continous... but for now I will convert to binary\n",
    "# convert to binary using pandas get_dummies\n",
    "train_df = pd.get_dummies(train_df, columns=['pain_char'], drop_first=True)"
   ]
  },
  {
   "cell_type": "code",
   "execution_count": 126,
   "metadata": {},
   "outputs": [
    {
     "data": {
      "text/plain": [
       "pain_somewhere\n",
       "nowhere                          171596\n",
       "temple(L)                          4540\n",
       "epigastric                         3558\n",
       "temple(R)                          2517\n",
       "forehead                           2363\n",
       "shoulder(L)                        2344\n",
       "sole(L)                            1957\n",
       "occiput                            1918\n",
       "finger (middle)(L)                 1669\n",
       "sole(R)                            1662\n",
       "shoulder(R)                        1372\n",
       "belly                              1248\n",
       "dorsal aspect of the foot(L)       1070\n",
       "pharynx                             952\n",
       "finger (middle)(R)                  549\n",
       "hypochondrium(L)                    515\n",
       "pubis                               505\n",
       "dorsal aspect of the foot(R)        488\n",
       "top of the head                     421\n",
       "hypochondrium(R)                    227\n",
       "finger (index)(L)                   146\n",
       "palmar face of the wrist(R)         146\n",
       "calf(R)                             143\n",
       "dorsal aspect of the wrist(L)       143\n",
       "dorsal aspect of the wrist(R)       124\n",
       "palmar face of the wrist(L)         124\n",
       "calf(L)                             105\n",
       "knee(R)                              89\n",
       "knee(L)                              76\n",
       "toe (1)(R)                           68\n",
       "iliac fossa(L)                       54\n",
       "toe (1)(L)                           37\n",
       "iliac fossa(R)                       32\n",
       "cervical spine                       32\n",
       "back of head                         28\n",
       "toe (2)(R)                           27\n",
       "finger (index)(R)                    25\n",
       "thigh(L)                             22\n",
       "back of the neck                     22\n",
       "toe (2)(L)                           21\n",
       "flank(L)                             14\n",
       "toe (3)(R)                           14\n",
       "hip(R)                               12\n",
       "flank(R)                              7\n",
       "hip(L)                                7\n",
       "toe (3)(L)                            6\n",
       "side of the neck(L)                   4\n",
       "thigh(R)                              4\n",
       "thumb(R)                              2\n",
       "side of the neck(R)                   2\n",
       "little toe (4)(R)                     1\n",
       "Name: count, dtype: int64"
      ]
     },
     "execution_count": 126,
     "metadata": {},
     "output_type": "execute_result"
    }
   ],
   "source": [
    "# pain_somewhere\n",
    "train_df['pain_somewhere'].value_counts()"
   ]
  },
  {
   "cell_type": "code",
   "execution_count": 127,
   "metadata": {},
   "outputs": [],
   "source": [
    "# too many values for get_dummies\n",
    "# convert to binary with nowhere as 0 and anywhere else as 1\n",
    "train_df['pain_somewhere'] = (train_df['pain_somewhere'] != 'nowhere').astype(int)"
   ]
  },
  {
   "cell_type": "code",
   "execution_count": 128,
   "metadata": {},
   "outputs": [
    {
     "data": {
      "text/html": [
       "<div>\n",
       "<style scoped>\n",
       "    .dataframe tbody tr th:only-of-type {\n",
       "        vertical-align: middle;\n",
       "    }\n",
       "\n",
       "    .dataframe tbody tr th {\n",
       "        vertical-align: top;\n",
       "    }\n",
       "\n",
       "    .dataframe thead th {\n",
       "        text-align: right;\n",
       "    }\n",
       "</style>\n",
       "<table border=\"1\" class=\"dataframe\">\n",
       "  <thead>\n",
       "    <tr style=\"text-align: right;\">\n",
       "      <th></th>\n",
       "      <th>pain_intensity</th>\n",
       "      <th>pain_precise</th>\n",
       "      <th>pain_sudden</th>\n",
       "    </tr>\n",
       "  </thead>\n",
       "  <tbody>\n",
       "    <tr>\n",
       "      <th>1</th>\n",
       "      <td>0</td>\n",
       "      <td>0</td>\n",
       "      <td>0</td>\n",
       "    </tr>\n",
       "    <tr>\n",
       "      <th>10</th>\n",
       "      <td>6</td>\n",
       "      <td>8</td>\n",
       "      <td>8</td>\n",
       "    </tr>\n",
       "    <tr>\n",
       "      <th>13</th>\n",
       "      <td>0</td>\n",
       "      <td>0</td>\n",
       "      <td>0</td>\n",
       "    </tr>\n",
       "    <tr>\n",
       "      <th>18</th>\n",
       "      <td>8</td>\n",
       "      <td>5</td>\n",
       "      <td>0</td>\n",
       "    </tr>\n",
       "    <tr>\n",
       "      <th>19</th>\n",
       "      <td>9</td>\n",
       "      <td>1</td>\n",
       "      <td>3</td>\n",
       "    </tr>\n",
       "    <tr>\n",
       "      <th>...</th>\n",
       "      <td>...</td>\n",
       "      <td>...</td>\n",
       "      <td>...</td>\n",
       "    </tr>\n",
       "    <tr>\n",
       "      <th>1023490</th>\n",
       "      <td>0</td>\n",
       "      <td>0</td>\n",
       "      <td>0</td>\n",
       "    </tr>\n",
       "    <tr>\n",
       "      <th>1023491</th>\n",
       "      <td>0</td>\n",
       "      <td>0</td>\n",
       "      <td>0</td>\n",
       "    </tr>\n",
       "    <tr>\n",
       "      <th>1023492</th>\n",
       "      <td>0</td>\n",
       "      <td>0</td>\n",
       "      <td>0</td>\n",
       "    </tr>\n",
       "    <tr>\n",
       "      <th>1023493</th>\n",
       "      <td>0</td>\n",
       "      <td>0</td>\n",
       "      <td>0</td>\n",
       "    </tr>\n",
       "    <tr>\n",
       "      <th>1023494</th>\n",
       "      <td>0</td>\n",
       "      <td>0</td>\n",
       "      <td>0</td>\n",
       "    </tr>\n",
       "  </tbody>\n",
       "</table>\n",
       "<p>203008 rows × 3 columns</p>\n",
       "</div>"
      ],
      "text/plain": [
       "         pain_intensity  pain_precise  pain_sudden\n",
       "1                     0             0            0\n",
       "10                    6             8            8\n",
       "13                    0             0            0\n",
       "18                    8             5            0\n",
       "19                    9             1            3\n",
       "...                 ...           ...          ...\n",
       "1023490               0             0            0\n",
       "1023491               0             0            0\n",
       "1023492               0             0            0\n",
       "1023493               0             0            0\n",
       "1023494               0             0            0\n",
       "\n",
       "[203008 rows x 3 columns]"
      ]
     },
     "execution_count": 128,
     "metadata": {},
     "output_type": "execute_result"
    }
   ],
   "source": [
    "# pain_intensity\n",
    "train_df[['pain_intensity', 'pain_precise', 'pain_sudden']]\n",
    "\n",
    "# good continuous variables"
   ]
  },
  {
   "cell_type": "code",
   "execution_count": 129,
   "metadata": {},
   "outputs": [
    {
     "data": {
      "text/plain": [
       "lesion_color\n",
       "NA      184275\n",
       "pink     10374\n",
       "pale      6024\n",
       "red       2335\n",
       "Name: count, dtype: int64"
      ]
     },
     "execution_count": 129,
     "metadata": {},
     "output_type": "execute_result"
    }
   ],
   "source": [
    "# lesion_color\n",
    "train_df['lesion_color'].value_counts()"
   ]
  },
  {
   "cell_type": "code",
   "execution_count": 130,
   "metadata": {},
   "outputs": [],
   "source": [
    "# convert to binary using pandas get_dummies\n",
    "train_df = pd.get_dummies(train_df, columns=['lesion_color'], drop_first=True)"
   ]
  },
  {
   "cell_type": "code",
   "execution_count": 131,
   "metadata": {},
   "outputs": [
    {
     "data": {
      "text/html": [
       "<div>\n",
       "<style scoped>\n",
       "    .dataframe tbody tr th:only-of-type {\n",
       "        vertical-align: middle;\n",
       "    }\n",
       "\n",
       "    .dataframe tbody tr th {\n",
       "        vertical-align: top;\n",
       "    }\n",
       "\n",
       "    .dataframe thead th {\n",
       "        text-align: right;\n",
       "    }\n",
       "</style>\n",
       "<table border=\"1\" class=\"dataframe\">\n",
       "  <thead>\n",
       "    <tr style=\"text-align: right;\">\n",
       "      <th></th>\n",
       "      <th>lesion_pain_swollen</th>\n",
       "      <th>lesion_pain_intense</th>\n",
       "    </tr>\n",
       "  </thead>\n",
       "  <tbody>\n",
       "    <tr>\n",
       "      <th>1</th>\n",
       "      <td>0</td>\n",
       "      <td>0</td>\n",
       "    </tr>\n",
       "    <tr>\n",
       "      <th>10</th>\n",
       "      <td>0</td>\n",
       "      <td>0</td>\n",
       "    </tr>\n",
       "    <tr>\n",
       "      <th>13</th>\n",
       "      <td>0</td>\n",
       "      <td>0</td>\n",
       "    </tr>\n",
       "    <tr>\n",
       "      <th>18</th>\n",
       "      <td>0</td>\n",
       "      <td>2</td>\n",
       "    </tr>\n",
       "    <tr>\n",
       "      <th>19</th>\n",
       "      <td>5</td>\n",
       "      <td>2</td>\n",
       "    </tr>\n",
       "    <tr>\n",
       "      <th>...</th>\n",
       "      <td>...</td>\n",
       "      <td>...</td>\n",
       "    </tr>\n",
       "    <tr>\n",
       "      <th>1023490</th>\n",
       "      <td>0</td>\n",
       "      <td>0</td>\n",
       "    </tr>\n",
       "    <tr>\n",
       "      <th>1023491</th>\n",
       "      <td>0</td>\n",
       "      <td>0</td>\n",
       "    </tr>\n",
       "    <tr>\n",
       "      <th>1023492</th>\n",
       "      <td>0</td>\n",
       "      <td>0</td>\n",
       "    </tr>\n",
       "    <tr>\n",
       "      <th>1023493</th>\n",
       "      <td>0</td>\n",
       "      <td>0</td>\n",
       "    </tr>\n",
       "    <tr>\n",
       "      <th>1023494</th>\n",
       "      <td>0</td>\n",
       "      <td>0</td>\n",
       "    </tr>\n",
       "  </tbody>\n",
       "</table>\n",
       "<p>203008 rows × 2 columns</p>\n",
       "</div>"
      ],
      "text/plain": [
       "         lesion_pain_swollen  lesion_pain_intense\n",
       "1                          0                    0\n",
       "10                         0                    0\n",
       "13                         0                    0\n",
       "18                         0                    2\n",
       "19                         5                    2\n",
       "...                      ...                  ...\n",
       "1023490                    0                    0\n",
       "1023491                    0                    0\n",
       "1023492                    0                    0\n",
       "1023493                    0                    0\n",
       "1023494                    0                    0\n",
       "\n",
       "[203008 rows x 2 columns]"
      ]
     },
     "execution_count": 131,
     "metadata": {},
     "output_type": "execute_result"
    }
   ],
   "source": [
    "# lesion_pain_swollen and lesion_pain_intense\n",
    "train_df[['lesion_pain_swollen', 'lesion_pain_intense']]\n",
    "\n",
    "# good continuous variables"
   ]
  },
  {
   "cell_type": "code",
   "execution_count": 132,
   "metadata": {},
   "outputs": [
    {
     "data": {
      "text/plain": [
       "lesion_location\n",
       "nowhere                184275\n",
       "forehead                 2154\n",
       "internal cheek(L)        1816\n",
       "ankle(R)                 1711\n",
       "nose                     1597\n",
       "internal cheek(R)        1567\n",
       "thyroid cartilage        1362\n",
       "bottom lip(R)            1320\n",
       "side of the neck(L)      1320\n",
       "ankle(L)                 1210\n",
       "side of the neck(R)       768\n",
       "cervical spine            748\n",
       "upper lip(R)              716\n",
       "cheek(L)                  539\n",
       "back of the neck          463\n",
       "thoracic spine            371\n",
       "palace                    367\n",
       "cheek(R)                  199\n",
       "penis                     170\n",
       "lumbar spine              160\n",
       "thigh(R)                   74\n",
       "labia minora(R)            35\n",
       "thigh(L)                   20\n",
       "labia minora(L)            16\n",
       "scrotum                    11\n",
       "shoulder(R)                 9\n",
       "under the tongue            6\n",
       "epigastric                  2\n",
       "shoulder(L)                 2\n",
       "Name: count, dtype: int64"
      ]
     },
     "execution_count": 132,
     "metadata": {},
     "output_type": "execute_result"
    }
   ],
   "source": [
    "# lesion_location\n",
    "train_df['lesion_location'].value_counts()"
   ]
  },
  {
   "cell_type": "code",
   "execution_count": 133,
   "metadata": {},
   "outputs": [],
   "source": [
    "# convert to binary using pandas get_dummies\n",
    "train_df = pd.get_dummies(train_df, columns=['lesion_location'], drop_first=True)"
   ]
  },
  {
   "cell_type": "code",
   "execution_count": 134,
   "metadata": {},
   "outputs": [
    {
     "data": {
      "text/plain": [
       "itching_severity\n",
       "0     191691\n",
       "10      1429\n",
       "9       1420\n",
       "8       1411\n",
       "7       1409\n",
       "2       1385\n",
       "1       1345\n",
       "3       1342\n",
       "5        789\n",
       "4        787\n",
       "Name: count, dtype: int64"
      ]
     },
     "execution_count": 134,
     "metadata": {},
     "output_type": "execute_result"
    }
   ],
   "source": [
    "# itching_severity\n",
    "train_df['itching_severity'].value_counts()\n",
    "\n",
    "# good continuous variable"
   ]
  },
  {
   "cell_type": "code",
   "execution_count": 135,
   "metadata": {},
   "outputs": [
    {
     "data": {
      "text/plain": [
       "trav1\n",
       "N                  200685\n",
       "North America        1523\n",
       "West Africa           322\n",
       "South Africa          149\n",
       "South America         110\n",
       "Central America        98\n",
       "Europe                 67\n",
       "Asia                   54\n",
       "Name: count, dtype: int64"
      ]
     },
     "execution_count": 135,
     "metadata": {},
     "output_type": "execute_result"
    }
   ],
   "source": [
    "# trav1\n",
    "train_df['trav1'].value_counts()"
   ]
  },
  {
   "cell_type": "code",
   "execution_count": 136,
   "metadata": {},
   "outputs": [],
   "source": [
    "# for now convert to whether travelled or not\n",
    "train_df['trav1'] = (train_df['trav1'] != 'N').astype(int)"
   ]
  },
  {
   "cell_type": "code",
   "execution_count": 137,
   "metadata": {},
   "outputs": [
    {
     "data": {
      "text/plain": [
       "trav1\n",
       "0    200685\n",
       "1      2323\n",
       "Name: count, dtype: int64"
      ]
     },
     "execution_count": 137,
     "metadata": {},
     "output_type": "execute_result"
    }
   ],
   "source": [
    "train_df['trav1'].value_counts()"
   ]
  },
  {
   "cell_type": "code",
   "execution_count": 138,
   "metadata": {},
   "outputs": [
    {
     "data": {
      "text/plain": [
       "swelling_location\n",
       "nowhere                         191742\n",
       "nose                              4060\n",
       "dorsal aspect of the foot(L)      1897\n",
       "dorsal aspect of the foot(R)      1599\n",
       "sole(R)                           1238\n",
       "cheek(L)                          1162\n",
       "sole(L)                            866\n",
       "cheek(R)                           321\n",
       "forehead                            98\n",
       "calf(R)                              9\n",
       "thigh(L)                             8\n",
       "calf(L)                              4\n",
       "toe (1)(L)                           2\n",
       "toe (1)(R)                           1\n",
       "thigh(R)                             1\n",
       "Name: count, dtype: int64"
      ]
     },
     "execution_count": 138,
     "metadata": {},
     "output_type": "execute_result"
    }
   ],
   "source": [
    "# swelling_location\n",
    "train_df['swelling_location'].value_counts()"
   ]
  },
  {
   "cell_type": "code",
   "execution_count": 139,
   "metadata": {},
   "outputs": [],
   "source": [
    "# convert to binary using pandas get_dummies\n",
    "train_df = pd.get_dummies(train_df, columns=['swelling_location'], drop_first=True)"
   ]
  },
  {
   "cell_type": "code",
   "execution_count": 140,
   "metadata": {},
   "outputs": [],
   "source": [
    "# convert SEX column to binary\n",
    "train_df = pd.get_dummies(train_df, columns=['SEX'], drop_first=True)"
   ]
  },
  {
   "cell_type": "code",
   "execution_count": 141,
   "metadata": {},
   "outputs": [
    {
     "data": {
      "text/html": [
       "<div>\n",
       "<style scoped>\n",
       "    .dataframe tbody tr th:only-of-type {\n",
       "        vertical-align: middle;\n",
       "    }\n",
       "\n",
       "    .dataframe tbody tr th {\n",
       "        vertical-align: top;\n",
       "    }\n",
       "\n",
       "    .dataframe thead th {\n",
       "        text-align: right;\n",
       "    }\n",
       "</style>\n",
       "<table border=\"1\" class=\"dataframe\">\n",
       "  <thead>\n",
       "    <tr style=\"text-align: right;\">\n",
       "      <th></th>\n",
       "      <th>AGE</th>\n",
       "      <th>PATHOLOGY</th>\n",
       "      <th>swollen_nodes</th>\n",
       "      <th>std</th>\n",
       "      <th>sweating</th>\n",
       "      <th>diarrhea</th>\n",
       "      <th>pain</th>\n",
       "      <th>pain_somewhere</th>\n",
       "      <th>pain_intensity</th>\n",
       "      <th>pain_radiate</th>\n",
       "      <th>...</th>\n",
       "      <th>swelling_location_forehead</th>\n",
       "      <th>swelling_location_nose</th>\n",
       "      <th>swelling_location_nowhere</th>\n",
       "      <th>swelling_location_sole(L)</th>\n",
       "      <th>swelling_location_sole(R)</th>\n",
       "      <th>swelling_location_thigh(L)</th>\n",
       "      <th>swelling_location_thigh(R)</th>\n",
       "      <th>swelling_location_toe (1)(L)</th>\n",
       "      <th>swelling_location_toe (1)(R)</th>\n",
       "      <th>SEX_M</th>\n",
       "    </tr>\n",
       "  </thead>\n",
       "  <tbody>\n",
       "    <tr>\n",
       "      <th>1</th>\n",
       "      <td>21</td>\n",
       "      <td>HIV (initial infection)</td>\n",
       "      <td>0</td>\n",
       "      <td>0</td>\n",
       "      <td>0</td>\n",
       "      <td>0</td>\n",
       "      <td>0</td>\n",
       "      <td>0</td>\n",
       "      <td>0</td>\n",
       "      <td>nowhere</td>\n",
       "      <td>...</td>\n",
       "      <td>False</td>\n",
       "      <td>False</td>\n",
       "      <td>True</td>\n",
       "      <td>False</td>\n",
       "      <td>False</td>\n",
       "      <td>False</td>\n",
       "      <td>False</td>\n",
       "      <td>False</td>\n",
       "      <td>False</td>\n",
       "      <td>True</td>\n",
       "    </tr>\n",
       "    <tr>\n",
       "      <th>10</th>\n",
       "      <td>8</td>\n",
       "      <td>Allergic sinusitis</td>\n",
       "      <td>0</td>\n",
       "      <td>0</td>\n",
       "      <td>0</td>\n",
       "      <td>0</td>\n",
       "      <td>1</td>\n",
       "      <td>1</td>\n",
       "      <td>6</td>\n",
       "      <td>nowhere</td>\n",
       "      <td>...</td>\n",
       "      <td>False</td>\n",
       "      <td>False</td>\n",
       "      <td>False</td>\n",
       "      <td>False</td>\n",
       "      <td>False</td>\n",
       "      <td>False</td>\n",
       "      <td>False</td>\n",
       "      <td>False</td>\n",
       "      <td>False</td>\n",
       "      <td>True</td>\n",
       "    </tr>\n",
       "    <tr>\n",
       "      <th>13</th>\n",
       "      <td>49</td>\n",
       "      <td>Anaphylaxis</td>\n",
       "      <td>0</td>\n",
       "      <td>0</td>\n",
       "      <td>0</td>\n",
       "      <td>0</td>\n",
       "      <td>0</td>\n",
       "      <td>0</td>\n",
       "      <td>0</td>\n",
       "      <td>nowhere</td>\n",
       "      <td>...</td>\n",
       "      <td>False</td>\n",
       "      <td>False</td>\n",
       "      <td>True</td>\n",
       "      <td>False</td>\n",
       "      <td>False</td>\n",
       "      <td>False</td>\n",
       "      <td>False</td>\n",
       "      <td>False</td>\n",
       "      <td>False</td>\n",
       "      <td>False</td>\n",
       "    </tr>\n",
       "    <tr>\n",
       "      <th>18</th>\n",
       "      <td>69</td>\n",
       "      <td>Tuberculosis</td>\n",
       "      <td>0</td>\n",
       "      <td>0</td>\n",
       "      <td>0</td>\n",
       "      <td>0</td>\n",
       "      <td>1</td>\n",
       "      <td>1</td>\n",
       "      <td>8</td>\n",
       "      <td>nowhere</td>\n",
       "      <td>...</td>\n",
       "      <td>False</td>\n",
       "      <td>False</td>\n",
       "      <td>True</td>\n",
       "      <td>False</td>\n",
       "      <td>False</td>\n",
       "      <td>False</td>\n",
       "      <td>False</td>\n",
       "      <td>False</td>\n",
       "      <td>False</td>\n",
       "      <td>True</td>\n",
       "    </tr>\n",
       "    <tr>\n",
       "      <th>19</th>\n",
       "      <td>30</td>\n",
       "      <td>Tuberculosis</td>\n",
       "      <td>0</td>\n",
       "      <td>0</td>\n",
       "      <td>0</td>\n",
       "      <td>0</td>\n",
       "      <td>1</td>\n",
       "      <td>1</td>\n",
       "      <td>9</td>\n",
       "      <td>nowhere</td>\n",
       "      <td>...</td>\n",
       "      <td>False</td>\n",
       "      <td>True</td>\n",
       "      <td>False</td>\n",
       "      <td>False</td>\n",
       "      <td>False</td>\n",
       "      <td>False</td>\n",
       "      <td>False</td>\n",
       "      <td>False</td>\n",
       "      <td>False</td>\n",
       "      <td>False</td>\n",
       "    </tr>\n",
       "  </tbody>\n",
       "</table>\n",
       "<p>5 rows × 182 columns</p>\n",
       "</div>"
      ],
      "text/plain": [
       "    AGE                PATHOLOGY  swollen_nodes  std  sweating  diarrhea  \\\n",
       "1    21  HIV (initial infection)              0    0         0         0   \n",
       "10    8       Allergic sinusitis              0    0         0         0   \n",
       "13   49              Anaphylaxis              0    0         0         0   \n",
       "18   69             Tuberculosis              0    0         0         0   \n",
       "19   30             Tuberculosis              0    0         0         0   \n",
       "\n",
       "    pain  pain_somewhere  pain_intensity pain_radiate  ...  \\\n",
       "1      0               0               0      nowhere  ...   \n",
       "10     1               1               6      nowhere  ...   \n",
       "13     0               0               0      nowhere  ...   \n",
       "18     1               1               8      nowhere  ...   \n",
       "19     1               1               9      nowhere  ...   \n",
       "\n",
       "    swelling_location_forehead  swelling_location_nose  \\\n",
       "1                        False                   False   \n",
       "10                       False                   False   \n",
       "13                       False                   False   \n",
       "18                       False                   False   \n",
       "19                       False                    True   \n",
       "\n",
       "    swelling_location_nowhere  swelling_location_sole(L)  \\\n",
       "1                        True                      False   \n",
       "10                      False                      False   \n",
       "13                       True                      False   \n",
       "18                       True                      False   \n",
       "19                      False                      False   \n",
       "\n",
       "    swelling_location_sole(R) swelling_location_thigh(L)  \\\n",
       "1                       False                      False   \n",
       "10                      False                      False   \n",
       "13                      False                      False   \n",
       "18                      False                      False   \n",
       "19                      False                      False   \n",
       "\n",
       "    swelling_location_thigh(R)  swelling_location_toe (1)(L)  \\\n",
       "1                        False                         False   \n",
       "10                       False                         False   \n",
       "13                       False                         False   \n",
       "18                       False                         False   \n",
       "19                       False                         False   \n",
       "\n",
       "   swelling_location_toe (1)(R)  SEX_M  \n",
       "1                         False   True  \n",
       "10                        False   True  \n",
       "13                        False  False  \n",
       "18                        False   True  \n",
       "19                        False  False  \n",
       "\n",
       "[5 rows x 182 columns]"
      ]
     },
     "execution_count": 141,
     "metadata": {},
     "output_type": "execute_result"
    }
   ],
   "source": [
    "train_df.head()"
   ]
  },
  {
   "cell_type": "code",
   "execution_count": 142,
   "metadata": {},
   "outputs": [
    {
     "data": {
      "text/plain": [
       "pain_radiate\n",
       "nowhere    203008\n",
       "Name: count, dtype: int64"
      ]
     },
     "execution_count": 142,
     "metadata": {},
     "output_type": "execute_result"
    }
   ],
   "source": [
    "# pain_radiate\n",
    "train_df['pain_radiate'].value_counts()"
   ]
  },
  {
   "cell_type": "code",
   "execution_count": 143,
   "metadata": {},
   "outputs": [],
   "source": [
    "# has the same values everywhere\n",
    "# drop it\n",
    "train_df.drop('pain_radiate', axis=1, inplace=True)"
   ]
  },
  {
   "cell_type": "code",
   "execution_count": 144,
   "metadata": {},
   "outputs": [
    {
     "data": {
      "text/plain": [
       "lesion_larger_than_1cm\n",
       "N    184275\n",
       "Y     18733\n",
       "Name: count, dtype: int64"
      ]
     },
     "execution_count": 144,
     "metadata": {},
     "output_type": "execute_result"
    }
   ],
   "source": [
    "# lesion_larger_than_1cm\n",
    "train_df['lesion_larger_than_1cm'].value_counts()"
   ]
  },
  {
   "cell_type": "code",
   "execution_count": 145,
   "metadata": {},
   "outputs": [],
   "source": [
    "# convert to binary\n",
    "train_df['lesion_larger_than_1cm'] = (train_df['lesion_larger_than_1cm'] == 'Y').astype(int)"
   ]
  },
  {
   "cell_type": "code",
   "execution_count": 146,
   "metadata": {},
   "outputs": [
    {
     "data": {
      "text/plain": [
       "lesions_peeling\n",
       "N    203008\n",
       "Name: count, dtype: int64"
      ]
     },
     "execution_count": 146,
     "metadata": {},
     "output_type": "execute_result"
    }
   ],
   "source": [
    "# lesions_peeling\n",
    "train_df['lesions_peeling'].value_counts()"
   ]
  },
  {
   "cell_type": "code",
   "execution_count": 147,
   "metadata": {},
   "outputs": [],
   "source": [
    "# same values everywhere\n",
    "# drop it\n",
    "train_df.drop('lesions_peeling', axis=1, inplace=True)"
   ]
  },
  {
   "cell_type": "code",
   "execution_count": null,
   "metadata": {},
   "outputs": [],
   "source": []
  },
  {
   "cell_type": "code",
   "execution_count": 148,
   "metadata": {},
   "outputs": [
    {
     "name": "stdout",
     "output_type": "stream",
     "text": [
      "180\n"
     ]
    },
    {
     "data": {
      "text/html": [
       "<div>\n",
       "<style scoped>\n",
       "    .dataframe tbody tr th:only-of-type {\n",
       "        vertical-align: middle;\n",
       "    }\n",
       "\n",
       "    .dataframe tbody tr th {\n",
       "        vertical-align: top;\n",
       "    }\n",
       "\n",
       "    .dataframe thead th {\n",
       "        text-align: right;\n",
       "    }\n",
       "</style>\n",
       "<table border=\"1\" class=\"dataframe\">\n",
       "  <thead>\n",
       "    <tr style=\"text-align: right;\">\n",
       "      <th></th>\n",
       "      <th>pain_sudden</th>\n",
       "      <th>fever</th>\n",
       "      <th>unprotected_sex</th>\n",
       "      <th>lesions</th>\n",
       "      <th>lesion_pain_swollen</th>\n",
       "      <th>lesion_pain_intense</th>\n",
       "      <th>lesion_larger_than_1cm</th>\n",
       "      <th>itching_severity</th>\n",
       "      <th>nausea</th>\n",
       "      <th>weight_loss</th>\n",
       "    </tr>\n",
       "  </thead>\n",
       "  <tbody>\n",
       "    <tr>\n",
       "      <th>851521</th>\n",
       "      <td>0</td>\n",
       "      <td>0</td>\n",
       "      <td>0</td>\n",
       "      <td>0</td>\n",
       "      <td>0</td>\n",
       "      <td>0</td>\n",
       "      <td>0</td>\n",
       "      <td>0</td>\n",
       "      <td>0</td>\n",
       "      <td>0</td>\n",
       "    </tr>\n",
       "    <tr>\n",
       "      <th>988373</th>\n",
       "      <td>0</td>\n",
       "      <td>0</td>\n",
       "      <td>0</td>\n",
       "      <td>0</td>\n",
       "      <td>0</td>\n",
       "      <td>0</td>\n",
       "      <td>0</td>\n",
       "      <td>0</td>\n",
       "      <td>0</td>\n",
       "      <td>0</td>\n",
       "    </tr>\n",
       "    <tr>\n",
       "      <th>1005975</th>\n",
       "      <td>0</td>\n",
       "      <td>0</td>\n",
       "      <td>0</td>\n",
       "      <td>0</td>\n",
       "      <td>0</td>\n",
       "      <td>0</td>\n",
       "      <td>0</td>\n",
       "      <td>0</td>\n",
       "      <td>0</td>\n",
       "      <td>0</td>\n",
       "    </tr>\n",
       "    <tr>\n",
       "      <th>872374</th>\n",
       "      <td>0</td>\n",
       "      <td>0</td>\n",
       "      <td>0</td>\n",
       "      <td>0</td>\n",
       "      <td>0</td>\n",
       "      <td>0</td>\n",
       "      <td>0</td>\n",
       "      <td>0</td>\n",
       "      <td>0</td>\n",
       "      <td>0</td>\n",
       "    </tr>\n",
       "    <tr>\n",
       "      <th>631970</th>\n",
       "      <td>0</td>\n",
       "      <td>0</td>\n",
       "      <td>0</td>\n",
       "      <td>0</td>\n",
       "      <td>0</td>\n",
       "      <td>0</td>\n",
       "      <td>0</td>\n",
       "      <td>0</td>\n",
       "      <td>0</td>\n",
       "      <td>0</td>\n",
       "    </tr>\n",
       "    <tr>\n",
       "      <th>376124</th>\n",
       "      <td>0</td>\n",
       "      <td>0</td>\n",
       "      <td>0</td>\n",
       "      <td>0</td>\n",
       "      <td>0</td>\n",
       "      <td>0</td>\n",
       "      <td>0</td>\n",
       "      <td>0</td>\n",
       "      <td>0</td>\n",
       "      <td>0</td>\n",
       "    </tr>\n",
       "    <tr>\n",
       "      <th>714786</th>\n",
       "      <td>0</td>\n",
       "      <td>0</td>\n",
       "      <td>0</td>\n",
       "      <td>0</td>\n",
       "      <td>0</td>\n",
       "      <td>0</td>\n",
       "      <td>0</td>\n",
       "      <td>0</td>\n",
       "      <td>0</td>\n",
       "      <td>0</td>\n",
       "    </tr>\n",
       "    <tr>\n",
       "      <th>931361</th>\n",
       "      <td>0</td>\n",
       "      <td>0</td>\n",
       "      <td>0</td>\n",
       "      <td>0</td>\n",
       "      <td>0</td>\n",
       "      <td>0</td>\n",
       "      <td>0</td>\n",
       "      <td>0</td>\n",
       "      <td>0</td>\n",
       "      <td>0</td>\n",
       "    </tr>\n",
       "    <tr>\n",
       "      <th>363827</th>\n",
       "      <td>0</td>\n",
       "      <td>0</td>\n",
       "      <td>0</td>\n",
       "      <td>0</td>\n",
       "      <td>0</td>\n",
       "      <td>0</td>\n",
       "      <td>0</td>\n",
       "      <td>0</td>\n",
       "      <td>0</td>\n",
       "      <td>0</td>\n",
       "    </tr>\n",
       "    <tr>\n",
       "      <th>689178</th>\n",
       "      <td>0</td>\n",
       "      <td>0</td>\n",
       "      <td>0</td>\n",
       "      <td>0</td>\n",
       "      <td>0</td>\n",
       "      <td>0</td>\n",
       "      <td>0</td>\n",
       "      <td>0</td>\n",
       "      <td>0</td>\n",
       "      <td>0</td>\n",
       "    </tr>\n",
       "  </tbody>\n",
       "</table>\n",
       "</div>"
      ],
      "text/plain": [
       "         pain_sudden  fever  unprotected_sex  lesions  lesion_pain_swollen  \\\n",
       "851521             0      0                0        0                    0   \n",
       "988373             0      0                0        0                    0   \n",
       "1005975            0      0                0        0                    0   \n",
       "872374             0      0                0        0                    0   \n",
       "631970             0      0                0        0                    0   \n",
       "376124             0      0                0        0                    0   \n",
       "714786             0      0                0        0                    0   \n",
       "931361             0      0                0        0                    0   \n",
       "363827             0      0                0        0                    0   \n",
       "689178             0      0                0        0                    0   \n",
       "\n",
       "         lesion_pain_intense  lesion_larger_than_1cm  itching_severity  \\\n",
       "851521                     0                       0                 0   \n",
       "988373                     0                       0                 0   \n",
       "1005975                    0                       0                 0   \n",
       "872374                     0                       0                 0   \n",
       "631970                     0                       0                 0   \n",
       "376124                     0                       0                 0   \n",
       "714786                     0                       0                 0   \n",
       "931361                     0                       0                 0   \n",
       "363827                     0                       0                 0   \n",
       "689178                     0                       0                 0   \n",
       "\n",
       "         nausea  weight_loss  \n",
       "851521        0            0  \n",
       "988373        0            0  \n",
       "1005975       0            0  \n",
       "872374        0            0  \n",
       "631970        0            0  \n",
       "376124        0            0  \n",
       "714786        0            0  \n",
       "931361        0            0  \n",
       "363827        0            0  \n",
       "689178        0            0  "
      ]
     },
     "execution_count": 148,
     "metadata": {},
     "output_type": "execute_result"
    }
   ],
   "source": [
    "cols_list = train_df.columns\n",
    "print(len(cols_list))\n",
    "\n",
    "# checking all cols are numeric now\n",
    "train_df[cols_list[10:20]].sample(10)"
   ]
  },
  {
   "cell_type": "code",
   "execution_count": null,
   "metadata": {},
   "outputs": [],
   "source": []
  },
  {
   "cell_type": "code",
   "execution_count": 149,
   "metadata": {},
   "outputs": [
    {
     "data": {
      "text/html": [
       "<div>\n",
       "<style scoped>\n",
       "    .dataframe tbody tr th:only-of-type {\n",
       "        vertical-align: middle;\n",
       "    }\n",
       "\n",
       "    .dataframe tbody tr th {\n",
       "        vertical-align: top;\n",
       "    }\n",
       "\n",
       "    .dataframe thead th {\n",
       "        text-align: right;\n",
       "    }\n",
       "</style>\n",
       "<table border=\"1\" class=\"dataframe\">\n",
       "  <thead>\n",
       "    <tr style=\"text-align: right;\">\n",
       "      <th></th>\n",
       "      <th>AGE</th>\n",
       "      <th>PATHOLOGY</th>\n",
       "      <th>swollen_nodes</th>\n",
       "      <th>std</th>\n",
       "      <th>sweating</th>\n",
       "      <th>diarrhea</th>\n",
       "      <th>pain</th>\n",
       "      <th>pain_somewhere</th>\n",
       "      <th>pain_intensity</th>\n",
       "      <th>pain_precise</th>\n",
       "      <th>...</th>\n",
       "      <th>swelling_location_forehead</th>\n",
       "      <th>swelling_location_nose</th>\n",
       "      <th>swelling_location_nowhere</th>\n",
       "      <th>swelling_location_sole(L)</th>\n",
       "      <th>swelling_location_sole(R)</th>\n",
       "      <th>swelling_location_thigh(L)</th>\n",
       "      <th>swelling_location_thigh(R)</th>\n",
       "      <th>swelling_location_toe (1)(L)</th>\n",
       "      <th>swelling_location_toe (1)(R)</th>\n",
       "      <th>SEX_M</th>\n",
       "    </tr>\n",
       "  </thead>\n",
       "  <tbody>\n",
       "    <tr>\n",
       "      <th>247906</th>\n",
       "      <td>43</td>\n",
       "      <td>Allergic sinusitis</td>\n",
       "      <td>0</td>\n",
       "      <td>0</td>\n",
       "      <td>0</td>\n",
       "      <td>0</td>\n",
       "      <td>0</td>\n",
       "      <td>0</td>\n",
       "      <td>0</td>\n",
       "      <td>0</td>\n",
       "      <td>...</td>\n",
       "      <td>False</td>\n",
       "      <td>False</td>\n",
       "      <td>True</td>\n",
       "      <td>False</td>\n",
       "      <td>False</td>\n",
       "      <td>False</td>\n",
       "      <td>False</td>\n",
       "      <td>False</td>\n",
       "      <td>False</td>\n",
       "      <td>False</td>\n",
       "    </tr>\n",
       "    <tr>\n",
       "      <th>1021907</th>\n",
       "      <td>62</td>\n",
       "      <td>HIV (initial infection)</td>\n",
       "      <td>0</td>\n",
       "      <td>0</td>\n",
       "      <td>0</td>\n",
       "      <td>0</td>\n",
       "      <td>0</td>\n",
       "      <td>0</td>\n",
       "      <td>0</td>\n",
       "      <td>0</td>\n",
       "      <td>...</td>\n",
       "      <td>False</td>\n",
       "      <td>False</td>\n",
       "      <td>True</td>\n",
       "      <td>False</td>\n",
       "      <td>False</td>\n",
       "      <td>False</td>\n",
       "      <td>False</td>\n",
       "      <td>False</td>\n",
       "      <td>False</td>\n",
       "      <td>True</td>\n",
       "    </tr>\n",
       "    <tr>\n",
       "      <th>329219</th>\n",
       "      <td>65</td>\n",
       "      <td>SLE</td>\n",
       "      <td>0</td>\n",
       "      <td>0</td>\n",
       "      <td>0</td>\n",
       "      <td>0</td>\n",
       "      <td>0</td>\n",
       "      <td>0</td>\n",
       "      <td>0</td>\n",
       "      <td>0</td>\n",
       "      <td>...</td>\n",
       "      <td>False</td>\n",
       "      <td>False</td>\n",
       "      <td>True</td>\n",
       "      <td>False</td>\n",
       "      <td>False</td>\n",
       "      <td>False</td>\n",
       "      <td>False</td>\n",
       "      <td>False</td>\n",
       "      <td>False</td>\n",
       "      <td>False</td>\n",
       "    </tr>\n",
       "    <tr>\n",
       "      <th>993153</th>\n",
       "      <td>46</td>\n",
       "      <td>Localized edema</td>\n",
       "      <td>0</td>\n",
       "      <td>0</td>\n",
       "      <td>0</td>\n",
       "      <td>0</td>\n",
       "      <td>0</td>\n",
       "      <td>0</td>\n",
       "      <td>0</td>\n",
       "      <td>0</td>\n",
       "      <td>...</td>\n",
       "      <td>False</td>\n",
       "      <td>False</td>\n",
       "      <td>True</td>\n",
       "      <td>False</td>\n",
       "      <td>False</td>\n",
       "      <td>False</td>\n",
       "      <td>False</td>\n",
       "      <td>False</td>\n",
       "      <td>False</td>\n",
       "      <td>False</td>\n",
       "    </tr>\n",
       "    <tr>\n",
       "      <th>392386</th>\n",
       "      <td>21</td>\n",
       "      <td>Tuberculosis</td>\n",
       "      <td>0</td>\n",
       "      <td>0</td>\n",
       "      <td>0</td>\n",
       "      <td>0</td>\n",
       "      <td>0</td>\n",
       "      <td>0</td>\n",
       "      <td>0</td>\n",
       "      <td>0</td>\n",
       "      <td>...</td>\n",
       "      <td>False</td>\n",
       "      <td>False</td>\n",
       "      <td>True</td>\n",
       "      <td>False</td>\n",
       "      <td>False</td>\n",
       "      <td>False</td>\n",
       "      <td>False</td>\n",
       "      <td>False</td>\n",
       "      <td>False</td>\n",
       "      <td>True</td>\n",
       "    </tr>\n",
       "  </tbody>\n",
       "</table>\n",
       "<p>5 rows × 180 columns</p>\n",
       "</div>"
      ],
      "text/plain": [
       "         AGE                PATHOLOGY  swollen_nodes  std  sweating  diarrhea  \\\n",
       "247906    43       Allergic sinusitis              0    0         0         0   \n",
       "1021907   62  HIV (initial infection)              0    0         0         0   \n",
       "329219    65                      SLE              0    0         0         0   \n",
       "993153    46          Localized edema              0    0         0         0   \n",
       "392386    21             Tuberculosis              0    0         0         0   \n",
       "\n",
       "         pain  pain_somewhere  pain_intensity  pain_precise  ...  \\\n",
       "247906      0               0               0             0  ...   \n",
       "1021907     0               0               0             0  ...   \n",
       "329219      0               0               0             0  ...   \n",
       "993153      0               0               0             0  ...   \n",
       "392386      0               0               0             0  ...   \n",
       "\n",
       "         swelling_location_forehead  swelling_location_nose  \\\n",
       "247906                        False                   False   \n",
       "1021907                       False                   False   \n",
       "329219                        False                   False   \n",
       "993153                        False                   False   \n",
       "392386                        False                   False   \n",
       "\n",
       "         swelling_location_nowhere  swelling_location_sole(L)  \\\n",
       "247906                        True                      False   \n",
       "1021907                       True                      False   \n",
       "329219                        True                      False   \n",
       "993153                        True                      False   \n",
       "392386                        True                      False   \n",
       "\n",
       "         swelling_location_sole(R)  swelling_location_thigh(L)  \\\n",
       "247906                       False                       False   \n",
       "1021907                      False                       False   \n",
       "329219                       False                       False   \n",
       "993153                       False                       False   \n",
       "392386                       False                       False   \n",
       "\n",
       "         swelling_location_thigh(R)  swelling_location_toe (1)(L)  \\\n",
       "247906                        False                         False   \n",
       "1021907                       False                         False   \n",
       "329219                        False                         False   \n",
       "993153                        False                         False   \n",
       "392386                        False                         False   \n",
       "\n",
       "         swelling_location_toe (1)(R)  SEX_M  \n",
       "247906                          False  False  \n",
       "1021907                         False   True  \n",
       "329219                          False  False  \n",
       "993153                          False  False  \n",
       "392386                          False   True  \n",
       "\n",
       "[5 rows x 180 columns]"
      ]
     },
     "execution_count": 149,
     "metadata": {},
     "output_type": "execute_result"
    }
   ],
   "source": [
    "# FINAL train_df dataset\n",
    "train_df.sample(5)"
   ]
  },
  {
   "cell_type": "code",
   "execution_count": null,
   "metadata": {},
   "outputs": [],
   "source": []
  },
  {
   "cell_type": "markdown",
   "metadata": {},
   "source": [
    "## Train-Test Split"
   ]
  },
  {
   "cell_type": "code",
   "execution_count": 150,
   "metadata": {},
   "outputs": [],
   "source": [
    "# inddependent variables\n",
    "X = train_df.drop(columns=['PATHOLOGY'])\n",
    "\n",
    "# dependent variable\n",
    "y = train_df['PATHOLOGY']"
   ]
  },
  {
   "cell_type": "code",
   "execution_count": 151,
   "metadata": {},
   "outputs": [],
   "source": [
    "# train test split\n",
    "# for now I am creating a train test split on the train_df itself\n",
    "# I will use the test and validate datasets later\n",
    "\n",
    "from sklearn.model_selection import train_test_split\n",
    "\n",
    "X_train, X_test, y_train, y_test = train_test_split(X, y, test_size=0.2, random_state=42, stratify=y)"
   ]
  },
  {
   "cell_type": "code",
   "execution_count": 152,
   "metadata": {},
   "outputs": [
    {
     "data": {
      "image/png": "[encoded data removed]",
      "text/plain": [
       "<Figure size 1200x400 with 1 Axes>"
      ]
     },
     "metadata": {},
     "output_type": "display_data"
    }
   ],
   "source": [
    "plt.figure(figsize=(12, 4))\n",
    "sns.countplot(data=pd.DataFrame(y_train), x='PATHOLOGY')\n",
    "plt.tight_layout()"
   ]
  },
  {
   "cell_type": "code",
   "execution_count": 153,
   "metadata": {},
   "outputs": [
    {
     "data": {
      "image/png": "[encoded data removed]",
      "text/plain": [
       "<Figure size 1200x400 with 1 Axes>"
      ]
     },
     "metadata": {},
     "output_type": "display_data"
    }
   ],
   "source": [
    "plt.figure(figsize=(12, 4))\n",
    "sns.countplot(data=pd.DataFrame(y_test), x='PATHOLOGY')\n",
    "plt.tight_layout()"
   ]
  },
  {
   "cell_type": "code",
   "execution_count": 154,
   "metadata": {},
   "outputs": [],
   "source": [
    "# scaling the data\n",
    "from sklearn.preprocessing import StandardScaler"
   ]
  },
  {
   "cell_type": "code",
   "execution_count": 155,
   "metadata": {},
   "outputs": [],
   "source": [
    "scaler = StandardScaler()"
   ]
  },
  {
   "cell_type": "code",
   "execution_count": 156,
   "metadata": {},
   "outputs": [
    {
     "data": {
      "text/html": [
       "<style>#sk-container-id-5 {color: black;}#sk-container-id-5 pre{padding: 0;}#sk-container-id-5 div.sk-toggleable {background-color: white;}#sk-container-id-5 label.sk-toggleable__label {cursor: pointer;display: block;width: 100%;margin-bottom: 0;padding: 0.3em;box-sizing: border-box;text-align: center;}#sk-container-id-5 label.sk-toggleable__label-arrow:before {content: \"▸\";float: left;margin-right: 0.25em;color: #696969;}#sk-container-id-5 label.sk-toggleable__label-arrow:hover:before {color: black;}#sk-container-id-5 div.sk-estimator:hover label.sk-toggleable__label-arrow:before {color: black;}#sk-container-id-5 div.sk-toggleable__content {max-height: 0;max-width: 0;overflow: hidden;text-align: left;background-color: #f0f8ff;}#sk-container-id-5 div.sk-toggleable__content pre {margin: 0.2em;color: black;border-radius: 0.25em;background-color: #f0f8ff;}#sk-container-id-5 input.sk-toggleable__control:checked~div.sk-toggleable__content {max-height: 200px;max-width: 100%;overflow: auto;}#sk-container-id-5 input.sk-toggleable__control:checked~label.sk-toggleable__label-arrow:before {content: \"▾\";}#sk-container-id-5 div.sk-estimator input.sk-toggleable__control:checked~label.sk-toggleable__label {background-color: #d4ebff;}#sk-container-id-5 div.sk-label input.sk-toggleable__control:checked~label.sk-toggleable__label {background-color: #d4ebff;}#sk-container-id-5 input.sk-hidden--visually {border: 0;clip: rect(1px 1px 1px 1px);clip: rect(1px, 1px, 1px, 1px);height: 1px;margin: -1px;overflow: hidden;padding: 0;position: absolute;width: 1px;}#sk-container-id-5 div.sk-estimator {font-family: monospace;background-color: #f0f8ff;border: 1px dotted black;border-radius: 0.25em;box-sizing: border-box;margin-bottom: 0.5em;}#sk-container-id-5 div.sk-estimator:hover {background-color: #d4ebff;}#sk-container-id-5 div.sk-parallel-item::after {content: \"\";width: 100%;border-bottom: 1px solid gray;flex-grow: 1;}#sk-container-id-5 div.sk-label:hover label.sk-toggleable__label {background-color: #d4ebff;}#sk-container-id-5 div.sk-serial::before {content: \"\";position: absolute;border-left: 1px solid gray;box-sizing: border-box;top: 0;bottom: 0;left: 50%;z-index: 0;}#sk-container-id-5 div.sk-serial {display: flex;flex-direction: column;align-items: center;background-color: white;padding-right: 0.2em;padding-left: 0.2em;position: relative;}#sk-container-id-5 div.sk-item {position: relative;z-index: 1;}#sk-container-id-5 div.sk-parallel {display: flex;align-items: stretch;justify-content: center;background-color: white;position: relative;}#sk-container-id-5 div.sk-item::before, #sk-container-id-5 div.sk-parallel-item::before {content: \"\";position: absolute;border-left: 1px solid gray;box-sizing: border-box;top: 0;bottom: 0;left: 50%;z-index: -1;}#sk-container-id-5 div.sk-parallel-item {display: flex;flex-direction: column;z-index: 1;position: relative;background-color: white;}#sk-container-id-5 div.sk-parallel-item:first-child::after {align-self: flex-end;width: 50%;}#sk-container-id-5 div.sk-parallel-item:last-child::after {align-self: flex-start;width: 50%;}#sk-container-id-5 div.sk-parallel-item:only-child::after {width: 0;}#sk-container-id-5 div.sk-dashed-wrapped {border: 1px dashed gray;margin: 0 0.4em 0.5em 0.4em;box-sizing: border-box;padding-bottom: 0.4em;background-color: white;}#sk-container-id-5 div.sk-label label {font-family: monospace;font-weight: bold;display: inline-block;line-height: 1.2em;}#sk-container-id-5 div.sk-label-container {text-align: center;}#sk-container-id-5 div.sk-container {/* jupyter's `normalize.less` sets `[hidden] { display: none; }` but bootstrap.min.css set `[hidden] { display: none !important; }` so we also need the `!important` here to be able to override the default hidden behavior on the sphinx rendered scikit-learn.org. See: https://github.com/scikit-learn/scikit-learn/issues/21755 */display: inline-block !important;position: relative;}#sk-container-id-5 div.sk-text-repr-fallback {display: none;}</style><div id=\"sk-container-id-5\" class=\"sk-top-container\"><div class=\"sk-text-repr-fallback\"><pre>StandardScaler()</pre><b>In a Jupyter environment, please rerun this cell to show the HTML representation or trust the notebook. <br />On GitHub, the HTML representation is unable to render, please try loading this page with nbviewer.org.</b></div><div class=\"sk-container\" hidden><div class=\"sk-item\"><div class=\"sk-estimator sk-toggleable\"><input class=\"sk-toggleable__control sk-hidden--visually\" id=\"sk-estimator-id-5\" type=\"checkbox\" checked><label for=\"sk-estimator-id-5\" class=\"sk-toggleable__label sk-toggleable__label-arrow\">StandardScaler</label><div class=\"sk-toggleable__content\"><pre>StandardScaler()</pre></div></div></div></div></div>"
      ],
      "text/plain": [
       "StandardScaler()"
      ]
     },
     "execution_count": 156,
     "metadata": {},
     "output_type": "execute_result"
    }
   ],
   "source": [
    "# fit the scaler on the training data\n",
    "scaler.fit(X_train)"
   ]
  },
  {
   "cell_type": "code",
   "execution_count": 157,
   "metadata": {},
   "outputs": [],
   "source": [
    "# transform the training and test data\n",
    "X_train_scaled = scaler.transform(X_train)\n",
    "X_test_scaled = scaler.transform(X_test)"
   ]
  },
  {
   "cell_type": "code",
   "execution_count": null,
   "metadata": {},
   "outputs": [],
   "source": []
  },
  {
   "cell_type": "markdown",
   "metadata": {},
   "source": [
    "# Models"
   ]
  },
  {
   "cell_type": "code",
   "execution_count": 158,
   "metadata": {},
   "outputs": [],
   "source": [
    "# metrics\n",
    "# accuracy, precision, recall, f1, classification report, confusion matrix\n",
    "from sklearn.metrics import accuracy_score, precision_score, recall_score, f1_score, classification_report, confusion_matrix"
   ]
  },
  {
   "cell_type": "markdown",
   "metadata": {},
   "source": [
    "### Logistic Regression"
   ]
  },
  {
   "cell_type": "code",
   "execution_count": 159,
   "metadata": {},
   "outputs": [],
   "source": [
    "from sklearn.linear_model import LogisticRegression"
   ]
  },
  {
   "cell_type": "code",
   "execution_count": 160,
   "metadata": {},
   "outputs": [
    {
     "data": {
      "text/html": [
       "<style>#sk-container-id-6 {color: black;}#sk-container-id-6 pre{padding: 0;}#sk-container-id-6 div.sk-toggleable {background-color: white;}#sk-container-id-6 label.sk-toggleable__label {cursor: pointer;display: block;width: 100%;margin-bottom: 0;padding: 0.3em;box-sizing: border-box;text-align: center;}#sk-container-id-6 label.sk-toggleable__label-arrow:before {content: \"▸\";float: left;margin-right: 0.25em;color: #696969;}#sk-container-id-6 label.sk-toggleable__label-arrow:hover:before {color: black;}#sk-container-id-6 div.sk-estimator:hover label.sk-toggleable__label-arrow:before {color: black;}#sk-container-id-6 div.sk-toggleable__content {max-height: 0;max-width: 0;overflow: hidden;text-align: left;background-color: #f0f8ff;}#sk-container-id-6 div.sk-toggleable__content pre {margin: 0.2em;color: black;border-radius: 0.25em;background-color: #f0f8ff;}#sk-container-id-6 input.sk-toggleable__control:checked~div.sk-toggleable__content {max-height: 200px;max-width: 100%;overflow: auto;}#sk-container-id-6 input.sk-toggleable__control:checked~label.sk-toggleable__label-arrow:before {content: \"▾\";}#sk-container-id-6 div.sk-estimator input.sk-toggleable__control:checked~label.sk-toggleable__label {background-color: #d4ebff;}#sk-container-id-6 div.sk-label input.sk-toggleable__control:checked~label.sk-toggleable__label {background-color: #d4ebff;}#sk-container-id-6 input.sk-hidden--visually {border: 0;clip: rect(1px 1px 1px 1px);clip: rect(1px, 1px, 1px, 1px);height: 1px;margin: -1px;overflow: hidden;padding: 0;position: absolute;width: 1px;}#sk-container-id-6 div.sk-estimator {font-family: monospace;background-color: #f0f8ff;border: 1px dotted black;border-radius: 0.25em;box-sizing: border-box;margin-bottom: 0.5em;}#sk-container-id-6 div.sk-estimator:hover {background-color: #d4ebff;}#sk-container-id-6 div.sk-parallel-item::after {content: \"\";width: 100%;border-bottom: 1px solid gray;flex-grow: 1;}#sk-container-id-6 div.sk-label:hover label.sk-toggleable__label {background-color: #d4ebff;}#sk-container-id-6 div.sk-serial::before {content: \"\";position: absolute;border-left: 1px solid gray;box-sizing: border-box;top: 0;bottom: 0;left: 50%;z-index: 0;}#sk-container-id-6 div.sk-serial {display: flex;flex-direction: column;align-items: center;background-color: white;padding-right: 0.2em;padding-left: 0.2em;position: relative;}#sk-container-id-6 div.sk-item {position: relative;z-index: 1;}#sk-container-id-6 div.sk-parallel {display: flex;align-items: stretch;justify-content: center;background-color: white;position: relative;}#sk-container-id-6 div.sk-item::before, #sk-container-id-6 div.sk-parallel-item::before {content: \"\";position: absolute;border-left: 1px solid gray;box-sizing: border-box;top: 0;bottom: 0;left: 50%;z-index: -1;}#sk-container-id-6 div.sk-parallel-item {display: flex;flex-direction: column;z-index: 1;position: relative;background-color: white;}#sk-container-id-6 div.sk-parallel-item:first-child::after {align-self: flex-end;width: 50%;}#sk-container-id-6 div.sk-parallel-item:last-child::after {align-self: flex-start;width: 50%;}#sk-container-id-6 div.sk-parallel-item:only-child::after {width: 0;}#sk-container-id-6 div.sk-dashed-wrapped {border: 1px dashed gray;margin: 0 0.4em 0.5em 0.4em;box-sizing: border-box;padding-bottom: 0.4em;background-color: white;}#sk-container-id-6 div.sk-label label {font-family: monospace;font-weight: bold;display: inline-block;line-height: 1.2em;}#sk-container-id-6 div.sk-label-container {text-align: center;}#sk-container-id-6 div.sk-container {/* jupyter's `normalize.less` sets `[hidden] { display: none; }` but bootstrap.min.css set `[hidden] { display: none !important; }` so we also need the `!important` here to be able to override the default hidden behavior on the sphinx rendered scikit-learn.org. See: https://github.com/scikit-learn/scikit-learn/issues/21755 */display: inline-block !important;position: relative;}#sk-container-id-6 div.sk-text-repr-fallback {display: none;}</style><div id=\"sk-container-id-6\" class=\"sk-top-container\"><div class=\"sk-text-repr-fallback\"><pre>LogisticRegression(max_iter=1000)</pre><b>In a Jupyter environment, please rerun this cell to show the HTML representation or trust the notebook. <br />On GitHub, the HTML representation is unable to render, please try loading this page with nbviewer.org.</b></div><div class=\"sk-container\" hidden><div class=\"sk-item\"><div class=\"sk-estimator sk-toggleable\"><input class=\"sk-toggleable__control sk-hidden--visually\" id=\"sk-estimator-id-6\" type=\"checkbox\" checked><label for=\"sk-estimator-id-6\" class=\"sk-toggleable__label sk-toggleable__label-arrow\">LogisticRegression</label><div class=\"sk-toggleable__content\"><pre>LogisticRegression(max_iter=1000)</pre></div></div></div></div></div>"
      ],
      "text/plain": [
       "LogisticRegression(max_iter=1000)"
      ]
     },
     "execution_count": 160,
     "metadata": {},
     "output_type": "execute_result"
    }
   ],
   "source": [
    "# fit the model\n",
    "lr = LogisticRegression(max_iter=1000)\n",
    "lr.fit(X_train_scaled, y_train)"
   ]
  },
  {
   "cell_type": "code",
   "execution_count": 161,
   "metadata": {},
   "outputs": [],
   "source": [
    "# test prediction\n",
    "y_pred = lr.predict(X_test_scaled)"
   ]
  },
  {
   "cell_type": "code",
   "execution_count": 162,
   "metadata": {},
   "outputs": [
    {
     "name": "stdout",
     "output_type": "stream",
     "text": [
      "                         precision    recall  f1-score   support\n",
      "\n",
      "     Allergic sinusitis       0.83      0.89      0.86      5241\n",
      "            Anaphylaxis       0.84      0.43      0.57      5544\n",
      "                 Chagas       0.97      0.24      0.38      1850\n",
      "                  Ebola       1.00      0.23      0.37       144\n",
      "HIV (initial infection)       0.39      0.55      0.45      5803\n",
      "              Influenza       0.66      0.33      0.44      5362\n",
      "        Localized edema       0.52      0.99      0.69      5565\n",
      "                    SLE       0.88      0.30      0.45      2373\n",
      "            Sarcoidosis       0.58      0.70      0.63      4257\n",
      "           Tuberculosis       0.55      0.52      0.53      3249\n",
      "         Whooping cough       1.00      1.00      1.00      1214\n",
      "\n",
      "               accuracy                           0.60     40602\n",
      "              macro avg       0.75      0.56      0.58     40602\n",
      "           weighted avg       0.67      0.60      0.59     40602\n",
      "\n",
      "[[4640    0    0    0    0    0    0    0    0  601    0]\n",
      " [   0 2374    4    0 1299    4 1391   29  424   19    0]\n",
      " [   0   41  442    0  593    6  366    4  378   20    0]\n",
      " [   3    2    1   33   64    5    0   10   16   10    0]\n",
      " [   0  209    3    0 3163  851  762   22  513  280    0]\n",
      " [ 612   83    0    0 1811 1753  666   20    1  416    0]\n",
      " [   0    5    0    0    1    2 5534    1   22    0    0]\n",
      " [   0   96    1    0  513   11  626  718  386   22    0]\n",
      " [   0    4    0    0   10    0 1205    4 3000   34    0]\n",
      " [ 336    5    3    0  726   19    0    5  473 1682    0]\n",
      " [   0    0    0    0    0    0    0    0    0    0 1214]]\n"
     ]
    }
   ],
   "source": [
    "# classification report and confusion matrix\n",
    "print(classification_report(y_test, y_pred))\n",
    "print(confusion_matrix(y_test, y_pred))"
   ]
  },
  {
   "cell_type": "code",
   "execution_count": 163,
   "metadata": {},
   "outputs": [
    {
     "data": {
      "text/plain": [
       "<Axes: >"
      ]
     },
     "execution_count": 163,
     "metadata": {},
     "output_type": "execute_result"
    },
    {
     "data": {
      "image/png": "[encoded data removed]",
      "text/plain": [
       "<Figure size 640x480 with 2 Axes>"
      ]
     },
     "metadata": {},
     "output_type": "display_data"
    }
   ],
   "source": [
    "# confusion matrix heatmap\n",
    "sns.heatmap(confusion_matrix(y_test, y_pred), annot=True, fmt='d')"
   ]
  },
  {
   "cell_type": "code",
   "execution_count": null,
   "metadata": {},
   "outputs": [],
   "source": []
  },
  {
   "cell_type": "markdown",
   "metadata": {},
   "source": [
    "### Decision Tree Classifier"
   ]
  },
  {
   "cell_type": "code",
   "execution_count": 197,
   "metadata": {},
   "outputs": [
    {
     "data": {
      "text/html": [
       "<style>#sk-container-id-9 {color: black;}#sk-container-id-9 pre{padding: 0;}#sk-container-id-9 div.sk-toggleable {background-color: white;}#sk-container-id-9 label.sk-toggleable__label {cursor: pointer;display: block;width: 100%;margin-bottom: 0;padding: 0.3em;box-sizing: border-box;text-align: center;}#sk-container-id-9 label.sk-toggleable__label-arrow:before {content: \"▸\";float: left;margin-right: 0.25em;color: #696969;}#sk-container-id-9 label.sk-toggleable__label-arrow:hover:before {color: black;}#sk-container-id-9 div.sk-estimator:hover label.sk-toggleable__label-arrow:before {color: black;}#sk-container-id-9 div.sk-toggleable__content {max-height: 0;max-width: 0;overflow: hidden;text-align: left;background-color: #f0f8ff;}#sk-container-id-9 div.sk-toggleable__content pre {margin: 0.2em;color: black;border-radius: 0.25em;background-color: #f0f8ff;}#sk-container-id-9 input.sk-toggleable__control:checked~div.sk-toggleable__content {max-height: 200px;max-width: 100%;overflow: auto;}#sk-container-id-9 input.sk-toggleable__control:checked~label.sk-toggleable__label-arrow:before {content: \"▾\";}#sk-container-id-9 div.sk-estimator input.sk-toggleable__control:checked~label.sk-toggleable__label {background-color: #d4ebff;}#sk-container-id-9 div.sk-label input.sk-toggleable__control:checked~label.sk-toggleable__label {background-color: #d4ebff;}#sk-container-id-9 input.sk-hidden--visually {border: 0;clip: rect(1px 1px 1px 1px);clip: rect(1px, 1px, 1px, 1px);height: 1px;margin: -1px;overflow: hidden;padding: 0;position: absolute;width: 1px;}#sk-container-id-9 div.sk-estimator {font-family: monospace;background-color: #f0f8ff;border: 1px dotted black;border-radius: 0.25em;box-sizing: border-box;margin-bottom: 0.5em;}#sk-container-id-9 div.sk-estimator:hover {background-color: #d4ebff;}#sk-container-id-9 div.sk-parallel-item::after {content: \"\";width: 100%;border-bottom: 1px solid gray;flex-grow: 1;}#sk-container-id-9 div.sk-label:hover label.sk-toggleable__label {background-color: #d4ebff;}#sk-container-id-9 div.sk-serial::before {content: \"\";position: absolute;border-left: 1px solid gray;box-sizing: border-box;top: 0;bottom: 0;left: 50%;z-index: 0;}#sk-container-id-9 div.sk-serial {display: flex;flex-direction: column;align-items: center;background-color: white;padding-right: 0.2em;padding-left: 0.2em;position: relative;}#sk-container-id-9 div.sk-item {position: relative;z-index: 1;}#sk-container-id-9 div.sk-parallel {display: flex;align-items: stretch;justify-content: center;background-color: white;position: relative;}#sk-container-id-9 div.sk-item::before, #sk-container-id-9 div.sk-parallel-item::before {content: \"\";position: absolute;border-left: 1px solid gray;box-sizing: border-box;top: 0;bottom: 0;left: 50%;z-index: -1;}#sk-container-id-9 div.sk-parallel-item {display: flex;flex-direction: column;z-index: 1;position: relative;background-color: white;}#sk-container-id-9 div.sk-parallel-item:first-child::after {align-self: flex-end;width: 50%;}#sk-container-id-9 div.sk-parallel-item:last-child::after {align-self: flex-start;width: 50%;}#sk-container-id-9 div.sk-parallel-item:only-child::after {width: 0;}#sk-container-id-9 div.sk-dashed-wrapped {border: 1px dashed gray;margin: 0 0.4em 0.5em 0.4em;box-sizing: border-box;padding-bottom: 0.4em;background-color: white;}#sk-container-id-9 div.sk-label label {font-family: monospace;font-weight: bold;display: inline-block;line-height: 1.2em;}#sk-container-id-9 div.sk-label-container {text-align: center;}#sk-container-id-9 div.sk-container {/* jupyter's `normalize.less` sets `[hidden] { display: none; }` but bootstrap.min.css set `[hidden] { display: none !important; }` so we also need the `!important` here to be able to override the default hidden behavior on the sphinx rendered scikit-learn.org. See: https://github.com/scikit-learn/scikit-learn/issues/21755 */display: inline-block !important;position: relative;}#sk-container-id-9 div.sk-text-repr-fallback {display: none;}</style><div id=\"sk-container-id-9\" class=\"sk-top-container\"><div class=\"sk-text-repr-fallback\"><pre>DecisionTreeClassifier(random_state=42)</pre><b>In a Jupyter environment, please rerun this cell to show the HTML representation or trust the notebook. <br />On GitHub, the HTML representation is unable to render, please try loading this page with nbviewer.org.</b></div><div class=\"sk-container\" hidden><div class=\"sk-item\"><div class=\"sk-estimator sk-toggleable\"><input class=\"sk-toggleable__control sk-hidden--visually\" id=\"sk-estimator-id-9\" type=\"checkbox\" checked><label for=\"sk-estimator-id-9\" class=\"sk-toggleable__label sk-toggleable__label-arrow\">DecisionTreeClassifier</label><div class=\"sk-toggleable__content\"><pre>DecisionTreeClassifier(random_state=42)</pre></div></div></div></div></div>"
      ],
      "text/plain": [
       "DecisionTreeClassifier(random_state=42)"
      ]
     },
     "execution_count": 197,
     "metadata": {},
     "output_type": "execute_result"
    }
   ],
   "source": [
    "from sklearn.tree import DecisionTreeClassifier\n",
    "\n",
    "dt = DecisionTreeClassifier(random_state=42)\n",
    "dt.fit(X_train_scaled, y_train)"
   ]
  },
  {
   "cell_type": "code",
   "execution_count": 198,
   "metadata": {},
   "outputs": [],
   "source": [
    "# test prediction\n",
    "y_pred = dt.predict(X_test_scaled)"
   ]
  },
  {
   "cell_type": "code",
   "execution_count": 199,
   "metadata": {},
   "outputs": [
    {
     "name": "stdout",
     "output_type": "stream",
     "text": [
      "                         precision    recall  f1-score   support\n",
      "\n",
      "     Allergic sinusitis       0.81      0.87      0.84      5241\n",
      "            Anaphylaxis       0.63      0.53      0.58      5544\n",
      "                 Chagas       0.60      0.26      0.37      1850\n",
      "                  Ebola       0.60      0.23      0.33       144\n",
      "HIV (initial infection)       0.40      0.40      0.40      5803\n",
      "              Influenza       0.52      0.37      0.43      5362\n",
      "        Localized edema       0.54      0.92      0.68      5565\n",
      "                    SLE       0.56      0.37      0.44      2373\n",
      "            Sarcoidosis       0.62      0.62      0.62      4257\n",
      "           Tuberculosis       0.50      0.52      0.51      3249\n",
      "         Whooping cough       1.00      1.00      1.00      1214\n",
      "\n",
      "               accuracy                           0.59     40602\n",
      "              macro avg       0.62      0.55      0.56     40602\n",
      "           weighted avg       0.59      0.59      0.57     40602\n",
      "\n",
      "[[4553    0    0    5    0  178    0    0    0  505    0]\n",
      " [   0 2939   73    2  662   95 1251  167  279   76    0]\n",
      " [   0  231  490    2  351   60  322   39  266   89    0]\n",
      " [   4   14    4   33   39   16    0   10   12   12    0]\n",
      " [   0  698  105    4 2302 1108  667  144  411  364    0]\n",
      " [ 651  220   24    4 1372 1981  590  103   21  396    0]\n",
      " [   0  174   30    0   62   50 5122   45   82    0    0]\n",
      " [   0  276   18    2  247  102  532  871  259   66    0]\n",
      " [   0   82   53    0  170   24 1051  114 2621  142    0]\n",
      " [ 393   40   25    3  525  222    0   60  304 1677    0]\n",
      " [   0    0    0    0    0    0    0    0    0    0 1214]]\n"
     ]
    }
   ],
   "source": [
    "# classification report, confusion matrix\n",
    "print(classification_report(y_test, y_pred))\n",
    "print(confusion_matrix(y_test, y_pred))"
   ]
  },
  {
   "cell_type": "code",
   "execution_count": 200,
   "metadata": {},
   "outputs": [
    {
     "data": {
      "text/plain": [
       "<Axes: >"
      ]
     },
     "execution_count": 200,
     "metadata": {},
     "output_type": "execute_result"
    },
    {
     "data": {
      "image/png": "[encoded data removed]",
      "text/plain": [
       "<Figure size 640x480 with 2 Axes>"
      ]
     },
     "metadata": {},
     "output_type": "display_data"
    }
   ],
   "source": [
    "sns.heatmap(confusion_matrix(y_test, y_pred), annot=True, fmt='d')"
   ]
  },
  {
   "cell_type": "markdown",
   "metadata": {},
   "source": [
    "### Random Forest"
   ]
  },
  {
   "cell_type": "code",
   "execution_count": 201,
   "metadata": {},
   "outputs": [],
   "source": [
    "from sklearn.ensemble import RandomForestClassifier"
   ]
  },
  {
   "cell_type": "code",
   "execution_count": 202,
   "metadata": {},
   "outputs": [
    {
     "data": {
      "text/html": [
       "<style>#sk-container-id-10 {color: black;}#sk-container-id-10 pre{padding: 0;}#sk-container-id-10 div.sk-toggleable {background-color: white;}#sk-container-id-10 label.sk-toggleable__label {cursor: pointer;display: block;width: 100%;margin-bottom: 0;padding: 0.3em;box-sizing: border-box;text-align: center;}#sk-container-id-10 label.sk-toggleable__label-arrow:before {content: \"▸\";float: left;margin-right: 0.25em;color: #696969;}#sk-container-id-10 label.sk-toggleable__label-arrow:hover:before {color: black;}#sk-container-id-10 div.sk-estimator:hover label.sk-toggleable__label-arrow:before {color: black;}#sk-container-id-10 div.sk-toggleable__content {max-height: 0;max-width: 0;overflow: hidden;text-align: left;background-color: #f0f8ff;}#sk-container-id-10 div.sk-toggleable__content pre {margin: 0.2em;color: black;border-radius: 0.25em;background-color: #f0f8ff;}#sk-container-id-10 input.sk-toggleable__control:checked~div.sk-toggleable__content {max-height: 200px;max-width: 100%;overflow: auto;}#sk-container-id-10 input.sk-toggleable__control:checked~label.sk-toggleable__label-arrow:before {content: \"▾\";}#sk-container-id-10 div.sk-estimator input.sk-toggleable__control:checked~label.sk-toggleable__label {background-color: #d4ebff;}#sk-container-id-10 div.sk-label input.sk-toggleable__control:checked~label.sk-toggleable__label {background-color: #d4ebff;}#sk-container-id-10 input.sk-hidden--visually {border: 0;clip: rect(1px 1px 1px 1px);clip: rect(1px, 1px, 1px, 1px);height: 1px;margin: -1px;overflow: hidden;padding: 0;position: absolute;width: 1px;}#sk-container-id-10 div.sk-estimator {font-family: monospace;background-color: #f0f8ff;border: 1px dotted black;border-radius: 0.25em;box-sizing: border-box;margin-bottom: 0.5em;}#sk-container-id-10 div.sk-estimator:hover {background-color: #d4ebff;}#sk-container-id-10 div.sk-parallel-item::after {content: \"\";width: 100%;border-bottom: 1px solid gray;flex-grow: 1;}#sk-container-id-10 div.sk-label:hover label.sk-toggleable__label {background-color: #d4ebff;}#sk-container-id-10 div.sk-serial::before {content: \"\";position: absolute;border-left: 1px solid gray;box-sizing: border-box;top: 0;bottom: 0;left: 50%;z-index: 0;}#sk-container-id-10 div.sk-serial {display: flex;flex-direction: column;align-items: center;background-color: white;padding-right: 0.2em;padding-left: 0.2em;position: relative;}#sk-container-id-10 div.sk-item {position: relative;z-index: 1;}#sk-container-id-10 div.sk-parallel {display: flex;align-items: stretch;justify-content: center;background-color: white;position: relative;}#sk-container-id-10 div.sk-item::before, #sk-container-id-10 div.sk-parallel-item::before {content: \"\";position: absolute;border-left: 1px solid gray;box-sizing: border-box;top: 0;bottom: 0;left: 50%;z-index: -1;}#sk-container-id-10 div.sk-parallel-item {display: flex;flex-direction: column;z-index: 1;position: relative;background-color: white;}#sk-container-id-10 div.sk-parallel-item:first-child::after {align-self: flex-end;width: 50%;}#sk-container-id-10 div.sk-parallel-item:last-child::after {align-self: flex-start;width: 50%;}#sk-container-id-10 div.sk-parallel-item:only-child::after {width: 0;}#sk-container-id-10 div.sk-dashed-wrapped {border: 1px dashed gray;margin: 0 0.4em 0.5em 0.4em;box-sizing: border-box;padding-bottom: 0.4em;background-color: white;}#sk-container-id-10 div.sk-label label {font-family: monospace;font-weight: bold;display: inline-block;line-height: 1.2em;}#sk-container-id-10 div.sk-label-container {text-align: center;}#sk-container-id-10 div.sk-container {/* jupyter's `normalize.less` sets `[hidden] { display: none; }` but bootstrap.min.css set `[hidden] { display: none !important; }` so we also need the `!important` here to be able to override the default hidden behavior on the sphinx rendered scikit-learn.org. See: https://github.com/scikit-learn/scikit-learn/issues/21755 */display: inline-block !important;position: relative;}#sk-container-id-10 div.sk-text-repr-fallback {display: none;}</style><div id=\"sk-container-id-10\" class=\"sk-top-container\"><div class=\"sk-text-repr-fallback\"><pre>RandomForestClassifier(random_state=42)</pre><b>In a Jupyter environment, please rerun this cell to show the HTML representation or trust the notebook. <br />On GitHub, the HTML representation is unable to render, please try loading this page with nbviewer.org.</b></div><div class=\"sk-container\" hidden><div class=\"sk-item\"><div class=\"sk-estimator sk-toggleable\"><input class=\"sk-toggleable__control sk-hidden--visually\" id=\"sk-estimator-id-10\" type=\"checkbox\" checked><label for=\"sk-estimator-id-10\" class=\"sk-toggleable__label sk-toggleable__label-arrow\">RandomForestClassifier</label><div class=\"sk-toggleable__content\"><pre>RandomForestClassifier(random_state=42)</pre></div></div></div></div></div>"
      ],
      "text/plain": [
       "RandomForestClassifier(random_state=42)"
      ]
     },
     "execution_count": 202,
     "metadata": {},
     "output_type": "execute_result"
    }
   ],
   "source": [
    "# fitting the model\n",
    "rf = RandomForestClassifier(random_state=42)\n",
    "rf.fit(X_train_scaled, y_train)"
   ]
  },
  {
   "cell_type": "code",
   "execution_count": 206,
   "metadata": {},
   "outputs": [],
   "source": [
    "# prediction\n",
    "y_pred = rf.predict(X_test_scaled)"
   ]
  },
  {
   "cell_type": "code",
   "execution_count": 207,
   "metadata": {},
   "outputs": [
    {
     "name": "stdout",
     "output_type": "stream",
     "text": [
      "                         precision    recall  f1-score   support\n",
      "\n",
      "     Allergic sinusitis       0.81      0.89      0.85      5241\n",
      "            Anaphylaxis       0.66      0.51      0.58      5544\n",
      "                 Chagas       0.81      0.25      0.38      1850\n",
      "                  Ebola       0.97      0.23      0.37       144\n",
      "HIV (initial infection)       0.41      0.40      0.40      5803\n",
      "              Influenza       0.55      0.37      0.45      5362\n",
      "        Localized edema       0.53      0.97      0.69      5565\n",
      "                    SLE       0.61      0.35      0.45      2373\n",
      "            Sarcoidosis       0.61      0.62      0.61      4257\n",
      "           Tuberculosis       0.49      0.53      0.51      3249\n",
      "         Whooping cough       1.00      1.00      1.00      1214\n",
      "\n",
      "               accuracy                           0.59     40602\n",
      "              macro avg       0.68      0.56      0.57     40602\n",
      "           weighted avg       0.61      0.59      0.58     40602\n",
      "\n",
      "[[4683    0    0    0    0   44    0    0    0  514    0]\n",
      " [   0 2812   42    0  702   88 1357  137  304  102    0]\n",
      " [   0  205  464    0  355   56  355   25  283  107    0]\n",
      " [   5   11    0   33   41   17    0   12   11   14    0]\n",
      " [   0  654   41    0 2301 1121  731  125  432  398    0]\n",
      " [ 675  204    2    0 1302 2008  633   92   21  425    0]\n",
      " [   0   37    7    0   16   17 5420    9   59    0    0]\n",
      " [   0  223    3    1  254  101  607  830  275   79    0]\n",
      " [   0   65    9    0  141    9 1151   78 2650  154    0]\n",
      " [ 415   25    4    0  504  183    0   49  332 1737    0]\n",
      " [   0    0    0    0    0    0    0    0    0    0 1214]]\n"
     ]
    }
   ],
   "source": [
    "# classification report and confusion matrix\n",
    "print(classification_report(y_test, y_pred))\n",
    "print(confusion_matrix(y_test, y_pred))"
   ]
  },
  {
   "cell_type": "code",
   "execution_count": 208,
   "metadata": {},
   "outputs": [
    {
     "data": {
      "text/plain": [
       "<Axes: >"
      ]
     },
     "execution_count": 208,
     "metadata": {},
     "output_type": "execute_result"
    },
    {
     "data": {
      "image/png": "[encoded data removed]",
      "text/plain": [
       "<Figure size 640x480 with 2 Axes>"
      ]
     },
     "metadata": {},
     "output_type": "display_data"
    }
   ],
   "source": [
    "# confusion matrix heatmap\n",
    "sns.heatmap(confusion_matrix(y_test, y_pred), annot=True, fmt='d')"
   ]
  },
  {
   "cell_type": "code",
   "execution_count": null,
   "metadata": {},
   "outputs": [],
   "source": []
  },
  {
   "cell_type": "markdown",
   "metadata": {},
   "source": [
    "### XGBoost"
   ]
  },
  {
   "cell_type": "code",
   "execution_count": 241,
   "metadata": {},
   "outputs": [],
   "source": [
    "# XGBoost classifier\n",
    "from xgboost import XGBClassifier"
   ]
  },
  {
   "cell_type": "code",
   "execution_count": 242,
   "metadata": {},
   "outputs": [],
   "source": [
    "# defining the f2 metric (since there isn't one built-in, it's a common special case of fbeta metric)\n",
    "# Note: this is the negative since xgboost minimizes its objective function\n",
    "\n",
    "# import fbeta_score\n",
    "from sklearn.metrics import fbeta_score\n",
    "\n",
    "def f2_eval(y_pred, dmatrix):\n",
    "    y_true = dmatrix.get_label()\n",
    "    y_pred_binary = (y_pred > 0.5).astype(int)\n",
    "\n",
    "    f2 = fbeta_score(y_true, y_pred_binary, beta=2)\n",
    "    \n",
    "    return 'f2_score', -f2"
   ]
  },
  {
   "cell_type": "code",
   "execution_count": 243,
   "metadata": {},
   "outputs": [
    {
     "data": {
      "text/plain": [
       "array([0.68830684, 0.68830684, 0.66326064, ..., 0.63611296, 0.63611296,\n",
       "       0.70433078])"
      ]
     },
     "execution_count": 243,
     "metadata": {},
     "output_type": "execute_result"
    }
   ],
   "source": [
    "# computing weights for the classes\n",
    "# helps since the classes are imbalanced in our dataset\n",
    "from sklearn.utils.class_weight import compute_sample_weight\n",
    "\n",
    "sample_weights = compute_sample_weight(class_weight='balanced', y=y_train)\n",
    "sample_weights"
   ]
  },
  {
   "cell_type": "code",
   "execution_count": 244,
   "metadata": {},
   "outputs": [],
   "source": [
    "# xgboost requires the labels to be integers\n",
    "# converting the y labels to integers from 0 to 10\n",
    "# doing it for train and test data\n",
    "y_train_int = y_train.astype('category').cat.codes\n",
    "y_test_int = y_test.astype('category').cat.codes"
   ]
  },
  {
   "cell_type": "code",
   "execution_count": 245,
   "metadata": {},
   "outputs": [],
   "source": [
    "#y_train.value_counts(), y_train_int.value_counts()\n",
    "#y_test.value_counts(), y_test_int.value_counts()"
   ]
  },
  {
   "cell_type": "code",
   "execution_count": 246,
   "metadata": {},
   "outputs": [],
   "source": [
    "# making the xgboost model and training it to make sure everything's set up properly\n",
    "# objective = multi:softmax for multiclass classification\n",
    "# missing = -999 because we don't have any missing data\n",
    "# seed = 42 is random, just using 42 for all random seeds\n",
    "# sample weight is the class weights we computed above\n",
    "# learning_rate=0.3 to start out high and make hyperparameter tuning faster\n",
    "# we'll tune the other hyperparameters below\n",
    "\n",
    "xgb_clf = XGBClassifier(objective='multi:softmax', \n",
    "                                missing=-999, \n",
    "                                seed=42, \n",
    "                                learning_rate=0.1,\n",
    "                                early_stopping_rounds = 20)"
   ]
  },
  {
   "cell_type": "code",
   "execution_count": 247,
   "metadata": {},
   "outputs": [
    {
     "name": "stdout",
     "output_type": "stream",
     "text": [
      "[0]\tvalidation_0-mlogloss:2.16192\n",
      "[1]\tvalidation_0-mlogloss:2.01017\n",
      "[2]\tvalidation_0-mlogloss:1.89588\n",
      "[3]\tvalidation_0-mlogloss:1.80406\n",
      "[4]\tvalidation_0-mlogloss:1.72738\n",
      "[5]\tvalidation_0-mlogloss:1.66193\n",
      "[6]\tvalidation_0-mlogloss:1.60611\n",
      "[7]\tvalidation_0-mlogloss:1.55699\n",
      "[8]\tvalidation_0-mlogloss:1.51336\n",
      "[9]\tvalidation_0-mlogloss:1.47427\n",
      "[10]\tvalidation_0-mlogloss:1.43901\n",
      "[11]\tvalidation_0-mlogloss:1.40738\n",
      "[12]\tvalidation_0-mlogloss:1.37832\n",
      "[13]\tvalidation_0-mlogloss:1.35152\n",
      "[14]\tvalidation_0-mlogloss:1.32717\n",
      "[15]\tvalidation_0-mlogloss:1.30486\n",
      "[16]\tvalidation_0-mlogloss:1.28444\n",
      "[17]\tvalidation_0-mlogloss:1.26547\n",
      "[18]\tvalidation_0-mlogloss:1.24781\n",
      "[19]\tvalidation_0-mlogloss:1.23128\n",
      "[20]\tvalidation_0-mlogloss:1.21571\n",
      "[21]\tvalidation_0-mlogloss:1.20128\n",
      "[22]\tvalidation_0-mlogloss:1.18778\n",
      "[23]\tvalidation_0-mlogloss:1.17527\n",
      "[24]\tvalidation_0-mlogloss:1.16341\n",
      "[25]\tvalidation_0-mlogloss:1.15226\n",
      "[26]\tvalidation_0-mlogloss:1.14168\n",
      "[27]\tvalidation_0-mlogloss:1.13161\n",
      "[28]\tvalidation_0-mlogloss:1.12228\n",
      "[29]\tvalidation_0-mlogloss:1.11363\n",
      "[30]\tvalidation_0-mlogloss:1.10531\n",
      "[31]\tvalidation_0-mlogloss:1.09775\n",
      "[32]\tvalidation_0-mlogloss:1.09034\n",
      "[33]\tvalidation_0-mlogloss:1.08361\n",
      "[34]\tvalidation_0-mlogloss:1.07680\n",
      "[35]\tvalidation_0-mlogloss:1.07062\n",
      "[36]\tvalidation_0-mlogloss:1.06479\n",
      "[37]\tvalidation_0-mlogloss:1.05928\n",
      "[38]\tvalidation_0-mlogloss:1.05408\n",
      "[39]\tvalidation_0-mlogloss:1.04908\n",
      "[40]\tvalidation_0-mlogloss:1.04421\n",
      "[41]\tvalidation_0-mlogloss:1.03975\n",
      "[42]\tvalidation_0-mlogloss:1.03532\n",
      "[43]\tvalidation_0-mlogloss:1.03125\n",
      "[44]\tvalidation_0-mlogloss:1.02725\n",
      "[45]\tvalidation_0-mlogloss:1.02362\n",
      "[46]\tvalidation_0-mlogloss:1.02018\n",
      "[47]\tvalidation_0-mlogloss:1.01669\n",
      "[48]\tvalidation_0-mlogloss:1.01360\n",
      "[49]\tvalidation_0-mlogloss:1.01063\n",
      "[50]\tvalidation_0-mlogloss:1.00776\n",
      "[51]\tvalidation_0-mlogloss:1.00483\n",
      "[52]\tvalidation_0-mlogloss:1.00231\n",
      "[53]\tvalidation_0-mlogloss:0.99974\n",
      "[54]\tvalidation_0-mlogloss:0.99749\n",
      "[55]\tvalidation_0-mlogloss:0.99504\n",
      "[56]\tvalidation_0-mlogloss:0.99312\n",
      "[57]\tvalidation_0-mlogloss:0.99103\n",
      "[58]\tvalidation_0-mlogloss:0.98907\n",
      "[59]\tvalidation_0-mlogloss:0.98734\n",
      "[60]\tvalidation_0-mlogloss:0.98543\n",
      "[61]\tvalidation_0-mlogloss:0.98355\n",
      "[62]\tvalidation_0-mlogloss:0.98181\n",
      "[63]\tvalidation_0-mlogloss:0.98012\n",
      "[64]\tvalidation_0-mlogloss:0.97849\n",
      "[65]\tvalidation_0-mlogloss:0.97703\n",
      "[66]\tvalidation_0-mlogloss:0.97550\n",
      "[67]\tvalidation_0-mlogloss:0.97411\n",
      "[68]\tvalidation_0-mlogloss:0.97261\n",
      "[69]\tvalidation_0-mlogloss:0.97130\n",
      "[70]\tvalidation_0-mlogloss:0.97009\n",
      "[71]\tvalidation_0-mlogloss:0.96884\n",
      "[72]\tvalidation_0-mlogloss:0.96750\n",
      "[73]\tvalidation_0-mlogloss:0.96646\n",
      "[74]\tvalidation_0-mlogloss:0.96536\n",
      "[75]\tvalidation_0-mlogloss:0.96427\n",
      "[76]\tvalidation_0-mlogloss:0.96328\n",
      "[77]\tvalidation_0-mlogloss:0.96225\n",
      "[78]\tvalidation_0-mlogloss:0.96134\n",
      "[79]\tvalidation_0-mlogloss:0.96039\n",
      "[80]\tvalidation_0-mlogloss:0.95953\n",
      "[81]\tvalidation_0-mlogloss:0.95872\n",
      "[82]\tvalidation_0-mlogloss:0.95781\n",
      "[83]\tvalidation_0-mlogloss:0.95708\n",
      "[84]\tvalidation_0-mlogloss:0.95636\n",
      "[85]\tvalidation_0-mlogloss:0.95553\n",
      "[86]\tvalidation_0-mlogloss:0.95478\n",
      "[87]\tvalidation_0-mlogloss:0.95411\n",
      "[88]\tvalidation_0-mlogloss:0.95345\n",
      "[89]\tvalidation_0-mlogloss:0.95281\n",
      "[90]\tvalidation_0-mlogloss:0.95213\n",
      "[91]\tvalidation_0-mlogloss:0.95150\n",
      "[92]\tvalidation_0-mlogloss:0.95095\n",
      "[93]\tvalidation_0-mlogloss:0.95034\n",
      "[94]\tvalidation_0-mlogloss:0.94981\n",
      "[95]\tvalidation_0-mlogloss:0.94934\n",
      "[96]\tvalidation_0-mlogloss:0.94879\n",
      "[97]\tvalidation_0-mlogloss:0.94826\n",
      "[98]\tvalidation_0-mlogloss:0.94776\n",
      "[99]\tvalidation_0-mlogloss:0.94731\n"
     ]
    }
   ],
   "source": [
    "# fitting the model\n",
    "xgb_clf = xgb_clf.fit(X_train_scaled,\n",
    "                      y_train_int, \n",
    "                      verbose=True, \n",
    "                      sample_weight=sample_weights,\n",
    "                      eval_set = [(X_test_scaled, y_test_int)])"
   ]
  },
  {
   "cell_type": "code",
   "execution_count": 248,
   "metadata": {},
   "outputs": [],
   "source": [
    "# predicting on the test data\n",
    "y_pred = xgb_clf.predict(X_test_scaled)"
   ]
  },
  {
   "cell_type": "code",
   "execution_count": 249,
   "metadata": {},
   "outputs": [
    {
     "name": "stdout",
     "output_type": "stream",
     "text": [
      "              precision    recall  f1-score   support\n",
      "\n",
      "           0       0.89      0.83      0.86      5241\n",
      "           1       1.00      0.40      0.57      5544\n",
      "           2       0.36      0.45      0.40      1850\n",
      "           3       0.06      0.42      0.10       144\n",
      "           4       0.53      0.02      0.04      5803\n",
      "           5       0.63      0.41      0.50      5362\n",
      "           6       0.53      1.00      0.69      5565\n",
      "           7       0.31      0.71      0.43      2373\n",
      "           8       0.75      0.56      0.64      4257\n",
      "           9       0.45      0.82      0.58      3249\n",
      "          10       1.00      1.00      1.00      1214\n",
      "\n",
      "    accuracy                           0.57     40602\n",
      "   macro avg       0.59      0.60      0.53     40602\n",
      "weighted avg       0.66      0.57      0.54     40602\n",
      "\n",
      "[[4356    0    0    0    0    0    0    0    0  885    0]\n",
      " [   0 2223  686   87    0    0 1392 1110   25   21    0]\n",
      " [   0    0  838   29    0    0  370  181  207  225    0]\n",
      " [   1    0   22   60    0   11    0   27    1   22    0]\n",
      " [   0    3  758  485  113 1283  762  773  522 1104    0]\n",
      " [ 474    1    0  347   88 2209  665  556    2 1020    0]\n",
      " [   0    0    0    0    0    0 5549    6   10    0    0]\n",
      " [   0    0    0   26    2    0  625 1680   29   11    0]\n",
      " [   0    0    3    0    0    0 1205  624 2405   20    0]\n",
      " [  91    0    0    0   10    0    0  477   14 2657    0]\n",
      " [   0    0    0    0    0    0    0    0    0    0 1214]]\n"
     ]
    }
   ],
   "source": [
    "# classification report and confusion matrix\n",
    "print(classification_report(y_test_int, y_pred))\n",
    "print(confusion_matrix(y_test_int, y_pred))"
   ]
  },
  {
   "cell_type": "code",
   "execution_count": 250,
   "metadata": {},
   "outputs": [
    {
     "data": {
      "text/plain": [
       "<Axes: >"
      ]
     },
     "execution_count": 250,
     "metadata": {},
     "output_type": "execute_result"
    },
    {
     "data": {
      "image/png": "[encoded data removed]",
      "text/plain": [
       "<Figure size 640x480 with 2 Axes>"
      ]
     },
     "metadata": {},
     "output_type": "display_data"
    }
   ],
   "source": [
    "# confusion matrix heatmap\n",
    "sns.heatmap(confusion_matrix(y_test_int, y_pred), annot=True, fmt='d')"
   ]
  },
  {
   "cell_type": "code",
   "execution_count": 219,
   "metadata": {},
   "outputs": [],
   "source": [
    "# feature importance\n",
    "# get the feature importance from the xgboost model\n",
    "feature_importance = xgb_clf.feature_importances_"
   ]
  },
  {
   "cell_type": "code",
   "execution_count": 220,
   "metadata": {},
   "outputs": [],
   "source": [
    "# get the feature names from the original dataset\n",
    "feature_names = X_train.columns"
   ]
  },
  {
   "cell_type": "code",
   "execution_count": 221,
   "metadata": {},
   "outputs": [],
   "source": [
    "# create a dataframe of the feature importance and feature names\n",
    "feature_df = pd.DataFrame({'feature': feature_names, 'importance': feature_importance})\n",
    "feature_df.sort_values('importance', ascending=False, inplace=True)"
   ]
  },
  {
   "cell_type": "code",
   "execution_count": 222,
   "metadata": {},
   "outputs": [
    {
     "data": {
      "text/html": [
       "<div>\n",
       "<style scoped>\n",
       "    .dataframe tbody tr th:only-of-type {\n",
       "        vertical-align: middle;\n",
       "    }\n",
       "\n",
       "    .dataframe tbody tr th {\n",
       "        vertical-align: top;\n",
       "    }\n",
       "\n",
       "    .dataframe thead th {\n",
       "        text-align: right;\n",
       "    }\n",
       "</style>\n",
       "<table border=\"1\" class=\"dataframe\">\n",
       "  <thead>\n",
       "    <tr style=\"text-align: right;\">\n",
       "      <th></th>\n",
       "      <th>feature</th>\n",
       "      <th>importance</th>\n",
       "    </tr>\n",
       "  </thead>\n",
       "  <tbody>\n",
       "    <tr>\n",
       "      <th>119</th>\n",
       "      <td>INITIAL_EVIDENCE_vomiting_cough</td>\n",
       "      <td>0.091552</td>\n",
       "    </tr>\n",
       "    <tr>\n",
       "      <th>122</th>\n",
       "      <td>INITIAL_EVIDENCE_wheezing_inhale</td>\n",
       "      <td>0.066208</td>\n",
       "    </tr>\n",
       "    <tr>\n",
       "      <th>93</th>\n",
       "      <td>INITIAL_EVIDENCE_coughing_fits</td>\n",
       "      <td>0.063722</td>\n",
       "    </tr>\n",
       "    <tr>\n",
       "      <th>96</th>\n",
       "      <td>INITIAL_EVIDENCE_eye_itching</td>\n",
       "      <td>0.061314</td>\n",
       "    </tr>\n",
       "    <tr>\n",
       "      <th>101</th>\n",
       "      <td>INITIAL_EVIDENCE_itchy_nose</td>\n",
       "      <td>0.059277</td>\n",
       "    </tr>\n",
       "    <tr>\n",
       "      <th>100</th>\n",
       "      <td>INITIAL_EVIDENCE_gained_weight</td>\n",
       "      <td>0.057179</td>\n",
       "    </tr>\n",
       "    <tr>\n",
       "      <th>92</th>\n",
       "      <td>INITIAL_EVIDENCE_cough_blood</td>\n",
       "      <td>0.049363</td>\n",
       "    </tr>\n",
       "    <tr>\n",
       "      <th>117</th>\n",
       "      <td>INITIAL_EVIDENCE_ulcers</td>\n",
       "      <td>0.035626</td>\n",
       "    </tr>\n",
       "    <tr>\n",
       "      <th>90</th>\n",
       "      <td>INITIAL_EVIDENCE_convulsion</td>\n",
       "      <td>0.033623</td>\n",
       "    </tr>\n",
       "    <tr>\n",
       "      <th>109</th>\n",
       "      <td>INITIAL_EVIDENCE_red_eye</td>\n",
       "      <td>0.032423</td>\n",
       "    </tr>\n",
       "    <tr>\n",
       "      <th>118</th>\n",
       "      <td>INITIAL_EVIDENCE_vag_discharge</td>\n",
       "      <td>0.032254</td>\n",
       "    </tr>\n",
       "    <tr>\n",
       "      <th>107</th>\n",
       "      <td>INITIAL_EVIDENCE_new_fatigue</td>\n",
       "      <td>0.030326</td>\n",
       "    </tr>\n",
       "    <tr>\n",
       "      <th>85</th>\n",
       "      <td>INITIAL_EVIDENCE_anorexia</td>\n",
       "      <td>0.028678</td>\n",
       "    </tr>\n",
       "    <tr>\n",
       "      <th>86</th>\n",
       "      <td>INITIAL_EVIDENCE_bruising</td>\n",
       "      <td>0.028337</td>\n",
       "    </tr>\n",
       "    <tr>\n",
       "      <th>89</th>\n",
       "      <td>INITIAL_EVIDENCE_contact_allergy</td>\n",
       "      <td>0.023695</td>\n",
       "    </tr>\n",
       "    <tr>\n",
       "      <th>95</th>\n",
       "      <td>INITIAL_EVIDENCE_dizziness</td>\n",
       "      <td>0.020404</td>\n",
       "    </tr>\n",
       "    <tr>\n",
       "      <th>104</th>\n",
       "      <td>INITIAL_EVIDENCE_lost_consciousness</td>\n",
       "      <td>0.019886</td>\n",
       "    </tr>\n",
       "    <tr>\n",
       "      <th>88</th>\n",
       "      <td>INITIAL_EVIDENCE_confusion</td>\n",
       "      <td>0.019412</td>\n",
       "    </tr>\n",
       "    <tr>\n",
       "      <th>113</th>\n",
       "      <td>INITIAL_EVIDENCE_stridor</td>\n",
       "      <td>0.019299</td>\n",
       "    </tr>\n",
       "    <tr>\n",
       "      <th>87</th>\n",
       "      <td>INITIAL_EVIDENCE_chills</td>\n",
       "      <td>0.018935</td>\n",
       "    </tr>\n",
       "    <tr>\n",
       "      <th>108</th>\n",
       "      <td>INITIAL_EVIDENCE_pain</td>\n",
       "      <td>0.018564</td>\n",
       "    </tr>\n",
       "    <tr>\n",
       "      <th>121</th>\n",
       "      <td>INITIAL_EVIDENCE_wheezing_exhale</td>\n",
       "      <td>0.018307</td>\n",
       "    </tr>\n",
       "    <tr>\n",
       "      <th>115</th>\n",
       "      <td>INITIAL_EVIDENCE_swelling</td>\n",
       "      <td>0.017253</td>\n",
       "    </tr>\n",
       "    <tr>\n",
       "      <th>103</th>\n",
       "      <td>INITIAL_EVIDENCE_lost_appetite</td>\n",
       "      <td>0.016745</td>\n",
       "    </tr>\n",
       "    <tr>\n",
       "      <th>111</th>\n",
       "      <td>INITIAL_EVIDENCE_short_breath</td>\n",
       "      <td>0.015213</td>\n",
       "    </tr>\n",
       "    <tr>\n",
       "      <th>110</th>\n",
       "      <td>INITIAL_EVIDENCE_runny_nose</td>\n",
       "      <td>0.013873</td>\n",
       "    </tr>\n",
       "    <tr>\n",
       "      <th>91</th>\n",
       "      <td>INITIAL_EVIDENCE_cough</td>\n",
       "      <td>0.013596</td>\n",
       "    </tr>\n",
       "    <tr>\n",
       "      <th>116</th>\n",
       "      <td>INITIAL_EVIDENCE_swollen_nodes</td>\n",
       "      <td>0.008376</td>\n",
       "    </tr>\n",
       "    <tr>\n",
       "      <th>102</th>\n",
       "      <td>INITIAL_EVIDENCE_lesions</td>\n",
       "      <td>0.008292</td>\n",
       "    </tr>\n",
       "    <tr>\n",
       "      <th>120</th>\n",
       "      <td>INITIAL_EVIDENCE_weight_loss</td>\n",
       "      <td>0.008080</td>\n",
       "    </tr>\n",
       "    <tr>\n",
       "      <th>99</th>\n",
       "      <td>INITIAL_EVIDENCE_fever</td>\n",
       "      <td>0.007917</td>\n",
       "    </tr>\n",
       "    <tr>\n",
       "      <th>97</th>\n",
       "      <td>INITIAL_EVIDENCE_fatigue</td>\n",
       "      <td>0.006227</td>\n",
       "    </tr>\n",
       "    <tr>\n",
       "      <th>98</th>\n",
       "      <td>INITIAL_EVIDENCE_fatigue_ext</td>\n",
       "      <td>0.004976</td>\n",
       "    </tr>\n",
       "    <tr>\n",
       "      <th>114</th>\n",
       "      <td>INITIAL_EVIDENCE_sweating</td>\n",
       "      <td>0.004582</td>\n",
       "    </tr>\n",
       "    <tr>\n",
       "      <th>106</th>\n",
       "      <td>INITIAL_EVIDENCE_nausea</td>\n",
       "      <td>0.004397</td>\n",
       "    </tr>\n",
       "    <tr>\n",
       "      <th>94</th>\n",
       "      <td>INITIAL_EVIDENCE_diarrhea</td>\n",
       "      <td>0.004043</td>\n",
       "    </tr>\n",
       "    <tr>\n",
       "      <th>112</th>\n",
       "      <td>INITIAL_EVIDENCE_sore_throat</td>\n",
       "      <td>0.003905</td>\n",
       "    </tr>\n",
       "    <tr>\n",
       "      <th>105</th>\n",
       "      <td>INITIAL_EVIDENCE_muscle_pain</td>\n",
       "      <td>0.003419</td>\n",
       "    </tr>\n",
       "    <tr>\n",
       "      <th>5</th>\n",
       "      <td>pain</td>\n",
       "      <td>0.000972</td>\n",
       "    </tr>\n",
       "    <tr>\n",
       "      <th>135</th>\n",
       "      <td>lesion_color_red</td>\n",
       "      <td>0.000648</td>\n",
       "    </tr>\n",
       "    <tr>\n",
       "      <th>55</th>\n",
       "      <td>e66</td>\n",
       "      <td>0.000626</td>\n",
       "    </tr>\n",
       "    <tr>\n",
       "      <th>27</th>\n",
       "      <td>urban1</td>\n",
       "      <td>0.000615</td>\n",
       "    </tr>\n",
       "    <tr>\n",
       "      <th>18</th>\n",
       "      <td>weight_loss</td>\n",
       "      <td>0.000576</td>\n",
       "    </tr>\n",
       "    <tr>\n",
       "      <th>37</th>\n",
       "      <td>IV_drugs</td>\n",
       "      <td>0.000496</td>\n",
       "    </tr>\n",
       "    <tr>\n",
       "      <th>167</th>\n",
       "      <td>swelling_location_dorsal aspect of the foot(L)</td>\n",
       "      <td>0.000475</td>\n",
       "    </tr>\n",
       "    <tr>\n",
       "      <th>156</th>\n",
       "      <td>lesion_location_side of the neck(L)</td>\n",
       "      <td>0.000449</td>\n",
       "    </tr>\n",
       "    <tr>\n",
       "      <th>126</th>\n",
       "      <td>pain_char_burning</td>\n",
       "      <td>0.000436</td>\n",
       "    </tr>\n",
       "    <tr>\n",
       "      <th>31</th>\n",
       "      <td>swelling</td>\n",
       "      <td>0.000432</td>\n",
       "    </tr>\n",
       "    <tr>\n",
       "      <th>42</th>\n",
       "      <td>v85.0</td>\n",
       "      <td>0.000423</td>\n",
       "    </tr>\n",
       "    <tr>\n",
       "      <th>144</th>\n",
       "      <td>lesion_location_internal cheek(L)</td>\n",
       "      <td>0.000416</td>\n",
       "    </tr>\n",
       "  </tbody>\n",
       "</table>\n",
       "</div>"
      ],
      "text/plain": [
       "                                            feature  importance\n",
       "119                 INITIAL_EVIDENCE_vomiting_cough    0.091552\n",
       "122                INITIAL_EVIDENCE_wheezing_inhale    0.066208\n",
       "93                   INITIAL_EVIDENCE_coughing_fits    0.063722\n",
       "96                     INITIAL_EVIDENCE_eye_itching    0.061314\n",
       "101                     INITIAL_EVIDENCE_itchy_nose    0.059277\n",
       "100                  INITIAL_EVIDENCE_gained_weight    0.057179\n",
       "92                     INITIAL_EVIDENCE_cough_blood    0.049363\n",
       "117                         INITIAL_EVIDENCE_ulcers    0.035626\n",
       "90                      INITIAL_EVIDENCE_convulsion    0.033623\n",
       "109                        INITIAL_EVIDENCE_red_eye    0.032423\n",
       "118                  INITIAL_EVIDENCE_vag_discharge    0.032254\n",
       "107                    INITIAL_EVIDENCE_new_fatigue    0.030326\n",
       "85                        INITIAL_EVIDENCE_anorexia    0.028678\n",
       "86                        INITIAL_EVIDENCE_bruising    0.028337\n",
       "89                 INITIAL_EVIDENCE_contact_allergy    0.023695\n",
       "95                       INITIAL_EVIDENCE_dizziness    0.020404\n",
       "104             INITIAL_EVIDENCE_lost_consciousness    0.019886\n",
       "88                       INITIAL_EVIDENCE_confusion    0.019412\n",
       "113                        INITIAL_EVIDENCE_stridor    0.019299\n",
       "87                          INITIAL_EVIDENCE_chills    0.018935\n",
       "108                           INITIAL_EVIDENCE_pain    0.018564\n",
       "121                INITIAL_EVIDENCE_wheezing_exhale    0.018307\n",
       "115                       INITIAL_EVIDENCE_swelling    0.017253\n",
       "103                  INITIAL_EVIDENCE_lost_appetite    0.016745\n",
       "111                   INITIAL_EVIDENCE_short_breath    0.015213\n",
       "110                     INITIAL_EVIDENCE_runny_nose    0.013873\n",
       "91                           INITIAL_EVIDENCE_cough    0.013596\n",
       "116                  INITIAL_EVIDENCE_swollen_nodes    0.008376\n",
       "102                        INITIAL_EVIDENCE_lesions    0.008292\n",
       "120                    INITIAL_EVIDENCE_weight_loss    0.008080\n",
       "99                           INITIAL_EVIDENCE_fever    0.007917\n",
       "97                         INITIAL_EVIDENCE_fatigue    0.006227\n",
       "98                     INITIAL_EVIDENCE_fatigue_ext    0.004976\n",
       "114                       INITIAL_EVIDENCE_sweating    0.004582\n",
       "106                         INITIAL_EVIDENCE_nausea    0.004397\n",
       "94                        INITIAL_EVIDENCE_diarrhea    0.004043\n",
       "112                    INITIAL_EVIDENCE_sore_throat    0.003905\n",
       "105                    INITIAL_EVIDENCE_muscle_pain    0.003419\n",
       "5                                              pain    0.000972\n",
       "135                                lesion_color_red    0.000648\n",
       "55                                              e66    0.000626\n",
       "27                                           urban1    0.000615\n",
       "18                                      weight_loss    0.000576\n",
       "37                                         IV_drugs    0.000496\n",
       "167  swelling_location_dorsal aspect of the foot(L)    0.000475\n",
       "156             lesion_location_side of the neck(L)    0.000449\n",
       "126                               pain_char_burning    0.000436\n",
       "31                                         swelling    0.000432\n",
       "42                                            v85.0    0.000423\n",
       "144               lesion_location_internal cheek(L)    0.000416"
      ]
     },
     "execution_count": 222,
     "metadata": {},
     "output_type": "execute_result"
    }
   ],
   "source": [
    "feature_df.head(50)"
   ]
  },
  {
   "cell_type": "code",
   "execution_count": null,
   "metadata": {},
   "outputs": [],
   "source": []
  },
  {
   "cell_type": "code",
   "execution_count": 223,
   "metadata": {},
   "outputs": [
    {
     "data": {
      "text/plain": [
       "<Axes: >"
      ]
     },
     "execution_count": 223,
     "metadata": {},
     "output_type": "execute_result"
    },
    {
     "data": {
      "image/png": "[encoded data removed]",
      "text/plain": [
       "<Figure size 1200x600 with 1 Axes>"
      ]
     },
     "metadata": {},
     "output_type": "display_data"
    }
   ],
   "source": [
    "# feature importance plot\n",
    "plt.figure(figsize=(12, 6))\n",
    "sns.barplot(y=feature_importance, x=X.columns)"
   ]
  },
  {
   "cell_type": "markdown",
   "metadata": {},
   "source": [
    "### Neural Network"
   ]
  },
  {
   "cell_type": "code",
   "execution_count": 224,
   "metadata": {},
   "outputs": [],
   "source": [
    "# importing the keras model and layers\n",
    "from tensorflow.keras.models import Sequential"
   ]
  },
  {
   "cell_type": "code",
   "execution_count": 225,
   "metadata": {},
   "outputs": [],
   "source": [
    "# importing different layers\n",
    "from tensorflow.keras.layers import Dense, Dropout"
   ]
  },
  {
   "cell_type": "code",
   "execution_count": 226,
   "metadata": {},
   "outputs": [
    {
     "data": {
      "text/plain": [
       "179"
      ]
     },
     "execution_count": 226,
     "metadata": {},
     "output_type": "execute_result"
    }
   ],
   "source": [
    "len(X_train.columns)"
   ]
  },
  {
   "cell_type": "code",
   "execution_count": 227,
   "metadata": {},
   "outputs": [],
   "source": [
    "# creating the model\n",
    "model = Sequential()\n",
    "\n",
    "# input layer\n",
    "model.add(Dense(179, activation='relu'))\n",
    "model.add(Dropout(0.2))\n",
    "model.add(Dense(60, activation='relu'))\n",
    "model.add(Dropout(0.2))\n",
    "model.add(Dense(20, activation='relu'))\n",
    "\n",
    "# output layer\n",
    "model.add(Dense(11, activation='softmax'))\n",
    "\n",
    "# compiling the model\n",
    "model.compile(optimizer='adam', loss='sparse_categorical_crossentropy', metrics=['accuracy'])"
   ]
  },
  {
   "cell_type": "code",
   "execution_count": 229,
   "metadata": {},
   "outputs": [],
   "source": [
    "# early stopping\n",
    "from tensorflow.keras.callbacks import EarlyStopping\n",
    "\n",
    "early_stop = EarlyStopping(monitor='val_loss', \n",
    "                           mode='min', \n",
    "                           verbose=1, \n",
    "                           patience=4)"
   ]
  },
  {
   "cell_type": "code",
   "execution_count": 230,
   "metadata": {},
   "outputs": [
    {
     "name": "stdout",
     "output_type": "stream",
     "text": [
      "Epoch 1/30\n",
      "5076/5076 [==============================] - 5s 911us/step - loss: 0.9711 - accuracy: 0.5792 - val_loss: 0.8640 - val_accuracy: 0.6012\n",
      "Epoch 2/30\n",
      "5076/5076 [==============================] - 5s 962us/step - loss: 0.8739 - accuracy: 0.5969 - val_loss: 0.8522 - val_accuracy: 0.6032\n",
      "Epoch 3/30\n",
      "5076/5076 [==============================] - 5s 953us/step - loss: 0.8638 - accuracy: 0.5998 - val_loss: 0.8528 - val_accuracy: 0.6061\n",
      "Epoch 4/30\n",
      "5076/5076 [==============================] - 5s 911us/step - loss: 0.8605 - accuracy: 0.6010 - val_loss: 0.8486 - val_accuracy: 0.6031\n",
      "Epoch 5/30\n",
      "5076/5076 [==============================] - 5s 930us/step - loss: 0.8610 - accuracy: 0.6012 - val_loss: 0.8512 - val_accuracy: 0.6035\n",
      "Epoch 6/30\n",
      "5076/5076 [==============================] - 5s 1ms/step - loss: 0.8578 - accuracy: 0.6016 - val_loss: 0.8520 - val_accuracy: 0.6065\n",
      "Epoch 7/30\n",
      "5076/5076 [==============================] - 4s 872us/step - loss: 0.8567 - accuracy: 0.6020 - val_loss: 0.8511 - val_accuracy: 0.6009\n",
      "Epoch 8/30\n",
      "5076/5076 [==============================] - 4s 855us/step - loss: 0.8557 - accuracy: 0.6013 - val_loss: 0.8522 - val_accuracy: 0.6034\n",
      "Epoch 8: early stopping\n"
     ]
    },
    {
     "data": {
      "text/plain": [
       "<keras.callbacks.History at 0x3147ecd10>"
      ]
     },
     "execution_count": 230,
     "metadata": {},
     "output_type": "execute_result"
    }
   ],
   "source": [
    "# fitting the model\n",
    "model.fit(x=X_train_scaled, \n",
    "          y=y_train_int, \n",
    "          epochs=30,\n",
    "          validation_data=(X_test_scaled, y_test_int), verbose=1,\n",
    "          callbacks=[early_stop])"
   ]
  },
  {
   "cell_type": "code",
   "execution_count": 231,
   "metadata": {},
   "outputs": [
    {
     "name": "stdout",
     "output_type": "stream",
     "text": [
      "Model: \"sequential_3\"\n",
      "_________________________________________________________________\n",
      " Layer (type)                Output Shape              Param #   \n",
      "=================================================================\n",
      " dense_12 (Dense)            (None, 179)               32220     \n",
      "                                                                 \n",
      " dropout_6 (Dropout)         (None, 179)               0         \n",
      "                                                                 \n",
      " dense_13 (Dense)            (None, 60)                10800     \n",
      "                                                                 \n",
      " dropout_7 (Dropout)         (None, 60)                0         \n",
      "                                                                 \n",
      " dense_14 (Dense)            (None, 20)                1220      \n",
      "                                                                 \n",
      " dense_15 (Dense)            (None, 11)                231       \n",
      "                                                                 \n",
      "=================================================================\n",
      "Total params: 44,471\n",
      "Trainable params: 44,471\n",
      "Non-trainable params: 0\n",
      "_________________________________________________________________\n"
     ]
    }
   ],
   "source": [
    "model.summary()"
   ]
  },
  {
   "cell_type": "code",
   "execution_count": 232,
   "metadata": {},
   "outputs": [],
   "source": [
    "# model history\n",
    "model_loss = pd.DataFrame(model.history.history)"
   ]
  },
  {
   "cell_type": "code",
   "execution_count": 233,
   "metadata": {},
   "outputs": [
    {
     "data": {
      "text/plain": [
       "<Axes: >"
      ]
     },
     "execution_count": 233,
     "metadata": {},
     "output_type": "execute_result"
    },
    {
     "data": {
      "text/plain": [
       "<Figure size 1200x600 with 0 Axes>"
      ]
     },
     "metadata": {},
     "output_type": "display_data"
    },
    {
     "data": {
      "image/png": "[encoded data removed]",
      "text/plain": [
       "<Figure size 640x480 with 1 Axes>"
      ]
     },
     "metadata": {},
     "output_type": "display_data"
    }
   ],
   "source": [
    "# plot the loss\n",
    "plt.figure(figsize=(12, 6))\n",
    "model_loss[['loss', 'val_loss']].plot()"
   ]
  },
  {
   "cell_type": "code",
   "execution_count": 237,
   "metadata": {},
   "outputs": [
    {
     "name": "stdout",
     "output_type": "stream",
     "text": [
      "1269/1269 [==============================] - 0s 347us/step\n"
     ]
    }
   ],
   "source": [
    "# predict on the test data\n",
    "y_pred_prob = model.predict(X_test_scaled)"
   ]
  },
  {
   "cell_type": "code",
   "execution_count": 238,
   "metadata": {},
   "outputs": [],
   "source": [
    "y_pred = np.argmax(y_pred, axis=1)"
   ]
  },
  {
   "cell_type": "code",
   "execution_count": 239,
   "metadata": {},
   "outputs": [
    {
     "name": "stdout",
     "output_type": "stream",
     "text": [
      "              precision    recall  f1-score   support\n",
      "\n",
      "           0       0.84      0.87      0.86      5241\n",
      "           1       0.98      0.40      0.57      5544\n",
      "           2       0.98      0.24      0.38      1850\n",
      "           3       1.00      0.23      0.37       144\n",
      "           4       0.40      0.76      0.53      5803\n",
      "           5       1.00      0.15      0.27      5362\n",
      "           6       0.52      1.00      0.69      5565\n",
      "           7       0.96      0.29      0.45      2373\n",
      "           8       0.57      0.71      0.63      4257\n",
      "           9       0.55      0.45      0.50      3249\n",
      "          10       1.00      1.00      1.00      1214\n",
      "\n",
      "    accuracy                           0.60     40602\n",
      "   macro avg       0.80      0.56      0.57     40602\n",
      "weighted avg       0.74      0.60      0.57     40602\n",
      "\n",
      "[[4559    0    0    0    0    0    1    0    0  681    0]\n",
      " [   0 2235    3    0 1457    0 1400    6  443    0    0]\n",
      " [   0   15  438    0  619    1  374    0  387   16    0]\n",
      " [   3    1    0   33   70    0    0   10   17   10    0]\n",
      " [   0   21    6    0 4429    1  769    7  521   49    0]\n",
      " [ 579    4    0    0 2838  820  667    6    0  448    0]\n",
      " [   1    1    0    0    1    0 5560    0    2    0    0]\n",
      " [   0    5    0    0  623    0  630  700  414    1    0]\n",
      " [   0    3    0    0    3    0 1213    0 3038    0    0]\n",
      " [ 263    2    0    0  999    2    1    1  507 1474    0]\n",
      " [   0    0    0    0    0    0    0    0    0    0 1214]]\n"
     ]
    }
   ],
   "source": [
    "# classification report and confusion matrix\n",
    "print(classification_report(y_test_int, y_pred))\n",
    "print(confusion_matrix(y_test_int, y_pred))"
   ]
  },
  {
   "cell_type": "code",
   "execution_count": 240,
   "metadata": {},
   "outputs": [
    {
     "data": {
      "text/plain": [
       "<Axes: >"
      ]
     },
     "execution_count": 240,
     "metadata": {},
     "output_type": "execute_result"
    },
    {
     "data": {
      "image/png": "[encoded data removed]",
      "text/plain": [
       "<Figure size 640x480 with 2 Axes>"
      ]
     },
     "metadata": {},
     "output_type": "display_data"
    }
   ],
   "source": [
    "# confusion matrix heatmap\n",
    "sns.heatmap(confusion_matrix(y_test_int, y_pred), annot=True, fmt='d')"
   ]
  },
  {
   "cell_type": "code",
   "execution_count": null,
   "metadata": {},
   "outputs": [],
   "source": []
  }
 ],
 "metadata": {
  "kernelspec": {
   "display_name": "base",
   "language": "python",
   "name": "python3"
  },
  "language_info": {
   "codemirror_mode": {
    "name": "ipython",
    "version": 3
   },
   "file_extension": ".py",
   "mimetype": "text/x-python",
   "name": "python",
   "nbconvert_exporter": "python",
   "pygments_lexer": "ipython3",
   "version": "3.11.5"
  }
 },
 "nbformat": 4,
 "nbformat_minor": 2
}
