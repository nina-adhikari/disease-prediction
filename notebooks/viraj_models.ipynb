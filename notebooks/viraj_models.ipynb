{
 "cells": [
  {
   "cell_type": "code",
   "execution_count": 1,
   "metadata": {},
   "outputs": [],
   "source": [
    "import numpy as np\n",
    "import matplotlib.pyplot as plt\n",
    "import pandas as pd\n",
    "import seaborn as sns"
   ]
  },
  {
   "cell_type": "code",
   "execution_count": 2,
   "metadata": {},
   "outputs": [],
   "source": [
    "DRIVE = 'data/'"
   ]
  },
  {
   "cell_type": "code",
   "execution_count": 3,
   "metadata": {},
   "outputs": [],
   "source": [
    "#!git clone https://github.com/nina-adhikari/disease-prediction"
   ]
  },
  {
   "cell_type": "code",
   "execution_count": 4,
   "metadata": {},
   "outputs": [
    {
     "name": "stdout",
     "output_type": "stream",
     "text": [
      "Collecting git+https://github.com/nina-adhikari/disease_prediction\n",
      "  Cloning https://github.com/nina-adhikari/disease_prediction to /private/var/folders/_2/3t2c95cn5sjcvt63r1qfngh00000gn/T/pip-req-build-392x3fda\n",
      "  Running command git clone --filter=blob:none --quiet https://github.com/nina-adhikari/disease_prediction /private/var/folders/_2/3t2c95cn5sjcvt63r1qfngh00000gn/T/pip-req-build-392x3fda\n",
      "  Resolved https://github.com/nina-adhikari/disease_prediction to commit 7417f17bdfd1ea4710ef331f1259762809f62140\n",
      "  Preparing metadata (setup.py) ... \u001b[?25ldone\n",
      "\u001b[?25h"
     ]
    }
   ],
   "source": [
    "!pip install git+https://github.com/nina-adhikari/disease_prediction"
   ]
  },
  {
   "cell_type": "code",
   "execution_count": 5,
   "metadata": {},
   "outputs": [],
   "source": [
    "from disease_prediction.data import datasets as ds"
   ]
  },
  {
   "cell_type": "code",
   "execution_count": 6,
   "metadata": {},
   "outputs": [],
   "source": [
    "df = ds.load_datasets(subsets=['train', 'test', 'validate'], directory=DRIVE)"
   ]
  },
  {
   "cell_type": "code",
   "execution_count": 7,
   "metadata": {},
   "outputs": [],
   "source": [
    "train_df = df['train']"
   ]
  },
  {
   "cell_type": "code",
   "execution_count": 8,
   "metadata": {},
   "outputs": [
    {
     "data": {
      "text/html": [
       "<div>\n",
       "<style scoped>\n",
       "    .dataframe tbody tr th:only-of-type {\n",
       "        vertical-align: middle;\n",
       "    }\n",
       "\n",
       "    .dataframe tbody tr th {\n",
       "        vertical-align: top;\n",
       "    }\n",
       "\n",
       "    .dataframe thead th {\n",
       "        text-align: right;\n",
       "    }\n",
       "</style>\n",
       "<table border=\"1\" class=\"dataframe\">\n",
       "  <thead>\n",
       "    <tr style=\"text-align: right;\">\n",
       "      <th></th>\n",
       "      <th>AGE</th>\n",
       "      <th>SEX</th>\n",
       "      <th>PATHOLOGY</th>\n",
       "      <th>INITIAL_EVIDENCE</th>\n",
       "      <th>swollen_nodes</th>\n",
       "      <th>std</th>\n",
       "      <th>sweating</th>\n",
       "      <th>diarrhea</th>\n",
       "      <th>pain</th>\n",
       "      <th>pain_char</th>\n",
       "      <th>...</th>\n",
       "      <th>ca_blockers</th>\n",
       "      <th>vag_discharge</th>\n",
       "      <th>wheezing_inhale</th>\n",
       "      <th>fatigue</th>\n",
       "      <th>menarche_12</th>\n",
       "      <th>breastfed_9</th>\n",
       "      <th>confusion</th>\n",
       "      <th>contact</th>\n",
       "      <th>ebolacase</th>\n",
       "      <th>bruising</th>\n",
       "    </tr>\n",
       "  </thead>\n",
       "  <tbody>\n",
       "    <tr>\n",
       "      <th>1</th>\n",
       "      <td>21</td>\n",
       "      <td>M</td>\n",
       "      <td>HIV (initial infection)</td>\n",
       "      <td>sweating</td>\n",
       "      <td>0</td>\n",
       "      <td>0</td>\n",
       "      <td>0</td>\n",
       "      <td>0</td>\n",
       "      <td>0</td>\n",
       "      <td>NA</td>\n",
       "      <td>...</td>\n",
       "      <td>0</td>\n",
       "      <td>0</td>\n",
       "      <td>0</td>\n",
       "      <td>0</td>\n",
       "      <td>0</td>\n",
       "      <td>0</td>\n",
       "      <td>0</td>\n",
       "      <td>0</td>\n",
       "      <td>0</td>\n",
       "      <td>0</td>\n",
       "    </tr>\n",
       "    <tr>\n",
       "      <th>10</th>\n",
       "      <td>8</td>\n",
       "      <td>M</td>\n",
       "      <td>Allergic sinusitis</td>\n",
       "      <td>itchy_nose</td>\n",
       "      <td>0</td>\n",
       "      <td>0</td>\n",
       "      <td>0</td>\n",
       "      <td>0</td>\n",
       "      <td>1</td>\n",
       "      <td>heavy</td>\n",
       "      <td>...</td>\n",
       "      <td>0</td>\n",
       "      <td>0</td>\n",
       "      <td>0</td>\n",
       "      <td>0</td>\n",
       "      <td>0</td>\n",
       "      <td>0</td>\n",
       "      <td>0</td>\n",
       "      <td>0</td>\n",
       "      <td>0</td>\n",
       "      <td>0</td>\n",
       "    </tr>\n",
       "    <tr>\n",
       "      <th>13</th>\n",
       "      <td>49</td>\n",
       "      <td>F</td>\n",
       "      <td>Anaphylaxis</td>\n",
       "      <td>lost_consciousness</td>\n",
       "      <td>0</td>\n",
       "      <td>0</td>\n",
       "      <td>0</td>\n",
       "      <td>0</td>\n",
       "      <td>0</td>\n",
       "      <td>NA</td>\n",
       "      <td>...</td>\n",
       "      <td>0</td>\n",
       "      <td>0</td>\n",
       "      <td>0</td>\n",
       "      <td>0</td>\n",
       "      <td>0</td>\n",
       "      <td>0</td>\n",
       "      <td>0</td>\n",
       "      <td>0</td>\n",
       "      <td>0</td>\n",
       "      <td>0</td>\n",
       "    </tr>\n",
       "    <tr>\n",
       "      <th>18</th>\n",
       "      <td>69</td>\n",
       "      <td>M</td>\n",
       "      <td>Tuberculosis</td>\n",
       "      <td>cough</td>\n",
       "      <td>0</td>\n",
       "      <td>0</td>\n",
       "      <td>0</td>\n",
       "      <td>0</td>\n",
       "      <td>1</td>\n",
       "      <td>heavy</td>\n",
       "      <td>...</td>\n",
       "      <td>0</td>\n",
       "      <td>0</td>\n",
       "      <td>0</td>\n",
       "      <td>0</td>\n",
       "      <td>0</td>\n",
       "      <td>0</td>\n",
       "      <td>0</td>\n",
       "      <td>0</td>\n",
       "      <td>0</td>\n",
       "      <td>0</td>\n",
       "    </tr>\n",
       "    <tr>\n",
       "      <th>19</th>\n",
       "      <td>30</td>\n",
       "      <td>F</td>\n",
       "      <td>Tuberculosis</td>\n",
       "      <td>cough_blood</td>\n",
       "      <td>0</td>\n",
       "      <td>0</td>\n",
       "      <td>0</td>\n",
       "      <td>0</td>\n",
       "      <td>1</td>\n",
       "      <td>sharp</td>\n",
       "      <td>...</td>\n",
       "      <td>0</td>\n",
       "      <td>0</td>\n",
       "      <td>0</td>\n",
       "      <td>0</td>\n",
       "      <td>0</td>\n",
       "      <td>0</td>\n",
       "      <td>0</td>\n",
       "      <td>0</td>\n",
       "      <td>0</td>\n",
       "      <td>0</td>\n",
       "    </tr>\n",
       "  </tbody>\n",
       "</table>\n",
       "<p>5 rows × 94 columns</p>\n",
       "</div>"
      ],
      "text/plain": [
       "    AGE SEX                PATHOLOGY    INITIAL_EVIDENCE  swollen_nodes  std  \\\n",
       "1    21   M  HIV (initial infection)            sweating              0    0   \n",
       "10    8   M       Allergic sinusitis          itchy_nose              0    0   \n",
       "13   49   F              Anaphylaxis  lost_consciousness              0    0   \n",
       "18   69   M             Tuberculosis               cough              0    0   \n",
       "19   30   F             Tuberculosis         cough_blood              0    0   \n",
       "\n",
       "    sweating  diarrhea  pain pain_char  ... ca_blockers  vag_discharge  \\\n",
       "1          0         0     0        NA  ...           0              0   \n",
       "10         0         0     1     heavy  ...           0              0   \n",
       "13         0         0     0        NA  ...           0              0   \n",
       "18         0         0     1     heavy  ...           0              0   \n",
       "19         0         0     1     sharp  ...           0              0   \n",
       "\n",
       "   wheezing_inhale  fatigue  menarche_12  breastfed_9  confusion  contact  \\\n",
       "1                0        0            0            0          0        0   \n",
       "10               0        0            0            0          0        0   \n",
       "13               0        0            0            0          0        0   \n",
       "18               0        0            0            0          0        0   \n",
       "19               0        0            0            0          0        0   \n",
       "\n",
       "   ebolacase bruising  \n",
       "1          0        0  \n",
       "10         0        0  \n",
       "13         0        0  \n",
       "18         0        0  \n",
       "19         0        0  \n",
       "\n",
       "[5 rows x 94 columns]"
      ]
     },
     "execution_count": 8,
     "metadata": {},
     "output_type": "execute_result"
    }
   ],
   "source": [
    "train_df.head()"
   ]
  },
  {
   "cell_type": "code",
   "execution_count": 9,
   "metadata": {},
   "outputs": [
    {
     "data": {
      "image/png": "[encoded data removed]",
      "text/plain": [
       "<Figure size 1200x400 with 1 Axes>"
      ]
     },
     "metadata": {},
     "output_type": "display_data"
    }
   ],
   "source": [
    "plt.figure(figsize=(12, 4))\n",
    "sns.countplot(data=train_df, x='PATHOLOGY') \n",
    "plt.tight_layout()"
   ]
  },
  {
   "cell_type": "code",
   "execution_count": 10,
   "metadata": {},
   "outputs": [],
   "source": [
    "# Ebola counts are very low\n",
    "# maybe drop it... (haven't dropped it yet)"
   ]
  },
  {
   "cell_type": "code",
   "execution_count": 11,
   "metadata": {},
   "outputs": [
    {
     "data": {
      "text/plain": [
       "Index(['AGE', 'SEX', 'PATHOLOGY', 'INITIAL_EVIDENCE', 'swollen_nodes', 'std',\n",
       "       'sweating', 'diarrhea', 'pain', 'pain_char', 'pain_somewhere',\n",
       "       'pain_intensity', 'pain_radiate', 'pain_precise', 'pain_sudden',\n",
       "       'fever', 'unprotected_sex', 'lesions', 'lesion_color',\n",
       "       'lesions_peeling', 'lesion_pain_swollen', 'lesion_location',\n",
       "       'lesion_pain_intense', 'lesion_larger_than_1cm', 'itching_severity',\n",
       "       'nausea', 'weight_loss', 'sex_hiv', 'trav1', 'fam_allergies', 'fam_j45',\n",
       "       'j45', 'itchy_nose', 'eye_itching', 'runny_nose', 'urban1',\n",
       "       'severe_allergy', 'contact_allergy', 'short_breath', 'swelling',\n",
       "       'swelling_location', 'lost_consciousness', 'stridor', 'z84.89', 'HIV',\n",
       "       'cortico', 'IV_drugs', 'e10_e11', 'f10.129', 'cough', 'cough_blood',\n",
       "       'v85.0', 'I30', 'f17.210', 'high_bp', 'ulcers', 'anorexia',\n",
       "       'new_fatigue', 'nsaids', 'i50', 'i80', 'lymph_surg', 'synd_nephro',\n",
       "       'convulsion', 'e66', 'red_eye', 'agri', 'gained_weight', 'k74',\n",
       "       'patho_endo', 'dizziness', 'wheezing_exhale', 'fatigue_ext',\n",
       "       'sore_throat', 'muscle_pain', 'lost_appetite', 'heart_valves', 'sahs',\n",
       "       'cont_pertussis', 'vomiting_cough', 'coughing_fits', 'vaccination',\n",
       "       'chills', 'z92.25', 'ca_blockers', 'vag_discharge', 'wheezing_inhale',\n",
       "       'fatigue', 'menarche_12', 'breastfed_9', 'confusion', 'contact',\n",
       "       'ebolacase', 'bruising'],\n",
       "      dtype='object')"
      ]
     },
     "execution_count": 11,
     "metadata": {},
     "output_type": "execute_result"
    }
   ],
   "source": [
    "# feature columns\n",
    "train_df.columns"
   ]
  },
  {
   "cell_type": "code",
   "execution_count": 12,
   "metadata": {},
   "outputs": [],
   "source": [
    "# binary columns\n",
    "bin_cols = [col for col in train_df.columns if train_df[col].nunique() == 2]"
   ]
  },
  {
   "cell_type": "code",
   "execution_count": 13,
   "metadata": {},
   "outputs": [
    {
     "name": "stdout",
     "output_type": "stream",
     "text": [
      "AGE 110\n",
      "PATHOLOGY 11\n",
      "INITIAL_EVIDENCE 38\n",
      "pain_char 11\n",
      "pain_somewhere 51\n",
      "pain_intensity 10\n",
      "pain_precise 11\n",
      "pain_sudden 9\n",
      "lesion_color 4\n",
      "lesion_pain_swollen 7\n",
      "lesion_location 29\n",
      "lesion_pain_intense 9\n",
      "itching_severity 10\n",
      "trav1 8\n",
      "swelling_location 15\n"
     ]
    }
   ],
   "source": [
    "# columns with more than 2 unique values\n",
    "for col in train_df.columns:\n",
    "    if train_df[col].nunique() > 2:\n",
    "        print(col, train_df[col].nunique())"
   ]
  },
  {
   "cell_type": "code",
   "execution_count": 14,
   "metadata": {},
   "outputs": [],
   "source": [
    "# AGE is good continuous variable"
   ]
  },
  {
   "cell_type": "code",
   "execution_count": 15,
   "metadata": {},
   "outputs": [
    {
     "data": {
      "text/plain": [
       "pain                  32936\n",
       "swelling              14651\n",
       "lesions               13323\n",
       "cough                 12459\n",
       "short_breath          11127\n",
       "runny_nose            10447\n",
       "fever                  9886\n",
       "swollen_nodes          7532\n",
       "itchy_nose             6976\n",
       "eye_itching            6013\n",
       "gained_weight          5597\n",
       "nausea                 5327\n",
       "diarrhea               5222\n",
       "weight_loss            4974\n",
       "fatigue_ext            4889\n",
       "sweating               4502\n",
       "muscle_pain            4406\n",
       "sore_throat            3963\n",
       "cough_blood            3591\n",
       "vomiting_cough         3040\n",
       "convulsion             2914\n",
       "red_eye                2901\n",
       "contact_allergy        2705\n",
       "vag_discharge          2283\n",
       "chills                 2231\n",
       "dizziness              2164\n",
       "lost_consciousness     2073\n",
       "stridor                2043\n",
       "wheezing_exhale        1957\n",
       "lost_appetite          1927\n",
       "ulcers                 1861\n",
       "fatigue                1684\n",
       "coughing_fits          1600\n",
       "wheezing_inhale        1430\n",
       "new_fatigue            1173\n",
       "anorexia               1020\n",
       "bruising                104\n",
       "confusion                77\n",
       "Name: INITIAL_EVIDENCE, dtype: int64"
      ]
     },
     "execution_count": 15,
     "metadata": {},
     "output_type": "execute_result"
    }
   ],
   "source": [
    "# INITIAL_EVIDENCE\n",
    "train_df['INITIAL_EVIDENCE'].value_counts()"
   ]
  },
  {
   "cell_type": "code",
   "execution_count": 16,
   "metadata": {},
   "outputs": [
    {
     "data": {
      "image/png": "[encoded data removed]",
      "text/plain": [
       "<Figure size 1000x600 with 1 Axes>"
      ]
     },
     "metadata": {},
     "output_type": "display_data"
    }
   ],
   "source": [
    "plt.figure(figsize=(10, 6))\n",
    "sns.countplot(data=train_df, x='INITIAL_EVIDENCE')\n",
    "plt.tight_layout()"
   ]
  },
  {
   "cell_type": "code",
   "execution_count": 17,
   "metadata": {},
   "outputs": [],
   "source": [
    "# convert to binary using pandas get_dummies\n",
    "train_df = pd.get_dummies(train_df, columns=['INITIAL_EVIDENCE'])"
   ]
  },
  {
   "cell_type": "code",
   "execution_count": 18,
   "metadata": {},
   "outputs": [
    {
     "data": {
      "text/plain": [
       "NA                171596\n",
       "sharp              11206\n",
       "exhausting          8819\n",
       "heavy               2467\n",
       "sensitive           2168\n",
       "a pulse             1625\n",
       "burning             1518\n",
       "a cramp             1512\n",
       "a knife stroke      1129\n",
       "tugging              576\n",
       "tedious              392\n",
       "Name: pain_char, dtype: int64"
      ]
     },
     "execution_count": 18,
     "metadata": {},
     "output_type": "execute_result"
    }
   ],
   "source": [
    "# pain_char\n",
    "train_df['pain_char'].value_counts()"
   ]
  },
  {
   "cell_type": "code",
   "execution_count": 19,
   "metadata": {},
   "outputs": [],
   "source": [
    "# could be made continous... but for now I will convert to binary\n",
    "# convert to binary using pandas get_dummies\n",
    "train_df = pd.get_dummies(train_df, columns=['pain_char'], drop_first=True)"
   ]
  },
  {
   "cell_type": "code",
   "execution_count": 20,
   "metadata": {},
   "outputs": [
    {
     "data": {
      "text/plain": [
       "nowhere                          171596\n",
       "temple(L)                          4540\n",
       "epigastric                         3558\n",
       "temple(R)                          2517\n",
       "forehead                           2363\n",
       "shoulder(L)                        2344\n",
       "sole(L)                            1957\n",
       "occiput                            1918\n",
       "finger (middle)(L)                 1669\n",
       "sole(R)                            1662\n",
       "shoulder(R)                        1372\n",
       "belly                              1248\n",
       "dorsal aspect of the foot(L)       1070\n",
       "pharynx                             952\n",
       "finger (middle)(R)                  549\n",
       "hypochondrium(L)                    515\n",
       "pubis                               505\n",
       "dorsal aspect of the foot(R)        488\n",
       "top of the head                     421\n",
       "hypochondrium(R)                    227\n",
       "finger (index)(L)                   146\n",
       "palmar face of the wrist(R)         146\n",
       "calf(R)                             143\n",
       "dorsal aspect of the wrist(L)       143\n",
       "dorsal aspect of the wrist(R)       124\n",
       "palmar face of the wrist(L)         124\n",
       "calf(L)                             105\n",
       "knee(R)                              89\n",
       "knee(L)                              76\n",
       "toe (1)(R)                           68\n",
       "iliac fossa(L)                       54\n",
       "toe (1)(L)                           37\n",
       "iliac fossa(R)                       32\n",
       "cervical spine                       32\n",
       "back of head                         28\n",
       "toe (2)(R)                           27\n",
       "finger (index)(R)                    25\n",
       "thigh(L)                             22\n",
       "back of the neck                     22\n",
       "toe (2)(L)                           21\n",
       "flank(L)                             14\n",
       "toe (3)(R)                           14\n",
       "hip(R)                               12\n",
       "flank(R)                              7\n",
       "hip(L)                                7\n",
       "toe (3)(L)                            6\n",
       "side of the neck(L)                   4\n",
       "thigh(R)                              4\n",
       "thumb(R)                              2\n",
       "side of the neck(R)                   2\n",
       "little toe (4)(R)                     1\n",
       "Name: pain_somewhere, dtype: int64"
      ]
     },
     "execution_count": 20,
     "metadata": {},
     "output_type": "execute_result"
    }
   ],
   "source": [
    "# pain_somewhere\n",
    "train_df['pain_somewhere'].value_counts()"
   ]
  },
  {
   "cell_type": "code",
   "execution_count": 21,
   "metadata": {},
   "outputs": [],
   "source": [
    "# too many values for get_dummies\n",
    "# convert to binary with nowhere as 0 and anywhere else as 1\n",
    "train_df['pain_somewhere'] = (train_df['pain_somewhere'] != 'nowhere').astype(int)"
   ]
  },
  {
   "cell_type": "code",
   "execution_count": 22,
   "metadata": {},
   "outputs": [
    {
     "data": {
      "text/html": [
       "<div>\n",
       "<style scoped>\n",
       "    .dataframe tbody tr th:only-of-type {\n",
       "        vertical-align: middle;\n",
       "    }\n",
       "\n",
       "    .dataframe tbody tr th {\n",
       "        vertical-align: top;\n",
       "    }\n",
       "\n",
       "    .dataframe thead th {\n",
       "        text-align: right;\n",
       "    }\n",
       "</style>\n",
       "<table border=\"1\" class=\"dataframe\">\n",
       "  <thead>\n",
       "    <tr style=\"text-align: right;\">\n",
       "      <th></th>\n",
       "      <th>pain_intensity</th>\n",
       "      <th>pain_precise</th>\n",
       "      <th>pain_sudden</th>\n",
       "    </tr>\n",
       "  </thead>\n",
       "  <tbody>\n",
       "    <tr>\n",
       "      <th>1</th>\n",
       "      <td>0</td>\n",
       "      <td>0</td>\n",
       "      <td>0</td>\n",
       "    </tr>\n",
       "    <tr>\n",
       "      <th>10</th>\n",
       "      <td>6</td>\n",
       "      <td>8</td>\n",
       "      <td>8</td>\n",
       "    </tr>\n",
       "    <tr>\n",
       "      <th>13</th>\n",
       "      <td>0</td>\n",
       "      <td>0</td>\n",
       "      <td>0</td>\n",
       "    </tr>\n",
       "    <tr>\n",
       "      <th>18</th>\n",
       "      <td>8</td>\n",
       "      <td>5</td>\n",
       "      <td>0</td>\n",
       "    </tr>\n",
       "    <tr>\n",
       "      <th>19</th>\n",
       "      <td>9</td>\n",
       "      <td>1</td>\n",
       "      <td>3</td>\n",
       "    </tr>\n",
       "    <tr>\n",
       "      <th>...</th>\n",
       "      <td>...</td>\n",
       "      <td>...</td>\n",
       "      <td>...</td>\n",
       "    </tr>\n",
       "    <tr>\n",
       "      <th>1023490</th>\n",
       "      <td>0</td>\n",
       "      <td>0</td>\n",
       "      <td>0</td>\n",
       "    </tr>\n",
       "    <tr>\n",
       "      <th>1023491</th>\n",
       "      <td>0</td>\n",
       "      <td>0</td>\n",
       "      <td>0</td>\n",
       "    </tr>\n",
       "    <tr>\n",
       "      <th>1023492</th>\n",
       "      <td>0</td>\n",
       "      <td>0</td>\n",
       "      <td>0</td>\n",
       "    </tr>\n",
       "    <tr>\n",
       "      <th>1023493</th>\n",
       "      <td>0</td>\n",
       "      <td>0</td>\n",
       "      <td>0</td>\n",
       "    </tr>\n",
       "    <tr>\n",
       "      <th>1023494</th>\n",
       "      <td>0</td>\n",
       "      <td>0</td>\n",
       "      <td>0</td>\n",
       "    </tr>\n",
       "  </tbody>\n",
       "</table>\n",
       "<p>203008 rows × 3 columns</p>\n",
       "</div>"
      ],
      "text/plain": [
       "         pain_intensity  pain_precise  pain_sudden\n",
       "1                     0             0            0\n",
       "10                    6             8            8\n",
       "13                    0             0            0\n",
       "18                    8             5            0\n",
       "19                    9             1            3\n",
       "...                 ...           ...          ...\n",
       "1023490               0             0            0\n",
       "1023491               0             0            0\n",
       "1023492               0             0            0\n",
       "1023493               0             0            0\n",
       "1023494               0             0            0\n",
       "\n",
       "[203008 rows x 3 columns]"
      ]
     },
     "execution_count": 22,
     "metadata": {},
     "output_type": "execute_result"
    }
   ],
   "source": [
    "# pain_intensity\n",
    "train_df[['pain_intensity', 'pain_precise', 'pain_sudden']]\n",
    "\n",
    "# good continuous variables"
   ]
  },
  {
   "cell_type": "code",
   "execution_count": 23,
   "metadata": {},
   "outputs": [
    {
     "data": {
      "text/plain": [
       "NA      184275\n",
       "pink     10374\n",
       "pale      6024\n",
       "red       2335\n",
       "Name: lesion_color, dtype: int64"
      ]
     },
     "execution_count": 23,
     "metadata": {},
     "output_type": "execute_result"
    }
   ],
   "source": [
    "# lesion_color\n",
    "train_df['lesion_color'].value_counts()"
   ]
  },
  {
   "cell_type": "code",
   "execution_count": 24,
   "metadata": {},
   "outputs": [],
   "source": [
    "# convert to binary using pandas get_dummies\n",
    "train_df = pd.get_dummies(train_df, columns=['lesion_color'], drop_first=True)"
   ]
  },
  {
   "cell_type": "code",
   "execution_count": 25,
   "metadata": {},
   "outputs": [
    {
     "data": {
      "text/html": [
       "<div>\n",
       "<style scoped>\n",
       "    .dataframe tbody tr th:only-of-type {\n",
       "        vertical-align: middle;\n",
       "    }\n",
       "\n",
       "    .dataframe tbody tr th {\n",
       "        vertical-align: top;\n",
       "    }\n",
       "\n",
       "    .dataframe thead th {\n",
       "        text-align: right;\n",
       "    }\n",
       "</style>\n",
       "<table border=\"1\" class=\"dataframe\">\n",
       "  <thead>\n",
       "    <tr style=\"text-align: right;\">\n",
       "      <th></th>\n",
       "      <th>lesion_pain_swollen</th>\n",
       "      <th>lesion_pain_intense</th>\n",
       "    </tr>\n",
       "  </thead>\n",
       "  <tbody>\n",
       "    <tr>\n",
       "      <th>1</th>\n",
       "      <td>0</td>\n",
       "      <td>0</td>\n",
       "    </tr>\n",
       "    <tr>\n",
       "      <th>10</th>\n",
       "      <td>0</td>\n",
       "      <td>0</td>\n",
       "    </tr>\n",
       "    <tr>\n",
       "      <th>13</th>\n",
       "      <td>0</td>\n",
       "      <td>0</td>\n",
       "    </tr>\n",
       "    <tr>\n",
       "      <th>18</th>\n",
       "      <td>0</td>\n",
       "      <td>2</td>\n",
       "    </tr>\n",
       "    <tr>\n",
       "      <th>19</th>\n",
       "      <td>5</td>\n",
       "      <td>2</td>\n",
       "    </tr>\n",
       "    <tr>\n",
       "      <th>...</th>\n",
       "      <td>...</td>\n",
       "      <td>...</td>\n",
       "    </tr>\n",
       "    <tr>\n",
       "      <th>1023490</th>\n",
       "      <td>0</td>\n",
       "      <td>0</td>\n",
       "    </tr>\n",
       "    <tr>\n",
       "      <th>1023491</th>\n",
       "      <td>0</td>\n",
       "      <td>0</td>\n",
       "    </tr>\n",
       "    <tr>\n",
       "      <th>1023492</th>\n",
       "      <td>0</td>\n",
       "      <td>0</td>\n",
       "    </tr>\n",
       "    <tr>\n",
       "      <th>1023493</th>\n",
       "      <td>0</td>\n",
       "      <td>0</td>\n",
       "    </tr>\n",
       "    <tr>\n",
       "      <th>1023494</th>\n",
       "      <td>0</td>\n",
       "      <td>0</td>\n",
       "    </tr>\n",
       "  </tbody>\n",
       "</table>\n",
       "<p>203008 rows × 2 columns</p>\n",
       "</div>"
      ],
      "text/plain": [
       "         lesion_pain_swollen  lesion_pain_intense\n",
       "1                          0                    0\n",
       "10                         0                    0\n",
       "13                         0                    0\n",
       "18                         0                    2\n",
       "19                         5                    2\n",
       "...                      ...                  ...\n",
       "1023490                    0                    0\n",
       "1023491                    0                    0\n",
       "1023492                    0                    0\n",
       "1023493                    0                    0\n",
       "1023494                    0                    0\n",
       "\n",
       "[203008 rows x 2 columns]"
      ]
     },
     "execution_count": 25,
     "metadata": {},
     "output_type": "execute_result"
    }
   ],
   "source": [
    "# lesion_pain_swollen and lesion_pain_intense\n",
    "train_df[['lesion_pain_swollen', 'lesion_pain_intense']]\n",
    "\n",
    "# good continuous variables"
   ]
  },
  {
   "cell_type": "code",
   "execution_count": 26,
   "metadata": {},
   "outputs": [
    {
     "data": {
      "text/plain": [
       "nowhere                184275\n",
       "forehead                 2154\n",
       "internal cheek(L)        1816\n",
       "ankle(R)                 1711\n",
       "nose                     1597\n",
       "internal cheek(R)        1567\n",
       "thyroid cartilage        1362\n",
       "bottom lip(R)            1320\n",
       "side of the neck(L)      1320\n",
       "ankle(L)                 1210\n",
       "side of the neck(R)       768\n",
       "cervical spine            748\n",
       "upper lip(R)              716\n",
       "cheek(L)                  539\n",
       "back of the neck          463\n",
       "thoracic spine            371\n",
       "palace                    367\n",
       "cheek(R)                  199\n",
       "penis                     170\n",
       "lumbar spine              160\n",
       "thigh(R)                   74\n",
       "labia minora(R)            35\n",
       "thigh(L)                   20\n",
       "labia minora(L)            16\n",
       "scrotum                    11\n",
       "shoulder(R)                 9\n",
       "under the tongue            6\n",
       "epigastric                  2\n",
       "shoulder(L)                 2\n",
       "Name: lesion_location, dtype: int64"
      ]
     },
     "execution_count": 26,
     "metadata": {},
     "output_type": "execute_result"
    }
   ],
   "source": [
    "# lesion_location\n",
    "train_df['lesion_location'].value_counts()"
   ]
  },
  {
   "cell_type": "code",
   "execution_count": 27,
   "metadata": {},
   "outputs": [],
   "source": [
    "# convert to binary using pandas get_dummies\n",
    "train_df = pd.get_dummies(train_df, columns=['lesion_location'], drop_first=True)"
   ]
  },
  {
   "cell_type": "code",
   "execution_count": 28,
   "metadata": {},
   "outputs": [
    {
     "data": {
      "text/plain": [
       "0     191691\n",
       "10      1429\n",
       "9       1420\n",
       "8       1411\n",
       "7       1409\n",
       "2       1385\n",
       "1       1345\n",
       "3       1342\n",
       "5        789\n",
       "4        787\n",
       "Name: itching_severity, dtype: int64"
      ]
     },
     "execution_count": 28,
     "metadata": {},
     "output_type": "execute_result"
    }
   ],
   "source": [
    "# itching_severity\n",
    "train_df['itching_severity'].value_counts()\n",
    "\n",
    "# good continuous variable"
   ]
  },
  {
   "cell_type": "code",
   "execution_count": 29,
   "metadata": {},
   "outputs": [
    {
     "data": {
      "text/plain": [
       "N                  200685\n",
       "North America        1523\n",
       "West Africa           322\n",
       "South Africa          149\n",
       "South America         110\n",
       "Central America        98\n",
       "Europe                 67\n",
       "Asia                   54\n",
       "Name: trav1, dtype: int64"
      ]
     },
     "execution_count": 29,
     "metadata": {},
     "output_type": "execute_result"
    }
   ],
   "source": [
    "# trav1\n",
    "train_df['trav1'].value_counts()"
   ]
  },
  {
   "cell_type": "code",
   "execution_count": 30,
   "metadata": {},
   "outputs": [],
   "source": [
    "# for now convert to whether travelled or not\n",
    "train_df['trav1'] = (train_df['trav1'] != 'N').astype(int)"
   ]
  },
  {
   "cell_type": "code",
   "execution_count": 31,
   "metadata": {},
   "outputs": [
    {
     "data": {
      "text/plain": [
       "0    200685\n",
       "1      2323\n",
       "Name: trav1, dtype: int64"
      ]
     },
     "execution_count": 31,
     "metadata": {},
     "output_type": "execute_result"
    }
   ],
   "source": [
    "train_df['trav1'].value_counts()"
   ]
  },
  {
   "cell_type": "code",
   "execution_count": 32,
   "metadata": {},
   "outputs": [
    {
     "data": {
      "text/plain": [
       "nowhere                         191742\n",
       "nose                              4060\n",
       "dorsal aspect of the foot(L)      1897\n",
       "dorsal aspect of the foot(R)      1599\n",
       "sole(R)                           1238\n",
       "cheek(L)                          1162\n",
       "sole(L)                            866\n",
       "cheek(R)                           321\n",
       "forehead                            98\n",
       "calf(R)                              9\n",
       "thigh(L)                             8\n",
       "calf(L)                              4\n",
       "toe (1)(L)                           2\n",
       "toe (1)(R)                           1\n",
       "thigh(R)                             1\n",
       "Name: swelling_location, dtype: int64"
      ]
     },
     "execution_count": 32,
     "metadata": {},
     "output_type": "execute_result"
    }
   ],
   "source": [
    "# swelling_location\n",
    "train_df['swelling_location'].value_counts()"
   ]
  },
  {
   "cell_type": "code",
   "execution_count": 33,
   "metadata": {},
   "outputs": [],
   "source": [
    "# convert to binary using pandas get_dummies\n",
    "train_df = pd.get_dummies(train_df, columns=['swelling_location'], drop_first=True)"
   ]
  },
  {
   "cell_type": "code",
   "execution_count": 34,
   "metadata": {},
   "outputs": [],
   "source": [
    "# convert SEX column to binary\n",
    "train_df = pd.get_dummies(train_df, columns=['SEX'], drop_first=True)"
   ]
  },
  {
   "cell_type": "code",
   "execution_count": 35,
   "metadata": {},
   "outputs": [
    {
     "data": {
      "text/html": [
       "<div>\n",
       "<style scoped>\n",
       "    .dataframe tbody tr th:only-of-type {\n",
       "        vertical-align: middle;\n",
       "    }\n",
       "\n",
       "    .dataframe tbody tr th {\n",
       "        vertical-align: top;\n",
       "    }\n",
       "\n",
       "    .dataframe thead th {\n",
       "        text-align: right;\n",
       "    }\n",
       "</style>\n",
       "<table border=\"1\" class=\"dataframe\">\n",
       "  <thead>\n",
       "    <tr style=\"text-align: right;\">\n",
       "      <th></th>\n",
       "      <th>AGE</th>\n",
       "      <th>PATHOLOGY</th>\n",
       "      <th>swollen_nodes</th>\n",
       "      <th>std</th>\n",
       "      <th>sweating</th>\n",
       "      <th>diarrhea</th>\n",
       "      <th>pain</th>\n",
       "      <th>pain_somewhere</th>\n",
       "      <th>pain_intensity</th>\n",
       "      <th>pain_radiate</th>\n",
       "      <th>...</th>\n",
       "      <th>swelling_location_forehead</th>\n",
       "      <th>swelling_location_nose</th>\n",
       "      <th>swelling_location_nowhere</th>\n",
       "      <th>swelling_location_sole(L)</th>\n",
       "      <th>swelling_location_sole(R)</th>\n",
       "      <th>swelling_location_thigh(L)</th>\n",
       "      <th>swelling_location_thigh(R)</th>\n",
       "      <th>swelling_location_toe (1)(L)</th>\n",
       "      <th>swelling_location_toe (1)(R)</th>\n",
       "      <th>SEX_M</th>\n",
       "    </tr>\n",
       "  </thead>\n",
       "  <tbody>\n",
       "    <tr>\n",
       "      <th>1</th>\n",
       "      <td>21</td>\n",
       "      <td>HIV (initial infection)</td>\n",
       "      <td>0</td>\n",
       "      <td>0</td>\n",
       "      <td>0</td>\n",
       "      <td>0</td>\n",
       "      <td>0</td>\n",
       "      <td>0</td>\n",
       "      <td>0</td>\n",
       "      <td>nowhere</td>\n",
       "      <td>...</td>\n",
       "      <td>0</td>\n",
       "      <td>0</td>\n",
       "      <td>1</td>\n",
       "      <td>0</td>\n",
       "      <td>0</td>\n",
       "      <td>0</td>\n",
       "      <td>0</td>\n",
       "      <td>0</td>\n",
       "      <td>0</td>\n",
       "      <td>1</td>\n",
       "    </tr>\n",
       "    <tr>\n",
       "      <th>10</th>\n",
       "      <td>8</td>\n",
       "      <td>Allergic sinusitis</td>\n",
       "      <td>0</td>\n",
       "      <td>0</td>\n",
       "      <td>0</td>\n",
       "      <td>0</td>\n",
       "      <td>1</td>\n",
       "      <td>1</td>\n",
       "      <td>6</td>\n",
       "      <td>nowhere</td>\n",
       "      <td>...</td>\n",
       "      <td>0</td>\n",
       "      <td>0</td>\n",
       "      <td>0</td>\n",
       "      <td>0</td>\n",
       "      <td>0</td>\n",
       "      <td>0</td>\n",
       "      <td>0</td>\n",
       "      <td>0</td>\n",
       "      <td>0</td>\n",
       "      <td>1</td>\n",
       "    </tr>\n",
       "    <tr>\n",
       "      <th>13</th>\n",
       "      <td>49</td>\n",
       "      <td>Anaphylaxis</td>\n",
       "      <td>0</td>\n",
       "      <td>0</td>\n",
       "      <td>0</td>\n",
       "      <td>0</td>\n",
       "      <td>0</td>\n",
       "      <td>0</td>\n",
       "      <td>0</td>\n",
       "      <td>nowhere</td>\n",
       "      <td>...</td>\n",
       "      <td>0</td>\n",
       "      <td>0</td>\n",
       "      <td>1</td>\n",
       "      <td>0</td>\n",
       "      <td>0</td>\n",
       "      <td>0</td>\n",
       "      <td>0</td>\n",
       "      <td>0</td>\n",
       "      <td>0</td>\n",
       "      <td>0</td>\n",
       "    </tr>\n",
       "    <tr>\n",
       "      <th>18</th>\n",
       "      <td>69</td>\n",
       "      <td>Tuberculosis</td>\n",
       "      <td>0</td>\n",
       "      <td>0</td>\n",
       "      <td>0</td>\n",
       "      <td>0</td>\n",
       "      <td>1</td>\n",
       "      <td>1</td>\n",
       "      <td>8</td>\n",
       "      <td>nowhere</td>\n",
       "      <td>...</td>\n",
       "      <td>0</td>\n",
       "      <td>0</td>\n",
       "      <td>1</td>\n",
       "      <td>0</td>\n",
       "      <td>0</td>\n",
       "      <td>0</td>\n",
       "      <td>0</td>\n",
       "      <td>0</td>\n",
       "      <td>0</td>\n",
       "      <td>1</td>\n",
       "    </tr>\n",
       "    <tr>\n",
       "      <th>19</th>\n",
       "      <td>30</td>\n",
       "      <td>Tuberculosis</td>\n",
       "      <td>0</td>\n",
       "      <td>0</td>\n",
       "      <td>0</td>\n",
       "      <td>0</td>\n",
       "      <td>1</td>\n",
       "      <td>1</td>\n",
       "      <td>9</td>\n",
       "      <td>nowhere</td>\n",
       "      <td>...</td>\n",
       "      <td>0</td>\n",
       "      <td>1</td>\n",
       "      <td>0</td>\n",
       "      <td>0</td>\n",
       "      <td>0</td>\n",
       "      <td>0</td>\n",
       "      <td>0</td>\n",
       "      <td>0</td>\n",
       "      <td>0</td>\n",
       "      <td>0</td>\n",
       "    </tr>\n",
       "  </tbody>\n",
       "</table>\n",
       "<p>5 rows × 182 columns</p>\n",
       "</div>"
      ],
      "text/plain": [
       "    AGE                PATHOLOGY  swollen_nodes  std  sweating  diarrhea  \\\n",
       "1    21  HIV (initial infection)              0    0         0         0   \n",
       "10    8       Allergic sinusitis              0    0         0         0   \n",
       "13   49              Anaphylaxis              0    0         0         0   \n",
       "18   69             Tuberculosis              0    0         0         0   \n",
       "19   30             Tuberculosis              0    0         0         0   \n",
       "\n",
       "    pain  pain_somewhere  pain_intensity pain_radiate  ...  \\\n",
       "1      0               0               0      nowhere  ...   \n",
       "10     1               1               6      nowhere  ...   \n",
       "13     0               0               0      nowhere  ...   \n",
       "18     1               1               8      nowhere  ...   \n",
       "19     1               1               9      nowhere  ...   \n",
       "\n",
       "    swelling_location_forehead  swelling_location_nose  \\\n",
       "1                            0                       0   \n",
       "10                           0                       0   \n",
       "13                           0                       0   \n",
       "18                           0                       0   \n",
       "19                           0                       1   \n",
       "\n",
       "    swelling_location_nowhere  swelling_location_sole(L)  \\\n",
       "1                           1                          0   \n",
       "10                          0                          0   \n",
       "13                          1                          0   \n",
       "18                          1                          0   \n",
       "19                          0                          0   \n",
       "\n",
       "    swelling_location_sole(R) swelling_location_thigh(L)  \\\n",
       "1                           0                          0   \n",
       "10                          0                          0   \n",
       "13                          0                          0   \n",
       "18                          0                          0   \n",
       "19                          0                          0   \n",
       "\n",
       "    swelling_location_thigh(R)  swelling_location_toe (1)(L)  \\\n",
       "1                            0                             0   \n",
       "10                           0                             0   \n",
       "13                           0                             0   \n",
       "18                           0                             0   \n",
       "19                           0                             0   \n",
       "\n",
       "   swelling_location_toe (1)(R)  SEX_M  \n",
       "1                             0      1  \n",
       "10                            0      1  \n",
       "13                            0      0  \n",
       "18                            0      1  \n",
       "19                            0      0  \n",
       "\n",
       "[5 rows x 182 columns]"
      ]
     },
     "execution_count": 35,
     "metadata": {},
     "output_type": "execute_result"
    }
   ],
   "source": [
    "train_df.head()"
   ]
  },
  {
   "cell_type": "code",
   "execution_count": 36,
   "metadata": {},
   "outputs": [
    {
     "data": {
      "text/plain": [
       "nowhere    203008\n",
       "Name: pain_radiate, dtype: int64"
      ]
     },
     "execution_count": 36,
     "metadata": {},
     "output_type": "execute_result"
    }
   ],
   "source": [
    "# pain_radiate\n",
    "train_df['pain_radiate'].value_counts()"
   ]
  },
  {
   "cell_type": "code",
   "execution_count": 37,
   "metadata": {},
   "outputs": [],
   "source": [
    "# has the same values everywhere\n",
    "# drop it\n",
    "train_df.drop('pain_radiate', axis=1, inplace=True)"
   ]
  },
  {
   "cell_type": "code",
   "execution_count": 38,
   "metadata": {},
   "outputs": [
    {
     "data": {
      "text/plain": [
       "N    184275\n",
       "Y     18733\n",
       "Name: lesion_larger_than_1cm, dtype: int64"
      ]
     },
     "execution_count": 38,
     "metadata": {},
     "output_type": "execute_result"
    }
   ],
   "source": [
    "# lesion_larger_than_1cm\n",
    "train_df['lesion_larger_than_1cm'].value_counts()"
   ]
  },
  {
   "cell_type": "code",
   "execution_count": 39,
   "metadata": {},
   "outputs": [],
   "source": [
    "# convert to binary\n",
    "train_df['lesion_larger_than_1cm'] = (train_df['lesion_larger_than_1cm'] == 'Y').astype(int)"
   ]
  },
  {
   "cell_type": "code",
   "execution_count": 40,
   "metadata": {},
   "outputs": [
    {
     "data": {
      "text/plain": [
       "N    203008\n",
       "Name: lesions_peeling, dtype: int64"
      ]
     },
     "execution_count": 40,
     "metadata": {},
     "output_type": "execute_result"
    }
   ],
   "source": [
    "# lesions_peeling\n",
    "train_df['lesions_peeling'].value_counts()"
   ]
  },
  {
   "cell_type": "code",
   "execution_count": 41,
   "metadata": {},
   "outputs": [],
   "source": [
    "# same values everywhere\n",
    "# drop it\n",
    "train_df.drop('lesions_peeling', axis=1, inplace=True)"
   ]
  },
  {
   "cell_type": "code",
   "execution_count": null,
   "metadata": {},
   "outputs": [],
   "source": []
  },
  {
   "cell_type": "code",
   "execution_count": 42,
   "metadata": {},
   "outputs": [
    {
     "name": "stdout",
     "output_type": "stream",
     "text": [
      "180\n"
     ]
    },
    {
     "data": {
      "text/html": [
       "<div>\n",
       "<style scoped>\n",
       "    .dataframe tbody tr th:only-of-type {\n",
       "        vertical-align: middle;\n",
       "    }\n",
       "\n",
       "    .dataframe tbody tr th {\n",
       "        vertical-align: top;\n",
       "    }\n",
       "\n",
       "    .dataframe thead th {\n",
       "        text-align: right;\n",
       "    }\n",
       "</style>\n",
       "<table border=\"1\" class=\"dataframe\">\n",
       "  <thead>\n",
       "    <tr style=\"text-align: right;\">\n",
       "      <th></th>\n",
       "      <th>pain_sudden</th>\n",
       "      <th>fever</th>\n",
       "      <th>unprotected_sex</th>\n",
       "      <th>lesions</th>\n",
       "      <th>lesion_pain_swollen</th>\n",
       "      <th>lesion_pain_intense</th>\n",
       "      <th>lesion_larger_than_1cm</th>\n",
       "      <th>itching_severity</th>\n",
       "      <th>nausea</th>\n",
       "      <th>weight_loss</th>\n",
       "    </tr>\n",
       "  </thead>\n",
       "  <tbody>\n",
       "    <tr>\n",
       "      <th>276379</th>\n",
       "      <td>0</td>\n",
       "      <td>0</td>\n",
       "      <td>0</td>\n",
       "      <td>0</td>\n",
       "      <td>0</td>\n",
       "      <td>0</td>\n",
       "      <td>0</td>\n",
       "      <td>0</td>\n",
       "      <td>0</td>\n",
       "      <td>0</td>\n",
       "    </tr>\n",
       "    <tr>\n",
       "      <th>389411</th>\n",
       "      <td>0</td>\n",
       "      <td>0</td>\n",
       "      <td>0</td>\n",
       "      <td>0</td>\n",
       "      <td>0</td>\n",
       "      <td>0</td>\n",
       "      <td>0</td>\n",
       "      <td>0</td>\n",
       "      <td>0</td>\n",
       "      <td>0</td>\n",
       "    </tr>\n",
       "    <tr>\n",
       "      <th>936860</th>\n",
       "      <td>0</td>\n",
       "      <td>0</td>\n",
       "      <td>0</td>\n",
       "      <td>0</td>\n",
       "      <td>0</td>\n",
       "      <td>0</td>\n",
       "      <td>0</td>\n",
       "      <td>0</td>\n",
       "      <td>0</td>\n",
       "      <td>0</td>\n",
       "    </tr>\n",
       "    <tr>\n",
       "      <th>911694</th>\n",
       "      <td>0</td>\n",
       "      <td>0</td>\n",
       "      <td>0</td>\n",
       "      <td>0</td>\n",
       "      <td>0</td>\n",
       "      <td>0</td>\n",
       "      <td>0</td>\n",
       "      <td>0</td>\n",
       "      <td>0</td>\n",
       "      <td>0</td>\n",
       "    </tr>\n",
       "    <tr>\n",
       "      <th>238477</th>\n",
       "      <td>0</td>\n",
       "      <td>0</td>\n",
       "      <td>0</td>\n",
       "      <td>0</td>\n",
       "      <td>0</td>\n",
       "      <td>0</td>\n",
       "      <td>0</td>\n",
       "      <td>0</td>\n",
       "      <td>0</td>\n",
       "      <td>0</td>\n",
       "    </tr>\n",
       "    <tr>\n",
       "      <th>742180</th>\n",
       "      <td>0</td>\n",
       "      <td>0</td>\n",
       "      <td>0</td>\n",
       "      <td>0</td>\n",
       "      <td>0</td>\n",
       "      <td>0</td>\n",
       "      <td>0</td>\n",
       "      <td>0</td>\n",
       "      <td>0</td>\n",
       "      <td>0</td>\n",
       "    </tr>\n",
       "    <tr>\n",
       "      <th>590786</th>\n",
       "      <td>0</td>\n",
       "      <td>0</td>\n",
       "      <td>0</td>\n",
       "      <td>0</td>\n",
       "      <td>0</td>\n",
       "      <td>0</td>\n",
       "      <td>0</td>\n",
       "      <td>0</td>\n",
       "      <td>0</td>\n",
       "      <td>0</td>\n",
       "    </tr>\n",
       "    <tr>\n",
       "      <th>84433</th>\n",
       "      <td>0</td>\n",
       "      <td>0</td>\n",
       "      <td>0</td>\n",
       "      <td>0</td>\n",
       "      <td>0</td>\n",
       "      <td>0</td>\n",
       "      <td>0</td>\n",
       "      <td>0</td>\n",
       "      <td>0</td>\n",
       "      <td>0</td>\n",
       "    </tr>\n",
       "    <tr>\n",
       "      <th>665901</th>\n",
       "      <td>0</td>\n",
       "      <td>0</td>\n",
       "      <td>0</td>\n",
       "      <td>0</td>\n",
       "      <td>0</td>\n",
       "      <td>0</td>\n",
       "      <td>0</td>\n",
       "      <td>0</td>\n",
       "      <td>0</td>\n",
       "      <td>0</td>\n",
       "    </tr>\n",
       "    <tr>\n",
       "      <th>30010</th>\n",
       "      <td>1</td>\n",
       "      <td>0</td>\n",
       "      <td>0</td>\n",
       "      <td>1</td>\n",
       "      <td>2</td>\n",
       "      <td>0</td>\n",
       "      <td>1</td>\n",
       "      <td>0</td>\n",
       "      <td>0</td>\n",
       "      <td>0</td>\n",
       "    </tr>\n",
       "  </tbody>\n",
       "</table>\n",
       "</div>"
      ],
      "text/plain": [
       "        pain_sudden  fever  unprotected_sex  lesions  lesion_pain_swollen  \\\n",
       "276379            0      0                0        0                    0   \n",
       "389411            0      0                0        0                    0   \n",
       "936860            0      0                0        0                    0   \n",
       "911694            0      0                0        0                    0   \n",
       "238477            0      0                0        0                    0   \n",
       "742180            0      0                0        0                    0   \n",
       "590786            0      0                0        0                    0   \n",
       "84433             0      0                0        0                    0   \n",
       "665901            0      0                0        0                    0   \n",
       "30010             1      0                0        1                    2   \n",
       "\n",
       "        lesion_pain_intense  lesion_larger_than_1cm  itching_severity  nausea  \\\n",
       "276379                    0                       0                 0       0   \n",
       "389411                    0                       0                 0       0   \n",
       "936860                    0                       0                 0       0   \n",
       "911694                    0                       0                 0       0   \n",
       "238477                    0                       0                 0       0   \n",
       "742180                    0                       0                 0       0   \n",
       "590786                    0                       0                 0       0   \n",
       "84433                     0                       0                 0       0   \n",
       "665901                    0                       0                 0       0   \n",
       "30010                     0                       1                 0       0   \n",
       "\n",
       "        weight_loss  \n",
       "276379            0  \n",
       "389411            0  \n",
       "936860            0  \n",
       "911694            0  \n",
       "238477            0  \n",
       "742180            0  \n",
       "590786            0  \n",
       "84433             0  \n",
       "665901            0  \n",
       "30010             0  "
      ]
     },
     "execution_count": 42,
     "metadata": {},
     "output_type": "execute_result"
    }
   ],
   "source": [
    "cols_list = train_df.columns\n",
    "print(len(cols_list))\n",
    "\n",
    "# checking all cols are numeric now\n",
    "train_df[cols_list[10:20]].sample(10)"
   ]
  },
  {
   "cell_type": "code",
   "execution_count": null,
   "metadata": {},
   "outputs": [],
   "source": []
  },
  {
   "cell_type": "code",
   "execution_count": 43,
   "metadata": {},
   "outputs": [
    {
     "data": {
      "text/html": [
       "<div>\n",
       "<style scoped>\n",
       "    .dataframe tbody tr th:only-of-type {\n",
       "        vertical-align: middle;\n",
       "    }\n",
       "\n",
       "    .dataframe tbody tr th {\n",
       "        vertical-align: top;\n",
       "    }\n",
       "\n",
       "    .dataframe thead th {\n",
       "        text-align: right;\n",
       "    }\n",
       "</style>\n",
       "<table border=\"1\" class=\"dataframe\">\n",
       "  <thead>\n",
       "    <tr style=\"text-align: right;\">\n",
       "      <th></th>\n",
       "      <th>AGE</th>\n",
       "      <th>PATHOLOGY</th>\n",
       "      <th>swollen_nodes</th>\n",
       "      <th>std</th>\n",
       "      <th>sweating</th>\n",
       "      <th>diarrhea</th>\n",
       "      <th>pain</th>\n",
       "      <th>pain_somewhere</th>\n",
       "      <th>pain_intensity</th>\n",
       "      <th>pain_precise</th>\n",
       "      <th>...</th>\n",
       "      <th>swelling_location_forehead</th>\n",
       "      <th>swelling_location_nose</th>\n",
       "      <th>swelling_location_nowhere</th>\n",
       "      <th>swelling_location_sole(L)</th>\n",
       "      <th>swelling_location_sole(R)</th>\n",
       "      <th>swelling_location_thigh(L)</th>\n",
       "      <th>swelling_location_thigh(R)</th>\n",
       "      <th>swelling_location_toe (1)(L)</th>\n",
       "      <th>swelling_location_toe (1)(R)</th>\n",
       "      <th>SEX_M</th>\n",
       "    </tr>\n",
       "  </thead>\n",
       "  <tbody>\n",
       "    <tr>\n",
       "      <th>605022</th>\n",
       "      <td>13</td>\n",
       "      <td>Anaphylaxis</td>\n",
       "      <td>0</td>\n",
       "      <td>0</td>\n",
       "      <td>0</td>\n",
       "      <td>0</td>\n",
       "      <td>0</td>\n",
       "      <td>0</td>\n",
       "      <td>0</td>\n",
       "      <td>0</td>\n",
       "      <td>...</td>\n",
       "      <td>0</td>\n",
       "      <td>0</td>\n",
       "      <td>1</td>\n",
       "      <td>0</td>\n",
       "      <td>0</td>\n",
       "      <td>0</td>\n",
       "      <td>0</td>\n",
       "      <td>0</td>\n",
       "      <td>0</td>\n",
       "      <td>0</td>\n",
       "    </tr>\n",
       "    <tr>\n",
       "      <th>1023449</th>\n",
       "      <td>87</td>\n",
       "      <td>HIV (initial infection)</td>\n",
       "      <td>0</td>\n",
       "      <td>0</td>\n",
       "      <td>0</td>\n",
       "      <td>0</td>\n",
       "      <td>0</td>\n",
       "      <td>0</td>\n",
       "      <td>0</td>\n",
       "      <td>0</td>\n",
       "      <td>...</td>\n",
       "      <td>0</td>\n",
       "      <td>0</td>\n",
       "      <td>1</td>\n",
       "      <td>0</td>\n",
       "      <td>0</td>\n",
       "      <td>0</td>\n",
       "      <td>0</td>\n",
       "      <td>0</td>\n",
       "      <td>0</td>\n",
       "      <td>1</td>\n",
       "    </tr>\n",
       "    <tr>\n",
       "      <th>787446</th>\n",
       "      <td>34</td>\n",
       "      <td>SLE</td>\n",
       "      <td>0</td>\n",
       "      <td>0</td>\n",
       "      <td>0</td>\n",
       "      <td>0</td>\n",
       "      <td>0</td>\n",
       "      <td>0</td>\n",
       "      <td>0</td>\n",
       "      <td>0</td>\n",
       "      <td>...</td>\n",
       "      <td>0</td>\n",
       "      <td>0</td>\n",
       "      <td>1</td>\n",
       "      <td>0</td>\n",
       "      <td>0</td>\n",
       "      <td>0</td>\n",
       "      <td>0</td>\n",
       "      <td>0</td>\n",
       "      <td>0</td>\n",
       "      <td>1</td>\n",
       "    </tr>\n",
       "    <tr>\n",
       "      <th>665458</th>\n",
       "      <td>14</td>\n",
       "      <td>HIV (initial infection)</td>\n",
       "      <td>0</td>\n",
       "      <td>0</td>\n",
       "      <td>0</td>\n",
       "      <td>0</td>\n",
       "      <td>0</td>\n",
       "      <td>0</td>\n",
       "      <td>0</td>\n",
       "      <td>0</td>\n",
       "      <td>...</td>\n",
       "      <td>0</td>\n",
       "      <td>0</td>\n",
       "      <td>1</td>\n",
       "      <td>0</td>\n",
       "      <td>0</td>\n",
       "      <td>0</td>\n",
       "      <td>0</td>\n",
       "      <td>0</td>\n",
       "      <td>0</td>\n",
       "      <td>0</td>\n",
       "    </tr>\n",
       "    <tr>\n",
       "      <th>785547</th>\n",
       "      <td>56</td>\n",
       "      <td>Chagas</td>\n",
       "      <td>0</td>\n",
       "      <td>0</td>\n",
       "      <td>0</td>\n",
       "      <td>0</td>\n",
       "      <td>0</td>\n",
       "      <td>0</td>\n",
       "      <td>0</td>\n",
       "      <td>0</td>\n",
       "      <td>...</td>\n",
       "      <td>0</td>\n",
       "      <td>0</td>\n",
       "      <td>1</td>\n",
       "      <td>0</td>\n",
       "      <td>0</td>\n",
       "      <td>0</td>\n",
       "      <td>0</td>\n",
       "      <td>0</td>\n",
       "      <td>0</td>\n",
       "      <td>0</td>\n",
       "    </tr>\n",
       "  </tbody>\n",
       "</table>\n",
       "<p>5 rows × 180 columns</p>\n",
       "</div>"
      ],
      "text/plain": [
       "         AGE                PATHOLOGY  swollen_nodes  std  sweating  diarrhea  \\\n",
       "605022    13              Anaphylaxis              0    0         0         0   \n",
       "1023449   87  HIV (initial infection)              0    0         0         0   \n",
       "787446    34                      SLE              0    0         0         0   \n",
       "665458    14  HIV (initial infection)              0    0         0         0   \n",
       "785547    56                   Chagas              0    0         0         0   \n",
       "\n",
       "         pain  pain_somewhere  pain_intensity  pain_precise  ...  \\\n",
       "605022      0               0               0             0  ...   \n",
       "1023449     0               0               0             0  ...   \n",
       "787446      0               0               0             0  ...   \n",
       "665458      0               0               0             0  ...   \n",
       "785547      0               0               0             0  ...   \n",
       "\n",
       "         swelling_location_forehead  swelling_location_nose  \\\n",
       "605022                            0                       0   \n",
       "1023449                           0                       0   \n",
       "787446                            0                       0   \n",
       "665458                            0                       0   \n",
       "785547                            0                       0   \n",
       "\n",
       "         swelling_location_nowhere  swelling_location_sole(L)  \\\n",
       "605022                           1                          0   \n",
       "1023449                          1                          0   \n",
       "787446                           1                          0   \n",
       "665458                           1                          0   \n",
       "785547                           1                          0   \n",
       "\n",
       "         swelling_location_sole(R)  swelling_location_thigh(L)  \\\n",
       "605022                           0                           0   \n",
       "1023449                          0                           0   \n",
       "787446                           0                           0   \n",
       "665458                           0                           0   \n",
       "785547                           0                           0   \n",
       "\n",
       "         swelling_location_thigh(R)  swelling_location_toe (1)(L)  \\\n",
       "605022                            0                             0   \n",
       "1023449                           0                             0   \n",
       "787446                            0                             0   \n",
       "665458                            0                             0   \n",
       "785547                            0                             0   \n",
       "\n",
       "         swelling_location_toe (1)(R)  SEX_M  \n",
       "605022                              0      0  \n",
       "1023449                             0      1  \n",
       "787446                              0      1  \n",
       "665458                              0      0  \n",
       "785547                              0      0  \n",
       "\n",
       "[5 rows x 180 columns]"
      ]
     },
     "execution_count": 43,
     "metadata": {},
     "output_type": "execute_result"
    }
   ],
   "source": [
    "# FINAL train_df dataset\n",
    "train_df.sample(5)"
   ]
  },
  {
   "cell_type": "code",
   "execution_count": null,
   "metadata": {},
   "outputs": [],
   "source": []
  },
  {
   "cell_type": "markdown",
   "metadata": {},
   "source": [
    "## Train-Test Split"
   ]
  },
  {
   "cell_type": "code",
   "execution_count": 44,
   "metadata": {},
   "outputs": [],
   "source": [
    "# inddependent variables\n",
    "X = train_df.drop(columns=['PATHOLOGY'])\n",
    "\n",
    "# dependent variable\n",
    "y = train_df['PATHOLOGY']"
   ]
  },
  {
   "cell_type": "code",
   "execution_count": 45,
   "metadata": {},
   "outputs": [],
   "source": [
    "# train test split\n",
    "# for now I am creating a train test split on the train_df itself\n",
    "# I will use the test and validate datasets later\n",
    "\n",
    "from sklearn.model_selection import train_test_split\n",
    "\n",
    "X_train, X_test, y_train, y_test = train_test_split(X, y, test_size=0.2, random_state=42)"
   ]
  },
  {
   "cell_type": "code",
   "execution_count": 46,
   "metadata": {},
   "outputs": [],
   "source": [
    "# scaling the data\n",
    "from sklearn.preprocessing import StandardScaler"
   ]
  },
  {
   "cell_type": "code",
   "execution_count": 47,
   "metadata": {},
   "outputs": [],
   "source": [
    "scaler = StandardScaler()"
   ]
  },
  {
   "cell_type": "code",
   "execution_count": 48,
   "metadata": {},
   "outputs": [
    {
     "data": {
      "text/html": [
       "<style>#sk-container-id-1 {color: black;}#sk-container-id-1 pre{padding: 0;}#sk-container-id-1 div.sk-toggleable {background-color: white;}#sk-container-id-1 label.sk-toggleable__label {cursor: pointer;display: block;width: 100%;margin-bottom: 0;padding: 0.3em;box-sizing: border-box;text-align: center;}#sk-container-id-1 label.sk-toggleable__label-arrow:before {content: \"▸\";float: left;margin-right: 0.25em;color: #696969;}#sk-container-id-1 label.sk-toggleable__label-arrow:hover:before {color: black;}#sk-container-id-1 div.sk-estimator:hover label.sk-toggleable__label-arrow:before {color: black;}#sk-container-id-1 div.sk-toggleable__content {max-height: 0;max-width: 0;overflow: hidden;text-align: left;background-color: #f0f8ff;}#sk-container-id-1 div.sk-toggleable__content pre {margin: 0.2em;color: black;border-radius: 0.25em;background-color: #f0f8ff;}#sk-container-id-1 input.sk-toggleable__control:checked~div.sk-toggleable__content {max-height: 200px;max-width: 100%;overflow: auto;}#sk-container-id-1 input.sk-toggleable__control:checked~label.sk-toggleable__label-arrow:before {content: \"▾\";}#sk-container-id-1 div.sk-estimator input.sk-toggleable__control:checked~label.sk-toggleable__label {background-color: #d4ebff;}#sk-container-id-1 div.sk-label input.sk-toggleable__control:checked~label.sk-toggleable__label {background-color: #d4ebff;}#sk-container-id-1 input.sk-hidden--visually {border: 0;clip: rect(1px 1px 1px 1px);clip: rect(1px, 1px, 1px, 1px);height: 1px;margin: -1px;overflow: hidden;padding: 0;position: absolute;width: 1px;}#sk-container-id-1 div.sk-estimator {font-family: monospace;background-color: #f0f8ff;border: 1px dotted black;border-radius: 0.25em;box-sizing: border-box;margin-bottom: 0.5em;}#sk-container-id-1 div.sk-estimator:hover {background-color: #d4ebff;}#sk-container-id-1 div.sk-parallel-item::after {content: \"\";width: 100%;border-bottom: 1px solid gray;flex-grow: 1;}#sk-container-id-1 div.sk-label:hover label.sk-toggleable__label {background-color: #d4ebff;}#sk-container-id-1 div.sk-serial::before {content: \"\";position: absolute;border-left: 1px solid gray;box-sizing: border-box;top: 0;bottom: 0;left: 50%;z-index: 0;}#sk-container-id-1 div.sk-serial {display: flex;flex-direction: column;align-items: center;background-color: white;padding-right: 0.2em;padding-left: 0.2em;position: relative;}#sk-container-id-1 div.sk-item {position: relative;z-index: 1;}#sk-container-id-1 div.sk-parallel {display: flex;align-items: stretch;justify-content: center;background-color: white;position: relative;}#sk-container-id-1 div.sk-item::before, #sk-container-id-1 div.sk-parallel-item::before {content: \"\";position: absolute;border-left: 1px solid gray;box-sizing: border-box;top: 0;bottom: 0;left: 50%;z-index: -1;}#sk-container-id-1 div.sk-parallel-item {display: flex;flex-direction: column;z-index: 1;position: relative;background-color: white;}#sk-container-id-1 div.sk-parallel-item:first-child::after {align-self: flex-end;width: 50%;}#sk-container-id-1 div.sk-parallel-item:last-child::after {align-self: flex-start;width: 50%;}#sk-container-id-1 div.sk-parallel-item:only-child::after {width: 0;}#sk-container-id-1 div.sk-dashed-wrapped {border: 1px dashed gray;margin: 0 0.4em 0.5em 0.4em;box-sizing: border-box;padding-bottom: 0.4em;background-color: white;}#sk-container-id-1 div.sk-label label {font-family: monospace;font-weight: bold;display: inline-block;line-height: 1.2em;}#sk-container-id-1 div.sk-label-container {text-align: center;}#sk-container-id-1 div.sk-container {/* jupyter's `normalize.less` sets `[hidden] { display: none; }` but bootstrap.min.css set `[hidden] { display: none !important; }` so we also need the `!important` here to be able to override the default hidden behavior on the sphinx rendered scikit-learn.org. See: https://github.com/scikit-learn/scikit-learn/issues/21755 */display: inline-block !important;position: relative;}#sk-container-id-1 div.sk-text-repr-fallback {display: none;}</style><div id=\"sk-container-id-1\" class=\"sk-top-container\"><div class=\"sk-text-repr-fallback\"><pre>StandardScaler()</pre><b>In a Jupyter environment, please rerun this cell to show the HTML representation or trust the notebook. <br />On GitHub, the HTML representation is unable to render, please try loading this page with nbviewer.org.</b></div><div class=\"sk-container\" hidden><div class=\"sk-item\"><div class=\"sk-estimator sk-toggleable\"><input class=\"sk-toggleable__control sk-hidden--visually\" id=\"sk-estimator-id-1\" type=\"checkbox\" checked><label for=\"sk-estimator-id-1\" class=\"sk-toggleable__label sk-toggleable__label-arrow\">StandardScaler</label><div class=\"sk-toggleable__content\"><pre>StandardScaler()</pre></div></div></div></div></div>"
      ],
      "text/plain": [
       "StandardScaler()"
      ]
     },
     "execution_count": 48,
     "metadata": {},
     "output_type": "execute_result"
    }
   ],
   "source": [
    "# fit the scaler on the training data\n",
    "scaler.fit(X_train)"
   ]
  },
  {
   "cell_type": "code",
   "execution_count": 49,
   "metadata": {},
   "outputs": [],
   "source": [
    "# transform the training and test data\n",
    "X_train_scaled = scaler.transform(X_train)\n",
    "X_test_scaled = scaler.transform(X_test)"
   ]
  },
  {
   "cell_type": "code",
   "execution_count": null,
   "metadata": {},
   "outputs": [],
   "source": []
  },
  {
   "cell_type": "markdown",
   "metadata": {},
   "source": [
    "# Models"
   ]
  },
  {
   "cell_type": "code",
   "execution_count": 50,
   "metadata": {},
   "outputs": [],
   "source": [
    "# metrics\n",
    "# accuracy, precision, recall, f1, classification report, confusion matrix\n",
    "from sklearn.metrics import accuracy_score, precision_score, recall_score, f1_score, classification_report, confusion_matrix"
   ]
  },
  {
   "cell_type": "markdown",
   "metadata": {},
   "source": [
    "### Logistic Regression"
   ]
  },
  {
   "cell_type": "code",
   "execution_count": 51,
   "metadata": {},
   "outputs": [],
   "source": [
    "from sklearn.linear_model import LogisticRegression"
   ]
  },
  {
   "cell_type": "code",
   "execution_count": 52,
   "metadata": {},
   "outputs": [
    {
     "data": {
      "text/html": [
       "<style>#sk-container-id-2 {color: black;}#sk-container-id-2 pre{padding: 0;}#sk-container-id-2 div.sk-toggleable {background-color: white;}#sk-container-id-2 label.sk-toggleable__label {cursor: pointer;display: block;width: 100%;margin-bottom: 0;padding: 0.3em;box-sizing: border-box;text-align: center;}#sk-container-id-2 label.sk-toggleable__label-arrow:before {content: \"▸\";float: left;margin-right: 0.25em;color: #696969;}#sk-container-id-2 label.sk-toggleable__label-arrow:hover:before {color: black;}#sk-container-id-2 div.sk-estimator:hover label.sk-toggleable__label-arrow:before {color: black;}#sk-container-id-2 div.sk-toggleable__content {max-height: 0;max-width: 0;overflow: hidden;text-align: left;background-color: #f0f8ff;}#sk-container-id-2 div.sk-toggleable__content pre {margin: 0.2em;color: black;border-radius: 0.25em;background-color: #f0f8ff;}#sk-container-id-2 input.sk-toggleable__control:checked~div.sk-toggleable__content {max-height: 200px;max-width: 100%;overflow: auto;}#sk-container-id-2 input.sk-toggleable__control:checked~label.sk-toggleable__label-arrow:before {content: \"▾\";}#sk-container-id-2 div.sk-estimator input.sk-toggleable__control:checked~label.sk-toggleable__label {background-color: #d4ebff;}#sk-container-id-2 div.sk-label input.sk-toggleable__control:checked~label.sk-toggleable__label {background-color: #d4ebff;}#sk-container-id-2 input.sk-hidden--visually {border: 0;clip: rect(1px 1px 1px 1px);clip: rect(1px, 1px, 1px, 1px);height: 1px;margin: -1px;overflow: hidden;padding: 0;position: absolute;width: 1px;}#sk-container-id-2 div.sk-estimator {font-family: monospace;background-color: #f0f8ff;border: 1px dotted black;border-radius: 0.25em;box-sizing: border-box;margin-bottom: 0.5em;}#sk-container-id-2 div.sk-estimator:hover {background-color: #d4ebff;}#sk-container-id-2 div.sk-parallel-item::after {content: \"\";width: 100%;border-bottom: 1px solid gray;flex-grow: 1;}#sk-container-id-2 div.sk-label:hover label.sk-toggleable__label {background-color: #d4ebff;}#sk-container-id-2 div.sk-serial::before {content: \"\";position: absolute;border-left: 1px solid gray;box-sizing: border-box;top: 0;bottom: 0;left: 50%;z-index: 0;}#sk-container-id-2 div.sk-serial {display: flex;flex-direction: column;align-items: center;background-color: white;padding-right: 0.2em;padding-left: 0.2em;position: relative;}#sk-container-id-2 div.sk-item {position: relative;z-index: 1;}#sk-container-id-2 div.sk-parallel {display: flex;align-items: stretch;justify-content: center;background-color: white;position: relative;}#sk-container-id-2 div.sk-item::before, #sk-container-id-2 div.sk-parallel-item::before {content: \"\";position: absolute;border-left: 1px solid gray;box-sizing: border-box;top: 0;bottom: 0;left: 50%;z-index: -1;}#sk-container-id-2 div.sk-parallel-item {display: flex;flex-direction: column;z-index: 1;position: relative;background-color: white;}#sk-container-id-2 div.sk-parallel-item:first-child::after {align-self: flex-end;width: 50%;}#sk-container-id-2 div.sk-parallel-item:last-child::after {align-self: flex-start;width: 50%;}#sk-container-id-2 div.sk-parallel-item:only-child::after {width: 0;}#sk-container-id-2 div.sk-dashed-wrapped {border: 1px dashed gray;margin: 0 0.4em 0.5em 0.4em;box-sizing: border-box;padding-bottom: 0.4em;background-color: white;}#sk-container-id-2 div.sk-label label {font-family: monospace;font-weight: bold;display: inline-block;line-height: 1.2em;}#sk-container-id-2 div.sk-label-container {text-align: center;}#sk-container-id-2 div.sk-container {/* jupyter's `normalize.less` sets `[hidden] { display: none; }` but bootstrap.min.css set `[hidden] { display: none !important; }` so we also need the `!important` here to be able to override the default hidden behavior on the sphinx rendered scikit-learn.org. See: https://github.com/scikit-learn/scikit-learn/issues/21755 */display: inline-block !important;position: relative;}#sk-container-id-2 div.sk-text-repr-fallback {display: none;}</style><div id=\"sk-container-id-2\" class=\"sk-top-container\"><div class=\"sk-text-repr-fallback\"><pre>LogisticRegression(max_iter=1000)</pre><b>In a Jupyter environment, please rerun this cell to show the HTML representation or trust the notebook. <br />On GitHub, the HTML representation is unable to render, please try loading this page with nbviewer.org.</b></div><div class=\"sk-container\" hidden><div class=\"sk-item\"><div class=\"sk-estimator sk-toggleable\"><input class=\"sk-toggleable__control sk-hidden--visually\" id=\"sk-estimator-id-2\" type=\"checkbox\" checked><label for=\"sk-estimator-id-2\" class=\"sk-toggleable__label sk-toggleable__label-arrow\">LogisticRegression</label><div class=\"sk-toggleable__content\"><pre>LogisticRegression(max_iter=1000)</pre></div></div></div></div></div>"
      ],
      "text/plain": [
       "LogisticRegression(max_iter=1000)"
      ]
     },
     "execution_count": 52,
     "metadata": {},
     "output_type": "execute_result"
    }
   ],
   "source": [
    "# fit the model\n",
    "lr = LogisticRegression(max_iter=1000)\n",
    "lr.fit(X_train_scaled, y_train)"
   ]
  },
  {
   "cell_type": "code",
   "execution_count": 53,
   "metadata": {},
   "outputs": [],
   "source": [
    "# test prediction\n",
    "y_pred = lr.predict(X_test_scaled)"
   ]
  },
  {
   "cell_type": "code",
   "execution_count": 54,
   "metadata": {},
   "outputs": [
    {
     "name": "stdout",
     "output_type": "stream",
     "text": [
      "                         precision    recall  f1-score   support\n",
      "\n",
      "     Allergic sinusitis       0.85      0.87      0.86      5175\n",
      "            Anaphylaxis       0.91      0.40      0.56      5633\n",
      "                 Chagas       0.99      0.24      0.38      1843\n",
      "                  Ebola       0.98      0.29      0.45       142\n",
      "HIV (initial infection)       0.37      0.50      0.43      5831\n",
      "              Influenza       0.64      0.34      0.44      5305\n",
      "        Localized edema       0.52      1.00      0.69      5615\n",
      "                    SLE       0.86      0.29      0.43      2426\n",
      "            Sarcoidosis       0.57      0.72      0.64      4154\n",
      "           Tuberculosis       0.53      0.61      0.57      3245\n",
      "         Whooping cough       1.00      1.00      1.00      1233\n",
      "\n",
      "               accuracy                           0.60     40602\n",
      "              macro avg       0.75      0.57      0.59     40602\n",
      "           weighted avg       0.68      0.60      0.59     40602\n",
      "\n",
      "[[4493    0    0    0    0    0    0    0    0  682    0]\n",
      " [   0 2266    2    1 1414    7 1492   31  395   25    0]\n",
      " [   0   25  434    0  603    7  355    2  391   26    0]\n",
      " [   3    2    0   41   55    2    0   11   20    8    0]\n",
      " [   0  118    2    0 2938  987  747   25  511  503    0]\n",
      " [ 549   29    0    0 1758 1808  680   33    2  446    0]\n",
      " [   0    2    0    0    0    0 5599    0   14    0    0]\n",
      " [   0   36    0    0  568    9  676  702  421   14    0]\n",
      " [   0    3    0    0   11    0 1131    5 2971   33    0]\n",
      " [ 245    4    2    0  533   15    0    4  477 1965    0]\n",
      " [   0    0    0    0    0    0    0    0    0    0 1233]]\n"
     ]
    }
   ],
   "source": [
    "# classification report and confusion matrix\n",
    "print(classification_report(y_test, y_pred))\n",
    "print(confusion_matrix(y_test, y_pred))"
   ]
  },
  {
   "cell_type": "code",
   "execution_count": 55,
   "metadata": {},
   "outputs": [
    {
     "data": {
      "text/plain": [
       "<Axes: >"
      ]
     },
     "execution_count": 55,
     "metadata": {},
     "output_type": "execute_result"
    },
    {
     "data": {
      "image/png": "[encoded data removed]",
      "text/plain": [
       "<Figure size 640x480 with 2 Axes>"
      ]
     },
     "metadata": {},
     "output_type": "display_data"
    }
   ],
   "source": [
    "# confusion matrix heatmap\n",
    "sns.heatmap(confusion_matrix(y_test, y_pred), annot=True, fmt='d')"
   ]
  },
  {
   "cell_type": "code",
   "execution_count": null,
   "metadata": {},
   "outputs": [],
   "source": []
  },
  {
   "cell_type": "markdown",
   "metadata": {},
   "source": [
    "### Decision Tree Classifier"
   ]
  },
  {
   "cell_type": "code",
   "execution_count": 56,
   "metadata": {},
   "outputs": [
    {
     "data": {
      "text/html": [
       "<style>#sk-container-id-3 {color: black;}#sk-container-id-3 pre{padding: 0;}#sk-container-id-3 div.sk-toggleable {background-color: white;}#sk-container-id-3 label.sk-toggleable__label {cursor: pointer;display: block;width: 100%;margin-bottom: 0;padding: 0.3em;box-sizing: border-box;text-align: center;}#sk-container-id-3 label.sk-toggleable__label-arrow:before {content: \"▸\";float: left;margin-right: 0.25em;color: #696969;}#sk-container-id-3 label.sk-toggleable__label-arrow:hover:before {color: black;}#sk-container-id-3 div.sk-estimator:hover label.sk-toggleable__label-arrow:before {color: black;}#sk-container-id-3 div.sk-toggleable__content {max-height: 0;max-width: 0;overflow: hidden;text-align: left;background-color: #f0f8ff;}#sk-container-id-3 div.sk-toggleable__content pre {margin: 0.2em;color: black;border-radius: 0.25em;background-color: #f0f8ff;}#sk-container-id-3 input.sk-toggleable__control:checked~div.sk-toggleable__content {max-height: 200px;max-width: 100%;overflow: auto;}#sk-container-id-3 input.sk-toggleable__control:checked~label.sk-toggleable__label-arrow:before {content: \"▾\";}#sk-container-id-3 div.sk-estimator input.sk-toggleable__control:checked~label.sk-toggleable__label {background-color: #d4ebff;}#sk-container-id-3 div.sk-label input.sk-toggleable__control:checked~label.sk-toggleable__label {background-color: #d4ebff;}#sk-container-id-3 input.sk-hidden--visually {border: 0;clip: rect(1px 1px 1px 1px);clip: rect(1px, 1px, 1px, 1px);height: 1px;margin: -1px;overflow: hidden;padding: 0;position: absolute;width: 1px;}#sk-container-id-3 div.sk-estimator {font-family: monospace;background-color: #f0f8ff;border: 1px dotted black;border-radius: 0.25em;box-sizing: border-box;margin-bottom: 0.5em;}#sk-container-id-3 div.sk-estimator:hover {background-color: #d4ebff;}#sk-container-id-3 div.sk-parallel-item::after {content: \"\";width: 100%;border-bottom: 1px solid gray;flex-grow: 1;}#sk-container-id-3 div.sk-label:hover label.sk-toggleable__label {background-color: #d4ebff;}#sk-container-id-3 div.sk-serial::before {content: \"\";position: absolute;border-left: 1px solid gray;box-sizing: border-box;top: 0;bottom: 0;left: 50%;z-index: 0;}#sk-container-id-3 div.sk-serial {display: flex;flex-direction: column;align-items: center;background-color: white;padding-right: 0.2em;padding-left: 0.2em;position: relative;}#sk-container-id-3 div.sk-item {position: relative;z-index: 1;}#sk-container-id-3 div.sk-parallel {display: flex;align-items: stretch;justify-content: center;background-color: white;position: relative;}#sk-container-id-3 div.sk-item::before, #sk-container-id-3 div.sk-parallel-item::before {content: \"\";position: absolute;border-left: 1px solid gray;box-sizing: border-box;top: 0;bottom: 0;left: 50%;z-index: -1;}#sk-container-id-3 div.sk-parallel-item {display: flex;flex-direction: column;z-index: 1;position: relative;background-color: white;}#sk-container-id-3 div.sk-parallel-item:first-child::after {align-self: flex-end;width: 50%;}#sk-container-id-3 div.sk-parallel-item:last-child::after {align-self: flex-start;width: 50%;}#sk-container-id-3 div.sk-parallel-item:only-child::after {width: 0;}#sk-container-id-3 div.sk-dashed-wrapped {border: 1px dashed gray;margin: 0 0.4em 0.5em 0.4em;box-sizing: border-box;padding-bottom: 0.4em;background-color: white;}#sk-container-id-3 div.sk-label label {font-family: monospace;font-weight: bold;display: inline-block;line-height: 1.2em;}#sk-container-id-3 div.sk-label-container {text-align: center;}#sk-container-id-3 div.sk-container {/* jupyter's `normalize.less` sets `[hidden] { display: none; }` but bootstrap.min.css set `[hidden] { display: none !important; }` so we also need the `!important` here to be able to override the default hidden behavior on the sphinx rendered scikit-learn.org. See: https://github.com/scikit-learn/scikit-learn/issues/21755 */display: inline-block !important;position: relative;}#sk-container-id-3 div.sk-text-repr-fallback {display: none;}</style><div id=\"sk-container-id-3\" class=\"sk-top-container\"><div class=\"sk-text-repr-fallback\"><pre>DecisionTreeClassifier(random_state=42)</pre><b>In a Jupyter environment, please rerun this cell to show the HTML representation or trust the notebook. <br />On GitHub, the HTML representation is unable to render, please try loading this page with nbviewer.org.</b></div><div class=\"sk-container\" hidden><div class=\"sk-item\"><div class=\"sk-estimator sk-toggleable\"><input class=\"sk-toggleable__control sk-hidden--visually\" id=\"sk-estimator-id-3\" type=\"checkbox\" checked><label for=\"sk-estimator-id-3\" class=\"sk-toggleable__label sk-toggleable__label-arrow\">DecisionTreeClassifier</label><div class=\"sk-toggleable__content\"><pre>DecisionTreeClassifier(random_state=42)</pre></div></div></div></div></div>"
      ],
      "text/plain": [
       "DecisionTreeClassifier(random_state=42)"
      ]
     },
     "execution_count": 56,
     "metadata": {},
     "output_type": "execute_result"
    }
   ],
   "source": [
    "from sklearn.tree import DecisionTreeClassifier\n",
    "\n",
    "dt = DecisionTreeClassifier(random_state=42)\n",
    "dt.fit(X_train_scaled, y_train)"
   ]
  },
  {
   "cell_type": "code",
   "execution_count": 57,
   "metadata": {},
   "outputs": [],
   "source": [
    "# test prediction\n",
    "y_pred = dt.predict(X_test_scaled)"
   ]
  },
  {
   "cell_type": "code",
   "execution_count": 58,
   "metadata": {},
   "outputs": [
    {
     "name": "stdout",
     "output_type": "stream",
     "text": [
      "                         precision    recall  f1-score   support\n",
      "\n",
      "     Allergic sinusitis       0.82      0.87      0.84      5175\n",
      "            Anaphylaxis       0.63      0.52      0.57      5633\n",
      "                 Chagas       0.57      0.26      0.36      1843\n",
      "                  Ebola       0.59      0.30      0.40       142\n",
      "HIV (initial infection)       0.41      0.41      0.41      5831\n",
      "              Influenza       0.52      0.35      0.42      5305\n",
      "        Localized edema       0.54      0.92      0.68      5615\n",
      "                    SLE       0.55      0.34      0.42      2426\n",
      "            Sarcoidosis       0.60      0.63      0.62      4154\n",
      "           Tuberculosis       0.50      0.53      0.51      3245\n",
      "         Whooping cough       1.00      1.00      1.00      1233\n",
      "\n",
      "               accuracy                           0.58     40602\n",
      "              macro avg       0.61      0.56      0.57     40602\n",
      "           weighted avg       0.59      0.58      0.57     40602\n",
      "\n",
      "[[4503    0    0    2    0  165    0    0    0  505    0]\n",
      " [   0 2909   87    3  646  100 1360  175  273   80    0]\n",
      " [   0  196  482    1  384   48  294   39  298  101    0]\n",
      " [   5    8    1   43   37   14    0   13   13    8    0]\n",
      " [   0  680  112    6 2366 1064  656  114  414  419    0]\n",
      " [ 603  252   22    5 1415 1868  572  110   32  426    0]\n",
      " [   0  156   30    0   41   50 5181   39  118    0    0]\n",
      " [   0  313   17    9  214   93  601  827  273   79    0]\n",
      " [   0   62   63    3  181   26  979  112 2614  114    0]\n",
      " [ 378   44   28    1  531  186    0   68  298 1711    0]\n",
      " [   0    0    0    0    0    0    0    0    0    0 1233]]\n"
     ]
    }
   ],
   "source": [
    "# classification report, confusion matrix\n",
    "print(classification_report(y_test, y_pred))\n",
    "print(confusion_matrix(y_test, y_pred))"
   ]
  },
  {
   "cell_type": "code",
   "execution_count": 59,
   "metadata": {},
   "outputs": [
    {
     "data": {
      "text/plain": [
       "<Axes: >"
      ]
     },
     "execution_count": 59,
     "metadata": {},
     "output_type": "execute_result"
    },
    {
     "data": {
      "image/png": "[encoded data removed]",
      "text/plain": [
       "<Figure size 640x480 with 2 Axes>"
      ]
     },
     "metadata": {},
     "output_type": "display_data"
    }
   ],
   "source": [
    "sns.heatmap(confusion_matrix(y_test, y_pred), annot=True, fmt='d')"
   ]
  },
  {
   "cell_type": "markdown",
   "metadata": {},
   "source": [
    "### Random Forest"
   ]
  },
  {
   "cell_type": "code",
   "execution_count": 60,
   "metadata": {},
   "outputs": [],
   "source": [
    "from sklearn.ensemble import RandomForestClassifier"
   ]
  },
  {
   "cell_type": "code",
   "execution_count": 61,
   "metadata": {},
   "outputs": [
    {
     "data": {
      "text/html": [
       "<style>#sk-container-id-4 {color: black;}#sk-container-id-4 pre{padding: 0;}#sk-container-id-4 div.sk-toggleable {background-color: white;}#sk-container-id-4 label.sk-toggleable__label {cursor: pointer;display: block;width: 100%;margin-bottom: 0;padding: 0.3em;box-sizing: border-box;text-align: center;}#sk-container-id-4 label.sk-toggleable__label-arrow:before {content: \"▸\";float: left;margin-right: 0.25em;color: #696969;}#sk-container-id-4 label.sk-toggleable__label-arrow:hover:before {color: black;}#sk-container-id-4 div.sk-estimator:hover label.sk-toggleable__label-arrow:before {color: black;}#sk-container-id-4 div.sk-toggleable__content {max-height: 0;max-width: 0;overflow: hidden;text-align: left;background-color: #f0f8ff;}#sk-container-id-4 div.sk-toggleable__content pre {margin: 0.2em;color: black;border-radius: 0.25em;background-color: #f0f8ff;}#sk-container-id-4 input.sk-toggleable__control:checked~div.sk-toggleable__content {max-height: 200px;max-width: 100%;overflow: auto;}#sk-container-id-4 input.sk-toggleable__control:checked~label.sk-toggleable__label-arrow:before {content: \"▾\";}#sk-container-id-4 div.sk-estimator input.sk-toggleable__control:checked~label.sk-toggleable__label {background-color: #d4ebff;}#sk-container-id-4 div.sk-label input.sk-toggleable__control:checked~label.sk-toggleable__label {background-color: #d4ebff;}#sk-container-id-4 input.sk-hidden--visually {border: 0;clip: rect(1px 1px 1px 1px);clip: rect(1px, 1px, 1px, 1px);height: 1px;margin: -1px;overflow: hidden;padding: 0;position: absolute;width: 1px;}#sk-container-id-4 div.sk-estimator {font-family: monospace;background-color: #f0f8ff;border: 1px dotted black;border-radius: 0.25em;box-sizing: border-box;margin-bottom: 0.5em;}#sk-container-id-4 div.sk-estimator:hover {background-color: #d4ebff;}#sk-container-id-4 div.sk-parallel-item::after {content: \"\";width: 100%;border-bottom: 1px solid gray;flex-grow: 1;}#sk-container-id-4 div.sk-label:hover label.sk-toggleable__label {background-color: #d4ebff;}#sk-container-id-4 div.sk-serial::before {content: \"\";position: absolute;border-left: 1px solid gray;box-sizing: border-box;top: 0;bottom: 0;left: 50%;z-index: 0;}#sk-container-id-4 div.sk-serial {display: flex;flex-direction: column;align-items: center;background-color: white;padding-right: 0.2em;padding-left: 0.2em;position: relative;}#sk-container-id-4 div.sk-item {position: relative;z-index: 1;}#sk-container-id-4 div.sk-parallel {display: flex;align-items: stretch;justify-content: center;background-color: white;position: relative;}#sk-container-id-4 div.sk-item::before, #sk-container-id-4 div.sk-parallel-item::before {content: \"\";position: absolute;border-left: 1px solid gray;box-sizing: border-box;top: 0;bottom: 0;left: 50%;z-index: -1;}#sk-container-id-4 div.sk-parallel-item {display: flex;flex-direction: column;z-index: 1;position: relative;background-color: white;}#sk-container-id-4 div.sk-parallel-item:first-child::after {align-self: flex-end;width: 50%;}#sk-container-id-4 div.sk-parallel-item:last-child::after {align-self: flex-start;width: 50%;}#sk-container-id-4 div.sk-parallel-item:only-child::after {width: 0;}#sk-container-id-4 div.sk-dashed-wrapped {border: 1px dashed gray;margin: 0 0.4em 0.5em 0.4em;box-sizing: border-box;padding-bottom: 0.4em;background-color: white;}#sk-container-id-4 div.sk-label label {font-family: monospace;font-weight: bold;display: inline-block;line-height: 1.2em;}#sk-container-id-4 div.sk-label-container {text-align: center;}#sk-container-id-4 div.sk-container {/* jupyter's `normalize.less` sets `[hidden] { display: none; }` but bootstrap.min.css set `[hidden] { display: none !important; }` so we also need the `!important` here to be able to override the default hidden behavior on the sphinx rendered scikit-learn.org. See: https://github.com/scikit-learn/scikit-learn/issues/21755 */display: inline-block !important;position: relative;}#sk-container-id-4 div.sk-text-repr-fallback {display: none;}</style><div id=\"sk-container-id-4\" class=\"sk-top-container\"><div class=\"sk-text-repr-fallback\"><pre>RandomForestClassifier(random_state=42)</pre><b>In a Jupyter environment, please rerun this cell to show the HTML representation or trust the notebook. <br />On GitHub, the HTML representation is unable to render, please try loading this page with nbviewer.org.</b></div><div class=\"sk-container\" hidden><div class=\"sk-item\"><div class=\"sk-estimator sk-toggleable\"><input class=\"sk-toggleable__control sk-hidden--visually\" id=\"sk-estimator-id-4\" type=\"checkbox\" checked><label for=\"sk-estimator-id-4\" class=\"sk-toggleable__label sk-toggleable__label-arrow\">RandomForestClassifier</label><div class=\"sk-toggleable__content\"><pre>RandomForestClassifier(random_state=42)</pre></div></div></div></div></div>"
      ],
      "text/plain": [
       "RandomForestClassifier(random_state=42)"
      ]
     },
     "execution_count": 61,
     "metadata": {},
     "output_type": "execute_result"
    }
   ],
   "source": [
    "# fitting the model\n",
    "rf = RandomForestClassifier(random_state=42)\n",
    "rf.fit(X_train_scaled, y_train)"
   ]
  },
  {
   "cell_type": "code",
   "execution_count": 62,
   "metadata": {},
   "outputs": [],
   "source": [
    "# prediction\n",
    "y_pred = rf.predict(X_test_scaled)"
   ]
  },
  {
   "cell_type": "code",
   "execution_count": 63,
   "metadata": {},
   "outputs": [
    {
     "name": "stdout",
     "output_type": "stream",
     "text": [
      "                         precision    recall  f1-score   support\n",
      "\n",
      "     Allergic sinusitis       0.82      0.89      0.85      5175\n",
      "            Anaphylaxis       0.66      0.50      0.57      5633\n",
      "                 Chagas       0.79      0.24      0.37      1843\n",
      "                  Ebola       0.88      0.30      0.45       142\n",
      "HIV (initial infection)       0.41      0.40      0.40      5831\n",
      "              Influenza       0.55      0.36      0.43      5305\n",
      "        Localized edema       0.53      0.97      0.69      5615\n",
      "                    SLE       0.60      0.33      0.43      2426\n",
      "            Sarcoidosis       0.60      0.64      0.62      4154\n",
      "           Tuberculosis       0.49      0.56      0.52      3245\n",
      "         Whooping cough       1.00      1.00      1.00      1233\n",
      "\n",
      "               accuracy                           0.59     40602\n",
      "              macro avg       0.67      0.56      0.58     40602\n",
      "           weighted avg       0.61      0.59      0.58     40602\n",
      "\n",
      "[[4599    0    0    1    0   64    0    0    0  511    0]\n",
      " [   0 2811   37    0  728   74 1439  155  290   99    0]\n",
      " [   0  175  449    1  404   45  326   22  312  109    0]\n",
      " [   6    5    1   43   37   12    0   13   15   10    0]\n",
      " [   0  618   56    0 2329 1120  709  106  427  466    0]\n",
      " [ 638  228    5    1 1362 1888  627  100   24  432    0]\n",
      " [   0   27    4    0    9   15 5461   22   77    0    0]\n",
      " [   0  293    3    1  207   89  656  801  291   85    0]\n",
      " [   0   48   11    0  139    5 1068   71 2670  142    0]\n",
      " [ 397   32    3    2  493  143    0   41  326 1808    0]\n",
      " [   0    0    0    0    0    0    0    0    0    0 1233]]\n"
     ]
    }
   ],
   "source": [
    "# classification report and confusion matrix\n",
    "print(classification_report(y_test, y_pred))\n",
    "print(confusion_matrix(y_test, y_pred))"
   ]
  },
  {
   "cell_type": "code",
   "execution_count": 64,
   "metadata": {},
   "outputs": [
    {
     "data": {
      "text/plain": [
       "<Axes: >"
      ]
     },
     "execution_count": 64,
     "metadata": {},
     "output_type": "execute_result"
    },
    {
     "data": {
      "image/png": "[encoded data removed]",
      "text/plain": [
       "<Figure size 640x480 with 2 Axes>"
      ]
     },
     "metadata": {},
     "output_type": "display_data"
    }
   ],
   "source": [
    "# confusion matrix heatmap\n",
    "sns.heatmap(confusion_matrix(y_test, y_pred), annot=True, fmt='d')"
   ]
  },
  {
   "cell_type": "code",
   "execution_count": null,
   "metadata": {},
   "outputs": [],
   "source": []
  },
  {
   "cell_type": "markdown",
   "metadata": {},
   "source": [
    "### XGBoost"
   ]
  },
  {
   "cell_type": "code",
   "execution_count": 65,
   "metadata": {},
   "outputs": [],
   "source": [
    "# XGBoost classifier\n",
    "from xgboost import XGBClassifier"
   ]
  },
  {
   "cell_type": "code",
   "execution_count": 89,
   "metadata": {},
   "outputs": [],
   "source": [
    "# defining the f2 metric (since there isn't one built-in, it's a common special case of fbeta metric)\n",
    "# Note: this is the negative since xgboost minimizes its objective function\n",
    "\n",
    "# import fbeta_score\n",
    "from sklearn.metrics import fbeta_score\n",
    "\n",
    "def f2_eval(y_pred, dmatrix):\n",
    "    y_true = dmatrix.get_label()\n",
    "    y_pred_binary = (y_pred > 0.5).astype(int)\n",
    "\n",
    "    f2 = fbeta_score(y_true, y_pred_binary, beta=2)\n",
    "    \n",
    "    return 'f2_score', -f2"
   ]
  },
  {
   "cell_type": "code",
   "execution_count": 70,
   "metadata": {},
   "outputs": [
    {
     "data": {
      "text/plain": [
       "array([0.86184005, 0.70212012, 0.86184005, ..., 0.70212012, 0.6647538 ,\n",
       "       0.63688128])"
      ]
     },
     "execution_count": 70,
     "metadata": {},
     "output_type": "execute_result"
    }
   ],
   "source": [
    "# computing weights for the classes\n",
    "# helps since the classes are imbalanced in our dataset\n",
    "from sklearn.utils.class_weight import compute_sample_weight\n",
    "\n",
    "sample_weights = compute_sample_weight(class_weight='balanced', y=y_train)\n",
    "sample_weights"
   ]
  },
  {
   "cell_type": "code",
   "execution_count": 106,
   "metadata": {},
   "outputs": [],
   "source": [
    "# xgboost requires the labels to be integers\n",
    "# converting the y labels to integers from 0 to 10\n",
    "# doing it for train and test data\n",
    "y_train_int = y_train.astype('category').cat.codes\n",
    "y_test_int = y_test.astype('category').cat.codes"
   ]
  },
  {
   "cell_type": "code",
   "execution_count": 107,
   "metadata": {},
   "outputs": [],
   "source": [
    "#y_train.value_counts(), y_train_int.value_counts()\n",
    "#y_test.value_counts(), y_test_int.value_counts()"
   ]
  },
  {
   "cell_type": "code",
   "execution_count": 120,
   "metadata": {},
   "outputs": [],
   "source": [
    "# making the xgboost model and training it to make sure everything's set up properly\n",
    "# objective = multi:softmax for multiclass classification\n",
    "# missing = -999 because we don't have any missing data\n",
    "# seed = 42 is random, just using 42 for all random seeds\n",
    "# sample weight is the class weights we computed above\n",
    "# learning_rate=0.3 to start out high and make hyperparameter tuning faster\n",
    "# we'll tune the other hyperparameters below\n",
    "\n",
    "xgb_clf = XGBClassifier(objective='multi:softmax', \n",
    "                                missing=-999, \n",
    "                                seed=42, \n",
    "                                learning_rate=0.3,\n",
    "                                early_stopping_rounds = 20)"
   ]
  },
  {
   "cell_type": "code",
   "execution_count": 121,
   "metadata": {},
   "outputs": [
    {
     "name": "stdout",
     "output_type": "stream",
     "text": [
      "[0]\tvalidation_0-mlogloss:1.75978\n",
      "[1]\tvalidation_0-mlogloss:1.56949\n",
      "[2]\tvalidation_0-mlogloss:1.44640\n",
      "[3]\tvalidation_0-mlogloss:1.35575\n",
      "[4]\tvalidation_0-mlogloss:1.28630\n",
      "[5]\tvalidation_0-mlogloss:1.23367\n",
      "[6]\tvalidation_0-mlogloss:1.18985\n",
      "[7]\tvalidation_0-mlogloss:1.15458\n",
      "[8]\tvalidation_0-mlogloss:1.12460\n",
      "[9]\tvalidation_0-mlogloss:1.10052\n",
      "[10]\tvalidation_0-mlogloss:1.08020\n",
      "[11]\tvalidation_0-mlogloss:1.06281\n",
      "[12]\tvalidation_0-mlogloss:1.04767\n",
      "[13]\tvalidation_0-mlogloss:1.03572\n",
      "[14]\tvalidation_0-mlogloss:1.02438\n",
      "[15]\tvalidation_0-mlogloss:1.01600\n",
      "[16]\tvalidation_0-mlogloss:1.00702\n",
      "[17]\tvalidation_0-mlogloss:0.99970\n",
      "[18]\tvalidation_0-mlogloss:0.99408\n",
      "[19]\tvalidation_0-mlogloss:0.98782\n",
      "[20]\tvalidation_0-mlogloss:0.98343\n",
      "[21]\tvalidation_0-mlogloss:0.97896\n",
      "[22]\tvalidation_0-mlogloss:0.97512\n",
      "[23]\tvalidation_0-mlogloss:0.97158\n",
      "[24]\tvalidation_0-mlogloss:0.96834\n",
      "[25]\tvalidation_0-mlogloss:0.96563\n",
      "[26]\tvalidation_0-mlogloss:0.96335\n",
      "[27]\tvalidation_0-mlogloss:0.96106\n",
      "[28]\tvalidation_0-mlogloss:0.95893\n",
      "[29]\tvalidation_0-mlogloss:0.95720\n",
      "[30]\tvalidation_0-mlogloss:0.95558\n",
      "[31]\tvalidation_0-mlogloss:0.95404\n",
      "[32]\tvalidation_0-mlogloss:0.95270\n",
      "[33]\tvalidation_0-mlogloss:0.95143\n",
      "[34]\tvalidation_0-mlogloss:0.95017\n",
      "[35]\tvalidation_0-mlogloss:0.94906\n",
      "[36]\tvalidation_0-mlogloss:0.94800\n",
      "[37]\tvalidation_0-mlogloss:0.94724\n",
      "[38]\tvalidation_0-mlogloss:0.94628\n",
      "[39]\tvalidation_0-mlogloss:0.94543\n",
      "[40]\tvalidation_0-mlogloss:0.94471\n",
      "[41]\tvalidation_0-mlogloss:0.94387\n",
      "[42]\tvalidation_0-mlogloss:0.94338\n",
      "[43]\tvalidation_0-mlogloss:0.94274\n",
      "[44]\tvalidation_0-mlogloss:0.94220\n",
      "[45]\tvalidation_0-mlogloss:0.94174\n",
      "[46]\tvalidation_0-mlogloss:0.94122\n",
      "[47]\tvalidation_0-mlogloss:0.94083\n",
      "[48]\tvalidation_0-mlogloss:0.94024\n",
      "[49]\tvalidation_0-mlogloss:0.93968\n",
      "[50]\tvalidation_0-mlogloss:0.93940\n",
      "[51]\tvalidation_0-mlogloss:0.93903\n",
      "[52]\tvalidation_0-mlogloss:0.93871\n",
      "[53]\tvalidation_0-mlogloss:0.93828\n",
      "[54]\tvalidation_0-mlogloss:0.93797\n",
      "[55]\tvalidation_0-mlogloss:0.93783\n",
      "[56]\tvalidation_0-mlogloss:0.93759\n",
      "[57]\tvalidation_0-mlogloss:0.93726\n",
      "[58]\tvalidation_0-mlogloss:0.93709\n",
      "[59]\tvalidation_0-mlogloss:0.93691\n",
      "[60]\tvalidation_0-mlogloss:0.93675\n",
      "[61]\tvalidation_0-mlogloss:0.93649\n",
      "[62]\tvalidation_0-mlogloss:0.93634\n",
      "[63]\tvalidation_0-mlogloss:0.93614\n",
      "[64]\tvalidation_0-mlogloss:0.93594\n",
      "[65]\tvalidation_0-mlogloss:0.93570\n",
      "[66]\tvalidation_0-mlogloss:0.93550\n",
      "[67]\tvalidation_0-mlogloss:0.93533\n",
      "[68]\tvalidation_0-mlogloss:0.93524\n",
      "[69]\tvalidation_0-mlogloss:0.93513\n",
      "[70]\tvalidation_0-mlogloss:0.93500\n",
      "[71]\tvalidation_0-mlogloss:0.93490\n",
      "[72]\tvalidation_0-mlogloss:0.93479\n",
      "[73]\tvalidation_0-mlogloss:0.93480\n",
      "[74]\tvalidation_0-mlogloss:0.93446\n",
      "[75]\tvalidation_0-mlogloss:0.93417\n",
      "[76]\tvalidation_0-mlogloss:0.93406\n",
      "[77]\tvalidation_0-mlogloss:0.93390\n",
      "[78]\tvalidation_0-mlogloss:0.93357\n",
      "[79]\tvalidation_0-mlogloss:0.93352\n",
      "[80]\tvalidation_0-mlogloss:0.93361\n",
      "[81]\tvalidation_0-mlogloss:0.93349\n",
      "[82]\tvalidation_0-mlogloss:0.93320\n",
      "[83]\tvalidation_0-mlogloss:0.93312\n",
      "[84]\tvalidation_0-mlogloss:0.93315\n",
      "[85]\tvalidation_0-mlogloss:0.93304\n",
      "[86]\tvalidation_0-mlogloss:0.93288\n",
      "[87]\tvalidation_0-mlogloss:0.93280\n",
      "[88]\tvalidation_0-mlogloss:0.93271\n",
      "[89]\tvalidation_0-mlogloss:0.93254\n",
      "[90]\tvalidation_0-mlogloss:0.93240\n",
      "[91]\tvalidation_0-mlogloss:0.93244\n",
      "[92]\tvalidation_0-mlogloss:0.93233\n",
      "[93]\tvalidation_0-mlogloss:0.93226\n",
      "[94]\tvalidation_0-mlogloss:0.93223\n",
      "[95]\tvalidation_0-mlogloss:0.93216\n",
      "[96]\tvalidation_0-mlogloss:0.93212\n",
      "[97]\tvalidation_0-mlogloss:0.93199\n",
      "[98]\tvalidation_0-mlogloss:0.93196\n",
      "[99]\tvalidation_0-mlogloss:0.93176\n"
     ]
    }
   ],
   "source": [
    "# fitting the model\n",
    "xgb_clf = xgb_clf.fit(X_train_scaled,\n",
    "                      y_train_int, \n",
    "                      verbose=True, \n",
    "                      sample_weight=sample_weights,\n",
    "                      eval_set = [(X_test_scaled, y_test_int)])"
   ]
  },
  {
   "cell_type": "code",
   "execution_count": 122,
   "metadata": {},
   "outputs": [],
   "source": [
    "# predicting on the test data\n",
    "y_pred = xgb_clf.predict(X_test_scaled)"
   ]
  },
  {
   "cell_type": "code",
   "execution_count": 123,
   "metadata": {},
   "outputs": [
    {
     "name": "stdout",
     "output_type": "stream",
     "text": [
      "              precision    recall  f1-score   support\n",
      "\n",
      "           0       0.88      0.83      0.85      5175\n",
      "           1       0.98      0.38      0.55      5633\n",
      "           2       0.38      0.39      0.38      1843\n",
      "           3       0.04      0.51      0.08       142\n",
      "           4       0.49      0.08      0.14      5831\n",
      "           5       0.64      0.34      0.44      5305\n",
      "           6       0.53      0.98      0.69      5615\n",
      "           7       0.31      0.66      0.42      2426\n",
      "           8       0.72      0.58      0.64      4154\n",
      "           9       0.44      0.81      0.57      3245\n",
      "          10       1.00      1.00      1.00      1233\n",
      "\n",
      "    accuracy                           0.56     40602\n",
      "   macro avg       0.58      0.60      0.52     40602\n",
      "weighted avg       0.65      0.56      0.54     40602\n",
      "\n",
      "[[4283    0    0    8    0    1    0    0    0  883    0]\n",
      " [   0 2165  522  258   42    1 1458 1088   57   42    0]\n",
      " [   0    5  717  138   19    2  337  189  198  238    0]\n",
      " [   0    0   16   72    5    4    0   26    2   17    0]\n",
      " [   0   15  550  724  478  974  716  748  522 1104    0]\n",
      " [ 474    4   12  397  394 1778  642  592   11 1001    0]\n",
      " [   0    5    8    0    1    2 5514   49   36    0    0]\n",
      " [   0    4    7   50   15    0  651 1609   61   29    0]\n",
      " [   0    1   33   24    7    0 1074  552 2404   59    0]\n",
      " [ 111    0   26   15   22    3    0  395   51 2622    0]\n",
      " [   0    0    0    0    0    0    0    0    0    0 1233]]\n"
     ]
    }
   ],
   "source": [
    "# classification report and confusion matrix\n",
    "print(classification_report(y_test_int, y_pred))\n",
    "print(confusion_matrix(y_test_int, y_pred))"
   ]
  },
  {
   "cell_type": "code",
   "execution_count": 124,
   "metadata": {},
   "outputs": [
    {
     "data": {
      "text/plain": [
       "<Axes: >"
      ]
     },
     "execution_count": 124,
     "metadata": {},
     "output_type": "execute_result"
    },
    {
     "data": {
      "image/png": "[encoded data removed]",
      "text/plain": [
       "<Figure size 640x480 with 2 Axes>"
      ]
     },
     "metadata": {},
     "output_type": "display_data"
    }
   ],
   "source": [
    "# confusion matrix heatmap\n",
    "sns.heatmap(confusion_matrix(y_test_int, y_pred), annot=True, fmt='d')"
   ]
  },
  {
   "cell_type": "code",
   "execution_count": null,
   "metadata": {},
   "outputs": [],
   "source": []
  }
 ],
 "metadata": {
  "kernelspec": {
   "display_name": "base",
   "language": "python",
   "name": "python3"
  },
  "language_info": {
   "codemirror_mode": {
    "name": "ipython",
    "version": 3
   },
   "file_extension": ".py",
   "mimetype": "text/x-python",
   "name": "python",
   "nbconvert_exporter": "python",
   "pygments_lexer": "ipython3",
   "version": "3.11.4"
  }
 },
 "nbformat": 4,
 "nbformat_minor": 2
}
