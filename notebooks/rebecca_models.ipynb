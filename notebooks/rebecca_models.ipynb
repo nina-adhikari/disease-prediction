{
 "cells": [
  {
   "cell_type": "code",
   "execution_count": 33,
   "metadata": {},
   "outputs": [],
   "source": [
    "from disease_prediction.data import datasets as ds\n",
    "import pandas as pd\n",
    "import numpy as np\n",
    "import matplotlib.pyplot as plt"
   ]
  },
  {
   "cell_type": "markdown",
   "metadata": {},
   "source": [
    "# Loading data"
   ]
  },
  {
   "cell_type": "code",
   "execution_count": 2,
   "metadata": {},
   "outputs": [],
   "source": [
    "df = ds.load_datasets(subsets=['train', 'validate', 'test'],\n",
    "                       directory='/Users/rebeccaceppas/Desktop/code/disease_prediction/disease_prediction/data/')\n",
    "\n",
    "_df = df['train']\n",
    "df_test = df['test']\n",
    "df_validate = df['validate']"
   ]
  },
  {
   "cell_type": "markdown",
   "metadata": {},
   "source": [
    "# Pre-processing\n",
    "\n",
    "- remove ebola from possible diseases\n",
    "- turn initial evidence into dummy binary columns\n",
    "- turn pain_char into dummy binaries\n",
    "- turn pain somewhere into binary (yes or no only)\n",
    "- turn lesion color into dummy binaries\n",
    "- remove lesions peeling column (all N)\n",
    "- remove pain_radiate column (all N)\n",
    "- turn lesion_location to binary (yes or no only)\n",
    "- turn lesion_larger_than_1cm into binary (YN now)\n",
    "- turn trav1 into dummies (or YN binary) -- want to check if there are correlations between travel contries and pathologies\n",
    "- swelling location turn to binary (YN only)"
   ]
  },
  {
   "cell_type": "code",
   "execution_count": 3,
   "metadata": {},
   "outputs": [
    {
     "name": "stdout",
     "output_type": "stream",
     "text": [
      "<class 'disease_prediction.data.datasets.DiagDataFrame'>\n",
      "Index: 203008 entries, 1 to 1023494\n",
      "Data columns (total 94 columns):\n",
      " #   Column                  Non-Null Count   Dtype \n",
      "---  ------                  --------------   ----- \n",
      " 0   AGE                     203008 non-null  int64 \n",
      " 1   SEX                     203008 non-null  object\n",
      " 2   PATHOLOGY               203008 non-null  object\n",
      " 3   INITIAL_EVIDENCE        203008 non-null  object\n",
      " 4   swollen_nodes           203008 non-null  int64 \n",
      " 5   std                     203008 non-null  int64 \n",
      " 6   sweating                203008 non-null  int64 \n",
      " 7   diarrhea                203008 non-null  int64 \n",
      " 8   pain                    203008 non-null  int64 \n",
      " 9   pain_char               203008 non-null  object\n",
      " 10  pain_somewhere          203008 non-null  object\n",
      " 11  pain_intensity          203008 non-null  int64 \n",
      " 12  pain_radiate            203008 non-null  object\n",
      " 13  pain_precise            203008 non-null  int64 \n",
      " 14  pain_sudden             203008 non-null  int64 \n",
      " 15  fever                   203008 non-null  int64 \n",
      " 16  unprotected_sex         203008 non-null  int64 \n",
      " 17  lesions                 203008 non-null  int64 \n",
      " 18  lesion_color            203008 non-null  object\n",
      " 19  lesions_peeling         203008 non-null  object\n",
      " 20  lesion_pain_swollen     203008 non-null  int64 \n",
      " 21  lesion_location         203008 non-null  object\n",
      " 22  lesion_pain_intense     203008 non-null  int64 \n",
      " 23  lesion_larger_than_1cm  203008 non-null  object\n",
      " 24  itching_severity        203008 non-null  int64 \n",
      " 25  nausea                  203008 non-null  int64 \n",
      " 26  weight_loss             203008 non-null  int64 \n",
      " 27  sex_hiv                 203008 non-null  int64 \n",
      " 28  trav1                   203008 non-null  object\n",
      " 29  fam_allergies           203008 non-null  int64 \n",
      " 30  fam_j45                 203008 non-null  int64 \n",
      " 31  j45                     203008 non-null  int64 \n",
      " 32  itchy_nose              203008 non-null  int64 \n",
      " 33  eye_itching             203008 non-null  int64 \n",
      " 34  runny_nose              203008 non-null  int64 \n",
      " 35  urban1                  203008 non-null  int64 \n",
      " 36  severe_allergy          203008 non-null  int64 \n",
      " 37  contact_allergy         203008 non-null  int64 \n",
      " 38  short_breath            203008 non-null  int64 \n",
      " 39  swelling                203008 non-null  int64 \n",
      " 40  swelling_location       203008 non-null  object\n",
      " 41  lost_consciousness      203008 non-null  int64 \n",
      " 42  stridor                 203008 non-null  int64 \n",
      " 43  z84.89                  203008 non-null  int64 \n",
      " 44  HIV                     203008 non-null  int64 \n",
      " 45  cortico                 203008 non-null  int64 \n",
      " 46  IV_drugs                203008 non-null  int64 \n",
      " 47  e10_e11                 203008 non-null  int64 \n",
      " 48  f10.129                 203008 non-null  int64 \n",
      " 49  cough                   203008 non-null  int64 \n",
      " 50  cough_blood             203008 non-null  int64 \n",
      " 51  v85.0                   203008 non-null  int64 \n",
      " 52  I30                     203008 non-null  int64 \n",
      " 53  f17.210                 203008 non-null  int64 \n",
      " 54  high_bp                 203008 non-null  int64 \n",
      " 55  ulcers                  203008 non-null  int64 \n",
      " 56  anorexia                203008 non-null  int64 \n",
      " 57  new_fatigue             203008 non-null  int64 \n",
      " 58  nsaids                  203008 non-null  int64 \n",
      " 59  i50                     203008 non-null  int64 \n",
      " 60  i80                     203008 non-null  int64 \n",
      " 61  lymph_surg              203008 non-null  int64 \n",
      " 62  synd_nephro             203008 non-null  int64 \n",
      " 63  convulsion              203008 non-null  int64 \n",
      " 64  e66                     203008 non-null  int64 \n",
      " 65  red_eye                 203008 non-null  int64 \n",
      " 66  agri                    203008 non-null  int64 \n",
      " 67  gained_weight           203008 non-null  int64 \n",
      " 68  k74                     203008 non-null  int64 \n",
      " 69  patho_endo              203008 non-null  int64 \n",
      " 70  dizziness               203008 non-null  int64 \n",
      " 71  wheezing_exhale         203008 non-null  int64 \n",
      " 72  fatigue_ext             203008 non-null  int64 \n",
      " 73  sore_throat             203008 non-null  int64 \n",
      " 74  muscle_pain             203008 non-null  int64 \n",
      " 75  lost_appetite           203008 non-null  int64 \n",
      " 76  heart_valves            203008 non-null  int64 \n",
      " 77  sahs                    203008 non-null  int64 \n",
      " 78  cont_pertussis          203008 non-null  int64 \n",
      " 79  vomiting_cough          203008 non-null  int64 \n",
      " 80  coughing_fits           203008 non-null  int64 \n",
      " 81  vaccination             203008 non-null  int64 \n",
      " 82  chills                  203008 non-null  int64 \n",
      " 83  z92.25                  203008 non-null  int64 \n",
      " 84  ca_blockers             203008 non-null  int64 \n",
      " 85  vag_discharge           203008 non-null  int64 \n",
      " 86  wheezing_inhale         203008 non-null  int64 \n",
      " 87  fatigue                 203008 non-null  int64 \n",
      " 88  menarche_12             203008 non-null  int64 \n",
      " 89  breastfed_9             203008 non-null  int64 \n",
      " 90  confusion               203008 non-null  int64 \n",
      " 91  contact                 203008 non-null  int64 \n",
      " 92  ebolacase               203008 non-null  int64 \n",
      " 93  bruising                203008 non-null  int64 \n",
      "dtypes: int64(82), object(12)\n",
      "memory usage: 147.1+ MB\n"
     ]
    }
   ],
   "source": [
    "_df.info()"
   ]
  },
  {
   "cell_type": "code",
   "execution_count": 4,
   "metadata": {},
   "outputs": [],
   "source": [
    "## combining validation and training set so I can do cross-validation\n",
    "\n",
    "df_train = pd.concat(\n",
    "    [_df, df_validate],\n",
    "    axis=0, \n",
    "    ignore_index=True\n",
    "    )\n",
    "\n",
    "## removing ebola from possible diseases\n",
    "df_train.drop(index=df_train.loc[df_train.PATHOLOGY == 'Ebola'].index,\n",
    "              inplace=True)\n",
    "\n",
    "## removing lesion_peeling, pain_radiate columns\n",
    "df_train.drop(columns=['lesions_peeling', 'pain_radiate'], inplace=True)\n"
   ]
  },
  {
   "cell_type": "code",
   "execution_count": 5,
   "metadata": {},
   "outputs": [],
   "source": [
    "## one hot encoding\n",
    "\n",
    "columns = list(df_train.columns)\n",
    "\n",
    "numerical = []\n",
    "categorical = []\n",
    "\n",
    "for col in columns:\n",
    "\n",
    "    if df_train[col].dtype == 'int64':\n",
    "        numerical.append(col)\n",
    "\n",
    "    elif df_train[col].dtype == 'object':\n",
    "        categorical.append(col)\n",
    "\n",
    "categorical.remove('PATHOLOGY')\n",
    "categorical.remove('pain_somewhere')\n",
    "categorical.remove('lesion_location')"
   ]
  },
  {
   "cell_type": "code",
   "execution_count": 6,
   "metadata": {},
   "outputs": [
    {
     "name": "stdout",
     "output_type": "stream",
     "text": [
      "categorical columns\n"
     ]
    },
    {
     "data": {
      "text/plain": [
       "['SEX',\n",
       " 'INITIAL_EVIDENCE',\n",
       " 'pain_char',\n",
       " 'lesion_color',\n",
       " 'lesion_larger_than_1cm',\n",
       " 'trav1',\n",
       " 'swelling_location']"
      ]
     },
     "execution_count": 6,
     "metadata": {},
     "output_type": "execute_result"
    }
   ],
   "source": [
    "print('categorical columns')\n",
    "categorical"
   ]
  },
  {
   "cell_type": "code",
   "execution_count": 190,
   "metadata": {},
   "outputs": [],
   "source": [
    "## splitting into features and outputs\n",
    "\n",
    "#X_train = df_train.drop('PATHOLOGY', axis=1)\n",
    "#y_train = df_train['PATHOLOGY']"
   ]
  },
  {
   "cell_type": "code",
   "execution_count": 7,
   "metadata": {},
   "outputs": [],
   "source": [
    "## one-hot encoding\n",
    "\n",
    "df_train = pd.get_dummies(df_train, \n",
    "                         columns=categorical, \n",
    "                         dtype=int)"
   ]
  },
  {
   "cell_type": "code",
   "execution_count": 8,
   "metadata": {},
   "outputs": [],
   "source": [
    "## pain_somewhere, lesion_location and swelling_location -> Y or N to simplify\n",
    "\n",
    "df_train['lesion_location'] = (df_train['lesion_location'] != 'nowhere').astype(int)\n",
    "df_train['pain_somewhere'] = (df_train['pain_somewhere'] != 'nowhere').astype(int)"
   ]
  },
  {
   "cell_type": "markdown",
   "metadata": {},
   "source": [
    "# Testing models"
   ]
  },
  {
   "cell_type": "code",
   "execution_count": 10,
   "metadata": {},
   "outputs": [],
   "source": [
    "from sklearn.preprocessing import StandardScaler\n",
    "from sklearn.model_selection import train_test_split\n",
    "from sklearn.metrics import classification_report\n",
    "from sklearn.pipeline import Pipeline"
   ]
  },
  {
   "cell_type": "code",
   "execution_count": 12,
   "metadata": {},
   "outputs": [],
   "source": [
    "df_tt, df_val, = train_test_split(df_train, \n",
    "                                            test_size=0.2,\n",
    "                                            shuffle=True,\n",
    "                                            random_state=740,\n",
    "                                            stratify=df_train.PATHOLOGY)\n",
    "\n",
    "X_tt = df_tt.drop(columns='PATHOLOGY')\n",
    "y_tt = df_tt.PATHOLOGY\n",
    "X_val = df_val.drop(columns='PATHOLOGY')\n",
    "y_val = df_val.PATHOLOGY"
   ]
  },
  {
   "cell_type": "markdown",
   "metadata": {},
   "source": [
    "# Logistic regression"
   ]
  },
  {
   "cell_type": "code",
   "execution_count": 13,
   "metadata": {},
   "outputs": [],
   "source": [
    "from sklearn.linear_model import LogisticRegression"
   ]
  },
  {
   "cell_type": "code",
   "execution_count": 17,
   "metadata": {},
   "outputs": [
    {
     "name": "stderr",
     "output_type": "stream",
     "text": [
      "/opt/anaconda3/envs/erdos_may_2024/lib/python3.11/site-packages/sklearn/linear_model/_sag.py:350: ConvergenceWarning: The max_iter was reached which means the coef_ did not converge\n",
      "  warnings.warn(\n"
     ]
    },
    {
     "data": {
      "text/plain": [
       "'                         precision    recall  f1-score   support\\n\\n     Allergic sinusitis       0.84      0.88      0.86      5668\\n            Anaphylaxis       0.82      0.43      0.57      6295\\n                 Chagas       1.00      0.23      0.38      2075\\nHIV (initial infection)       0.38      0.51      0.44      6573\\n              Influenza       0.68      0.32      0.43      6080\\n        Localized edema       0.52      1.00      0.68      6304\\n                    SLE       0.92      0.30      0.46      2689\\n            Sarcoidosis       0.58      0.70      0.63      4863\\n           Tuberculosis       0.54      0.60      0.57      3650\\n         Whooping cough       1.00      1.00      1.00      1323\\n\\n               accuracy                           0.60     45520\\n              macro avg       0.73      0.60      0.60     45520\\n           weighted avg       0.67      0.60      0.59     45520\\n'"
      ]
     },
     "execution_count": 17,
     "metadata": {},
     "output_type": "execute_result"
    }
   ],
   "source": [
    "log_reg_pipe = Pipeline([('scale', StandardScaler()),\n",
    "                         ('log_reg', LogisticRegression(max_iter=1000,\n",
    "                                    solver='sag'))])\n",
    "log_reg_pipe.fit(X_tt, y_tt)\n",
    "y_pred = log_reg_pipe.predict(X_val)\n",
    "classification_report(y_val, y_pred)"
   ]
  },
  {
   "cell_type": "code",
   "execution_count": 19,
   "metadata": {},
   "outputs": [
    {
     "name": "stdout",
     "output_type": "stream",
     "text": [
      "                         precision    recall  f1-score   support\n",
      "\n",
      "     Allergic sinusitis       0.84      0.88      0.86      5668\n",
      "            Anaphylaxis       0.82      0.43      0.57      6295\n",
      "                 Chagas       1.00      0.23      0.38      2075\n",
      "HIV (initial infection)       0.38      0.51      0.44      6573\n",
      "              Influenza       0.68      0.32      0.43      6080\n",
      "        Localized edema       0.52      1.00      0.68      6304\n",
      "                    SLE       0.92      0.30      0.46      2689\n",
      "            Sarcoidosis       0.58      0.70      0.63      4863\n",
      "           Tuberculosis       0.54      0.60      0.57      3650\n",
      "         Whooping cough       1.00      1.00      1.00      1323\n",
      "\n",
      "               accuracy                           0.60     45520\n",
      "              macro avg       0.73      0.60      0.60     45520\n",
      "           weighted avg       0.67      0.60      0.59     45520\n",
      "\n"
     ]
    }
   ],
   "source": [
    "print(classification_report(y_val, y_pred))"
   ]
  },
  {
   "cell_type": "markdown",
   "metadata": {},
   "source": [
    "# K Nearest Neighbors"
   ]
  },
  {
   "cell_type": "code",
   "execution_count": 24,
   "metadata": {},
   "outputs": [
    {
     "name": "stdout",
     "output_type": "stream",
     "text": [
      "1 -- number of neighbors\n",
      "                         precision    recall  f1-score   support\n",
      "\n",
      "     Allergic sinusitis       0.77      0.72      0.74      5668\n",
      "            Anaphylaxis       0.51      0.50      0.51      6295\n",
      "                 Chagas       0.29      0.33      0.31      2075\n",
      "HIV (initial infection)       0.35      0.36      0.36      6573\n",
      "              Influenza       0.42      0.40      0.41      6080\n",
      "        Localized edema       0.56      0.61      0.58      6304\n",
      "                    SLE       0.40      0.40      0.40      2689\n",
      "            Sarcoidosis       0.52      0.52      0.52      4863\n",
      "           Tuberculosis       0.48      0.47      0.47      3650\n",
      "         Whooping cough       1.00      0.93      0.96      1323\n",
      "\n",
      "               accuracy                           0.51     45520\n",
      "              macro avg       0.53      0.52      0.53     45520\n",
      "           weighted avg       0.51      0.51      0.51     45520\n",
      "\n",
      "\n",
      "2 -- number of neighbors\n",
      "                         precision    recall  f1-score   support\n",
      "\n",
      "     Allergic sinusitis       0.69      0.83      0.75      5668\n",
      "            Anaphylaxis       0.43      0.60      0.50      6295\n",
      "                 Chagas       0.23      0.37      0.28      2075\n",
      "HIV (initial infection)       0.35      0.46      0.40      6573\n",
      "              Influenza       0.42      0.31      0.36      6080\n",
      "        Localized edema       0.56      0.52      0.54      6304\n",
      "                    SLE       0.48      0.34      0.40      2689\n",
      "            Sarcoidosis       0.71      0.39      0.51      4863\n",
      "           Tuberculosis       0.64      0.29      0.40      3650\n",
      "         Whooping cough       1.00      0.88      0.94      1323\n",
      "\n",
      "               accuracy                           0.49     45520\n",
      "              macro avg       0.55      0.50      0.51     45520\n",
      "           weighted avg       0.52      0.49      0.49     45520\n",
      "\n",
      "\n",
      "3 -- number of neighbors\n",
      "                         precision    recall  f1-score   support\n",
      "\n",
      "     Allergic sinusitis       0.67      0.82      0.74      5668\n",
      "            Anaphylaxis       0.43      0.57      0.49      6295\n",
      "                 Chagas       0.25      0.33      0.29      2075\n",
      "HIV (initial infection)       0.35      0.37      0.36      6573\n",
      "              Influenza       0.45      0.36      0.40      6080\n",
      "        Localized edema       0.59      0.63      0.61      6304\n",
      "                    SLE       0.55      0.33      0.41      2689\n",
      "            Sarcoidosis       0.66      0.46      0.54      4863\n",
      "           Tuberculosis       0.54      0.40      0.46      3650\n",
      "         Whooping cough       1.00      0.90      0.95      1323\n",
      "\n",
      "               accuracy                           0.51     45520\n",
      "              macro avg       0.55      0.52      0.52     45520\n",
      "           weighted avg       0.52      0.51      0.51     45520\n",
      "\n",
      "\n",
      "4 -- number of neighbors\n",
      "                         precision    recall  f1-score   support\n",
      "\n",
      "     Allergic sinusitis       0.68      0.82      0.74      5668\n",
      "            Anaphylaxis       0.44      0.56      0.49      6295\n",
      "                 Chagas       0.32      0.31      0.32      2075\n",
      "HIV (initial infection)       0.38      0.42      0.40      6573\n",
      "              Influenza       0.45      0.32      0.37      6080\n",
      "        Localized edema       0.55      0.61      0.58      6304\n",
      "                    SLE       0.53      0.34      0.41      2689\n",
      "            Sarcoidosis       0.57      0.49      0.53      4863\n",
      "           Tuberculosis       0.54      0.42      0.47      3650\n",
      "         Whooping cough       1.00      0.90      0.95      1323\n",
      "\n",
      "               accuracy                           0.51     45520\n",
      "              macro avg       0.55      0.52      0.53     45520\n",
      "           weighted avg       0.51      0.51      0.51     45520\n",
      "\n",
      "\n",
      "5 -- number of neighbors\n",
      "                         precision    recall  f1-score   support\n",
      "\n",
      "     Allergic sinusitis       0.68      0.81      0.74      5668\n",
      "            Anaphylaxis       0.49      0.53      0.51      6295\n",
      "                 Chagas       0.36      0.31      0.33      2075\n",
      "HIV (initial infection)       0.37      0.37      0.37      6573\n",
      "              Influenza       0.43      0.38      0.40      6080\n",
      "        Localized edema       0.55      0.69      0.61      6304\n",
      "                    SLE       0.50      0.36      0.42      2689\n",
      "            Sarcoidosis       0.56      0.52      0.54      4863\n",
      "           Tuberculosis       0.52      0.40      0.46      3650\n",
      "         Whooping cough       1.00      0.89      0.94      1323\n",
      "\n",
      "               accuracy                           0.52     45520\n",
      "              macro avg       0.55      0.53      0.53     45520\n",
      "           weighted avg       0.52      0.52      0.51     45520\n",
      "\n",
      "\n",
      "6 -- number of neighbors\n",
      "                         precision    recall  f1-score   support\n",
      "\n",
      "     Allergic sinusitis       0.69      0.82      0.75      5668\n",
      "            Anaphylaxis       0.48      0.53      0.50      6295\n",
      "                 Chagas       0.39      0.30      0.34      2075\n",
      "HIV (initial infection)       0.37      0.43      0.40      6573\n",
      "              Influenza       0.45      0.33      0.38      6080\n",
      "        Localized edema       0.54      0.69      0.61      6304\n",
      "                    SLE       0.50      0.35      0.41      2689\n",
      "            Sarcoidosis       0.57      0.51      0.54      4863\n",
      "           Tuberculosis       0.53      0.41      0.46      3650\n",
      "         Whooping cough       1.00      0.89      0.94      1323\n",
      "\n",
      "               accuracy                           0.52     45520\n",
      "              macro avg       0.55      0.53      0.53     45520\n",
      "           weighted avg       0.52      0.52      0.52     45520\n",
      "\n",
      "\n",
      "7 -- number of neighbors\n",
      "                         precision    recall  f1-score   support\n",
      "\n",
      "     Allergic sinusitis       0.70      0.81      0.75      5668\n",
      "            Anaphylaxis       0.49      0.52      0.51      6295\n",
      "                 Chagas       0.43      0.29      0.34      2075\n",
      "HIV (initial infection)       0.35      0.37      0.36      6573\n",
      "              Influenza       0.46      0.37      0.41      6080\n",
      "        Localized edema       0.53      0.71      0.61      6304\n",
      "                    SLE       0.50      0.35      0.41      2689\n",
      "            Sarcoidosis       0.57      0.52      0.55      4863\n",
      "           Tuberculosis       0.52      0.43      0.47      3650\n",
      "         Whooping cough       1.00      0.89      0.94      1323\n",
      "\n",
      "               accuracy                           0.52     45520\n",
      "              macro avg       0.55      0.53      0.54     45520\n",
      "           weighted avg       0.52      0.52      0.52     45520\n",
      "\n",
      "\n",
      "8 -- number of neighbors\n",
      "                         precision    recall  f1-score   support\n",
      "\n",
      "     Allergic sinusitis       0.69      0.82      0.75      5668\n",
      "            Anaphylaxis       0.50      0.53      0.51      6295\n",
      "                 Chagas       0.48      0.28      0.35      2075\n",
      "HIV (initial infection)       0.36      0.41      0.39      6573\n",
      "              Influenza       0.47      0.34      0.40      6080\n",
      "        Localized edema       0.52      0.72      0.61      6304\n",
      "                    SLE       0.53      0.35      0.42      2689\n",
      "            Sarcoidosis       0.57      0.53      0.55      4863\n",
      "           Tuberculosis       0.52      0.42      0.47      3650\n",
      "         Whooping cough       1.00      0.88      0.94      1323\n",
      "\n",
      "               accuracy                           0.53     45520\n",
      "              macro avg       0.57      0.53      0.54     45520\n",
      "           weighted avg       0.53      0.53      0.52     45520\n",
      "\n",
      "\n",
      "9 -- number of neighbors\n",
      "                         precision    recall  f1-score   support\n",
      "\n",
      "     Allergic sinusitis       0.68      0.82      0.74      5668\n",
      "            Anaphylaxis       0.51      0.51      0.51      6295\n",
      "                 Chagas       0.51      0.27      0.35      2075\n",
      "HIV (initial infection)       0.36      0.38      0.37      6573\n",
      "              Influenza       0.46      0.36      0.41      6080\n",
      "        Localized edema       0.52      0.75      0.62      6304\n",
      "                    SLE       0.54      0.34      0.42      2689\n",
      "            Sarcoidosis       0.58      0.54      0.56      4863\n",
      "           Tuberculosis       0.52      0.44      0.47      3650\n",
      "         Whooping cough       1.00      0.88      0.94      1323\n",
      "\n",
      "               accuracy                           0.53     45520\n",
      "              macro avg       0.57      0.53      0.54     45520\n",
      "           weighted avg       0.53      0.53      0.52     45520\n",
      "\n",
      "\n",
      "10 -- number of neighbors\n",
      "                         precision    recall  f1-score   support\n",
      "\n",
      "     Allergic sinusitis       0.68      0.83      0.75      5668\n",
      "            Anaphylaxis       0.52      0.51      0.51      6295\n",
      "                 Chagas       0.55      0.26      0.35      2075\n",
      "HIV (initial infection)       0.37      0.41      0.39      6573\n",
      "              Influenza       0.47      0.33      0.39      6080\n",
      "        Localized edema       0.52      0.77      0.62      6304\n",
      "                    SLE       0.53      0.34      0.42      2689\n",
      "            Sarcoidosis       0.57      0.53      0.55      4863\n",
      "           Tuberculosis       0.51      0.44      0.47      3650\n",
      "         Whooping cough       1.00      0.88      0.94      1323\n",
      "\n",
      "               accuracy                           0.53     45520\n",
      "              macro avg       0.57      0.53      0.54     45520\n",
      "           weighted avg       0.53      0.53      0.52     45520\n",
      "\n",
      "\n",
      "11 -- number of neighbors\n",
      "                         precision    recall  f1-score   support\n",
      "\n",
      "     Allergic sinusitis       0.68      0.83      0.75      5668\n",
      "            Anaphylaxis       0.54      0.51      0.52      6295\n",
      "                 Chagas       0.56      0.26      0.35      2075\n",
      "HIV (initial infection)       0.37      0.37      0.37      6573\n",
      "              Influenza       0.48      0.36      0.41      6080\n",
      "        Localized edema       0.51      0.79      0.62      6304\n",
      "                    SLE       0.54      0.34      0.42      2689\n",
      "            Sarcoidosis       0.57      0.55      0.56      4863\n",
      "           Tuberculosis       0.51      0.46      0.48      3650\n",
      "         Whooping cough       1.00      0.88      0.94      1323\n",
      "\n",
      "               accuracy                           0.54     45520\n",
      "              macro avg       0.58      0.53      0.54     45520\n",
      "           weighted avg       0.53      0.54      0.53     45520\n",
      "\n",
      "\n",
      "12 -- number of neighbors\n",
      "                         precision    recall  f1-score   support\n",
      "\n",
      "     Allergic sinusitis       0.69      0.83      0.75      5668\n",
      "            Anaphylaxis       0.53      0.51      0.52      6295\n",
      "                 Chagas       0.54      0.26      0.35      2075\n",
      "HIV (initial infection)       0.38      0.42      0.40      6573\n",
      "              Influenza       0.49      0.32      0.39      6080\n",
      "        Localized edema       0.50      0.79      0.61      6304\n",
      "                    SLE       0.58      0.33      0.42      2689\n",
      "            Sarcoidosis       0.58      0.55      0.56      4863\n",
      "           Tuberculosis       0.51      0.44      0.47      3650\n",
      "         Whooping cough       1.00      0.88      0.93      1323\n",
      "\n",
      "               accuracy                           0.54     45520\n",
      "              macro avg       0.58      0.53      0.54     45520\n",
      "           weighted avg       0.54      0.54      0.53     45520\n",
      "\n",
      "\n",
      "13 -- number of neighbors\n",
      "                         precision    recall  f1-score   support\n",
      "\n",
      "     Allergic sinusitis       0.68      0.83      0.75      5668\n",
      "            Anaphylaxis       0.55      0.50      0.53      6295\n",
      "                 Chagas       0.60      0.25      0.35      2075\n",
      "HIV (initial infection)       0.38      0.38      0.38      6573\n",
      "              Influenza       0.48      0.35      0.41      6080\n",
      "        Localized edema       0.50      0.81      0.62      6304\n",
      "                    SLE       0.57      0.32      0.41      2689\n",
      "            Sarcoidosis       0.56      0.55      0.56      4863\n",
      "           Tuberculosis       0.51      0.45      0.48      3650\n",
      "         Whooping cough       1.00      0.88      0.93      1323\n",
      "\n",
      "               accuracy                           0.54     45520\n",
      "              macro avg       0.58      0.53      0.54     45520\n",
      "           weighted avg       0.54      0.54      0.53     45520\n",
      "\n",
      "\n",
      "14 -- number of neighbors\n",
      "                         precision    recall  f1-score   support\n",
      "\n",
      "     Allergic sinusitis       0.68      0.83      0.75      5668\n",
      "            Anaphylaxis       0.56      0.50      0.53      6295\n",
      "                 Chagas       0.67      0.24      0.36      2075\n",
      "HIV (initial infection)       0.38      0.41      0.40      6573\n",
      "              Influenza       0.48      0.33      0.39      6080\n",
      "        Localized edema       0.49      0.82      0.62      6304\n",
      "                    SLE       0.57      0.33      0.42      2689\n",
      "            Sarcoidosis       0.57      0.56      0.56      4863\n",
      "           Tuberculosis       0.52      0.43      0.47      3650\n",
      "         Whooping cough       1.00      0.88      0.93      1323\n",
      "\n",
      "               accuracy                           0.54     45520\n",
      "              macro avg       0.59      0.53      0.54     45520\n",
      "           weighted avg       0.55      0.54      0.53     45520\n",
      "\n",
      "\n"
     ]
    }
   ],
   "source": [
    "from sklearn.neighbors import KNeighborsClassifier\n",
    "\n",
    "ks = np.arange(1,15)\n",
    "\n",
    "for k in ks:\n",
    "    knn_pipe = Pipeline([('scale', StandardScaler()),\n",
    "                         ('knn', KNeighborsClassifier(n_neighbors=k))])\n",
    "    knn_pipe.fit(X_tt, y_tt)\n",
    "    y_pred = knn_pipe.predict(X_val)\n",
    "\n",
    "    print(k, '-- number of neighbors')\n",
    "    print(classification_report(y_val, y_pred))\n",
    "    print()"
   ]
  },
  {
   "cell_type": "markdown",
   "metadata": {},
   "source": [
    "# Multinomial Naive Bayes\n"
   ]
  },
  {
   "cell_type": "code",
   "execution_count": 27,
   "metadata": {},
   "outputs": [
    {
     "name": "stdout",
     "output_type": "stream",
     "text": [
      "alpha = 0.0001\n",
      "                         precision    recall  f1-score   support\n",
      "\n",
      "     Allergic sinusitis       0.87      0.79      0.83      5668\n",
      "            Anaphylaxis       0.88      0.41      0.56      6295\n",
      "                 Chagas       0.56      0.27      0.37      2075\n",
      "HIV (initial infection)       0.40      0.56      0.47      6573\n",
      "              Influenza       0.56      0.34      0.42      6080\n",
      "        Localized edema       0.52      0.99      0.68      6304\n",
      "                    SLE       0.89      0.31      0.46      2689\n",
      "            Sarcoidosis       0.59      0.67      0.63      4863\n",
      "           Tuberculosis       0.51      0.54      0.53      3650\n",
      "         Whooping cough       1.00      1.00      1.00      1323\n",
      "\n",
      "               accuracy                           0.59     45520\n",
      "              macro avg       0.68      0.59      0.59     45520\n",
      "           weighted avg       0.65      0.59      0.58     45520\n",
      "\n",
      "\n",
      "alpha = 0.0002782559402207126\n",
      "                         precision    recall  f1-score   support\n",
      "\n",
      "     Allergic sinusitis       0.87      0.79      0.83      5668\n",
      "            Anaphylaxis       0.88      0.41      0.56      6295\n",
      "                 Chagas       0.56      0.27      0.37      2075\n",
      "HIV (initial infection)       0.40      0.56      0.47      6573\n",
      "              Influenza       0.56      0.34      0.42      6080\n",
      "        Localized edema       0.52      0.99      0.68      6304\n",
      "                    SLE       0.89      0.31      0.46      2689\n",
      "            Sarcoidosis       0.59      0.67      0.63      4863\n",
      "           Tuberculosis       0.51      0.54      0.53      3650\n",
      "         Whooping cough       1.00      1.00      1.00      1323\n",
      "\n",
      "               accuracy                           0.59     45520\n",
      "              macro avg       0.68      0.59      0.59     45520\n",
      "           weighted avg       0.65      0.59      0.58     45520\n",
      "\n",
      "\n",
      "alpha = 0.000774263682681127\n",
      "                         precision    recall  f1-score   support\n",
      "\n",
      "     Allergic sinusitis       0.87      0.79      0.83      5668\n",
      "            Anaphylaxis       0.88      0.41      0.56      6295\n",
      "                 Chagas       0.56      0.27      0.37      2075\n",
      "HIV (initial infection)       0.40      0.56      0.47      6573\n",
      "              Influenza       0.56      0.34      0.42      6080\n",
      "        Localized edema       0.52      0.99      0.68      6304\n",
      "                    SLE       0.89      0.31      0.46      2689\n",
      "            Sarcoidosis       0.59      0.67      0.63      4863\n",
      "           Tuberculosis       0.51      0.54      0.53      3650\n",
      "         Whooping cough       1.00      1.00      1.00      1323\n",
      "\n",
      "               accuracy                           0.59     45520\n",
      "              macro avg       0.68      0.59      0.59     45520\n",
      "           weighted avg       0.65      0.59      0.58     45520\n",
      "\n",
      "\n",
      "alpha = 0.002154434690031882\n",
      "                         precision    recall  f1-score   support\n",
      "\n",
      "     Allergic sinusitis       0.87      0.79      0.83      5668\n",
      "            Anaphylaxis       0.88      0.41      0.56      6295\n",
      "                 Chagas       0.56      0.27      0.37      2075\n",
      "HIV (initial infection)       0.40      0.56      0.47      6573\n",
      "              Influenza       0.56      0.34      0.42      6080\n",
      "        Localized edema       0.52      0.99      0.68      6304\n",
      "                    SLE       0.89      0.31      0.46      2689\n",
      "            Sarcoidosis       0.59      0.67      0.63      4863\n",
      "           Tuberculosis       0.51      0.54      0.53      3650\n",
      "         Whooping cough       1.00      1.00      1.00      1323\n",
      "\n",
      "               accuracy                           0.59     45520\n",
      "              macro avg       0.68      0.59      0.59     45520\n",
      "           weighted avg       0.65      0.59      0.58     45520\n",
      "\n",
      "\n",
      "alpha = 0.005994842503189409\n",
      "                         precision    recall  f1-score   support\n",
      "\n",
      "     Allergic sinusitis       0.87      0.79      0.83      5668\n",
      "            Anaphylaxis       0.88      0.41      0.56      6295\n",
      "                 Chagas       0.56      0.27      0.37      2075\n",
      "HIV (initial infection)       0.40      0.56      0.47      6573\n",
      "              Influenza       0.56      0.34      0.42      6080\n",
      "        Localized edema       0.52      0.99      0.68      6304\n",
      "                    SLE       0.89      0.31      0.46      2689\n",
      "            Sarcoidosis       0.59      0.67      0.63      4863\n",
      "           Tuberculosis       0.51      0.54      0.53      3650\n",
      "         Whooping cough       1.00      1.00      1.00      1323\n",
      "\n",
      "               accuracy                           0.59     45520\n",
      "              macro avg       0.68      0.59      0.59     45520\n",
      "           weighted avg       0.65      0.59      0.58     45520\n",
      "\n",
      "\n",
      "alpha = 0.016681005372000592\n",
      "                         precision    recall  f1-score   support\n",
      "\n",
      "     Allergic sinusitis       0.87      0.79      0.83      5668\n",
      "            Anaphylaxis       0.88      0.41      0.56      6295\n",
      "                 Chagas       0.56      0.27      0.37      2075\n",
      "HIV (initial infection)       0.40      0.56      0.47      6573\n",
      "              Influenza       0.56      0.34      0.42      6080\n",
      "        Localized edema       0.52      0.99      0.68      6304\n",
      "                    SLE       0.89      0.31      0.46      2689\n",
      "            Sarcoidosis       0.59      0.67      0.63      4863\n",
      "           Tuberculosis       0.51      0.54      0.53      3650\n",
      "         Whooping cough       0.99      1.00      1.00      1323\n",
      "\n",
      "               accuracy                           0.59     45520\n",
      "              macro avg       0.68      0.59      0.59     45520\n",
      "           weighted avg       0.65      0.59      0.58     45520\n",
      "\n",
      "\n",
      "alpha = 0.046415888336127774\n",
      "                         precision    recall  f1-score   support\n",
      "\n",
      "     Allergic sinusitis       0.87      0.79      0.83      5668\n",
      "            Anaphylaxis       0.88      0.41      0.56      6295\n",
      "                 Chagas       0.56      0.27      0.37      2075\n",
      "HIV (initial infection)       0.40      0.56      0.47      6573\n",
      "              Influenza       0.56      0.34      0.42      6080\n",
      "        Localized edema       0.52      0.99      0.68      6304\n",
      "                    SLE       0.89      0.30      0.45      2689\n",
      "            Sarcoidosis       0.59      0.67      0.63      4863\n",
      "           Tuberculosis       0.51      0.54      0.53      3650\n",
      "         Whooping cough       0.98      1.00      0.99      1323\n",
      "\n",
      "               accuracy                           0.59     45520\n",
      "              macro avg       0.68      0.59      0.59     45520\n",
      "           weighted avg       0.65      0.59      0.58     45520\n",
      "\n",
      "\n",
      "alpha = 0.12915496650148828\n",
      "                         precision    recall  f1-score   support\n",
      "\n",
      "     Allergic sinusitis       0.86      0.79      0.83      5668\n",
      "            Anaphylaxis       0.88      0.41      0.56      6295\n",
      "                 Chagas       0.57      0.27      0.37      2075\n",
      "HIV (initial infection)       0.40      0.56      0.47      6573\n",
      "              Influenza       0.56      0.33      0.42      6080\n",
      "        Localized edema       0.52      0.99      0.68      6304\n",
      "                    SLE       0.89      0.30      0.45      2689\n",
      "            Sarcoidosis       0.59      0.66      0.63      4863\n",
      "           Tuberculosis       0.51      0.54      0.53      3650\n",
      "         Whooping cough       0.93      1.00      0.96      1323\n",
      "\n",
      "               accuracy                           0.59     45520\n",
      "              macro avg       0.67      0.59      0.59     45520\n",
      "           weighted avg       0.64      0.59      0.58     45520\n",
      "\n",
      "\n",
      "alpha = 0.3593813663804626\n",
      "                         precision    recall  f1-score   support\n",
      "\n",
      "     Allergic sinusitis       0.86      0.79      0.82      5668\n",
      "            Anaphylaxis       0.88      0.40      0.55      6295\n",
      "                 Chagas       0.58      0.26      0.36      2075\n",
      "HIV (initial infection)       0.40      0.56      0.47      6573\n",
      "              Influenza       0.56      0.32      0.41      6080\n",
      "        Localized edema       0.52      0.99      0.68      6304\n",
      "                    SLE       0.89      0.30      0.45      2689\n",
      "            Sarcoidosis       0.59      0.66      0.62      4863\n",
      "           Tuberculosis       0.51      0.54      0.53      3650\n",
      "         Whooping cough       0.83      1.00      0.91      1323\n",
      "\n",
      "               accuracy                           0.59     45520\n",
      "              macro avg       0.66      0.58      0.58     45520\n",
      "           weighted avg       0.64      0.59      0.57     45520\n",
      "\n",
      "\n",
      "alpha = 1.0\n",
      "                         precision    recall  f1-score   support\n",
      "\n",
      "     Allergic sinusitis       0.85      0.79      0.82      5668\n",
      "            Anaphylaxis       0.88      0.39      0.54      6295\n",
      "                 Chagas       0.59      0.25      0.35      2075\n",
      "HIV (initial infection)       0.40      0.56      0.47      6573\n",
      "              Influenza       0.56      0.31      0.40      6080\n",
      "        Localized edema       0.52      0.98      0.68      6304\n",
      "                    SLE       0.90      0.29      0.44      2689\n",
      "            Sarcoidosis       0.59      0.65      0.62      4863\n",
      "           Tuberculosis       0.51      0.54      0.53      3650\n",
      "         Whooping cough       0.67      1.00      0.80      1323\n",
      "\n",
      "               accuracy                           0.58     45520\n",
      "              macro avg       0.65      0.58      0.56     45520\n",
      "           weighted avg       0.63      0.58      0.57     45520\n",
      "\n",
      "\n"
     ]
    }
   ],
   "source": [
    "from sklearn.naive_bayes import MultinomialNB\n",
    "\n",
    "alphas = np.logspace(-4, 0, 10)\n",
    "\n",
    "for alpha in alphas:\n",
    "    mnb = MultinomialNB(alpha=alpha)\n",
    "    mnb.fit(X_tt, y_tt)\n",
    "    y_pred = mnb.predict(X_val)\n",
    "\n",
    "    print('alpha =', alpha)\n",
    "    print(classification_report(y_val, y_pred))\n",
    "    print()\n",
    "\n"
   ]
  },
  {
   "cell_type": "markdown",
   "metadata": {},
   "source": [
    "# LDA and QDA"
   ]
  },
  {
   "cell_type": "code",
   "execution_count": 29,
   "metadata": {},
   "outputs": [
    {
     "name": "stdout",
     "output_type": "stream",
     "text": [
      "LDA\n",
      "                         precision    recall  f1-score   support\n",
      "\n",
      "     Allergic sinusitis       0.91      0.82      0.86      5668\n",
      "            Anaphylaxis       1.00      0.39      0.56      6295\n",
      "                 Chagas       1.00      0.23      0.38      2075\n",
      "HIV (initial infection)       0.35      0.52      0.42      6573\n",
      "              Influenza       0.65      0.36      0.47      6080\n",
      "        Localized edema       0.52      1.00      0.68      6304\n",
      "                    SLE       1.00      0.30      0.46      2689\n",
      "            Sarcoidosis       0.58      0.71      0.64      4863\n",
      "           Tuberculosis       0.53      0.68      0.59      3650\n",
      "         Whooping cough       1.00      0.49      0.66      1323\n",
      "\n",
      "               accuracy                           0.59     45520\n",
      "              macro avg       0.75      0.55      0.57     45520\n",
      "           weighted avg       0.70      0.59      0.58     45520\n",
      "\n",
      "\n"
     ]
    },
    {
     "name": "stderr",
     "output_type": "stream",
     "text": [
      "/opt/anaconda3/envs/erdos_may_2024/lib/python3.11/site-packages/sklearn/discriminant_analysis.py:935: UserWarning: Variables are collinear\n",
      "  warnings.warn(\"Variables are collinear\")\n"
     ]
    },
    {
     "name": "stdout",
     "output_type": "stream",
     "text": [
      "QDA\n",
      "                         precision    recall  f1-score   support\n",
      "\n",
      "     Allergic sinusitis       0.86      0.87      0.86      5668\n",
      "            Anaphylaxis       0.98      0.39      0.56      6295\n",
      "                 Chagas       0.27      0.52      0.35      2075\n",
      "HIV (initial infection)       0.45      0.04      0.08      6573\n",
      "              Influenza       0.60      0.45      0.52      6080\n",
      "        Localized edema       0.53      0.92      0.67      6304\n",
      "                    SLE       0.27      0.72      0.40      2689\n",
      "            Sarcoidosis       0.93      0.39      0.55      4863\n",
      "           Tuberculosis       0.45      0.80      0.57      3650\n",
      "         Whooping cough       1.00      1.00      1.00      1323\n",
      "\n",
      "               accuracy                           0.56     45520\n",
      "              macro avg       0.63      0.61      0.56     45520\n",
      "           weighted avg       0.65      0.56      0.53     45520\n",
      "\n",
      "\n"
     ]
    }
   ],
   "source": [
    "from sklearn.discriminant_analysis import LinearDiscriminantAnalysis, QuadraticDiscriminantAnalysis\n",
    "\n",
    "lda = LinearDiscriminantAnalysis(solver='svd')\n",
    "lda.fit(X_tt, y_tt)\n",
    "lda_pred = lda.predict(X_val)\n",
    "print('LDA')\n",
    "print(classification_report(y_val, lda_pred))\n",
    "print()\n",
    "\n",
    "qda = QuadraticDiscriminantAnalysis()\n",
    "qda.fit(X_tt, y_tt)\n",
    "qda_pred = qda.predict(X_val)\n",
    "print('QDA')\n",
    "print(classification_report(y_val, qda_pred))\n",
    "print()\n"
   ]
  },
  {
   "cell_type": "markdown",
   "metadata": {},
   "source": [
    "# Decision Tree"
   ]
  },
  {
   "cell_type": "code",
   "execution_count": 32,
   "metadata": {},
   "outputs": [],
   "source": [
    "from sklearn import tree"
   ]
  },
  {
   "cell_type": "code",
   "execution_count": 31,
   "metadata": {},
   "outputs": [
    {
     "name": "stdout",
     "output_type": "stream",
     "text": [
      "                         precision    recall  f1-score   support\n",
      "\n",
      "     Allergic sinusitis       0.81      0.87      0.84      5668\n",
      "            Anaphylaxis       0.64      0.52      0.57      6295\n",
      "                 Chagas       0.59      0.26      0.36      2075\n",
      "HIV (initial infection)       0.42      0.42      0.42      6573\n",
      "              Influenza       0.53      0.36      0.42      6080\n",
      "        Localized edema       0.53      0.93      0.68      6304\n",
      "                    SLE       0.57      0.37      0.45      2689\n",
      "            Sarcoidosis       0.60      0.61      0.60      4863\n",
      "           Tuberculosis       0.52      0.53      0.52      3650\n",
      "         Whooping cough       1.00      1.00      1.00      1323\n",
      "\n",
      "               accuracy                           0.59     45520\n",
      "              macro avg       0.62      0.59      0.59     45520\n",
      "           weighted avg       0.59      0.59      0.57     45520\n",
      "\n"
     ]
    }
   ],
   "source": [
    "from sklearn.tree import DecisionTreeClassifier\n",
    "\n",
    "dt = DecisionTreeClassifier(criterion='gini')\n",
    "dt.fit(X_tt, y_tt)\n",
    "y_pred = dt.predict(X_val)\n",
    "print(classification_report(y_val, y_pred))"
   ]
  },
  {
   "cell_type": "code",
   "execution_count": 34,
   "metadata": {},
   "outputs": [
    {
     "data": {
      "image/png": "[encoded data removed]",
      "text/plain": [
       "<Figure size 500x500 with 1 Axes>"
      ]
     },
     "metadata": {},
     "output_type": "display_data"
    }
   ],
   "source": [
    "plt.figure(figsize = (5,5))\n",
    "tree.plot_tree(dt, filled = True)\n",
    "plt.show()"
   ]
  },
  {
   "cell_type": "markdown",
   "metadata": {},
   "source": [
    "# Random forest"
   ]
  },
  {
   "cell_type": "code",
   "execution_count": 35,
   "metadata": {},
   "outputs": [],
   "source": [
    "from sklearn.ensemble import RandomForestClassifier\n",
    "\n",
    "rf = RandomForestClassifier(\n",
    "    n_estimators = 500, # number of trees in ensemble\n",
    "    max_depth = 20, # max_depth of each tree\n",
    "    min_samples_leaf = 5, \n",
    "    bootstrap= True, # sampling with replacement\n",
    "    max_samples = 2500, # number of training samples selected with replacement to build tree\n",
    "    random_state = 740 # for consistency\n",
    "    )\n",
    "\n",
    "rf.fit(X_tt, y_tt)\n",
    "y_pred = rf.predict(X_val)"
   ]
  },
  {
   "cell_type": "code",
   "execution_count": 36,
   "metadata": {},
   "outputs": [
    {
     "name": "stdout",
     "output_type": "stream",
     "text": [
      "                         precision    recall  f1-score   support\n",
      "\n",
      "     Allergic sinusitis       0.86      0.87      0.86      5668\n",
      "            Anaphylaxis       1.00      0.39      0.56      6295\n",
      "                 Chagas       1.00      0.23      0.38      2075\n",
      "HIV (initial infection)       0.41      0.75      0.53      6573\n",
      "              Influenza       0.86      0.19      0.32      6080\n",
      "        Localized edema       0.52      1.00      0.68      6304\n",
      "                    SLE       1.00      0.30      0.46      2689\n",
      "            Sarcoidosis       0.58      0.71      0.64      4863\n",
      "           Tuberculosis       0.57      0.47      0.52      3650\n",
      "         Whooping cough       1.00      1.00      1.00      1323\n",
      "\n",
      "               accuracy                           0.61     45520\n",
      "              macro avg       0.78      0.59      0.59     45520\n",
      "           weighted avg       0.73      0.61      0.58     45520\n",
      "\n"
     ]
    }
   ],
   "source": [
    "print(classification_report(y_val, y_pred))"
   ]
  },
  {
   "cell_type": "code",
   "execution_count": 41,
   "metadata": {},
   "outputs": [],
   "source": [
    "score_df = pd.DataFrame({'feature':X_tt.columns,\n",
    "                            'importance_score': rf.feature_importances_})"
   ]
  },
  {
   "cell_type": "code",
   "execution_count": 42,
   "metadata": {},
   "outputs": [
    {
     "data": {
      "text/plain": [
       "array(['INITIAL_EVIDENCE_swelling', 'INITIAL_EVIDENCE_itchy_nose',\n",
       "       'INITIAL_EVIDENCE_runny_nose', 'INITIAL_EVIDENCE_eye_itching',\n",
       "       'INITIAL_EVIDENCE_gained_weight', 'INITIAL_EVIDENCE_cough',\n",
       "       'INITIAL_EVIDENCE_cough_blood', 'INITIAL_EVIDENCE_vomiting_cough',\n",
       "       'INITIAL_EVIDENCE_pain', 'INITIAL_EVIDENCE_red_eye',\n",
       "       'INITIAL_EVIDENCE_convulsion', 'INITIAL_EVIDENCE_swollen_nodes',\n",
       "       'INITIAL_EVIDENCE_contact_allergy',\n",
       "       'INITIAL_EVIDENCE_vag_discharge', 'INITIAL_EVIDENCE_chills',\n",
       "       'INITIAL_EVIDENCE_weight_loss', 'INITIAL_EVIDENCE_short_breath',\n",
       "       'INITIAL_EVIDENCE_ulcers', 'INITIAL_EVIDENCE_dizziness',\n",
       "       'INITIAL_EVIDENCE_stridor', 'INITIAL_EVIDENCE_lost_consciousness',\n",
       "       'INITIAL_EVIDENCE_fever', 'INITIAL_EVIDENCE_coughing_fits',\n",
       "       'INITIAL_EVIDENCE_lesions', 'INITIAL_EVIDENCE_fatigue',\n",
       "       'INITIAL_EVIDENCE_lost_appetite',\n",
       "       'INITIAL_EVIDENCE_wheezing_exhale', 'INITIAL_EVIDENCE_fatigue_ext',\n",
       "       'INITIAL_EVIDENCE_sweating', 'INITIAL_EVIDENCE_wheezing_inhale',\n",
       "       'AGE', 'INITIAL_EVIDENCE_muscle_pain',\n",
       "       'INITIAL_EVIDENCE_sore_throat', 'INITIAL_EVIDENCE_diarrhea',\n",
       "       'INITIAL_EVIDENCE_nausea', 'INITIAL_EVIDENCE_new_fatigue',\n",
       "       'INITIAL_EVIDENCE_anorexia', 'pain_precise', 'pain_intensity',\n",
       "       'pain_sudden', 'SEX_F', 'SEX_M', 'lesion_pain_swollen',\n",
       "       'lesion_pain_intense', 'itching_severity', 'pain_char_sharp',\n",
       "       'pain_char_NA', 'cough', 'short_breath', 'diarrhea',\n",
       "       'pain_somewhere', 'fever', 'pain', 'pain_char_exhausting',\n",
       "       'lesion_color_NA', 'lesions', 'swollen_nodes', 'lesion_location',\n",
       "       'z84.89', 'nausea', 'swelling', 'muscle_pain',\n",
       "       'lesion_larger_than_1cm_Y', 'fatigue_ext', 'runny_nose',\n",
       "       'swelling_location_nowhere', 'lesion_larger_than_1cm_N',\n",
       "       'lesion_color_pink', 'sore_throat', 'sweating', 'IV_drugs',\n",
       "       'cortico', 'weight_loss', 'sex_hiv', 'f17.210',\n",
       "       'lesion_color_pale', 'unprotected_sex', 'j45', 'stridor', 'k74',\n",
       "       'synd_nephro', 'lost_appetite', 'eye_itching', 'wheezing_exhale',\n",
       "       'chills', 'swelling_location_nose', 'contact_allergy',\n",
       "       'itchy_nose', 'lost_consciousness', 'lymph_surg', 'heart_valves',\n",
       "       'e66', 'ca_blockers', 'z92.25', 'urban1', 'i80', 'dizziness',\n",
       "       'gained_weight', 'i50', 'std', 'fam_allergies', 'patho_endo',\n",
       "       'sahs', 'nsaids', 'convulsion', 'red_eye', 'pain_char_a pulse',\n",
       "       'severe_allergy', 'pain_char_sensitive', 'v85.0',\n",
       "       'lesion_color_red',\n",
       "       'swelling_location_dorsal aspect of the foot(L)',\n",
       "       'pain_char_heavy', 'ulcers', 'cough_blood', 'HIV', 'e10_e11',\n",
       "       'swelling_location_dorsal aspect of the foot(R)', 'trav1_N',\n",
       "       'swelling_location_cheek(L)', 'fatigue', 'pain_char_burning',\n",
       "       'agri', 'fam_j45', 'f10.129', 'vag_discharge', 'pain_char_a cramp',\n",
       "       'high_bp', 'pain_char_a knife stroke', 'vaccination',\n",
       "       'swelling_location_sole(R)', 'cont_pertussis', 'I30',\n",
       "       'trav1_North America', 'menarche_12', 'new_fatigue',\n",
       "       'vomiting_cough', 'wheezing_inhale', 'coughing_fits',\n",
       "       'swelling_location_sole(L)', 'pain_char_tugging',\n",
       "       'swelling_location_cheek(R)', 'anorexia', 'breastfed_9',\n",
       "       'pain_char_tedious', 'swelling_location_thigh(R)',\n",
       "       'swelling_location_forehead', 'swelling_location_toe (1)(L)',\n",
       "       'swelling_location_thigh(L)', 'contact',\n",
       "       'swelling_location_calf(R)', 'swelling_location_calf(L)',\n",
       "       'trav1_West Africa', 'trav1_South America', 'trav1_South Africa',\n",
       "       'trav1_Europe', 'trav1_Central America', 'trav1_Asia', 'bruising',\n",
       "       'ebolacase', 'confusion', 'swelling_location_toe (1)(R)'],\n",
       "      dtype=object)"
      ]
     },
     "execution_count": 42,
     "metadata": {},
     "output_type": "execute_result"
    }
   ],
   "source": [
    "score_df.sort_values('importance_score', ascending=False).feature.values"
   ]
  },
  {
   "cell_type": "markdown",
   "metadata": {},
   "source": [
    "Note: All the first most important features are the initial evidences, as expected. Would be interesting to compare how the model does only with initial evidence, age, sex, not including any other of the symptoms."
   ]
  },
  {
   "cell_type": "markdown",
   "metadata": {},
   "source": [
    "# Baseline (frequency based)"
   ]
  },
  {
   "cell_type": "code",
   "execution_count": 51,
   "metadata": {},
   "outputs": [
    {
     "name": "stdout",
     "output_type": "stream",
     "text": [
      "Most frequent disease is HIV (initial infection)\n"
     ]
    }
   ],
   "source": [
    "most_frequent = y_tt.value_counts().index[0]\n",
    "print('Most frequent disease is', most_frequent)"
   ]
  },
  {
   "cell_type": "code",
   "execution_count": 54,
   "metadata": {},
   "outputs": [
    {
     "name": "stderr",
     "output_type": "stream",
     "text": [
      "/opt/anaconda3/envs/erdos_may_2024/lib/python3.11/site-packages/sklearn/metrics/_classification.py:1509: UndefinedMetricWarning: Precision is ill-defined and being set to 0.0 in labels with no predicted samples. Use `zero_division` parameter to control this behavior.\n",
      "  _warn_prf(average, modifier, f\"{metric.capitalize()} is\", len(result))\n",
      "/opt/anaconda3/envs/erdos_may_2024/lib/python3.11/site-packages/sklearn/metrics/_classification.py:1509: UndefinedMetricWarning: Precision is ill-defined and being set to 0.0 in labels with no predicted samples. Use `zero_division` parameter to control this behavior.\n",
      "  _warn_prf(average, modifier, f\"{metric.capitalize()} is\", len(result))\n"
     ]
    },
    {
     "name": "stdout",
     "output_type": "stream",
     "text": [
      "                         precision    recall  f1-score   support\n",
      "\n",
      "     Allergic sinusitis       0.00      0.00      0.00      5668\n",
      "            Anaphylaxis       0.00      0.00      0.00      6295\n",
      "                 Chagas       0.00      0.00      0.00      2075\n",
      "HIV (initial infection)       0.14      1.00      0.25      6573\n",
      "              Influenza       0.00      0.00      0.00      6080\n",
      "        Localized edema       0.00      0.00      0.00      6304\n",
      "                    SLE       0.00      0.00      0.00      2689\n",
      "            Sarcoidosis       0.00      0.00      0.00      4863\n",
      "           Tuberculosis       0.00      0.00      0.00      3650\n",
      "         Whooping cough       0.00      0.00      0.00      1323\n",
      "\n",
      "               accuracy                           0.14     45520\n",
      "              macro avg       0.01      0.10      0.03     45520\n",
      "           weighted avg       0.02      0.14      0.04     45520\n",
      "\n"
     ]
    },
    {
     "name": "stderr",
     "output_type": "stream",
     "text": [
      "/opt/anaconda3/envs/erdos_may_2024/lib/python3.11/site-packages/sklearn/metrics/_classification.py:1509: UndefinedMetricWarning: Precision is ill-defined and being set to 0.0 in labels with no predicted samples. Use `zero_division` parameter to control this behavior.\n",
      "  _warn_prf(average, modifier, f\"{metric.capitalize()} is\", len(result))\n"
     ]
    }
   ],
   "source": [
    "y_pred = [most_frequent]*len(y_val)\n",
    "print(classification_report(y_val, y_pred))"
   ]
  },
  {
   "cell_type": "markdown",
   "metadata": {},
   "source": [
    "TO TRY:\n",
    "- xG boost\n",
    "- ADA boost\n",
    "- CATboost\n"
   ]
  }
 ],
 "metadata": {
  "kernelspec": {
   "display_name": "erdos_may_2024",
   "language": "python",
   "name": "python3"
  },
  "language_info": {
   "codemirror_mode": {
    "name": "ipython",
    "version": 3
   },
   "file_extension": ".py",
   "mimetype": "text/x-python",
   "name": "python",
   "nbconvert_exporter": "python",
   "pygments_lexer": "ipython3",
   "version": "3.11.9"
  }
 },
 "nbformat": 4,
 "nbformat_minor": 2
}
