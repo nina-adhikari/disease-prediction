{
 "cells": [
  {
   "cell_type": "code",
   "execution_count": 1,
   "metadata": {},
   "outputs": [],
   "source": [
    "import pandas as pd"
   ]
  },
  {
   "cell_type": "code",
   "execution_count": 3,
   "metadata": {},
   "outputs": [],
   "source": [
    "df = pd.read_csv('data/release_train_patients.csv')"
   ]
  },
  {
   "cell_type": "code",
   "execution_count": 4,
   "metadata": {},
   "outputs": [
    {
     "data": {
      "text/html": [
       "<div>\n",
       "<style scoped>\n",
       "    .dataframe tbody tr th:only-of-type {\n",
       "        vertical-align: middle;\n",
       "    }\n",
       "\n",
       "    .dataframe tbody tr th {\n",
       "        vertical-align: top;\n",
       "    }\n",
       "\n",
       "    .dataframe thead th {\n",
       "        text-align: right;\n",
       "    }\n",
       "</style>\n",
       "<table border=\"1\" class=\"dataframe\">\n",
       "  <thead>\n",
       "    <tr style=\"text-align: right;\">\n",
       "      <th></th>\n",
       "      <th>AGE</th>\n",
       "      <th>DIFFERENTIAL_DIAGNOSIS</th>\n",
       "      <th>SEX</th>\n",
       "      <th>PATHOLOGY</th>\n",
       "      <th>EVIDENCES</th>\n",
       "      <th>INITIAL_EVIDENCE</th>\n",
       "    </tr>\n",
       "  </thead>\n",
       "  <tbody>\n",
       "    <tr>\n",
       "      <th>0</th>\n",
       "      <td>18</td>\n",
       "      <td>[['Bronchite', 0.19171203430383882], ['Pneumon...</td>\n",
       "      <td>M</td>\n",
       "      <td>IVRS ou virémie</td>\n",
       "      <td>['crowd', 'diaph', 'douleurxx', 'douleurxx_car...</td>\n",
       "      <td>fievre</td>\n",
       "    </tr>\n",
       "    <tr>\n",
       "      <th>1</th>\n",
       "      <td>21</td>\n",
       "      <td>[['VIH (Primo-infection)', 0.5189500564407601]...</td>\n",
       "      <td>M</td>\n",
       "      <td>VIH (Primo-infection)</td>\n",
       "      <td>['adp_dlr', 'atcd_its', 'diaph', 'diarrhee', '...</td>\n",
       "      <td>diaph</td>\n",
       "    </tr>\n",
       "    <tr>\n",
       "      <th>2</th>\n",
       "      <td>19</td>\n",
       "      <td>[['Bronchite', 0.11278064619119596], ['Pneumon...</td>\n",
       "      <td>F</td>\n",
       "      <td>Pneumonie</td>\n",
       "      <td>['douleurxx', 'douleurxx_carac_@_un_coup_de_co...</td>\n",
       "      <td>expecto</td>\n",
       "    </tr>\n",
       "    <tr>\n",
       "      <th>3</th>\n",
       "      <td>34</td>\n",
       "      <td>[['IVRS ou virémie', 0.23859396799565236], ['C...</td>\n",
       "      <td>F</td>\n",
       "      <td>IVRS ou virémie</td>\n",
       "      <td>['crowd', 'douleurxx', 'douleurxx_carac_@_une_...</td>\n",
       "      <td>douleurxx</td>\n",
       "    </tr>\n",
       "    <tr>\n",
       "      <th>4</th>\n",
       "      <td>36</td>\n",
       "      <td>[['IVRS ou virémie', 0.23677812769175735], ['P...</td>\n",
       "      <td>M</td>\n",
       "      <td>IVRS ou virémie</td>\n",
       "      <td>['dayc', 'diaph', 'douleurxx', 'douleurxx_cara...</td>\n",
       "      <td>toux</td>\n",
       "    </tr>\n",
       "  </tbody>\n",
       "</table>\n",
       "</div>"
      ],
      "text/plain": [
       "   AGE                             DIFFERENTIAL_DIAGNOSIS SEX  \\\n",
       "0   18  [['Bronchite', 0.19171203430383882], ['Pneumon...   M   \n",
       "1   21  [['VIH (Primo-infection)', 0.5189500564407601]...   M   \n",
       "2   19  [['Bronchite', 0.11278064619119596], ['Pneumon...   F   \n",
       "3   34  [['IVRS ou virémie', 0.23859396799565236], ['C...   F   \n",
       "4   36  [['IVRS ou virémie', 0.23677812769175735], ['P...   M   \n",
       "\n",
       "               PATHOLOGY                                          EVIDENCES  \\\n",
       "0        IVRS ou virémie  ['crowd', 'diaph', 'douleurxx', 'douleurxx_car...   \n",
       "1  VIH (Primo-infection)  ['adp_dlr', 'atcd_its', 'diaph', 'diarrhee', '...   \n",
       "2              Pneumonie  ['douleurxx', 'douleurxx_carac_@_un_coup_de_co...   \n",
       "3        IVRS ou virémie  ['crowd', 'douleurxx', 'douleurxx_carac_@_une_...   \n",
       "4        IVRS ou virémie  ['dayc', 'diaph', 'douleurxx', 'douleurxx_cara...   \n",
       "\n",
       "  INITIAL_EVIDENCE  \n",
       "0           fievre  \n",
       "1            diaph  \n",
       "2          expecto  \n",
       "3        douleurxx  \n",
       "4             toux  "
      ]
     },
     "execution_count": 4,
     "metadata": {},
     "output_type": "execute_result"
    }
   ],
   "source": [
    "df.head()"
   ]
  },
  {
   "cell_type": "code",
   "execution_count": 5,
   "metadata": {},
   "outputs": [
    {
     "name": "stdout",
     "output_type": "stream",
     "text": [
      "<class 'pandas.core.frame.DataFrame'>\n",
      "RangeIndex: 1025602 entries, 0 to 1025601\n",
      "Data columns (total 6 columns):\n",
      " #   Column                  Non-Null Count    Dtype \n",
      "---  ------                  --------------    ----- \n",
      " 0   AGE                     1025602 non-null  int64 \n",
      " 1   DIFFERENTIAL_DIAGNOSIS  1025602 non-null  object\n",
      " 2   SEX                     1025602 non-null  object\n",
      " 3   PATHOLOGY               1025602 non-null  object\n",
      " 4   EVIDENCES               1025602 non-null  object\n",
      " 5   INITIAL_EVIDENCE        1025602 non-null  object\n",
      "dtypes: int64(1), object(5)\n",
      "memory usage: 46.9+ MB\n"
     ]
    }
   ],
   "source": [
    "df.info()"
   ]
  },
  {
   "cell_type": "code",
   "execution_count": 7,
   "metadata": {},
   "outputs": [
    {
     "data": {
      "text/plain": [
       "241312"
      ]
     },
     "execution_count": 7,
     "metadata": {},
     "output_type": "execute_result"
    }
   ],
   "source": [
    "df['DIFFERENTIAL_DIAGNOSIS'].nunique()"
   ]
  },
  {
   "cell_type": "code",
   "execution_count": 19,
   "metadata": {},
   "outputs": [
    {
     "data": {
      "text/plain": [
       "\"[['VIH (Primo-infection)', 0.5189500564407601], ['Chagas', 0.3217819010436332], ['Scombroïde', 0.13496758062695968], ['Sarcoïdose', 0.024300461888647054]]\""
      ]
     },
     "execution_count": 19,
     "metadata": {},
     "output_type": "execute_result"
    }
   ],
   "source": [
    "df['DIFFERENTIAL_DIAGNOSIS'][1]"
   ]
  },
  {
   "cell_type": "code",
   "execution_count": 21,
   "metadata": {},
   "outputs": [
    {
     "data": {
      "text/plain": [
       "\"[['Bronchite', 0.19171203430383882], ['Pneumonie', 0.17579340398940366], ['IVRS ou virémie', 0.1607809719801254], ['Bronchiectasies', 0.12429044460990353], ['Tuberculose', 0.11367177304035844], ['Possible influenza ou syndrome virémique typique', 0.11057936110639896], ['VIH (Primo-infection)', 0.07333003867293564], ['Chagas', 0.04984197229703562]]\""
      ]
     },
     "execution_count": 21,
     "metadata": {},
     "output_type": "execute_result"
    }
   ],
   "source": [
    "df['DIFFERENTIAL_DIAGNOSIS'][0]"
   ]
  },
  {
   "cell_type": "code",
   "execution_count": 24,
   "metadata": {},
   "outputs": [
    {
     "data": {
      "text/plain": [
       "\"[['Bronchite', 0.44281211224236344], ['Tuberculose', 0.3901412625123098], ['Embolie pulmonaire', 0.16704662524532685]]\""
      ]
     },
     "execution_count": 24,
     "metadata": {},
     "output_type": "execute_result"
    }
   ],
   "source": [
    "df['DIFFERENTIAL_DIAGNOSIS'][24]"
   ]
  },
  {
   "cell_type": "code",
   "execution_count": 26,
   "metadata": {},
   "outputs": [
    {
     "data": {
      "text/plain": [
       "'Tuberculose'"
      ]
     },
     "execution_count": 26,
     "metadata": {},
     "output_type": "execute_result"
    }
   ],
   "source": [
    "df['PATHOLOGY'][24]"
   ]
  },
  {
   "cell_type": "code",
   "execution_count": null,
   "metadata": {},
   "outputs": [],
   "source": []
  }
 ],
 "metadata": {
  "kernelspec": {
   "display_name": "base",
   "language": "python",
   "name": "python3"
  },
  "language_info": {
   "codemirror_mode": {
    "name": "ipython",
    "version": 3
   },
   "file_extension": ".py",
   "mimetype": "text/x-python",
   "name": "python",
   "nbconvert_exporter": "python",
   "pygments_lexer": "ipython3",
   "version": "3.11.4"
  }
 },
 "nbformat": 4,
 "nbformat_minor": 2
}
