{
 "cells": [
  {
   "cell_type": "code",
   "execution_count": 5,
   "metadata": {},
   "outputs": [],
   "source": [
    "from disease_prediction.data import datasets as ds\n",
    "import pandas as pd\n",
    "import numpy as np\n",
    "import matplotlib.pyplot as plt\n",
    "\n",
    "from sklearn.metrics import classification_report\n",
    "from sklearn.model_selection import train_test_split"
   ]
  },
  {
   "cell_type": "code",
   "execution_count": 2,
   "metadata": {},
   "outputs": [],
   "source": [
    "directory = '../disease_prediction/data/'\n",
    "\n",
    "df = ds.load_datasets(subsets=['train', 'validate', 'test'],\n",
    "                      directory=directory)\n",
    "\n",
    "df_train = pd.concat([df['train'], df['validate']],\n",
    "                     axis=0,\n",
    "                     ignore_index=True)"
   ]
  },
  {
   "cell_type": "code",
   "execution_count": 3,
   "metadata": {},
   "outputs": [],
   "source": [
    "## removing lesion_peeling, pain_radiate columns\n",
    "df_train.drop(columns=['lesions_peeling', 'pain_radiate'], inplace=True)\n",
    "\n",
    "\n",
    "## one hot encoding for all categorical features\n",
    "categorical_features=df_train.select_dtypes(include='object').columns.tolist()\n",
    "\n",
    "categorical_features.remove('PATHOLOGY')\n",
    "categorical_features.remove('pain_somewhere')\n",
    "categorical_features.remove('lesion_location')\n",
    "\n",
    "df_train = pd.get_dummies(df_train,\n",
    "                          columns=categorical_features,\n",
    "                          dtype=int)\n",
    "\n",
    "\n",
    "df_train['lesion_location'] = (df_train['lesion_location'] != 'nowhere').astype(int)\n",
    "df_train['pain_somewhere'] = (df_train['pain_somewhere'] != 'nowhere').astype(int)"
   ]
  },
  {
   "cell_type": "code",
   "execution_count": 6,
   "metadata": {},
   "outputs": [],
   "source": [
    "X = df_train.drop(columns=['PATHOLOGY', 'index'])\n",
    "y = df_train.PATHOLOGY\n",
    "\n",
    "X_train, X_val, y_train, y_val = train_test_split(X, y,\n",
    "                                                  test_size=0.2,\n",
    "                                                  shuffle=True)"
   ]
  },
  {
   "cell_type": "code",
   "execution_count": 7,
   "metadata": {},
   "outputs": [
    {
     "name": "stdout",
     "output_type": "stream",
     "text": [
      "Most frequent disease is HIV (initial infection)\n"
     ]
    },
    {
     "name": "stderr",
     "output_type": "stream",
     "text": [
      "/opt/anaconda3/envs/erdos_may_2024/lib/python3.11/site-packages/sklearn/metrics/_classification.py:1509: UndefinedMetricWarning: Precision is ill-defined and being set to 0.0 in labels with no predicted samples. Use `zero_division` parameter to control this behavior.\n",
      "  _warn_prf(average, modifier, f\"{metric.capitalize()} is\", len(result))\n",
      "/opt/anaconda3/envs/erdos_may_2024/lib/python3.11/site-packages/sklearn/metrics/_classification.py:1509: UndefinedMetricWarning: Precision is ill-defined and being set to 0.0 in labels with no predicted samples. Use `zero_division` parameter to control this behavior.\n",
      "  _warn_prf(average, modifier, f\"{metric.capitalize()} is\", len(result))\n"
     ]
    },
    {
     "name": "stdout",
     "output_type": "stream",
     "text": [
      "                         precision    recall  f1-score   support\n",
      "\n",
      "     Allergic sinusitis       0.00      0.00      0.00      5738\n",
      "            Anaphylaxis       0.00      0.00      0.00      6222\n",
      "                 Chagas       0.00      0.00      0.00      2088\n",
      "HIV (initial infection)       0.14      1.00      0.25      6517\n",
      "              Influenza       0.00      0.00      0.00      6040\n",
      "        Localized edema       0.00      0.00      0.00      6292\n",
      "                    SLE       0.00      0.00      0.00      2636\n",
      "            Sarcoidosis       0.00      0.00      0.00      4991\n",
      "           Tuberculosis       0.00      0.00      0.00      3683\n",
      "         Whooping cough       0.00      0.00      0.00      1313\n",
      "\n",
      "               accuracy                           0.14     45520\n",
      "              macro avg       0.01      0.10      0.03     45520\n",
      "           weighted avg       0.02      0.14      0.04     45520\n",
      "\n"
     ]
    },
    {
     "name": "stderr",
     "output_type": "stream",
     "text": [
      "/opt/anaconda3/envs/erdos_may_2024/lib/python3.11/site-packages/sklearn/metrics/_classification.py:1509: UndefinedMetricWarning: Precision is ill-defined and being set to 0.0 in labels with no predicted samples. Use `zero_division` parameter to control this behavior.\n",
      "  _warn_prf(average, modifier, f\"{metric.capitalize()} is\", len(result))\n"
     ]
    }
   ],
   "source": [
    "most_frequent = y_train.value_counts().index[0]\n",
    "print('Most frequent disease is', most_frequent)\n",
    "\n",
    "y_pred = [most_frequent]*len(y_val)\n",
    "print(classification_report(y_val, y_pred))"
   ]
  },
  {
   "cell_type": "code",
   "execution_count": null,
   "metadata": {},
   "outputs": [],
   "source": []
  }
 ],
 "metadata": {
  "kernelspec": {
   "display_name": "erdos_may_2024",
   "language": "python",
   "name": "python3"
  },
  "language_info": {
   "codemirror_mode": {
    "name": "ipython",
    "version": 3
   },
   "file_extension": ".py",
   "mimetype": "text/x-python",
   "name": "python",
   "nbconvert_exporter": "python",
   "pygments_lexer": "ipython3",
   "version": "3.11.9"
  }
 },
 "nbformat": 4,
 "nbformat_minor": 2
}
